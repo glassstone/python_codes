{
 "cells": [
  {
   "cell_type": "code",
   "execution_count": 7,
   "metadata": {
    "collapsed": true
   },
   "outputs": [],
   "source": [
    "from urllib2 import urlopen\n",
    "import pandas as pd\n",
    "import numpy as np\n",
    "from StringIO import StringIO"
   ]
  },
  {
   "cell_type": "code",
   "execution_count": 21,
   "metadata": {
    "collapsed": false
   },
   "outputs": [
    {
     "name": "stdout",
     "output_type": "stream",
     "text": [
      "Warning: Cannot change to a different GUI toolkit: tk. Using notebook instead.\n"
     ]
    }
   ],
   "source": [
    "import matplotlib.pyplot as plt"
   ]
  },
  {
   "cell_type": "code",
   "execution_count": 86,
   "metadata": {
    "collapsed": true
   },
   "outputs": [],
   "source": [
    "site = 'http://10.15.1.1/API/parameter_data/N426NA/4STAR/XML?Start=1502196800&End=1502196805'"
   ]
  },
  {
   "cell_type": "code",
   "execution_count": 87,
   "metadata": {
    "collapsed": true
   },
   "outputs": [],
   "source": [
    "r = urlopen(site)"
   ]
  },
  {
   "cell_type": "code",
   "execution_count": 88,
   "metadata": {
    "collapsed": true
   },
   "outputs": [],
   "source": [
    "rr = r.read()"
   ]
  },
  {
   "cell_type": "code",
   "execution_count": 89,
   "metadata": {
    "collapsed": false
   },
   "outputs": [
    {
     "data": {
      "text/plain": [
       "-1"
      ]
     },
     "execution_count": 89,
     "metadata": {},
     "output_type": "execute_result"
    }
   ],
   "source": [
    "rr.find(';')"
   ]
  },
  {
   "cell_type": "code",
   "execution_count": 91,
   "metadata": {
    "collapsed": false
   },
   "outputs": [
    {
     "data": {
      "text/plain": [
       "['<range>',\n",
       " '\\t<point angstrom_exponent=\"0.81\" aod_1020_nm=\"0.12\" aod_1236_nm=\"0.13\" aod_1559_nm=\"0.24\" aod_450_nm=\"0.15\" aod_500_nm=\"0.13\" aod_675_nm=\"0.1\" aod_780_nm=\"0.09\" aod_865_nm=\"0.08\" azimuth=\"162.6\" elevation_angle=\"67.1\" header=\"4STAR\" latitude=\"-7.9685\" longitude=\"-14.40112\" mode=\"1\" nirpixel=\"2757.0\" timestamp=\"2017-08-08 12:53:20.004000\" vispixel=\"25479.0\" vtotalquad=\"3.8\"/>',\n",
       " '\\t<point angstrom_exponent=\"0.81\" aod_1020_nm=\"0.12\" aod_1236_nm=\"0.13\" aod_1559_nm=\"0.24\" aod_450_nm=\"0.15\" aod_500_nm=\"0.13\" aod_675_nm=\"0.1\" aod_780_nm=\"0.09\" aod_865_nm=\"0.08\" azimuth=\"162.6\" elevation_angle=\"67.1\" header=\"4STAR\" latitude=\"-7.96849\" longitude=\"-14.40112\" mode=\"1\" nirpixel=\"2757.0\" timestamp=\"2017-08-08 12:53:21.004000\" vispixel=\"25479.0\" vtotalquad=\"3.9\"/>',\n",
       " '\\t<point angstrom_exponent=\"0.78\" aod_1020_nm=\"0.12\" aod_1236_nm=\"0.13\" aod_1559_nm=\"0.24\" aod_450_nm=\"0.15\" aod_500_nm=\"0.13\" aod_675_nm=\"0.1\" aod_780_nm=\"0.1\" aod_865_nm=\"0.08\" azimuth=\"162.6\" elevation_angle=\"67.1\" header=\"4STAR\" latitude=\"-7.9685\" longitude=\"-14.40112\" mode=\"1\" nirpixel=\"2754.0\" timestamp=\"2017-08-08 12:53:22.004000\" vispixel=\"25446.0\" vtotalquad=\"3.9\"/>',\n",
       " '\\t<point angstrom_exponent=\"0.82\" aod_1020_nm=\"0.12\" aod_1236_nm=\"0.13\" aod_1559_nm=\"0.24\" aod_450_nm=\"0.14\" aod_500_nm=\"0.13\" aod_675_nm=\"0.1\" aod_780_nm=\"0.09\" aod_865_nm=\"0.08\" azimuth=\"162.6\" elevation_angle=\"67.1\" header=\"4STAR\" latitude=\"-7.9685\" longitude=\"-14.40112\" mode=\"1\" nirpixel=\"2761.0\" timestamp=\"2017-08-08 12:53:23.004000\" vispixel=\"25502.0\" vtotalquad=\"3.8\"/>',\n",
       " '\\t<point angstrom_exponent=\"0.8\" aod_1020_nm=\"0.12\" aod_1236_nm=\"0.13\" aod_1559_nm=\"0.25\" aod_450_nm=\"0.14\" aod_500_nm=\"0.13\" aod_675_nm=\"0.1\" aod_780_nm=\"0.09\" aod_865_nm=\"0.08\" azimuth=\"162.6\" elevation_angle=\"67.1\" header=\"4STAR\" latitude=\"-7.9685\" longitude=\"-14.40112\" mode=\"1\" nirpixel=\"2760.0\" timestamp=\"2017-08-08 12:53:24.004000\" vispixel=\"25449.0\" vtotalquad=\"3.9\"/>',\n",
       " '</range>']"
      ]
     },
     "execution_count": 91,
     "metadata": {},
     "output_type": "execute_result"
    }
   ],
   "source": [
    "rr.splitlines()"
   ]
  },
  {
   "cell_type": "code",
   "execution_count": 96,
   "metadata": {
    "collapsed": false
   },
   "outputs": [],
   "source": []
  },
  {
   "cell_type": "code",
   "execution_count": 100,
   "metadata": {
    "collapsed": false
   },
   "outputs": [
    {
     "data": {
      "text/plain": [
       "'angstrom_exponent=\"0.81\" aod_1020_nm=\"0.12\" aod_1236_nm=\"0.13\" aod_1559_nm=\"0.24\" aod_450_nm=\"0.15\" aod_500_nm=\"0.13\" aod_675_nm=\"0.1\" aod_780_nm=\"0.09\" aod_865_nm=\"0.08\" azimuth=\"162.6\" elevation_angle=\"67.1\" header=\"4STAR\" latitude=\"-7.9685\" longitude=\"-14.40112\" mode=\"1\" nirpixel=\"2757.0\" timestamp=\"2017-08-08 12:53:20.004000\" vispixel=\"25479.0\" vtotalquad=\"3.8\"'"
      ]
     },
     "execution_count": 100,
     "metadata": {},
     "output_type": "execute_result"
    }
   ],
   "source": [
    "rn[0]"
   ]
  },
  {
   "cell_type": "code",
   "execution_count": 108,
   "metadata": {
    "collapsed": false
   },
   "outputs": [],
   "source": [
    "[s.split('=\"')[0] for s in rn.split('\" ')]\n",
    "u = np.array([s.split('=\"')[1].strip('\"') for s in rn[0].split('\" ')])\n",
    "\n"
   ]
  },
  {
   "cell_type": "code",
   "execution_count": 58,
   "metadata": {
    "collapsed": false
   },
   "outputs": [
    {
     "data": {
      "text/plain": [
       "['\"0.85\"',\n",
       " '\"0.11\"',\n",
       " '\"0.12\"',\n",
       " '\"0.22\"',\n",
       " '\"0.14\"',\n",
       " '\"0.12\"',\n",
       " '\"0.1\"',\n",
       " '\"0.09\"',\n",
       " '\"0.07\"',\n",
       " '\"107.0\"',\n",
       " '\"55.1\"',\n",
       " '\"4STAR\"',\n",
       " '\"-7.96852\"',\n",
       " '\"-14.40112\"',\n",
       " '\"1\"',\n",
       " '\"2726.0\"',\n",
       " '\"2017-08-08',\n",
       " '\"24639.0\"',\n",
       " '\"3.8\"/>']"
      ]
     },
     "execution_count": 58,
     "metadata": {},
     "output_type": "execute_result"
    }
   ],
   "source": [
    "[s.split('=\"')[0] for s in rn.split('\" ')]\n",
    "[s.split('=')[0] for s in rr.split() if s.find('=')>-1]\n",
    "[s.split('=')[1] for s in rr.split() if s.find('=')>-1]"
   ]
  },
  {
   "cell_type": "code",
   "execution_count": 115,
   "metadata": {
    "collapsed": true
   },
   "outputs": [],
   "source": [
    "from datetime import datetime"
   ]
  },
  {
   "cell_type": "code",
   "execution_count": null,
   "metadata": {
    "collapsed": true
   },
   "outputs": [],
   "source": [
    "help()"
   ]
  },
  {
   "cell_type": "code",
   "execution_count": 156,
   "metadata": {
    "collapsed": false
   },
   "outputs": [
    {
     "data": {
      "text/plain": [
       "datetime.datetime(2017, 8, 8, 12, 53, 20, 4000)"
      ]
     },
     "execution_count": 156,
     "metadata": {},
     "output_type": "execute_result"
    }
   ],
   "source": [
    "datetime.strptime(u[16],'%Y-%m-%d %H:%M:%S.%f')"
   ]
  },
  {
   "cell_type": "code",
   "execution_count": 142,
   "metadata": {
    "collapsed": false
   },
   "outputs": [
    {
     "name": "stdout",
     "output_type": "stream",
     "text": [
      "Help on class datetime in module datetime:\n",
      "\n",
      "class datetime(date)\n",
      " |  datetime(year, month, day[, hour[, minute[, second[, microsecond[,tzinfo]]]]])\n",
      " |  \n",
      " |  The year, month and day arguments are required. tzinfo may be None, or an\n",
      " |  instance of a tzinfo subclass. The remaining arguments may be ints or longs.\n",
      " |  \n",
      " |  Method resolution order:\n",
      " |      datetime\n",
      " |      date\n",
      " |      __builtin__.object\n",
      " |  \n",
      " |  Methods defined here:\n",
      " |  \n",
      " |  __add__(...)\n",
      " |      x.__add__(y) <==> x+y\n",
      " |  \n",
      " |  __eq__(...)\n",
      " |      x.__eq__(y) <==> x==y\n",
      " |  \n",
      " |  __ge__(...)\n",
      " |      x.__ge__(y) <==> x>=y\n",
      " |  \n",
      " |  __getattribute__(...)\n",
      " |      x.__getattribute__('name') <==> x.name\n",
      " |  \n",
      " |  __gt__(...)\n",
      " |      x.__gt__(y) <==> x>y\n",
      " |  \n",
      " |  __hash__(...)\n",
      " |      x.__hash__() <==> hash(x)\n",
      " |  \n",
      " |  __le__(...)\n",
      " |      x.__le__(y) <==> x<=y\n",
      " |  \n",
      " |  __lt__(...)\n",
      " |      x.__lt__(y) <==> x<y\n",
      " |  \n",
      " |  __ne__(...)\n",
      " |      x.__ne__(y) <==> x!=y\n",
      " |  \n",
      " |  __radd__(...)\n",
      " |      x.__radd__(y) <==> y+x\n",
      " |  \n",
      " |  __reduce__(...)\n",
      " |      __reduce__() -> (cls, state)\n",
      " |  \n",
      " |  __repr__(...)\n",
      " |      x.__repr__() <==> repr(x)\n",
      " |  \n",
      " |  __rsub__(...)\n",
      " |      x.__rsub__(y) <==> y-x\n",
      " |  \n",
      " |  __str__(...)\n",
      " |      x.__str__() <==> str(x)\n",
      " |  \n",
      " |  __sub__(...)\n",
      " |      x.__sub__(y) <==> x-y\n",
      " |  \n",
      " |  astimezone(...)\n",
      " |      tz -> convert to local time in new timezone tz\n",
      " |  \n",
      " |  combine(...)\n",
      " |      date, time -> datetime with same date and time fields\n",
      " |  \n",
      " |  ctime(...)\n",
      " |      Return ctime() style string.\n",
      " |  \n",
      " |  date(...)\n",
      " |      Return date object with same year, month and day.\n",
      " |  \n",
      " |  dst(...)\n",
      " |      Return self.tzinfo.dst(self).\n",
      " |  \n",
      " |  fromtimestamp(...)\n",
      " |      timestamp[, tz] -> tz's local time from POSIX timestamp.\n",
      " |  \n",
      " |  isoformat(...)\n",
      " |      [sep] -> string in ISO 8601 format, YYYY-MM-DDTHH:MM:SS[.mmmmmm][+HH:MM].\n",
      " |      \n",
      " |      sep is used to separate the year from the time, and defaults to 'T'.\n",
      " |  \n",
      " |  now(...)\n",
      " |      [tz] -> new datetime with tz's local day and time.\n",
      " |  \n",
      " |  replace(...)\n",
      " |      Return datetime with new specified fields.\n",
      " |  \n",
      " |  strptime(...)\n",
      " |      string, format -> new datetime parsed from a string (like time.strptime()).\n",
      " |  \n",
      " |  time(...)\n",
      " |      Return time object with same time but with tzinfo=None.\n",
      " |  \n",
      " |  timetuple(...)\n",
      " |      Return time tuple, compatible with time.localtime().\n",
      " |  \n",
      " |  timetz(...)\n",
      " |      Return time object with same time and tzinfo.\n",
      " |  \n",
      " |  tzname(...)\n",
      " |      Return self.tzinfo.tzname(self).\n",
      " |  \n",
      " |  utcfromtimestamp(...)\n",
      " |      timestamp -> UTC datetime from a POSIX timestamp (like time.time()).\n",
      " |  \n",
      " |  utcnow(...)\n",
      " |      Return a new datetime representing UTC day and time.\n",
      " |  \n",
      " |  utcoffset(...)\n",
      " |      Return self.tzinfo.utcoffset(self).\n",
      " |  \n",
      " |  utctimetuple(...)\n",
      " |      Return UTC time tuple, compatible with time.localtime().\n",
      " |  \n",
      " |  ----------------------------------------------------------------------\n",
      " |  Data descriptors defined here:\n",
      " |  \n",
      " |  hour\n",
      " |  \n",
      " |  microsecond\n",
      " |  \n",
      " |  minute\n",
      " |  \n",
      " |  second\n",
      " |  \n",
      " |  tzinfo\n",
      " |  \n",
      " |  ----------------------------------------------------------------------\n",
      " |  Data and other attributes defined here:\n",
      " |  \n",
      " |  __new__ = <built-in method __new__ of type object>\n",
      " |      T.__new__(S, ...) -> a new object with type S, a subtype of T\n",
      " |  \n",
      " |  max = datetime.datetime(9999, 12, 31, 23, 59, 59, 999999)\n",
      " |  \n",
      " |  min = datetime.datetime(1, 1, 1, 0, 0)\n",
      " |  \n",
      " |  resolution = datetime.timedelta(0, 0, 1)\n",
      " |  \n",
      " |  ----------------------------------------------------------------------\n",
      " |  Methods inherited from date:\n",
      " |  \n",
      " |  __format__(...)\n",
      " |      Formats self with strftime.\n",
      " |  \n",
      " |  fromordinal(...)\n",
      " |      int -> date corresponding to a proleptic Gregorian ordinal.\n",
      " |  \n",
      " |  isocalendar(...)\n",
      " |      Return a 3-tuple containing ISO year, week number, and weekday.\n",
      " |  \n",
      " |  isoweekday(...)\n",
      " |      Return the day of the week represented by the date.\n",
      " |      Monday == 1 ... Sunday == 7\n",
      " |  \n",
      " |  strftime(...)\n",
      " |      format -> strftime() style string.\n",
      " |  \n",
      " |  today(...)\n",
      " |      Current date or datetime:  same as self.__class__.fromtimestamp(time.time()).\n",
      " |  \n",
      " |  toordinal(...)\n",
      " |      Return proleptic Gregorian ordinal.  January 1 of year 1 is day 1.\n",
      " |  \n",
      " |  weekday(...)\n",
      " |      Return the day of the week represented by the date.\n",
      " |      Monday == 0 ... Sunday == 6\n",
      " |  \n",
      " |  ----------------------------------------------------------------------\n",
      " |  Data descriptors inherited from date:\n",
      " |  \n",
      " |  day\n",
      " |  \n",
      " |  month\n",
      " |  \n",
      " |  year\n",
      "\n"
     ]
    }
   ],
   "source": [
    "help(datetime)"
   ]
  },
  {
   "cell_type": "code",
   "execution_count": 119,
   "metadata": {
    "collapsed": false
   },
   "outputs": [
    {
     "data": {
      "text/plain": [
       "'2017-08-08 12:53:20.004000'"
      ]
     },
     "execution_count": 119,
     "metadata": {},
     "output_type": "execute_result"
    }
   ],
   "source": [
    "u[16]"
   ]
  },
  {
   "cell_type": "code",
   "execution_count": 117,
   "metadata": {
    "collapsed": false
   },
   "outputs": [
    {
     "ename": "TypeError",
     "evalue": "a float is required",
     "output_type": "error",
     "traceback": [
      "\u001b[1;31m---------------------------------------------------------------------------\u001b[0m",
      "\u001b[1;31mTypeError\u001b[0m                                 Traceback (most recent call last)",
      "\u001b[1;32m<ipython-input-117-d095f0c20835>\u001b[0m in \u001b[0;36m<module>\u001b[1;34m()\u001b[0m\n\u001b[1;32m----> 1\u001b[1;33m \u001b[0mdatetime\u001b[0m\u001b[1;33m.\u001b[0m\u001b[0mfromtimestamp\u001b[0m\u001b[1;33m(\u001b[0m\u001b[0mu\u001b[0m\u001b[1;33m[\u001b[0m\u001b[1;36m16\u001b[0m\u001b[1;33m]\u001b[0m\u001b[1;33m)\u001b[0m\u001b[1;33m\u001b[0m\u001b[0m\n\u001b[0m",
      "\u001b[1;31mTypeError\u001b[0m: a float is required"
     ]
    }
   ],
   "source": [
    "datetime.(u[16])"
   ]
  },
  {
   "cell_type": "code",
   "execution_count": 169,
   "metadata": {
    "collapsed": true
   },
   "outputs": [],
   "source": [
    "def init_packets(name,flight=True):\n",
    "    \"\"\"\n",
    "    Function to load the inital set of packets from the data API\n",
    "    \"\"\"\n",
    "    import numpy as np\n",
    "    from datetime import datetime\n",
    "    from urllib2 import urlopen\n",
    "    \n",
    "    #Get the names of parameters to init dict\n",
    "    if flight:\n",
    "        site = 'http://10.15.1.1/API/parameter_data/N426NA/{}/XML'.format(name)\n",
    "    else:\n",
    "        site = 'http://10.15.1.1/API/parameter_data/N426NA/{}/XML'.format(name)\n",
    "    r = urlopen(site)\n",
    "    rr = r.read()\n",
    "    rn = [s[s.rfind('point')+len('point')+1:s.find('/>')] for s in rr.splitlines() if s.find('point')>-1]\n",
    "    dict_names = [s.split('=\"')[0] for s in rn[0].split('\" ')]\n",
    "    dict_vals = [s.split('=\"')[1] for s in rn[0].split('\" ')]\n",
    "    d = {}\n",
    "    for i,n in enumerate(dict_names):\n",
    "        try:\n",
    "            d[n] = np.array([datetime.strptime(dict_vals[i],'%Y-%m-%d %H:%M:%S.%f')])\n",
    "        except:\n",
    "            try:\n",
    "                d[n] = np.array([float(dict_vals[i])])\n",
    "            except:\n",
    "                d[n] = np.array([dict_vals[i]])\n",
    "    return d"
   ]
  },
  {
   "cell_type": "code",
   "execution_count": null,
   "metadata": {
    "collapsed": true
   },
   "outputs": [],
   "source": [
    "def get_packets(d,start_time=0):\n",
    "    \"\"\"\n",
    "    Get packets from the start_time (defaults to 0) in seconds from 1970\n",
    "    appends the packets to the correct values in the dict, and returns the dict\n",
    "    \"\"\"\n",
    "    import numpy as np\n",
    "    from datetime import datetime\n",
    "    from urllib2 import urlopen\n",
    "    \n",
    "    # get the packets from web using the XML interface\n",
    "    name = d['head']\n",
    "    site = 'http://10.15.1.1/API/parameter_data/N426NA/{}/XML?Start={}'.format(name,start_time)\n",
    "    r = urlopen(site)\n",
    "    rr = r.read()\n",
    "    rn = [s[s.rfind('point')+len('point')+1:s.find('/>')] for s in rr.splitlines() if s.find('point')>-1]\n",
    "    dict_names = [s.split('=\"')[0] for s in rn[0].split('\" ')]\n",
    "    dict_vals = [s.split('=\"')[1] for s in rn[0].split('\" ')]\n",
    "    d = {}\n",
    "    for i,n in enumerate(dict_names):\n",
    "        try:\n",
    "            d[n] = np.array([datetime.strptime(dict_vals[i],'%Y-%m-%d %H:%M:%S.%f')])\n",
    "        except:\n",
    "            try:\n",
    "                d[n] = np.array([float(dict_vals[i])])\n",
    "            except:\n",
    "                d[n] = np.array([dict_vals[i]])\n",
    "    return d\n",
    "    "
   ]
  },
  {
   "cell_type": "code",
   "execution_count": 170,
   "metadata": {
    "collapsed": false
   },
   "outputs": [],
   "source": [
    "d = setup_packets('4STAR')"
   ]
  },
  {
   "cell_type": "code",
   "execution_count": 171,
   "metadata": {
    "collapsed": false
   },
   "outputs": [
    {
     "data": {
      "text/plain": [
       "['nirpixel',\n",
       " 'angstrom_exponent',\n",
       " 'elevation_angle',\n",
       " 'aod_675_nm',\n",
       " 'aod_780_nm',\n",
       " 'timestamp',\n",
       " 'header',\n",
       " 'longitude',\n",
       " 'aod_450_nm',\n",
       " 'aod_1020_nm',\n",
       " 'mode',\n",
       " 'aod_500_nm',\n",
       " 'azimuth',\n",
       " 'latitude',\n",
       " 'aod_865_nm',\n",
       " 'aod_1559_nm',\n",
       " 'vtotalquad',\n",
       " 'aod_1236_nm',\n",
       " 'vispixel']"
      ]
     },
     "execution_count": 171,
     "metadata": {},
     "output_type": "execute_result"
    }
   ],
   "source": [
    "d.keys()"
   ]
  },
  {
   "cell_type": "code",
   "execution_count": 173,
   "metadata": {
    "collapsed": false
   },
   "outputs": [
    {
     "data": {
      "text/plain": [
       "array([datetime.datetime(2017, 8, 8, 17, 9, 32, 4000)], dtype=object)"
      ]
     },
     "execution_count": 173,
     "metadata": {},
     "output_type": "execute_result"
    }
   ],
   "source": [
    "d['timestamp']"
   ]
  },
  {
   "cell_type": "code",
   "execution_count": null,
   "metadata": {
    "collapsed": true
   },
   "outputs": [],
   "source": []
  }
 ],
 "metadata": {
  "kernelspec": {
   "display_name": "Python 2",
   "language": "python",
   "name": "python2"
  },
  "language_info": {
   "codemirror_mode": {
    "name": "ipython",
    "version": 2
   },
   "file_extension": ".py",
   "mimetype": "text/x-python",
   "name": "python",
   "nbconvert_exporter": "python",
   "pygments_lexer": "ipython2",
   "version": "2.7.6"
  },
  "toc": {
   "toc_cell": false,
   "toc_number_sections": true,
   "toc_threshold": 4,
   "toc_window_display": false
  }
 },
 "nbformat": 4,
 "nbformat_minor": 0
}
