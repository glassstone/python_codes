{
 "metadata": {
  "name": "",
  "signature": "sha256:26b83a965e876a97b37af26f44d6b1267f66ea7a86f825e4e62eb842d2d9e021"
 },
 "nbformat": 3,
 "nbformat_minor": 0,
 "worksheets": [
  {
   "cells": [
    {
     "cell_type": "markdown",
     "metadata": {
      "variables": {}
     },
     "source": [
      "Name:  \n",
      "\n",
      "    SIC_params\n",
      "\n",
      "Purpose:  \n",
      "\n",
      "    Python script to looking at Shannon Information Content of the zenith cloud retrievals parameters\n",
      "\n",
      "  \n",
      "Input:\n",
      "\n",
      "    none at command line\n",
      "  \n",
      "Output:\n",
      "\n",
      "    figures and save files...\n",
      "  \n",
      "Keywords:\n",
      "\n",
      "    none\n",
      "  \n",
      "Dependencies:\n",
      "\n",
      "    - \n",
      "  \n",
      "Needed Files:\n",
      "\n",
      "  - retr_day_pss_v4.out\n",
      "  - retr_day_sub_v4.out\n",
      "    \n",
      " Modification History:\n",
      " \n",
      "     Written: by Samuel LeBlanc, Santa Cruz, CA, 2015-08-12\n",
      "            "
     ]
    },
    {
     "cell_type": "code",
     "collapsed": false,
     "input": [
      "%config InlineBackend.rc = {}\n",
      "import matplotlib \n",
      "matplotlib.rc_file('C:\\\\Users\\\\sleblan2\\\\Research\\\\python_codes\\\\file.rc')\n",
      "import matplotlib.pyplot as plt\n",
      "import matplotlib.colors as colors\n",
      "from mpltools import color\n",
      "%matplotlib inline\n",
      "import numpy as np, h5py\n",
      "import scipy.io as sio\n",
      "import scipy\n",
      "import math, os, IPython\n",
      "import Sp_parameters as Sp\n",
      "import load_modis as lm\n",
      "IPython.InteractiveShell.cache_size = 0\n",
      "# set the basic directory path\n",
      "fp='C:/Users/sleblan2/Research/SSFR3/'"
     ],
     "language": "python",
     "metadata": {
      "run_control": {
       "breakpoint": false
      }
     },
     "outputs": [],
     "prompt_number": 2
    },
    {
     "cell_type": "code",
     "collapsed": false,
     "input": [
      "fppss = fp+'retrieved/cst/retr_day_pss_v4.out'\n",
      "fpsub = fp+'retrieved/cst/retr_day_sub_v4.out'"
     ],
     "language": "python",
     "metadata": {
      "run_control": {
       "breakpoint": false
      }
     },
     "outputs": [],
     "prompt_number": 3
    },
    {
     "cell_type": "code",
     "collapsed": false,
     "input": [
      "pss = sio.idl.readsav(fppss)\n",
      "sub = sio.idl.readsav(fpsub)"
     ],
     "language": "python",
     "metadata": {
      "run_control": {
       "breakpoint": false
      }
     },
     "outputs": [],
     "prompt_number": 4
    },
    {
     "cell_type": "code",
     "collapsed": false,
     "input": [
      "pss.keys()"
     ],
     "language": "python",
     "metadata": {
      "run_control": {
       "breakpoint": false
      }
     },
     "outputs": [
      {
       "metadata": {},
       "output_type": "pyout",
       "prompt_number": 6,
       "text": [
        "['ps',\n",
        " 'hrt',\n",
        " 'postrt',\n",
        " 'taurt',\n",
        " 'hprt',\n",
        " 'taum',\n",
        " 'hirt',\n",
        " 'refm',\n",
        " 'refrt',\n",
        " 'tauer',\n",
        " 'refer']"
       ]
      }
     ],
     "prompt_number": 6
    },
    {
     "cell_type": "code",
     "collapsed": false,
     "input": [
      "sub.keys()"
     ],
     "language": "python",
     "metadata": {
      "run_control": {
       "breakpoint": false
      }
     },
     "outputs": [
      {
       "metadata": {},
       "output_type": "pyout",
       "prompt_number": 7,
       "text": [
        "['ps',\n",
        " 'hrt',\n",
        " 'postrt',\n",
        " 'taurt',\n",
        " 'hprt',\n",
        " 'taum',\n",
        " 'hirt',\n",
        " 'refm',\n",
        " 'refrt',\n",
        " 'tauer',\n",
        " 'refer']"
       ]
      }
     ],
     "prompt_number": 7
    },
    {
     "cell_type": "code",
     "collapsed": false,
     "input": [],
     "language": "python",
     "metadata": {
      "run_control": {
       "breakpoint": false
      }
     },
     "outputs": []
    }
   ],
   "metadata": {}
  }
 ]
}