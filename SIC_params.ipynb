{
 "cells": [
  {
   "cell_type": "markdown",
   "metadata": {
    "variables": {}
   },
   "source": [
    "Name:  \n",
    "\n",
    "    SIC_params\n",
    "\n",
    "Purpose:  \n",
    "\n",
    "    Python script to looking at Shannon Information Content of the zenith cloud retrievals parameters\n",
    "\n",
    "  \n",
    "Input:\n",
    "\n",
    "    none at command line\n",
    "  \n",
    "Output:\n",
    "\n",
    "    figures and save files...\n",
    "  \n",
    "Keywords:\n",
    "\n",
    "    none\n",
    "  \n",
    "Dependencies:\n",
    "\n",
    "    - matplotlib\n",
    "    - scipy\n",
    "    - load_utils\n",
    "    - math\n",
    "    - Sp_parameters\n",
    "  \n",
    "Needed Files:\n",
    "\n",
    "  - retr_day_pss_v4.out\n",
    "  - retr_day_sub_v4.out\n",
    "    \n",
    " Modification History:\n",
    " \n",
    "     Written: by Samuel LeBlanc, Santa Cruz, CA, 2015-08-12\n",
    "            "
   ]
  },
  {
   "cell_type": "code",
   "execution_count": 2,
   "metadata": {
    "collapsed": false,
    "run_control": {
     "breakpoint": false
    }
   },
   "outputs": [],
   "source": [
    "%config InlineBackend.rc = {}\n",
    "import matplotlib \n",
    "matplotlib.rc_file('C:\\\\Users\\\\sleblan2\\\\Research\\\\python_codes\\\\file.rc')\n",
    "import matplotlib.pyplot as plt\n",
    "import matplotlib.colors as colors\n",
    "from mpltools import color\n",
    "%matplotlib inline\n",
    "import numpy as np, h5py\n",
    "import scipy.io as sio\n",
    "import scipy\n",
    "import math, os, IPython\n",
    "import Sp_parameters as Sp\n",
    "import load_utils as lm\n",
    "IPython.InteractiveShell.cache_size = 0\n",
    "# set the basic directory path\n",
    "fp='C:/Users/sleblan2/Research/SSFR3/'"
   ]
  },
  {
   "cell_type": "code",
   "execution_count": 3,
   "metadata": {
    "collapsed": false,
    "run_control": {
     "breakpoint": false
    }
   },
   "outputs": [],
   "source": [
    "fppss = fp+'retrieved/cst/retr_day_pss_v4.out'\n",
    "fpsub = fp+'retrieved/cst/retr_day_sub_v4.out'"
   ]
  },
  {
   "cell_type": "code",
   "execution_count": 4,
   "metadata": {
    "collapsed": false,
    "run_control": {
     "breakpoint": false
    }
   },
   "outputs": [],
   "source": [
    "pss = sio.idl.readsav(fppss)\n",
    "sub = sio.idl.readsav(fpsub)"
   ]
  },
  {
   "cell_type": "code",
   "execution_count": 6,
   "metadata": {
    "collapsed": false,
    "run_control": {
     "breakpoint": false
    }
   },
   "outputs": [
    {
     "data": {
      "text/plain": [
       "['ps',\n",
       " 'hrt',\n",
       " 'postrt',\n",
       " 'taurt',\n",
       " 'hprt',\n",
       " 'taum',\n",
       " 'hirt',\n",
       " 'refm',\n",
       " 'refrt',\n",
       " 'tauer',\n",
       " 'refer']"
      ]
     },
     "execution_count": 6,
     "metadata": {},
     "output_type": "execute_result"
    }
   ],
   "source": [
    "pss.keys()"
   ]
  },
  {
   "cell_type": "code",
   "execution_count": 7,
   "metadata": {
    "collapsed": false,
    "run_control": {
     "breakpoint": false
    }
   },
   "outputs": [
    {
     "data": {
      "text/plain": [
       "['ps',\n",
       " 'hrt',\n",
       " 'postrt',\n",
       " 'taurt',\n",
       " 'hprt',\n",
       " 'taum',\n",
       " 'hirt',\n",
       " 'refm',\n",
       " 'refrt',\n",
       " 'tauer',\n",
       " 'refer']"
      ]
     },
     "execution_count": 7,
     "metadata": {},
     "output_type": "execute_result"
    }
   ],
   "source": [
    "sub.keys()"
   ]
  },
  {
   "cell_type": "code",
   "execution_count": 9,
   "metadata": {
    "collapsed": false,
    "run_control": {
     "breakpoint": false
    }
   },
   "outputs": [
    {
     "data": {
      "text/plain": [
       "(2L, 35L, 22L)"
      ]
     },
     "execution_count": 9,
     "metadata": {},
     "output_type": "execute_result"
    }
   ],
   "source": [
    "pss['hrt'].shape\n"
   ]
  },
  {
   "cell_type": "code",
   "execution_count": null,
   "metadata": {
    "collapsed": false,
    "run_control": {
     "breakpoint": false
    }
   },
   "outputs": [],
   "source": []
  }
 ],
 "metadata": {
  "kernelspec": {
   "display_name": "Python 2",
   "language": "python",
   "name": "python2"
  },
  "language_info": {
   "codemirror_mode": {
    "name": "ipython",
    "version": 2
   },
   "file_extension": ".py",
   "mimetype": "text/x-python",
   "name": "python",
   "nbconvert_exporter": "python",
   "pygments_lexer": "ipython2",
   "version": "2.7.6"
  },
  "toc": {
   "toc_cell": false,
   "toc_number_sections": true,
   "toc_threshold": 4,
   "toc_window_display": false
  }
 },
 "nbformat": 4,
 "nbformat_minor": 0
}
