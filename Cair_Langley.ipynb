{
 "cells": [
  {
   "cell_type": "markdown",
   "metadata": {},
   "source": [
    "# Intro\n",
    "\n",
    "Name:  \n",
    "\n",
    "    Cair_Lanley\n",
    "\n",
    "Purpose:  \n",
    "\n",
    "    Create a Langley plot for the Cair tubes attached to 2STAR\n",
    "    Assumes that it is tracking at all times, does not filter for bad tracking\n",
    "\n",
    "Input:\n",
    "\n",
    "    none at command line\n",
    "\n",
    "Output:\n",
    "\n",
    "    dict and plots \n",
    "\n",
    "Keywords:\n",
    "\n",
    "    none\n",
    "\n",
    "Dependencies:\n",
    "\n",
    "    - numpy\n",
    "    - Pyephem\n",
    "    - Sun_utils\n",
    "    - Cair_utils\n",
    "\n",
    "Needed Files:\n",
    "\n",
    "  - Cair raw calibrated comma delimited files (URC)\n",
    "\n",
    "Modification History:\n",
    "\n",
    "    Written: Samuel LeBlanc, On fligth from BWI to SJC, 2016-08-06\n",
    "    Modified: "
   ]
  },
  {
   "cell_type": "markdown",
   "metadata": {},
   "source": [
    "# Load the required modules and prepare the paths"
   ]
  },
  {
   "cell_type": "code",
   "execution_count": 1,
   "metadata": {
    "collapsed": false
   },
   "outputs": [
    {
     "name": "stderr",
     "output_type": "stream",
     "text": [
      "C:\\Python27_64\\WinPython-64bit-2.7.6.4\\python-2.7.6.amd64\\lib\\site-packages\\IPython\\kernel\\__init__.py:13: ShimWarning: The `IPython.kernel` package has been deprecated. You should import from ipykernel or jupyter_client instead.\n",
      "  \"You should import from ipykernel or jupyter_client instead.\", ShimWarning)\n"
     ]
    }
   ],
   "source": [
    "import matplotlib \n",
    "matplotlib.rc_file('C:\\\\Users\\\\sleblan2\\\\Research\\\\python_codes\\\\file.rc')\n",
    "import matplotlib.pyplot as plt\n",
    "%matplotlib notebook\n",
    "import numpy as np"
   ]
  },
  {
   "cell_type": "code",
   "execution_count": 2,
   "metadata": {
    "collapsed": true
   },
   "outputs": [],
   "source": [
    "import map_utils as mu\n",
    "import Sun_utils as su\n",
    "import Cair_utils as cu"
   ]
  },
  {
   "cell_type": "code",
   "execution_count": 3,
   "metadata": {
    "collapsed": true
   },
   "outputs": [],
   "source": [
    "fp = 'C:\\\\Users\\\\sleblan2\\\\Research\\\\4STAR\\\\MLO_2016\\\\'"
   ]
  },
  {
   "cell_type": "markdown",
   "metadata": {},
   "source": [
    "# Read some files"
   ]
  },
  {
   "cell_type": "code",
   "execution_count": 4,
   "metadata": {
    "collapsed": true
   },
   "outputs": [],
   "source": [
    "f = fp+'20160702_MLO5\\\\CAST_001_160702_090020_URC.csv'"
   ]
  },
  {
   "cell_type": "code",
   "execution_count": 6,
   "metadata": {
    "collapsed": false
   },
   "outputs": [
    {
     "data": {
      "text/plain": [
       "<module 'Cair_utils' from 'Cair_utils.py'>"
      ]
     },
     "execution_count": 6,
     "metadata": {},
     "output_type": "execute_result"
    }
   ],
   "source": [
    "reload(cu)"
   ]
  },
  {
   "cell_type": "code",
   "execution_count": 7,
   "metadata": {
    "collapsed": false
   },
   "outputs": [
    {
     "name": "stdout",
     "output_type": "stream",
     "text": [
      "read first\n",
      "try for second read\n",
      "trying datetime parse\n",
      "trying parser\n",
      "toutc\n"
     ]
    }
   ],
   "source": [
    "c = cu.read_Cair(fp+'20160702_MLO5\\\\CAST_001_160702_090020_URU.csv')"
   ]
  },
  {
   "cell_type": "code",
   "execution_count": 8,
   "metadata": {
    "collapsed": false
   },
   "outputs": [
    {
     "data": {
      "text/plain": [
       "['wvl',\n",
       " 'Lt1020_xV',\n",
       " 'DateTime',\n",
       " 'Lt380_xV',\n",
       " 'Lt',\n",
       " 'Lt555_xV',\n",
       " 'Lt510_xV',\n",
       " 'DateTimeUTC',\n",
       " 'Millisecond_ms',\n",
       " 'Lt532_xV',\n",
       " 'Lt412_xV',\n",
       " 'Lt875_xV',\n",
       " 'GeneralExcelTime',\n",
       " 'Lt589_xV',\n",
       " 'Lt625_xV',\n",
       " 'Lt320_xV',\n",
       " 'Lt780_xV',\n",
       " 'Lt1640_xV',\n",
       " 'Lt670_xV',\n",
       " 'Lt443_xV',\n",
       " 'Lt340_xV',\n",
       " 'Lt683_xV',\n",
       " 'Lt1245_xV',\n",
       " 'Lt490_xV',\n",
       " 'Lt710_xV']"
      ]
     },
     "execution_count": 8,
     "metadata": {},
     "output_type": "execute_result"
    }
   ],
   "source": [
    "c.keys()"
   ]
  },
  {
   "cell_type": "markdown",
   "metadata": {},
   "source": [
    "# Run analysis and calculate the airmass and rayleigh"
   ]
  },
  {
   "cell_type": "code",
   "execution_count": 10,
   "metadata": {
    "collapsed": true
   },
   "outputs": [],
   "source": [
    "lat, lon, alt = 19.5365,-155.57615,3428.0"
   ]
  },
  {
   "cell_type": "code",
   "execution_count": 26,
   "metadata": {
    "collapsed": false
   },
   "outputs": [
    {
     "data": {
      "text/plain": [
       "<module 'Sun_utils' from 'Sun_utils.py'>"
      ]
     },
     "execution_count": 26,
     "metadata": {},
     "output_type": "execute_result"
    }
   ],
   "source": [
    "reload(su)"
   ]
  },
  {
   "cell_type": "markdown",
   "metadata": {},
   "source": [
    "## Calculate the airmass and sza"
   ]
  },
  {
   "cell_type": "code",
   "execution_count": 12,
   "metadata": {
    "collapsed": true
   },
   "outputs": [],
   "source": [
    "c = su.calc_sza_airmass(c['DateTimeUTC'],lat,lon,alt,c=c)"
   ]
  },
  {
   "cell_type": "code",
   "execution_count": 13,
   "metadata": {
    "collapsed": false
   },
   "outputs": [
    {
     "data": {
      "text/plain": [
       "['wvl',\n",
       " 'Lt1020_xV',\n",
       " 'DateTime',\n",
       " 'Lt380_xV',\n",
       " 'm_aero',\n",
       " 'Lt',\n",
       " 'alt',\n",
       " 'Lt555_xV',\n",
       " 'lon',\n",
       " 'Lt510_xV',\n",
       " 'sza',\n",
       " 'DateTimeUTC',\n",
       " 'Millisecond_ms',\n",
       " 'm_o3',\n",
       " 'Lt532_xV',\n",
       " 'Lt412_xV',\n",
       " 'azi',\n",
       " 'Lt875_xV',\n",
       " 'GeneralExcelTime',\n",
       " 'Lt589_xV',\n",
       " 'Lt625_xV',\n",
       " 'lat',\n",
       " 'Lt320_xV',\n",
       " 'Lt780_xV',\n",
       " 'Lt1640_xV',\n",
       " 'Lt670_xV',\n",
       " 'm_ray',\n",
       " 'Lt443_xV',\n",
       " 'Lt340_xV',\n",
       " 'Lt683_xV',\n",
       " 'Lt1245_xV',\n",
       " 'Lt490_xV',\n",
       " 'Lt710_xV']"
      ]
     },
     "execution_count": 13,
     "metadata": {},
     "output_type": "execute_result"
    }
   ],
   "source": [
    "c.keys()"
   ]
  },
  {
   "cell_type": "code",
   "execution_count": 33,
   "metadata": {
    "collapsed": false
   },
   "outputs": [
    {
     "data": {
      "text/plain": [
       "(19L, 151250L)"
      ]
     },
     "execution_count": 33,
     "metadata": {},
     "output_type": "execute_result"
    }
   ],
   "source": [
    "c['Lt'].shape"
   ]
  },
  {
   "cell_type": "markdown",
   "metadata": {},
   "source": [
    "## get the rayleigh tau"
   ]
  },
  {
   "cell_type": "code",
   "execution_count": 14,
   "metadata": {
    "collapsed": false
   },
   "outputs": [
    {
     "data": {
      "text/plain": [
       "[320.0,\n",
       " 340.0,\n",
       " 380.0,\n",
       " 412.0,\n",
       " 443.0,\n",
       " 490.0,\n",
       " 510.0,\n",
       " 532.0,\n",
       " 555.0,\n",
       " 589.0,\n",
       " 625.0,\n",
       " 670.0,\n",
       " 683.0,\n",
       " 710.0,\n",
       " 780.0,\n",
       " 875.0,\n",
       " 1020.0,\n",
       " 1245.0,\n",
       " 1640.0]"
      ]
     },
     "execution_count": 14,
     "metadata": {},
     "output_type": "execute_result"
    }
   ],
   "source": [
    "c['wvl']"
   ]
  },
  {
   "cell_type": "code",
   "execution_count": 34,
   "metadata": {
    "collapsed": true
   },
   "outputs": [],
   "source": [
    "c['tau_rayleigh'],c['tau_rayleigh_err'] = np.zeros_like(c['Lt']),np.zeros_like(c['Lt'])"
   ]
  },
  {
   "cell_type": "code",
   "execution_count": 35,
   "metadata": {
    "collapsed": false,
    "scrolled": true
   },
   "outputs": [],
   "source": [
    "for i,d in enumerate(c['DateTimeUTC']):\n",
    "    c['tau_rayleigh'][:,i],c['tau_rayleigh_err'][:,i] = su.tau_rayleigh(np.array(c['wvl'])/1000.0,680.0,latitude=c['lat'],date=d)"
   ]
  },
  {
   "cell_type": "markdown",
   "metadata": {},
   "source": [
    "## Calculate the 'rateaero' or Lt_aero\n",
    "Which is the Lt values divided by the impact of rayleigh, and trace gases"
   ]
  },
  {
   "cell_type": "code",
   "execution_count": 45,
   "metadata": {
    "collapsed": false
   },
   "outputs": [
    {
     "ename": "KeyError",
     "evalue": "'sunearthf'",
     "output_type": "error",
     "traceback": [
      "\u001b[1;31m---------------------------------------------------------------------------\u001b[0m",
      "\u001b[1;31mKeyError\u001b[0m                                  Traceback (most recent call last)",
      "\u001b[1;32m<ipython-input-45-12df205d19ad>\u001b[0m in \u001b[0;36m<module>\u001b[1;34m()\u001b[0m\n\u001b[1;32m----> 1\u001b[1;33m \u001b[0mc\u001b[0m\u001b[1;33m[\u001b[0m\u001b[1;34m'Lt_aero'\u001b[0m\u001b[1;33m]\u001b[0m \u001b[1;33m=\u001b[0m \u001b[0mc\u001b[0m\u001b[1;33m[\u001b[0m\u001b[1;34m'Lt'\u001b[0m\u001b[1;33m]\u001b[0m\u001b[1;33m/\u001b[0m\u001b[0mc\u001b[0m\u001b[1;33m[\u001b[0m\u001b[1;34m'sunearthf'\u001b[0m\u001b[1;33m]\u001b[0m\u001b[1;33m/\u001b[0m\u001b[0mnp\u001b[0m\u001b[1;33m.\u001b[0m\u001b[0mexp\u001b[0m\u001b[1;33m(\u001b[0m\u001b[1;33m-\u001b[0m\u001b[0mc\u001b[0m\u001b[1;33m[\u001b[0m\u001b[1;34m'm_aero'\u001b[0m\u001b[1;33m]\u001b[0m\u001b[1;33m*\u001b[0m\u001b[0mc\u001b[0m\u001b[1;33m[\u001b[0m\u001b[1;34m'tau_rayleigh'\u001b[0m\u001b[1;33m]\u001b[0m\u001b[1;33m)\u001b[0m\u001b[1;33m\u001b[0m\u001b[0m\n\u001b[0m",
      "\u001b[1;31mKeyError\u001b[0m: 'sunearthf'"
     ]
    }
   ],
   "source": [
    "c['Lt_aero'] = c['Lt']/c['sunearthf']/np.exp(-c['m_aero']*c['tau_rayleigh'])"
   ]
  },
  {
   "cell_type": "code",
   "execution_count": null,
   "metadata": {
    "collapsed": true
   },
   "outputs": [],
   "source": []
  }
 ],
 "metadata": {
  "kernelspec": {
   "display_name": "Python 2",
   "language": "python",
   "name": "python2"
  },
  "language_info": {
   "codemirror_mode": {
    "name": "ipython",
    "version": 2
   },
   "file_extension": ".py",
   "mimetype": "text/x-python",
   "name": "python",
   "nbconvert_exporter": "python",
   "pygments_lexer": "ipython2",
   "version": "2.7.6"
  },
  "toc": {
   "toc_cell": false,
   "toc_number_sections": true,
   "toc_threshold": 4,
   "toc_window_display": false
  }
 },
 "nbformat": 4,
 "nbformat_minor": 0
}
