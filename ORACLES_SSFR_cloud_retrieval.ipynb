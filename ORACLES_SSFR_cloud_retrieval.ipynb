{
 "cells": [
  {
   "cell_type": "markdown",
   "metadata": {},
   "source": [
    "# Info\n",
    "Name:  \n",
    "\n",
    "    ORACLES_SSFR_cloud_retrieval\n",
    "\n",
    "Purpose:  \n",
    "\n",
    "    Run the cloud retrieval on SSFR data from ORACLES 2016 and 2017, but only on the flagacaod times.\n",
    "  \n",
    "Input:\n",
    "\n",
    "    none\n",
    "\n",
    "Output:\n",
    "   \n",
    "    plots\n",
    "    mat save files\n",
    "  \n",
    "Keywords:\n",
    "\n",
    "    none\n",
    "  \n",
    "Dependencies:\n",
    "\n",
    "    - numpy\n",
    "    - matplotlib\n",
    "    - scipy\n",
    "\n",
    "  \n",
    "Needed Files:\n",
    "\n",
    "  - ...\n",
    "    \n",
    "History:\n",
    "\n",
    "    Written: Samuel LeBlanc,Santa Cruz, CA, 2018-06-29"
   ]
  },
  {
   "cell_type": "markdown",
   "metadata": {},
   "source": [
    "# Prepare the python environment"
   ]
  },
  {
   "cell_type": "code",
   "execution_count": 1,
   "metadata": {
    "ExecuteTime": {
     "end_time": "2018-06-30T04:40:23.181415Z",
     "start_time": "2018-06-30T04:40:22.201473Z"
    }
   },
   "outputs": [],
   "source": [
    "import numpy as np\n",
    "import scipy.io as sio\n",
    "import os\n",
    "import matplotlib.pyplot as plt"
   ]
  },
  {
   "cell_type": "code",
   "execution_count": 2,
   "metadata": {
    "ExecuteTime": {
     "end_time": "2018-06-30T04:40:30.221887Z",
     "start_time": "2018-06-30T04:40:30.209208Z"
    }
   },
   "outputs": [],
   "source": [
    "%matplotlib notebook"
   ]
  },
  {
   "cell_type": "code",
   "execution_count": 3,
   "metadata": {
    "ExecuteTime": {
     "end_time": "2018-06-30T04:40:59.802064Z",
     "start_time": "2018-06-30T04:40:59.784544Z"
    }
   },
   "outputs": [],
   "source": [
    "import load_utils as lu\n",
    "import Sp_parameters as Sp"
   ]
  },
  {
   "cell_type": "code",
   "execution_count": 4,
   "metadata": {
    "ExecuteTime": {
     "end_time": "2018-06-30T04:42:15.067108Z",
     "start_time": "2018-06-30T04:42:14.344190Z"
    }
   },
   "outputs": [],
   "source": [
    "import hdf5storage as hs\n",
    "from path_utils import getpath\n",
    "from write_utils import nearest_neighbor\n",
    "from tqdm import tqdm_notebook as tqdm\n",
    "import math"
   ]
  },
  {
   "cell_type": "code",
   "execution_count": 207,
   "metadata": {
    "ExecuteTime": {
     "end_time": "2018-07-03T17:36:11.732202Z",
     "start_time": "2018-07-03T17:36:11.729151Z"
    }
   },
   "outputs": [],
   "source": [
    "from scipy import interpolate"
   ]
  },
  {
   "cell_type": "code",
   "execution_count": 5,
   "metadata": {
    "ExecuteTime": {
     "end_time": "2018-06-30T04:42:15.497916Z",
     "start_time": "2018-06-30T04:42:15.489270Z"
    }
   },
   "outputs": [
    {
     "data": {
      "text/plain": [
       "u'/mnt/c/Users/sleblanc/Research/ORACLES/'"
      ]
     },
     "execution_count": 5,
     "metadata": {},
     "output_type": "execute_result"
    }
   ],
   "source": [
    "fp = getpath('ORACLES')\n",
    "fp"
   ]
  },
  {
   "cell_type": "markdown",
   "metadata": {},
   "source": [
    "# Load files"
   ]
  },
  {
   "cell_type": "code",
   "execution_count": 9,
   "metadata": {
    "ExecuteTime": {
     "end_time": "2018-07-02T21:30:05.736754Z",
     "start_time": "2018-07-02T21:30:05.733871Z"
    }
   },
   "outputs": [],
   "source": [
    "days = ['20160830','20160831','20160902','20160904','20160906','20160908',\n",
    "       '20160910','20160912','20160914','20160918','20160920','20160924','20160925','20160927']"
   ]
  },
  {
   "cell_type": "markdown",
   "metadata": {},
   "source": [
    "## Load the SSFR ict files for 2016"
   ]
  },
  {
   "cell_type": "code",
   "execution_count": 26,
   "metadata": {
    "ExecuteTime": {
     "end_time": "2018-07-02T21:53:38.052718Z",
     "start_time": "2018-07-02T21:53:19.901111Z"
    }
   },
   "outputs": [
    {
     "name": "stdout",
     "output_type": "stream",
     "text": [
      "('Start_UTC', 'DN415', 'DN440', 'DN500', 'DN675', 'DN870', 'DN990', 'DN1020', 'DN1064', 'DN1250', 'DN1650', 'DN2100', 'UP415', 'UP440', 'UP500', 'UP675', 'UP870', 'UP990', 'UP1020', 'UP1064', 'UP1250', 'UP1650', 'UP2100', 'LON', 'LAT', 'ALT', 'PITCH', 'ROLL', 'HEAD')\n",
      "('Start_UTC', 'DN415', 'DN440', 'DN500', 'DN675', 'DN870', 'DN990', 'DN1020', 'DN1064', 'DN1250', 'DN1650', 'DN2100', 'UP415', 'UP440', 'UP500', 'UP675', 'UP870', 'UP990', 'UP1020', 'UP1064', 'UP1250', 'UP1650', 'UP2100', 'LON', 'LAT', 'ALT', 'PITCH', 'ROLL', 'HEAD')\n",
      "('Start_UTC', 'DN415', 'DN440', 'DN500', 'DN675', 'DN870', 'DN990', 'DN1020', 'DN1064', 'DN1250', 'DN1650', 'DN2100', 'UP415', 'UP440', 'UP500', 'UP675', 'UP870', 'UP990', 'UP1020', 'UP1064', 'UP1250', 'UP1650', 'UP2100', 'LON', 'LAT', 'ALT', 'PITCH', 'ROLL', 'HEAD')\n",
      "('Start_UTC', 'DN415', 'DN440', 'DN500', 'DN675', 'DN870', 'DN990', 'DN1020', 'DN1064', 'DN1250', 'DN1650', 'DN2100', 'UP415', 'UP440', 'UP500', 'UP675', 'UP870', 'UP990', 'UP1020', 'UP1064', 'UP1250', 'UP1650', 'UP2100', 'LON', 'LAT', 'ALT', 'PITCH', 'ROLL', 'HEAD')\n",
      "('Start_UTC', 'DN415', 'DN440', 'DN500', 'DN675', 'DN870', 'DN990', 'DN1020', 'DN1064', 'DN1250', 'DN1650', 'DN2100', 'UP415', 'UP440', 'UP500', 'UP675', 'UP870', 'UP990', 'UP1020', 'UP1064', 'UP1250', 'UP1650', 'UP2100', 'LON', 'LAT', 'ALT', 'PITCH', 'ROLL', 'HEAD')\n",
      "('Start_UTC', 'DN415', 'DN440', 'DN500', 'DN675', 'DN870', 'DN990', 'DN1020', 'DN1064', 'DN1250', 'DN1650', 'DN2100', 'UP415', 'UP440', 'UP500', 'UP675', 'UP870', 'UP990', 'UP1020', 'UP1064', 'UP1250', 'UP1650', 'UP2100', 'LON', 'LAT', 'ALT', 'PITCH', 'ROLL', 'HEAD')\n",
      "('Start_UTC', 'DN415', 'DN440', 'DN500', 'DN675', 'DN870', 'DN990', 'DN1020', 'DN1064', 'DN1250', 'DN1650', 'DN2100', 'UP415', 'UP440', 'UP500', 'UP675', 'UP870', 'UP990', 'UP1020', 'UP1064', 'UP1250', 'UP1650', 'UP2100', 'LON', 'LAT', 'ALT', 'PITCH', 'ROLL', 'HEAD')\n",
      "('Start_UTC', 'DN415', 'DN440', 'DN500', 'DN675', 'DN870', 'DN990', 'DN1020', 'DN1064', 'DN1250', 'DN1650', 'DN2100', 'UP415', 'UP440', 'UP500', 'UP675', 'UP870', 'UP990', 'UP1020', 'UP1064', 'UP1250', 'UP1650', 'UP2100', 'LON', 'LAT', 'ALT', 'PITCH', 'ROLL', 'HEAD')\n",
      "('Start_UTC', 'DN415', 'DN440', 'DN500', 'DN675', 'DN870', 'DN990', 'DN1020', 'DN1064', 'DN1250', 'DN1650', 'DN2100', 'UP415', 'UP440', 'UP500', 'UP675', 'UP870', 'UP990', 'UP1020', 'UP1064', 'UP1250', 'UP1650', 'UP2100', 'LON', 'LAT', 'ALT', 'PITCH', 'ROLL', 'HEAD')\n",
      "('Start_UTC', 'DN415', 'DN440', 'DN500', 'DN675', 'DN870', 'DN990', 'DN1020', 'DN1064', 'DN1250', 'DN1650', 'DN2100', 'UP415', 'UP440', 'UP500', 'UP675', 'UP870', 'UP990', 'UP1020', 'UP1064', 'UP1250', 'UP1650', 'UP2100', 'LON', 'LAT', 'ALT', 'PITCH', 'ROLL', 'HEAD')\n",
      "('Start_UTC', 'DN415', 'DN440', 'DN500', 'DN675', 'DN870', 'DN990', 'DN1020', 'DN1064', 'DN1250', 'DN1650', 'DN2100', 'UP415', 'UP440', 'UP500', 'UP675', 'UP870', 'UP990', 'UP1020', 'UP1064', 'UP1250', 'UP1650', 'UP2100', 'LON', 'LAT', 'ALT', 'PITCH', 'ROLL', 'HEAD')\n",
      "('Start_UTC', 'DN415', 'DN440', 'DN500', 'DN675', 'DN870', 'DN990', 'DN1020', 'DN1064', 'DN1250', 'DN1650', 'DN2100', 'UP415', 'UP440', 'UP500', 'UP675', 'UP870', 'UP990', 'UP1020', 'UP1064', 'UP1250', 'UP1650', 'UP2100', 'LON', 'LAT', 'ALT', 'PITCH', 'ROLL', 'HEAD')\n",
      "('Start_UTC', 'DN415', 'DN440', 'DN500', 'DN675', 'DN870', 'DN990', 'DN1020', 'DN1064', 'DN1250', 'DN1650', 'DN2100', 'UP415', 'UP440', 'UP500', 'UP675', 'UP870', 'UP990', 'UP1020', 'UP1064', 'UP1250', 'UP1650', 'UP2100', 'LON', 'LAT', 'ALT', 'PITCH', 'ROLL', 'HEAD')\n",
      "('Start_UTC', 'DN415', 'DN440', 'DN500', 'DN675', 'DN870', 'DN990', 'DN1020', 'DN1064', 'DN1250', 'DN1650', 'DN2100', 'UP415', 'UP440', 'UP500', 'UP675', 'UP870', 'UP990', 'UP1020', 'UP1064', 'UP1250', 'UP1650', 'UP2100', 'LON', 'LAT', 'ALT', 'PITCH', 'ROLL', 'HEAD')\n"
     ]
    }
   ],
   "source": [
    "ssfr_a, ssfr_ah = [],[]\n",
    "for d in days:\n",
    "    sf,sfh = lu.load_ict(fp+'data_other/ssfr/SSFR_P3_{}_R1.ict'.format(d),return_header=True)\n",
    "    ssfr_a.append(lu.recarray_to_dict(sf))\n",
    "    ssfr_ah.append(sfh)"
   ]
  },
  {
   "cell_type": "code",
   "execution_count": 12,
   "metadata": {
    "ExecuteTime": {
     "end_time": "2018-07-02T21:33:48.558591Z",
     "start_time": "2018-07-02T21:33:48.553013Z"
    },
    "scrolled": true
   },
   "outputs": [
    {
     "data": {
      "text/plain": [
       "['65, 1001\\n',\n",
       " 'Schmidt, Sebastian\\n',\n",
       " 'University of Colorado at Boulder \\n',\n",
       " 'SW Spectral Irradiance from P3 Solar Spectral Flux Radiometer \\n',\n",
       " 'ORACLES 2016\\n',\n",
       " '1, 1 \\n',\n",
       " '2016,08,30,     2017,06,29\\n',\n",
       " '      1.00000 \\n',\n",
       " 'Start_UTC, seconds\\n',\n",
       " '          28 \\n',\n",
       " '1,1,1,1,1,1,1,1,1,1,1,1,1,1,1,1,1,1,1,1,1,1,1,1,1,1,1,1\\n',\n",
       " '-9999.0000000,-9999.0000000,-9999.0000000,-9999.0000000,-9999.0000000,-9999.0000000,-9999.0000000,-9999.0000000,-9999.0000000,-9999.0000000,-9999.0000000,-9999.0000000,-9999.0000000,-9999.0000000,-9999.0000000,-9999.0000000,-9999.0000000,-9999.0000000,-9999.0000000,-9999.0000000,-9999.0000000,-9999.0000000,-9999.0000000,-9999.0000000,-9999.0000000,-9999.0000000,-9999.0000000,-9999.0000000\\n',\n",
       " 'DN415, W m^-2 nm^-1, Downward Shortwave Irradiance at 415.896 nm \\n',\n",
       " 'DN440, W m^-2 nm^-1, Downward Shortwave Irradiance at 439.204 nm \\n',\n",
       " 'DN500, W m^-2 nm^-1, Downward Shortwave Irradiance at 499.224 nm \\n',\n",
       " 'DN675, W m^-2 nm^-1, Downward Shortwave Irradiance at 676.189 nm \\n',\n",
       " 'DN870, W m^-2 nm^-1, Downward Shortwave Irradiance at 868.902 nm \\n',\n",
       " 'DN990, W m^-2 nm^-1, Downward Shortwave Irradiance at 992.232 nm \\n',\n",
       " 'DN1020, W m^-2 nm^-1, Downward Shortwave Irradiance at 1017.45 nm \\n',\n",
       " 'DN1064, W m^-2 nm^-1, Downward Shortwave Irradiance at 1060.96 nm \\n',\n",
       " 'DN1250, W m^-2 nm^-1, Downward Shortwave Irradiance at 1250.45 nm \\n',\n",
       " 'DN1650, W m^-2 nm^-1, Downward Shortwave Irradiance at 1648.02 nm \\n',\n",
       " 'DN2100, W m^-2 nm^-1, Downward Shortwave Irradiance at 2096.38 nm \\n',\n",
       " 'UP415, W m^-2 nm^-1, Upward Shortwave Irradiance at 415.219 nm \\n',\n",
       " 'UP440, W m^-2 nm^-1, Upward Shortwave Irradiance at 438.561 nm \\n',\n",
       " 'UP500, W m^-2 nm^-1, Upward Shortwave Irradiance at 498.667 nm \\n',\n",
       " 'UP675, W m^-2 nm^-1, Upward Shortwave Irradiance at 675.770 nm \\n',\n",
       " 'UP870, W m^-2 nm^-1, Upward Shortwave Irradiance at 871.508 nm \\n',\n",
       " 'UP990, W m^-2 nm^-1, Upward Shortwave Irradiance at 992.646 nm \\n',\n",
       " 'UP1020, W m^-2 nm^-1, Upward Shortwave Irradiance at 1017.53 nm \\n',\n",
       " 'UP1064, W m^-2 nm^-1, Upward Shortwave Irradiance at 1066.54 nm \\n',\n",
       " 'UP1250, W m^-2 nm^-1, Upward Shortwave Irradiance at 1247.87 nm \\n',\n",
       " 'UP1650, W m^-2 nm^-1, Upward Shortwave Irradiance at 1648.79 nm \\n',\n",
       " 'UP2100, W m^-2 nm^-1, Upward Shortwave Irradiance at 2101.44 nm \\n',\n",
       " 'LON, degree, Longitude\\n',\n",
       " 'LAT, degree, Latitude\\n',\n",
       " 'ALT, meter, Altitude\\n',\n",
       " 'PITCH, degree, Pitch Angle\\n',\n",
       " 'ROLL, degree, Roll Angle\\n',\n",
       " 'HEAD, degree, Heading Angle\\n',\n",
       " '           0 \\n',\n",
       " '          23 \\n',\n",
       " 'PI_CONTACT_INFO: Address: University of Colorado Boulder, LASP, 3665 Discovery Drive, Boulder, CO 80303; email: Sebastian.Schmidt@lasp.colorado.edu; phone: 303 492 6423\\n',\n",
       " 'PLATFORM: P3\\n',\n",
       " 'LOCATION: N/A\\n',\n",
       " 'ASSOCIATED_DATA: N/A\\n',\n",
       " 'INSTRUMENT_INFO: SSFR=Solar Spectral Flux Radiometer 350-2150 nm\\n',\n",
       " 'DATA_INFO: Reported are only selected wavelengths (SSFR), pitch/roll from leveling platform INS or aircraft, lat/lon/alt/heading from aircraft.\\n',\n",
       " 'UNCERTAINTY: Nominal SSFR uncertainty (shortwave): nadir: 5% zenith: 7%\\n',\n",
       " 'ULOD_FLAG: -7777\\n',\n",
       " 'ULOD_VALUE: N/A\\n',\n",
       " 'LLOD_FLAG: -8888\\n',\n",
       " 'LLOD_VALUE: N/A\\n',\n",
       " 'DM_CONTACT_INFO: N/A\\n',\n",
       " 'PROJECT_INFO: ORACLES experiment out of Walvis Bay, Namibia, August/September 2016\\n',\n",
       " 'STIPULATIONS_ON_USE: This is the initial public release of the ORACLES-2016 data set. We strongly recommend that you consult the PI, both for updates to the data set, and for the proper and most recent interpretation of the data for specific science use.\\n',\n",
       " 'OTHER_COMMENTS: For full SSFR spectra from 350-2150 nm, please contact the PI. Next data version (planned Jan 2018) will contain full spectra\\n',\n",
       " 'Response function files:\\n',\n",
       " 'Zenith Silicon: 20160915_150C_resp2_100_zensi.dat\\n',\n",
       " 'Zenith InGaAs : 20160915_150C_resp2_300_zenir.dat\\n',\n",
       " 'Nadir  Silicon: 20160915_150C_resp2_100_nadsi.dat\\n',\n",
       " 'Nadir  InGaAs : 20160915_150C_resp2_300_nadir.dat\\n',\n",
       " 'REVISION: R1\\n',\n",
       " 'R1: field data with final calibration; data has been corrected for aircraft attitude and angular response of light collectors.\\n',\n",
       " 'Start_UTC,DN415,DN440,DN500,DN675,DN870,DN990,DN1020,DN1064,DN1250,DN1650,DN2100,UP415,UP440,UP500,UP675,UP870,UP990,UP1020,UP1064,UP1250,UP1650,UP2100,LON,LAT,ALT,PITCH,ROLL,HEAD\\n']"
      ]
     },
     "execution_count": 12,
     "metadata": {},
     "output_type": "execute_result"
    }
   ],
   "source": [
    "ssfr_ah[0]"
   ]
  },
  {
   "cell_type": "code",
   "execution_count": 13,
   "metadata": {
    "ExecuteTime": {
     "end_time": "2018-07-02T21:34:49.130828Z",
     "start_time": "2018-07-02T21:34:49.123338Z"
    }
   },
   "outputs": [
    {
     "data": {
      "text/plain": [
       "array([ ( 7.15027778,        nan,        nan,        nan,        nan,        nan,        nan,        nan,        nan,        nan,        nan,  nan,        nan,        nan,        nan,        nan,        nan,        nan,        nan,        nan,        nan,        nan,  nan,  14.6427155, -22.9804802,  121.2090849,   5.8463597,   5.8463597, -107.1999969),\n",
       "       ( 7.15055556,        nan,        nan,        nan,        nan,        nan,        nan,        nan,        nan,        nan,        nan,  nan,        nan,        nan,        nan,        nan,        nan,        nan,        nan,        nan,        nan,        nan,  nan,  14.6422005, -22.9806519,  119.8221336, -22.786274 , -22.786274 , -107.       ),\n",
       "       ( 7.15083333,        nan,        nan,        nan,        nan,        nan,        nan,        nan,        nan,        nan,        nan,  nan,        nan,        nan,        nan,        nan,        nan,        nan,        nan,        nan,        nan,        nan,  nan,  14.6416855, -22.9808235,  117.1023079, -23.2438011, -23.2438011, -107.5      ),\n",
       "       ...,\n",
       "       ( 8.51861111,  0.1980696,  0.2150901,  0.2518312,  0.2351929,  0.1483331,  0.1010603,  0.0999855,  0.0892522,  0.0533757,  0.0144294,  nan,  0.0071149,  0.0070017,  0.0092939,  0.0121545,  0.0089562,  0.0059001,  0.0064372,  0.0058734,  0.0038982,  0.0003946,  nan,  14.6416855, -22.9809952,  114.1239797,  -4.3433146,   1.0616485,   71.0999985),\n",
       "       ( 8.51888889,  0.1988715,  0.2159437,  0.2532425,  0.235979 ,  0.1490029,  0.1016318,  0.1006262,  0.0897707,  0.054143 ,  0.0148633,  nan,  0.0061848,  0.0068552,  0.0086126,  0.0135384,  0.0095061,  0.0071693,  0.0072105,  0.0073268,  0.0042702,  0.0006309,  nan,  14.6420288, -22.9808235,  114.5526548,  -4.7943044,   0.8172822,   71.8000031),\n",
       "       ( 8.51916667,  0.200078 ,  0.2173994,  0.2545707,  0.2376681,  0.1506829,  0.1021174,  0.1005478,  0.0899797,  0.0542727,  0.0149588,  nan,  0.0057692,  0.0062691,  0.0094632,  0.0123526,  0.0056515,  0.0057471,  0.0052271,  0.0060746,  0.0036498,  0.0004933,  nan,  14.6425438, -22.9806519,  115.0824574,  -4.6738625,   0.8590229,   71.5      )],\n",
       "      dtype=[('Start_UTC', '<f8'), ('DN415', '<f8'), ('DN440', '<f8'), ('DN500', '<f8'), ('DN675', '<f8'), ('DN870', '<f8'), ('DN990', '<f8'), ('DN1020', '<f8'), ('DN1064', '<f8'), ('DN1250', '<f8'), ('DN1650', '<f8'), ('DN2100', '<f8'), ('UP415', '<f8'), ('UP440', '<f8'), ('UP500', '<f8'), ('UP675', '<f8'), ('UP870', '<f8'), ('UP990', '<f8'), ('UP1020', '<f8'), ('UP1064', '<f8'), ('UP1250', '<f8'), ('UP1650', '<f8'), ('UP2100', '<f8'), ('LON', '<f8'), ('LAT', '<f8'), ('ALT', '<f8'), ('PITCH', '<f8'), ('ROLL', '<f8'), ('HEAD', '<f8')])"
      ]
     },
     "execution_count": 13,
     "metadata": {},
     "output_type": "execute_result"
    }
   ],
   "source": [
    "ssfr_a[0]"
   ]
  },
  {
   "cell_type": "markdown",
   "metadata": {},
   "source": [
    "## Load the 4STAR files with flagacaod"
   ]
  },
  {
   "cell_type": "code",
   "execution_count": 25,
   "metadata": {
    "ExecuteTime": {
     "end_time": "2018-07-02T21:52:29.554721Z",
     "start_time": "2018-07-02T21:51:55.943551Z"
    },
    "scrolled": true
   },
   "outputs": [
    {
     "name": "stdout",
     "output_type": "stream",
     "text": [
      "('Start_UTC', 'Latitude', 'Longitude', 'GPS_Alt', 'qual_flag', 'amass_aer', 'AOD_angstrom_470_865', 'AOD_polycoef_a2', 'AOD_polycoef_a1', 'AOD_polycoef_a0', 'AOD0355', 'AOD0380', 'AOD0452', 'AOD0470', 'AOD0501', 'AOD0520', 'AOD0530', 'AOD0532', 'AOD0550', 'AOD0606', 'AOD0620', 'AOD0660', 'AOD0675', 'AOD0700', 'AOD0781', 'AOD0865', 'AOD1020', 'AOD1040', 'AOD1064', 'AOD1236', 'AOD1250', 'AOD1559', 'AOD1627', 'AOD1650', 'UNCAOD0355', 'UNCAOD0380', 'UNCAOD0452', 'UNCAOD0470', 'UNCAOD0501', 'UNCAOD0520', 'UNCAOD0530', 'UNCAOD0532', 'UNCAOD0550', 'UNCAOD0606', 'UNCAOD0620', 'UNCAOD0660', 'UNCAOD0675', 'UNCAOD0700', 'UNCAOD0781', 'UNCAOD0865', 'UNCAOD1020', 'UNCAOD1040', 'UNCAOD1064', 'UNCAOD1236', 'UNCAOD1250', 'UNCAOD1559', 'UNCAOD1627', 'UNCAOD1650', 'flag_acaod')\n",
      "('Start_UTC', 'Latitude', 'Longitude', 'GPS_Alt', 'qual_flag', 'amass_aer', 'AOD_angstrom_470_865', 'AOD_polycoef_a2', 'AOD_polycoef_a1', 'AOD_polycoef_a0', 'AOD0355', 'AOD0380', 'AOD0452', 'AOD0470', 'AOD0501', 'AOD0520', 'AOD0530', 'AOD0532', 'AOD0550', 'AOD0606', 'AOD0620', 'AOD0660', 'AOD0675', 'AOD0700', 'AOD0781', 'AOD0865', 'AOD1020', 'AOD1040', 'AOD1064', 'AOD1236', 'AOD1250', 'AOD1559', 'AOD1627', 'AOD1650', 'UNCAOD0355', 'UNCAOD0380', 'UNCAOD0452', 'UNCAOD0470', 'UNCAOD0501', 'UNCAOD0520', 'UNCAOD0530', 'UNCAOD0532', 'UNCAOD0550', 'UNCAOD0606', 'UNCAOD0620', 'UNCAOD0660', 'UNCAOD0675', 'UNCAOD0700', 'UNCAOD0781', 'UNCAOD0865', 'UNCAOD1020', 'UNCAOD1040', 'UNCAOD1064', 'UNCAOD1236', 'UNCAOD1250', 'UNCAOD1559', 'UNCAOD1627', 'UNCAOD1650', 'flag_acaod')\n",
      "('Start_UTC', 'Latitude', 'Longitude', 'GPS_Alt', 'qual_flag', 'amass_aer', 'AOD_angstrom_470_865', 'AOD_polycoef_a2', 'AOD_polycoef_a1', 'AOD_polycoef_a0', 'AOD0355', 'AOD0380', 'AOD0452', 'AOD0470', 'AOD0501', 'AOD0520', 'AOD0530', 'AOD0532', 'AOD0550', 'AOD0606', 'AOD0620', 'AOD0660', 'AOD0675', 'AOD0700', 'AOD0781', 'AOD0865', 'AOD1020', 'AOD1040', 'AOD1064', 'AOD1236', 'AOD1250', 'AOD1559', 'AOD1627', 'AOD1650', 'UNCAOD0355', 'UNCAOD0380', 'UNCAOD0452', 'UNCAOD0470', 'UNCAOD0501', 'UNCAOD0520', 'UNCAOD0530', 'UNCAOD0532', 'UNCAOD0550', 'UNCAOD0606', 'UNCAOD0620', 'UNCAOD0660', 'UNCAOD0675', 'UNCAOD0700', 'UNCAOD0781', 'UNCAOD0865', 'UNCAOD1020', 'UNCAOD1040', 'UNCAOD1064', 'UNCAOD1236', 'UNCAOD1250', 'UNCAOD1559', 'UNCAOD1627', 'UNCAOD1650', 'flag_acaod')\n",
      "('Start_UTC', 'Latitude', 'Longitude', 'GPS_Alt', 'qual_flag', 'amass_aer', 'AOD_angstrom_470_865', 'AOD_polycoef_a2', 'AOD_polycoef_a1', 'AOD_polycoef_a0', 'AOD0355', 'AOD0380', 'AOD0452', 'AOD0470', 'AOD0501', 'AOD0520', 'AOD0530', 'AOD0532', 'AOD0550', 'AOD0606', 'AOD0620', 'AOD0660', 'AOD0675', 'AOD0700', 'AOD0781', 'AOD0865', 'AOD1020', 'AOD1040', 'AOD1064', 'AOD1236', 'AOD1250', 'AOD1559', 'AOD1627', 'AOD1650', 'UNCAOD0355', 'UNCAOD0380', 'UNCAOD0452', 'UNCAOD0470', 'UNCAOD0501', 'UNCAOD0520', 'UNCAOD0530', 'UNCAOD0532', 'UNCAOD0550', 'UNCAOD0606', 'UNCAOD0620', 'UNCAOD0660', 'UNCAOD0675', 'UNCAOD0700', 'UNCAOD0781', 'UNCAOD0865', 'UNCAOD1020', 'UNCAOD1040', 'UNCAOD1064', 'UNCAOD1236', 'UNCAOD1250', 'UNCAOD1559', 'UNCAOD1627', 'UNCAOD1650', 'flag_acaod')\n",
      "('Start_UTC', 'Latitude', 'Longitude', 'GPS_Alt', 'qual_flag', 'amass_aer', 'AOD_angstrom_470_865', 'AOD_polycoef_a2', 'AOD_polycoef_a1', 'AOD_polycoef_a0', 'AOD0355', 'AOD0380', 'AOD0452', 'AOD0470', 'AOD0501', 'AOD0520', 'AOD0530', 'AOD0532', 'AOD0550', 'AOD0606', 'AOD0620', 'AOD0660', 'AOD0675', 'AOD0700', 'AOD0781', 'AOD0865', 'AOD1020', 'AOD1040', 'AOD1064', 'AOD1236', 'AOD1250', 'AOD1559', 'AOD1627', 'AOD1650', 'UNCAOD0355', 'UNCAOD0380', 'UNCAOD0452', 'UNCAOD0470', 'UNCAOD0501', 'UNCAOD0520', 'UNCAOD0530', 'UNCAOD0532', 'UNCAOD0550', 'UNCAOD0606', 'UNCAOD0620', 'UNCAOD0660', 'UNCAOD0675', 'UNCAOD0700', 'UNCAOD0781', 'UNCAOD0865', 'UNCAOD1020', 'UNCAOD1040', 'UNCAOD1064', 'UNCAOD1236', 'UNCAOD1250', 'UNCAOD1559', 'UNCAOD1627', 'UNCAOD1650', 'flag_acaod')\n",
      "('Start_UTC', 'Latitude', 'Longitude', 'GPS_Alt', 'qual_flag', 'amass_aer', 'AOD_angstrom_470_865', 'AOD_polycoef_a2', 'AOD_polycoef_a1', 'AOD_polycoef_a0', 'AOD0355', 'AOD0380', 'AOD0452', 'AOD0470', 'AOD0501', 'AOD0520', 'AOD0530', 'AOD0532', 'AOD0550', 'AOD0606', 'AOD0620', 'AOD0660', 'AOD0675', 'AOD0700', 'AOD0781', 'AOD0865', 'AOD1020', 'AOD1040', 'AOD1064', 'AOD1236', 'AOD1250', 'AOD1559', 'AOD1627', 'AOD1650', 'UNCAOD0355', 'UNCAOD0380', 'UNCAOD0452', 'UNCAOD0470', 'UNCAOD0501', 'UNCAOD0520', 'UNCAOD0530', 'UNCAOD0532', 'UNCAOD0550', 'UNCAOD0606', 'UNCAOD0620', 'UNCAOD0660', 'UNCAOD0675', 'UNCAOD0700', 'UNCAOD0781', 'UNCAOD0865', 'UNCAOD1020', 'UNCAOD1040', 'UNCAOD1064', 'UNCAOD1236', 'UNCAOD1250', 'UNCAOD1559', 'UNCAOD1627', 'UNCAOD1650', 'flag_acaod')\n",
      "('Start_UTC', 'Latitude', 'Longitude', 'GPS_Alt', 'qual_flag', 'amass_aer', 'AOD_angstrom_470_865', 'AOD_polycoef_a2', 'AOD_polycoef_a1', 'AOD_polycoef_a0', 'AOD0355', 'AOD0380', 'AOD0452', 'AOD0470', 'AOD0501', 'AOD0520', 'AOD0530', 'AOD0532', 'AOD0550', 'AOD0606', 'AOD0620', 'AOD0660', 'AOD0675', 'AOD0700', 'AOD0781', 'AOD0865', 'AOD1020', 'AOD1040', 'AOD1064', 'AOD1236', 'AOD1250', 'AOD1559', 'AOD1627', 'AOD1650', 'UNCAOD0355', 'UNCAOD0380', 'UNCAOD0452', 'UNCAOD0470', 'UNCAOD0501', 'UNCAOD0520', 'UNCAOD0530', 'UNCAOD0532', 'UNCAOD0550', 'UNCAOD0606', 'UNCAOD0620', 'UNCAOD0660', 'UNCAOD0675', 'UNCAOD0700', 'UNCAOD0781', 'UNCAOD0865', 'UNCAOD1020', 'UNCAOD1040', 'UNCAOD1064', 'UNCAOD1236', 'UNCAOD1250', 'UNCAOD1559', 'UNCAOD1627', 'UNCAOD1650', 'flag_acaod')\n",
      "('Start_UTC', 'Latitude', 'Longitude', 'GPS_Alt', 'qual_flag', 'amass_aer', 'flag_acaod', 'AOD_angstrom_470_865', 'AOD_polycoef_a2', 'AOD_polycoef_a1', 'AOD_polycoef_a0', 'AOD0355', 'AOD0380', 'AOD0452', 'AOD0470', 'AOD0501', 'AOD0520', 'AOD0530', 'AOD0532', 'AOD0550', 'AOD0606', 'AOD0620', 'AOD0660', 'AOD0675', 'AOD0700', 'AOD0781', 'AOD0865', 'AOD1020', 'AOD1040', 'AOD1064', 'AOD1236', 'AOD1250', 'AOD1559', 'AOD1627', 'AOD1650', 'UNCAOD0355', 'UNCAOD0380', 'UNCAOD0452', 'UNCAOD0470', 'UNCAOD0501', 'UNCAOD0520', 'UNCAOD0530', 'UNCAOD0532', 'UNCAOD0550', 'UNCAOD0606', 'UNCAOD0620', 'UNCAOD0660', 'UNCAOD0675', 'UNCAOD0700', 'UNCAOD0781', 'UNCAOD0865', 'UNCAOD1020', 'UNCAOD1040', 'UNCAOD1064', 'UNCAOD1236', 'UNCAOD1250', 'UNCAOD1559', 'UNCAOD1627', 'UNCAOD1650')\n",
      "('Start_UTC', 'Latitude', 'Longitude', 'GPS_Alt', 'qual_flag', 'amass_aer', 'AOD_angstrom_470_865', 'AOD_polycoef_a2', 'AOD_polycoef_a1', 'AOD_polycoef_a0', 'AOD0355', 'AOD0380', 'AOD0452', 'AOD0470', 'AOD0501', 'AOD0520', 'AOD0530', 'AOD0532', 'AOD0550', 'AOD0606', 'AOD0620', 'AOD0660', 'AOD0675', 'AOD0700', 'AOD0781', 'AOD0865', 'AOD1020', 'AOD1040', 'AOD1064', 'AOD1236', 'AOD1250', 'AOD1559', 'AOD1627', 'AOD1650', 'UNCAOD0355', 'UNCAOD0380', 'UNCAOD0452', 'UNCAOD0470', 'UNCAOD0501', 'UNCAOD0520', 'UNCAOD0530', 'UNCAOD0532', 'UNCAOD0550', 'UNCAOD0606', 'UNCAOD0620', 'UNCAOD0660', 'UNCAOD0675', 'UNCAOD0700', 'UNCAOD0781', 'UNCAOD0865', 'UNCAOD1020', 'UNCAOD1040', 'UNCAOD1064', 'UNCAOD1236', 'UNCAOD1250', 'UNCAOD1559', 'UNCAOD1627', 'UNCAOD1650', 'flag_acaod')\n",
      "('Start_UTC', 'Latitude', 'Longitude', 'GPS_Alt', 'qual_flag', 'amass_aer', 'AOD_angstrom_470_865', 'AOD_polycoef_a2', 'AOD_polycoef_a1', 'AOD_polycoef_a0', 'AOD0355', 'AOD0380', 'AOD0452', 'AOD0470', 'AOD0501', 'AOD0520', 'AOD0530', 'AOD0532', 'AOD0550', 'AOD0606', 'AOD0620', 'AOD0660', 'AOD0675', 'AOD0700', 'AOD0781', 'AOD0865', 'AOD1020', 'AOD1040', 'AOD1064', 'AOD1236', 'AOD1250', 'AOD1559', 'AOD1627', 'AOD1650', 'UNCAOD0355', 'UNCAOD0380', 'UNCAOD0452', 'UNCAOD0470', 'UNCAOD0501', 'UNCAOD0520', 'UNCAOD0530', 'UNCAOD0532', 'UNCAOD0550', 'UNCAOD0606', 'UNCAOD0620', 'UNCAOD0660', 'UNCAOD0675', 'UNCAOD0700', 'UNCAOD0781', 'UNCAOD0865', 'UNCAOD1020', 'UNCAOD1040', 'UNCAOD1064', 'UNCAOD1236', 'UNCAOD1250', 'UNCAOD1559', 'UNCAOD1627', 'UNCAOD1650', 'flag_acaod')\n",
      "('Start_UTC', 'Latitude', 'Longitude', 'GPS_Alt', 'qual_flag', 'amass_aer', 'AOD_angstrom_470_865', 'AOD_polycoef_a2', 'AOD_polycoef_a1', 'AOD_polycoef_a0', 'AOD0355', 'AOD0380', 'AOD0452', 'AOD0470', 'AOD0501', 'AOD0520', 'AOD0530', 'AOD0532', 'AOD0550', 'AOD0606', 'AOD0620', 'AOD0660', 'AOD0675', 'AOD0700', 'AOD0781', 'AOD0865', 'AOD1020', 'AOD1040', 'AOD1064', 'AOD1236', 'AOD1250', 'AOD1559', 'AOD1627', 'AOD1650', 'UNCAOD0355', 'UNCAOD0380', 'UNCAOD0452', 'UNCAOD0470', 'UNCAOD0501', 'UNCAOD0520', 'UNCAOD0530', 'UNCAOD0532', 'UNCAOD0550', 'UNCAOD0606', 'UNCAOD0620', 'UNCAOD0660', 'UNCAOD0675', 'UNCAOD0700', 'UNCAOD0781', 'UNCAOD0865', 'UNCAOD1020', 'UNCAOD1040', 'UNCAOD1064', 'UNCAOD1236', 'UNCAOD1250', 'UNCAOD1559', 'UNCAOD1627', 'UNCAOD1650', 'flag_acaod')\n"
     ]
    },
    {
     "name": "stdout",
     "output_type": "stream",
     "text": [
      "('Start_UTC', 'Latitude', 'Longitude', 'GPS_Alt', 'qual_flag', 'amass_aer', 'flag_acaod', 'AOD_angstrom_470_865', 'AOD_polycoef_a2', 'AOD_polycoef_a1', 'AOD_polycoef_a0', 'AOD0355', 'AOD0380', 'AOD0452', 'AOD0470', 'AOD0501', 'AOD0520', 'AOD0530', 'AOD0532', 'AOD0550', 'AOD0606', 'AOD0620', 'AOD0660', 'AOD0675', 'AOD0700', 'AOD0781', 'AOD0865', 'AOD1020', 'AOD1040', 'AOD1064', 'AOD1236', 'AOD1250', 'AOD1559', 'AOD1627', 'AOD1650', 'UNCAOD0355', 'UNCAOD0380', 'UNCAOD0452', 'UNCAOD0470', 'UNCAOD0501', 'UNCAOD0520', 'UNCAOD0530', 'UNCAOD0532', 'UNCAOD0550', 'UNCAOD0606', 'UNCAOD0620', 'UNCAOD0660', 'UNCAOD0675', 'UNCAOD0700', 'UNCAOD0781', 'UNCAOD0865', 'UNCAOD1020', 'UNCAOD1040', 'UNCAOD1064', 'UNCAOD1236', 'UNCAOD1250', 'UNCAOD1559', 'UNCAOD1627', 'UNCAOD1650')\n",
      "('Start_UTC', 'Latitude', 'Longitude', 'GPS_Alt', 'qual_flag', 'amass_aer', 'AOD_angstrom_470_865', 'AOD_polycoef_a2', 'AOD_polycoef_a1', 'AOD_polycoef_a0', 'AOD0355', 'AOD0380', 'AOD0452', 'AOD0470', 'AOD0501', 'AOD0520', 'AOD0530', 'AOD0532', 'AOD0550', 'AOD0606', 'AOD0620', 'AOD0660', 'AOD0675', 'AOD0700', 'AOD0781', 'AOD0865', 'AOD1020', 'AOD1040', 'AOD1064', 'AOD1236', 'AOD1250', 'AOD1559', 'AOD1627', 'AOD1650', 'UNCAOD0355', 'UNCAOD0380', 'UNCAOD0452', 'UNCAOD0470', 'UNCAOD0501', 'UNCAOD0520', 'UNCAOD0530', 'UNCAOD0532', 'UNCAOD0550', 'UNCAOD0606', 'UNCAOD0620', 'UNCAOD0660', 'UNCAOD0675', 'UNCAOD0700', 'UNCAOD0781', 'UNCAOD0865', 'UNCAOD1020', 'UNCAOD1040', 'UNCAOD1064', 'UNCAOD1236', 'UNCAOD1250', 'UNCAOD1559', 'UNCAOD1627', 'UNCAOD1650', 'flag_acaod')\n",
      "('Start_UTC', 'Latitude', 'Longitude', 'GPS_Alt', 'qual_flag', 'amass_aer', 'AOD_angstrom_470_865', 'AOD_polycoef_a2', 'AOD_polycoef_a1', 'AOD_polycoef_a0', 'AOD0355', 'AOD0380', 'AOD0452', 'AOD0470', 'AOD0501', 'AOD0520', 'AOD0530', 'AOD0532', 'AOD0550', 'AOD0606', 'AOD0620', 'AOD0660', 'AOD0675', 'AOD0700', 'AOD0781', 'AOD0865', 'AOD1020', 'AOD1040', 'AOD1064', 'AOD1236', 'AOD1250', 'AOD1559', 'AOD1627', 'AOD1650', 'UNCAOD0355', 'UNCAOD0380', 'UNCAOD0452', 'UNCAOD0470', 'UNCAOD0501', 'UNCAOD0520', 'UNCAOD0530', 'UNCAOD0532', 'UNCAOD0550', 'UNCAOD0606', 'UNCAOD0620', 'UNCAOD0660', 'UNCAOD0675', 'UNCAOD0700', 'UNCAOD0781', 'UNCAOD0865', 'UNCAOD1020', 'UNCAOD1040', 'UNCAOD1064', 'UNCAOD1236', 'UNCAOD1250', 'UNCAOD1559', 'UNCAOD1627', 'UNCAOD1650', 'flag_acaod')\n"
     ]
    }
   ],
   "source": [
    "star_a, star_ah = [],[]\n",
    "for d in days:\n",
    "    sf,sfh = lu.load_ict(fp+'aod_ict/v8/4STAR-AOD_P3_{}_R3.ict'.format(d),return_header=True)\n",
    "    star_a.append(lu.recarray_to_dict(sf))\n",
    "    star_ah.append(sfh)"
   ]
  },
  {
   "cell_type": "code",
   "execution_count": 18,
   "metadata": {
    "ExecuteTime": {
     "end_time": "2018-07-02T21:43:39.680981Z",
     "start_time": "2018-07-02T21:43:39.676461Z"
    }
   },
   "outputs": [
    {
     "data": {
      "text/plain": [
       "7.5780555555555553"
      ]
     },
     "execution_count": 18,
     "metadata": {},
     "output_type": "execute_result"
    }
   ],
   "source": [
    "ssfr_a[3]['Start_UTC'][100]"
   ]
  },
  {
   "cell_type": "markdown",
   "metadata": {},
   "source": [
    "## Get the flagacaod on the timescale of the ssfr measurements"
   ]
  },
  {
   "cell_type": "code",
   "execution_count": 243,
   "metadata": {
    "ExecuteTime": {
     "end_time": "2018-07-04T02:45:46.133599Z",
     "start_time": "2018-07-04T02:45:45.786500Z"
    }
   },
   "outputs": [],
   "source": [
    "for i,d in enumerate(days):\n",
    "    fa = nearest_neighbor(star_a[i]['Start_UTC'],star_a[i]['flag_acaod'],ssfr_a[i]['Start_UTC'],dist=3.0/3600.0)\n",
    "    ssfr_a[i]['flagacaod'] = fa\n",
    "    am = nearest_neighbor(star_a[i]['Start_UTC'],star_a[i]['amass_aer'],ssfr_a[i]['Start_UTC'],dist=3.0/3600.0)\n",
    "    ssfr_a[i]['airmass'] = am\n",
    "    ssfr_a[i]['sza'] = np.arccos(1.0/am)*180.0/np.pi\n",
    "    aod = nearest_neighbor(star_a[i]['Start_UTC'],star_a[i]['AOD0501'],ssfr_a[i]['Start_UTC'],dist=3.0/3600.0)\n",
    "    ssfr_a[i]['AOD_500'] = aod\n",
    "    a2 = nearest_neighbor(star_a[i]['Start_UTC'],star_a[i]['AOD_polycoef_a2'],ssfr_a[i]['Start_UTC'],dist=3.0/3600.0)\n",
    "    ssfr_a[i]['a2'] = a2\n",
    "    a1 = nearest_neighbor(star_a[i]['Start_UTC'],star_a[i]['AOD_polycoef_a1'],ssfr_a[i]['Start_UTC'],dist=3.0/3600.0)\n",
    "    ssfr_a[i]['a1'] = a1\n",
    "    a0 = nearest_neighbor(star_a[i]['Start_UTC'],star_a[i]['AOD_polycoef_a0'],ssfr_a[i]['Start_UTC'],dist=3.0/3600.0)\n",
    "    ssfr_a[i]['a0'] = a0"
   ]
  },
  {
   "cell_type": "code",
   "execution_count": 220,
   "metadata": {
    "ExecuteTime": {
     "end_time": "2018-07-04T00:03:32.767848Z",
     "start_time": "2018-07-04T00:03:32.763175Z"
    }
   },
   "outputs": [
    {
     "data": {
      "text/plain": [
       "((4929,), (4929,))"
      ]
     },
     "execution_count": 220,
     "metadata": {},
     "output_type": "execute_result"
    }
   ],
   "source": [
    "ssfr_a[0]['flagacaod'].shape,ssfr_a[0]['Start_UTC'].shape"
   ]
  },
  {
   "cell_type": "markdown",
   "metadata": {},
   "source": [
    "## Load the LUT for 2wvl reflectance retrieval"
   ]
  },
  {
   "cell_type": "code",
   "execution_count": 30,
   "metadata": {
    "ExecuteTime": {
     "end_time": "2018-07-02T21:55:47.917579Z",
     "start_time": "2018-07-02T21:55:47.552411Z"
    }
   },
   "outputs": [],
   "source": [
    "lut = hs.loadmat(fp+'rtm/v5_irr_ORACLES_lut.mat')"
   ]
  },
  {
   "cell_type": "code",
   "execution_count": 31,
   "metadata": {
    "ExecuteTime": {
     "end_time": "2018-07-02T21:56:14.514521Z",
     "start_time": "2018-07-02T21:56:14.509846Z"
    }
   },
   "outputs": [
    {
     "data": {
      "text/plain": [
       "[u'tau',\n",
       " u'rad',\n",
       " u'lut_details',\n",
       " u'sza',\n",
       " u'irr_dn_diff',\n",
       " u'irr_dn',\n",
       " u'zout',\n",
       " u'wvl',\n",
       " u'phase',\n",
       " u'ref',\n",
       " u'irr_up']"
      ]
     },
     "execution_count": 31,
     "metadata": {},
     "output_type": "execute_result"
    }
   ],
   "source": [
    "lut.keys()"
   ]
  },
  {
   "cell_type": "markdown",
   "metadata": {},
   "source": [
    "## Combine into one array"
   ]
  },
  {
   "cell_type": "code",
   "execution_count": 249,
   "metadata": {
    "ExecuteTime": {
     "end_time": "2018-07-04T02:47:23.617768Z",
     "start_time": "2018-07-04T02:47:23.614704Z"
    }
   },
   "outputs": [],
   "source": [
    "nm = ssfr_a[1].keys()"
   ]
  },
  {
   "cell_type": "code",
   "execution_count": 250,
   "metadata": {
    "ExecuteTime": {
     "end_time": "2018-07-04T02:47:23.965394Z",
     "start_time": "2018-07-04T02:47:23.962222Z"
    }
   },
   "outputs": [],
   "source": [
    "ar = {}\n",
    "for n in ssfr_a[1].keys():\n",
    "    ar[n] = np.array([])"
   ]
  },
  {
   "cell_type": "code",
   "execution_count": 251,
   "metadata": {
    "ExecuteTime": {
     "end_time": "2018-07-04T02:47:24.481256Z",
     "start_time": "2018-07-04T02:47:24.478675Z"
    }
   },
   "outputs": [],
   "source": [
    "ar['days'] = np.array([])"
   ]
  },
  {
   "cell_type": "code",
   "execution_count": 252,
   "metadata": {
    "ExecuteTime": {
     "end_time": "2018-07-04T02:47:25.308422Z",
     "start_time": "2018-07-04T02:47:25.037955Z"
    }
   },
   "outputs": [],
   "source": [
    "for i,d in enumerate(days):\n",
    "    ar['days'] = np.append(ar['days'],np.zeros_like(ssfr_a[i]['Start_UTC'])+i)\n",
    "    for n in nm:\n",
    "        try:\n",
    "            ar[n] = np.append(ar[n],ssfr_a[i][n])\n",
    "        except:\n",
    "            print 'problem with :'+n\n",
    "            ar[n] = np.append(ar[n],ssfr_a[i]['Start_UTC']*0)"
   ]
  },
  {
   "cell_type": "markdown",
   "metadata": {},
   "source": [
    "# Format the LUT and data for retrievals"
   ]
  },
  {
   "cell_type": "code",
   "execution_count": 253,
   "metadata": {
    "ExecuteTime": {
     "end_time": "2018-07-04T02:47:28.416467Z",
     "start_time": "2018-07-04T02:47:28.413148Z"
    }
   },
   "outputs": [],
   "source": [
    "class so:\n",
    "    pass"
   ]
  },
  {
   "cell_type": "markdown",
   "metadata": {},
   "source": [
    "## Set up the data"
   ]
  },
  {
   "cell_type": "code",
   "execution_count": 254,
   "metadata": {
    "ExecuteTime": {
     "end_time": "2018-07-04T02:47:29.693070Z",
     "start_time": "2018-07-04T02:47:29.685637Z"
    }
   },
   "outputs": [],
   "source": [
    "ar['meas'] = so\n",
    "ar['meas'].sza = ar['sza']\n",
    "ar['meas'].Rvis = ar['UP500']/ar['DN500']\n",
    "ar['meas'].Rnir = ar['UP1650']/ar['DN1650']\n",
    "ar['meas'].utc = ar['Start_UTC']"
   ]
  },
  {
   "cell_type": "code",
   "execution_count": 255,
   "metadata": {
    "ExecuteTime": {
     "end_time": "2018-07-04T02:47:30.459577Z",
     "start_time": "2018-07-04T02:47:30.453616Z"
    }
   },
   "outputs": [
    {
     "name": "stderr",
     "output_type": "stream",
     "text": [
      "/usr/local/lib/python2.7/dist-packages/ipykernel_launcher.py:2: RuntimeWarning: invalid value encountered in greater\n",
      "  \n"
     ]
    }
   ],
   "source": [
    "# filter out the bad data. \n",
    "bad = (ar['meas'].Rvis > 1.0) & (ar['flagacaod']==0) & (ar['meas'].Rnir > 1.0)\n",
    "ar['meas'].Rvis[bad] = np.nan\n",
    "ar['meas'].Rvis[bad] = np.nan"
   ]
  },
  {
   "cell_type": "code",
   "execution_count": 256,
   "metadata": {
    "ExecuteTime": {
     "end_time": "2018-07-04T02:47:31.467526Z",
     "start_time": "2018-07-04T02:47:31.461812Z"
    }
   },
   "outputs": [
    {
     "name": "stderr",
     "output_type": "stream",
     "text": [
      "/usr/local/lib/python2.7/dist-packages/ipykernel_launcher.py:1: RuntimeWarning: invalid value encountered in greater\n",
      "  \"\"\"Entry point for launching an IPython kernel.\n"
     ]
    }
   ],
   "source": [
    "igood = np.where((np.isfinite(ar['meas'].Rvis)) & (ar['meas'].Rvis > 0.0) & (np.isfinite(ar['meas'].Rnir)) & \\\n",
    "(ar['meas'].Rnir > 0.0) & (ar['flagacaod']==1))[0]"
   ]
  },
  {
   "cell_type": "markdown",
   "metadata": {},
   "source": [
    "## set up the LUT"
   ]
  },
  {
   "cell_type": "code",
   "execution_count": 257,
   "metadata": {
    "ExecuteTime": {
     "end_time": "2018-07-04T02:47:35.048278Z",
     "start_time": "2018-07-04T02:47:35.043046Z"
    }
   },
   "outputs": [
    {
     "data": {
      "text/plain": [
       "[u'tau',\n",
       " u'rad',\n",
       " 'ref_hi',\n",
       " 'tau_hi',\n",
       " u'lut_details',\n",
       " 'Rnir_hi',\n",
       " u'sza',\n",
       " 'Rvis',\n",
       " u'irr_dn_diff',\n",
       " u'irr_dn',\n",
       " u'zout',\n",
       " 'Rnir',\n",
       " u'wvl',\n",
       " u'phase',\n",
       " 'Rvis_hi',\n",
       " u'ref',\n",
       " u'irr_up']"
      ]
     },
     "execution_count": 257,
     "metadata": {},
     "output_type": "execute_result"
    }
   ],
   "source": [
    "lut.keys()"
   ]
  },
  {
   "cell_type": "code",
   "execution_count": 124,
   "metadata": {
    "ExecuteTime": {
     "end_time": "2018-07-03T04:37:41.778545Z",
     "start_time": "2018-07-03T04:37:41.773682Z"
    }
   },
   "outputs": [
    {
     "data": {
      "text/plain": [
       "((27,), (23,), (48,), (1, 2, 3, 23, 27, 48), (2,), [0.2, 1.5, 100.0], ['wc'])"
      ]
     },
     "execution_count": 124,
     "metadata": {},
     "output_type": "execute_result"
    }
   ],
   "source": [
    "lut['tau'].shape, lut['ref'].shape, lut['sza'].shape, lut['irr_dn'].shape, lut['wvl'].shape, lut['zout'], lut['phase']"
   ]
  },
  {
   "cell_type": "code",
   "execution_count": 121,
   "metadata": {
    "ExecuteTime": {
     "end_time": "2018-07-03T04:33:31.759287Z",
     "start_time": "2018-07-03T04:33:31.755754Z"
    }
   },
   "outputs": [],
   "source": [
    "lut['Rvis'] = np.zeros([23,27,48])\n",
    "lut['Rnir'] = np.zeros([23,27,48])"
   ]
  },
  {
   "cell_type": "code",
   "execution_count": 122,
   "metadata": {
    "ExecuteTime": {
     "end_time": "2018-07-03T04:36:50.611027Z",
     "start_time": "2018-07-03T04:36:50.530593Z"
    }
   },
   "outputs": [
    {
     "name": "stderr",
     "output_type": "stream",
     "text": [
      "/usr/local/lib/python2.7/dist-packages/ipykernel_launcher.py:4: RuntimeWarning: invalid value encountered in double_scalars\n",
      "  after removing the cwd from sys.path.\n",
      "/usr/local/lib/python2.7/dist-packages/ipykernel_launcher.py:5: RuntimeWarning: invalid value encountered in double_scalars\n",
      "  \"\"\"\n"
     ]
    }
   ],
   "source": [
    "for ir,r in enumerate(lut['ref']):\n",
    "    for it,t in enumerate(lut['tau']):\n",
    "        for iz,s in enumerate(lut['sza']):\n",
    "            lut['Rvis'][ir,it,iz] = lut['irr_up'][0,0,1,ir,it,iz]/lut['irr_dn'][0,0,1,ir,it,iz]\n",
    "            lut['Rnir'][ir,it,iz] = lut['irr_up'][0,1,1,ir,it,iz]/lut['irr_dn'][0,1,1,ir,it,iz]"
   ]
  },
  {
   "cell_type": "code",
   "execution_count": 126,
   "metadata": {
    "ExecuteTime": {
     "end_time": "2018-07-03T04:40:07.648937Z",
     "start_time": "2018-07-03T04:40:07.643468Z"
    }
   },
   "outputs": [
    {
     "data": {
      "text/plain": [
       "array([ 11.36487697,  20.83969366,  26.76550058,  31.2732978 ,\n",
       "        34.94801372,  38.05665663,  40.74905438,  43.11972483,\n",
       "        45.23300465,  47.13508975,  48.86048959,  50.43578157,\n",
       "        51.88193569,  53.21582641,  54.451256  ,  55.5996703 ,\n",
       "        56.67067347,  57.67240684,  58.61183354,  59.49495605,\n",
       "        60.3269852 ,  61.11247301,  61.85541869,  62.55935386,\n",
       "        63.22741194,  63.86238505,  64.46677106,  65.04281282,\n",
       "        65.59253108,  66.11775223,  66.62013188,  67.10117502,\n",
       "        67.56225324,  68.00461964,  68.4294217 ,  68.83771245,\n",
       "        69.23046027,  69.60855741,  69.97282752,  70.32403224,\n",
       "        70.6628771 ,  70.99001664,  71.30605908,  71.61157038,\n",
       "        71.90707798,  72.193074  ,  72.47001827,  72.73834093])"
      ]
     },
     "execution_count": 126,
     "metadata": {},
     "output_type": "execute_result"
    }
   ],
   "source": [
    "lut['sza']"
   ]
  },
  {
   "cell_type": "markdown",
   "metadata": {},
   "source": [
    "### Make a hires version of the LUT"
   ]
  },
  {
   "cell_type": "code",
   "execution_count": 206,
   "metadata": {
    "ExecuteTime": {
     "end_time": "2018-07-03T17:35:35.227696Z",
     "start_time": "2018-07-03T17:35:35.224185Z"
    }
   },
   "outputs": [],
   "source": [
    "lut['tau_hi'] = np.hstack([np.arange(0,25,0.5),np.arange(25,50,1),np.arange(50,102.5,2.5)])\n",
    "lut['ref_hi'] = np.hstack([np.arange(0,15,0.25),np.arange(15,30.5,0.5)])"
   ]
  },
  {
   "cell_type": "code",
   "execution_count": 208,
   "metadata": {
    "ExecuteTime": {
     "end_time": "2018-07-03T17:36:55.518229Z",
     "start_time": "2018-07-03T17:36:55.512659Z"
    }
   },
   "outputs": [
    {
     "data": {
      "text/plain": [
       "(96, 91)"
      ]
     },
     "execution_count": 208,
     "metadata": {},
     "output_type": "execute_result"
    }
   ],
   "source": [
    "len(lut['tau_hi']), len(lut['ref_hi'])"
   ]
  },
  {
   "cell_type": "code",
   "execution_count": 209,
   "metadata": {
    "ExecuteTime": {
     "end_time": "2018-07-03T17:37:31.588330Z",
     "start_time": "2018-07-03T17:37:31.585099Z"
    }
   },
   "outputs": [],
   "source": [
    "lut['Rvis_hi'] = np.zeros([91,96,48])\n",
    "lut['Rnir_hi'] = np.zeros([91,96,48])"
   ]
  },
  {
   "cell_type": "code",
   "execution_count": 210,
   "metadata": {
    "ExecuteTime": {
     "end_time": "2018-07-03T17:40:08.290552Z",
     "start_time": "2018-07-03T17:40:08.258626Z"
    }
   },
   "outputs": [],
   "source": [
    "for i,z in enumerate(lut['sza']):\n",
    "    fv = interpolate.RectBivariateSpline(lut['ref'],lut['tau'],lut['Rvis'][:,:,i],kx=1,ky=1)\n",
    "    lut['Rvis_hi'][:,:,i] = fv(lut['ref_hi'],lut['tau_hi'])\n",
    "    fn = interpolate.RectBivariateSpline(lut['ref'],lut['tau'],lut['Rnir'][:,:,i],kx=1,ky=1)\n",
    "    lut['Rnir_hi'][:,:,i] = fn(lut['ref_hi'],lut['tau_hi'])"
   ]
  },
  {
   "cell_type": "markdown",
   "metadata": {},
   "source": [
    "# Run the retrieval"
   ]
  },
  {
   "cell_type": "code",
   "execution_count": 258,
   "metadata": {
    "ExecuteTime": {
     "end_time": "2018-07-04T02:47:39.192679Z",
     "start_time": "2018-07-04T02:47:39.181392Z"
    }
   },
   "outputs": [],
   "source": [
    "ar['tau'], ar['ref'] = np.zeros_like(ar['sza'])*np.nan,np.zeros_like(ar['sza'])*np.nan"
   ]
  },
  {
   "cell_type": "code",
   "execution_count": 259,
   "metadata": {
    "ExecuteTime": {
     "end_time": "2018-07-04T02:47:39.882480Z",
     "start_time": "2018-07-04T02:47:39.876911Z"
    }
   },
   "outputs": [],
   "source": [
    "ar['ki'] = np.zeros_like(ar['sza'])"
   ]
  },
  {
   "cell_type": "code",
   "execution_count": 260,
   "metadata": {
    "ExecuteTime": {
     "end_time": "2018-07-04T02:47:53.155121Z",
     "start_time": "2018-07-04T02:47:40.461587Z"
    }
   },
   "outputs": [
    {
     "data": {
      "application/vnd.jupyter.widget-view+json": {
       "model_id": "775d4141e3c8479b818500f679f7ef44",
       "version_major": 2,
       "version_minor": 0
      },
      "text/html": [
       "<p>Failed to display Jupyter Widget of type <code>HBox</code>.</p>\n",
       "<p>\n",
       "  If you're reading this message in Jupyter Notebook or JupyterLab, it may mean\n",
       "  that the widgets JavaScript is still loading. If this message persists, it\n",
       "  likely means that the widgets JavaScript library is either not installed or\n",
       "  not enabled. See the <a href=\"https://ipywidgets.readthedocs.io/en/stable/user_install.html\">Jupyter\n",
       "  Widgets Documentation</a> for setup instructions.\n",
       "</p>\n",
       "<p>\n",
       "  If you're reading this message in another notebook frontend (for example, a static\n",
       "  rendering on GitHub or <a href=\"https://nbviewer.jupyter.org/\">NBViewer</a>),\n",
       "  it may mean that your frontend doesn't currently support widgets.\n",
       "</p>\n"
      ],
      "text/plain": [
       "HBox(children=(IntProgress(value=0, max=380923), HTML(value=u'')))"
      ]
     },
     "metadata": {},
     "output_type": "display_data"
    }
   ],
   "source": [
    "pbar = tqdm(total=len(ar['sza']))\n",
    "for i,s in enumerate(ar['sza']):\n",
    "    pbar.update()\n",
    "    if (s>73.0) | (np.isnan(s)):\n",
    "        continue\n",
    "    if not i in igood:\n",
    "        continue\n",
    "    isza = np.argmin(np.abs(lut['sza']-s))\n",
    "    ki = (ar['meas'].Rvis[i]-lut['Rvis_hi'][:,:,isza]/ar['meas'].Rvis[i])**2+(ar['meas'].Rnir[i]-lut['Rnir_hi'][:,:,isza]/ar['meas'].Rnir[i])**2\n",
    "    kimin = np.unravel_index(np.nanargmin(ki),ki.shape)\n",
    "    ar['ki'][i] = np.nanmin(ki)\n",
    "    ar['tau'][i],ar['ref'][i] = lut['tau_hi'][kimin[1]],lut['ref_hi'][kimin[0]]"
   ]
  },
  {
   "cell_type": "markdown",
   "metadata": {},
   "source": [
    "# Plot the retrieval results"
   ]
  },
  {
   "cell_type": "code",
   "execution_count": 215,
   "metadata": {
    "ExecuteTime": {
     "end_time": "2018-07-03T17:41:16.517176Z",
     "start_time": "2018-07-03T17:41:16.384697Z"
    }
   },
   "outputs": [
    {
     "data": {
      "application/javascript": [
       "/* Put everything inside the global mpl namespace */\n",
       "window.mpl = {};\n",
       "\n",
       "mpl.get_websocket_type = function() {\n",
       "    if (typeof(WebSocket) !== 'undefined') {\n",
       "        return WebSocket;\n",
       "    } else if (typeof(MozWebSocket) !== 'undefined') {\n",
       "        return MozWebSocket;\n",
       "    } else {\n",
       "        alert('Your browser does not have WebSocket support.' +\n",
       "              'Please try Chrome, Safari or Firefox ≥ 6. ' +\n",
       "              'Firefox 4 and 5 are also supported but you ' +\n",
       "              'have to enable WebSockets in about:config.');\n",
       "    };\n",
       "}\n",
       "\n",
       "mpl.figure = function(figure_id, websocket, ondownload, parent_element) {\n",
       "    this.id = figure_id;\n",
       "\n",
       "    this.ws = websocket;\n",
       "\n",
       "    this.supports_binary = (this.ws.binaryType != undefined);\n",
       "\n",
       "    if (!this.supports_binary) {\n",
       "        var warnings = document.getElementById(\"mpl-warnings\");\n",
       "        if (warnings) {\n",
       "            warnings.style.display = 'block';\n",
       "            warnings.textContent = (\n",
       "                \"This browser does not support binary websocket messages. \" +\n",
       "                    \"Performance may be slow.\");\n",
       "        }\n",
       "    }\n",
       "\n",
       "    this.imageObj = new Image();\n",
       "\n",
       "    this.context = undefined;\n",
       "    this.message = undefined;\n",
       "    this.canvas = undefined;\n",
       "    this.rubberband_canvas = undefined;\n",
       "    this.rubberband_context = undefined;\n",
       "    this.format_dropdown = undefined;\n",
       "\n",
       "    this.image_mode = 'full';\n",
       "\n",
       "    this.root = $('<div/>');\n",
       "    this._root_extra_style(this.root)\n",
       "    this.root.attr('style', 'display: inline-block');\n",
       "\n",
       "    $(parent_element).append(this.root);\n",
       "\n",
       "    this._init_header(this);\n",
       "    this._init_canvas(this);\n",
       "    this._init_toolbar(this);\n",
       "\n",
       "    var fig = this;\n",
       "\n",
       "    this.waiting = false;\n",
       "\n",
       "    this.ws.onopen =  function () {\n",
       "            fig.send_message(\"supports_binary\", {value: fig.supports_binary});\n",
       "            fig.send_message(\"send_image_mode\", {});\n",
       "            fig.send_message(\"refresh\", {});\n",
       "        }\n",
       "\n",
       "    this.imageObj.onload = function() {\n",
       "            if (fig.image_mode == 'full') {\n",
       "                // Full images could contain transparency (where diff images\n",
       "                // almost always do), so we need to clear the canvas so that\n",
       "                // there is no ghosting.\n",
       "                fig.context.clearRect(0, 0, fig.canvas.width, fig.canvas.height);\n",
       "            }\n",
       "            fig.context.drawImage(fig.imageObj, 0, 0);\n",
       "        };\n",
       "\n",
       "    this.imageObj.onunload = function() {\n",
       "        this.ws.close();\n",
       "    }\n",
       "\n",
       "    this.ws.onmessage = this._make_on_message_function(this);\n",
       "\n",
       "    this.ondownload = ondownload;\n",
       "}\n",
       "\n",
       "mpl.figure.prototype._init_header = function() {\n",
       "    var titlebar = $(\n",
       "        '<div class=\"ui-dialog-titlebar ui-widget-header ui-corner-all ' +\n",
       "        'ui-helper-clearfix\"/>');\n",
       "    var titletext = $(\n",
       "        '<div class=\"ui-dialog-title\" style=\"width: 100%; ' +\n",
       "        'text-align: center; padding: 3px;\"/>');\n",
       "    titlebar.append(titletext)\n",
       "    this.root.append(titlebar);\n",
       "    this.header = titletext[0];\n",
       "}\n",
       "\n",
       "\n",
       "\n",
       "mpl.figure.prototype._canvas_extra_style = function(canvas_div) {\n",
       "\n",
       "}\n",
       "\n",
       "\n",
       "mpl.figure.prototype._root_extra_style = function(canvas_div) {\n",
       "\n",
       "}\n",
       "\n",
       "mpl.figure.prototype._init_canvas = function() {\n",
       "    var fig = this;\n",
       "\n",
       "    var canvas_div = $('<div/>');\n",
       "\n",
       "    canvas_div.attr('style', 'position: relative; clear: both; outline: 0');\n",
       "\n",
       "    function canvas_keyboard_event(event) {\n",
       "        return fig.key_event(event, event['data']);\n",
       "    }\n",
       "\n",
       "    canvas_div.keydown('key_press', canvas_keyboard_event);\n",
       "    canvas_div.keyup('key_release', canvas_keyboard_event);\n",
       "    this.canvas_div = canvas_div\n",
       "    this._canvas_extra_style(canvas_div)\n",
       "    this.root.append(canvas_div);\n",
       "\n",
       "    var canvas = $('<canvas/>');\n",
       "    canvas.addClass('mpl-canvas');\n",
       "    canvas.attr('style', \"left: 0; top: 0; z-index: 0; outline: 0\")\n",
       "\n",
       "    this.canvas = canvas[0];\n",
       "    this.context = canvas[0].getContext(\"2d\");\n",
       "\n",
       "    var rubberband = $('<canvas/>');\n",
       "    rubberband.attr('style', \"position: absolute; left: 0; top: 0; z-index: 1;\")\n",
       "\n",
       "    var pass_mouse_events = true;\n",
       "\n",
       "    canvas_div.resizable({\n",
       "        start: function(event, ui) {\n",
       "            pass_mouse_events = false;\n",
       "        },\n",
       "        resize: function(event, ui) {\n",
       "            fig.request_resize(ui.size.width, ui.size.height);\n",
       "        },\n",
       "        stop: function(event, ui) {\n",
       "            pass_mouse_events = true;\n",
       "            fig.request_resize(ui.size.width, ui.size.height);\n",
       "        },\n",
       "    });\n",
       "\n",
       "    function mouse_event_fn(event) {\n",
       "        if (pass_mouse_events)\n",
       "            return fig.mouse_event(event, event['data']);\n",
       "    }\n",
       "\n",
       "    rubberband.mousedown('button_press', mouse_event_fn);\n",
       "    rubberband.mouseup('button_release', mouse_event_fn);\n",
       "    // Throttle sequential mouse events to 1 every 20ms.\n",
       "    rubberband.mousemove('motion_notify', mouse_event_fn);\n",
       "\n",
       "    rubberband.mouseenter('figure_enter', mouse_event_fn);\n",
       "    rubberband.mouseleave('figure_leave', mouse_event_fn);\n",
       "\n",
       "    canvas_div.on(\"wheel\", function (event) {\n",
       "        event = event.originalEvent;\n",
       "        event['data'] = 'scroll'\n",
       "        if (event.deltaY < 0) {\n",
       "            event.step = 1;\n",
       "        } else {\n",
       "            event.step = -1;\n",
       "        }\n",
       "        mouse_event_fn(event);\n",
       "    });\n",
       "\n",
       "    canvas_div.append(canvas);\n",
       "    canvas_div.append(rubberband);\n",
       "\n",
       "    this.rubberband = rubberband;\n",
       "    this.rubberband_canvas = rubberband[0];\n",
       "    this.rubberband_context = rubberband[0].getContext(\"2d\");\n",
       "    this.rubberband_context.strokeStyle = \"#000000\";\n",
       "\n",
       "    this._resize_canvas = function(width, height) {\n",
       "        // Keep the size of the canvas, canvas container, and rubber band\n",
       "        // canvas in synch.\n",
       "        canvas_div.css('width', width)\n",
       "        canvas_div.css('height', height)\n",
       "\n",
       "        canvas.attr('width', width);\n",
       "        canvas.attr('height', height);\n",
       "\n",
       "        rubberband.attr('width', width);\n",
       "        rubberband.attr('height', height);\n",
       "    }\n",
       "\n",
       "    // Set the figure to an initial 600x600px, this will subsequently be updated\n",
       "    // upon first draw.\n",
       "    this._resize_canvas(600, 600);\n",
       "\n",
       "    // Disable right mouse context menu.\n",
       "    $(this.rubberband_canvas).bind(\"contextmenu\",function(e){\n",
       "        return false;\n",
       "    });\n",
       "\n",
       "    function set_focus () {\n",
       "        canvas.focus();\n",
       "        canvas_div.focus();\n",
       "    }\n",
       "\n",
       "    window.setTimeout(set_focus, 100);\n",
       "}\n",
       "\n",
       "mpl.figure.prototype._init_toolbar = function() {\n",
       "    var fig = this;\n",
       "\n",
       "    var nav_element = $('<div/>')\n",
       "    nav_element.attr('style', 'width: 100%');\n",
       "    this.root.append(nav_element);\n",
       "\n",
       "    // Define a callback function for later on.\n",
       "    function toolbar_event(event) {\n",
       "        return fig.toolbar_button_onclick(event['data']);\n",
       "    }\n",
       "    function toolbar_mouse_event(event) {\n",
       "        return fig.toolbar_button_onmouseover(event['data']);\n",
       "    }\n",
       "\n",
       "    for(var toolbar_ind in mpl.toolbar_items) {\n",
       "        var name = mpl.toolbar_items[toolbar_ind][0];\n",
       "        var tooltip = mpl.toolbar_items[toolbar_ind][1];\n",
       "        var image = mpl.toolbar_items[toolbar_ind][2];\n",
       "        var method_name = mpl.toolbar_items[toolbar_ind][3];\n",
       "\n",
       "        if (!name) {\n",
       "            // put a spacer in here.\n",
       "            continue;\n",
       "        }\n",
       "        var button = $('<button/>');\n",
       "        button.addClass('ui-button ui-widget ui-state-default ui-corner-all ' +\n",
       "                        'ui-button-icon-only');\n",
       "        button.attr('role', 'button');\n",
       "        button.attr('aria-disabled', 'false');\n",
       "        button.click(method_name, toolbar_event);\n",
       "        button.mouseover(tooltip, toolbar_mouse_event);\n",
       "\n",
       "        var icon_img = $('<span/>');\n",
       "        icon_img.addClass('ui-button-icon-primary ui-icon');\n",
       "        icon_img.addClass(image);\n",
       "        icon_img.addClass('ui-corner-all');\n",
       "\n",
       "        var tooltip_span = $('<span/>');\n",
       "        tooltip_span.addClass('ui-button-text');\n",
       "        tooltip_span.html(tooltip);\n",
       "\n",
       "        button.append(icon_img);\n",
       "        button.append(tooltip_span);\n",
       "\n",
       "        nav_element.append(button);\n",
       "    }\n",
       "\n",
       "    var fmt_picker_span = $('<span/>');\n",
       "\n",
       "    var fmt_picker = $('<select/>');\n",
       "    fmt_picker.addClass('mpl-toolbar-option ui-widget ui-widget-content');\n",
       "    fmt_picker_span.append(fmt_picker);\n",
       "    nav_element.append(fmt_picker_span);\n",
       "    this.format_dropdown = fmt_picker[0];\n",
       "\n",
       "    for (var ind in mpl.extensions) {\n",
       "        var fmt = mpl.extensions[ind];\n",
       "        var option = $(\n",
       "            '<option/>', {selected: fmt === mpl.default_extension}).html(fmt);\n",
       "        fmt_picker.append(option)\n",
       "    }\n",
       "\n",
       "    // Add hover states to the ui-buttons\n",
       "    $( \".ui-button\" ).hover(\n",
       "        function() { $(this).addClass(\"ui-state-hover\");},\n",
       "        function() { $(this).removeClass(\"ui-state-hover\");}\n",
       "    );\n",
       "\n",
       "    var status_bar = $('<span class=\"mpl-message\"/>');\n",
       "    nav_element.append(status_bar);\n",
       "    this.message = status_bar[0];\n",
       "}\n",
       "\n",
       "mpl.figure.prototype.request_resize = function(x_pixels, y_pixels) {\n",
       "    // Request matplotlib to resize the figure. Matplotlib will then trigger a resize in the client,\n",
       "    // which will in turn request a refresh of the image.\n",
       "    this.send_message('resize', {'width': x_pixels, 'height': y_pixels});\n",
       "}\n",
       "\n",
       "mpl.figure.prototype.send_message = function(type, properties) {\n",
       "    properties['type'] = type;\n",
       "    properties['figure_id'] = this.id;\n",
       "    this.ws.send(JSON.stringify(properties));\n",
       "}\n",
       "\n",
       "mpl.figure.prototype.send_draw_message = function() {\n",
       "    if (!this.waiting) {\n",
       "        this.waiting = true;\n",
       "        this.ws.send(JSON.stringify({type: \"draw\", figure_id: this.id}));\n",
       "    }\n",
       "}\n",
       "\n",
       "\n",
       "mpl.figure.prototype.handle_save = function(fig, msg) {\n",
       "    var format_dropdown = fig.format_dropdown;\n",
       "    var format = format_dropdown.options[format_dropdown.selectedIndex].value;\n",
       "    fig.ondownload(fig, format);\n",
       "}\n",
       "\n",
       "\n",
       "mpl.figure.prototype.handle_resize = function(fig, msg) {\n",
       "    var size = msg['size'];\n",
       "    if (size[0] != fig.canvas.width || size[1] != fig.canvas.height) {\n",
       "        fig._resize_canvas(size[0], size[1]);\n",
       "        fig.send_message(\"refresh\", {});\n",
       "    };\n",
       "}\n",
       "\n",
       "mpl.figure.prototype.handle_rubberband = function(fig, msg) {\n",
       "    var x0 = msg['x0'];\n",
       "    var y0 = fig.canvas.height - msg['y0'];\n",
       "    var x1 = msg['x1'];\n",
       "    var y1 = fig.canvas.height - msg['y1'];\n",
       "    x0 = Math.floor(x0) + 0.5;\n",
       "    y0 = Math.floor(y0) + 0.5;\n",
       "    x1 = Math.floor(x1) + 0.5;\n",
       "    y1 = Math.floor(y1) + 0.5;\n",
       "    var min_x = Math.min(x0, x1);\n",
       "    var min_y = Math.min(y0, y1);\n",
       "    var width = Math.abs(x1 - x0);\n",
       "    var height = Math.abs(y1 - y0);\n",
       "\n",
       "    fig.rubberband_context.clearRect(\n",
       "        0, 0, fig.canvas.width, fig.canvas.height);\n",
       "\n",
       "    fig.rubberband_context.strokeRect(min_x, min_y, width, height);\n",
       "}\n",
       "\n",
       "mpl.figure.prototype.handle_figure_label = function(fig, msg) {\n",
       "    // Updates the figure title.\n",
       "    fig.header.textContent = msg['label'];\n",
       "}\n",
       "\n",
       "mpl.figure.prototype.handle_cursor = function(fig, msg) {\n",
       "    var cursor = msg['cursor'];\n",
       "    switch(cursor)\n",
       "    {\n",
       "    case 0:\n",
       "        cursor = 'pointer';\n",
       "        break;\n",
       "    case 1:\n",
       "        cursor = 'default';\n",
       "        break;\n",
       "    case 2:\n",
       "        cursor = 'crosshair';\n",
       "        break;\n",
       "    case 3:\n",
       "        cursor = 'move';\n",
       "        break;\n",
       "    }\n",
       "    fig.rubberband_canvas.style.cursor = cursor;\n",
       "}\n",
       "\n",
       "mpl.figure.prototype.handle_message = function(fig, msg) {\n",
       "    fig.message.textContent = msg['message'];\n",
       "}\n",
       "\n",
       "mpl.figure.prototype.handle_draw = function(fig, msg) {\n",
       "    // Request the server to send over a new figure.\n",
       "    fig.send_draw_message();\n",
       "}\n",
       "\n",
       "mpl.figure.prototype.handle_image_mode = function(fig, msg) {\n",
       "    fig.image_mode = msg['mode'];\n",
       "}\n",
       "\n",
       "mpl.figure.prototype.updated_canvas_event = function() {\n",
       "    // Called whenever the canvas gets updated.\n",
       "    this.send_message(\"ack\", {});\n",
       "}\n",
       "\n",
       "// A function to construct a web socket function for onmessage handling.\n",
       "// Called in the figure constructor.\n",
       "mpl.figure.prototype._make_on_message_function = function(fig) {\n",
       "    return function socket_on_message(evt) {\n",
       "        if (evt.data instanceof Blob) {\n",
       "            /* FIXME: We get \"Resource interpreted as Image but\n",
       "             * transferred with MIME type text/plain:\" errors on\n",
       "             * Chrome.  But how to set the MIME type?  It doesn't seem\n",
       "             * to be part of the websocket stream */\n",
       "            evt.data.type = \"image/png\";\n",
       "\n",
       "            /* Free the memory for the previous frames */\n",
       "            if (fig.imageObj.src) {\n",
       "                (window.URL || window.webkitURL).revokeObjectURL(\n",
       "                    fig.imageObj.src);\n",
       "            }\n",
       "\n",
       "            fig.imageObj.src = (window.URL || window.webkitURL).createObjectURL(\n",
       "                evt.data);\n",
       "            fig.updated_canvas_event();\n",
       "            fig.waiting = false;\n",
       "            return;\n",
       "        }\n",
       "        else if (typeof evt.data === 'string' && evt.data.slice(0, 21) == \"data:image/png;base64\") {\n",
       "            fig.imageObj.src = evt.data;\n",
       "            fig.updated_canvas_event();\n",
       "            fig.waiting = false;\n",
       "            return;\n",
       "        }\n",
       "\n",
       "        var msg = JSON.parse(evt.data);\n",
       "        var msg_type = msg['type'];\n",
       "\n",
       "        // Call the  \"handle_{type}\" callback, which takes\n",
       "        // the figure and JSON message as its only arguments.\n",
       "        try {\n",
       "            var callback = fig[\"handle_\" + msg_type];\n",
       "        } catch (e) {\n",
       "            console.log(\"No handler for the '\" + msg_type + \"' message type: \", msg);\n",
       "            return;\n",
       "        }\n",
       "\n",
       "        if (callback) {\n",
       "            try {\n",
       "                // console.log(\"Handling '\" + msg_type + \"' message: \", msg);\n",
       "                callback(fig, msg);\n",
       "            } catch (e) {\n",
       "                console.log(\"Exception inside the 'handler_\" + msg_type + \"' callback:\", e, e.stack, msg);\n",
       "            }\n",
       "        }\n",
       "    };\n",
       "}\n",
       "\n",
       "// from http://stackoverflow.com/questions/1114465/getting-mouse-location-in-canvas\n",
       "mpl.findpos = function(e) {\n",
       "    //this section is from http://www.quirksmode.org/js/events_properties.html\n",
       "    var targ;\n",
       "    if (!e)\n",
       "        e = window.event;\n",
       "    if (e.target)\n",
       "        targ = e.target;\n",
       "    else if (e.srcElement)\n",
       "        targ = e.srcElement;\n",
       "    if (targ.nodeType == 3) // defeat Safari bug\n",
       "        targ = targ.parentNode;\n",
       "\n",
       "    // jQuery normalizes the pageX and pageY\n",
       "    // pageX,Y are the mouse positions relative to the document\n",
       "    // offset() returns the position of the element relative to the document\n",
       "    var x = e.pageX - $(targ).offset().left;\n",
       "    var y = e.pageY - $(targ).offset().top;\n",
       "\n",
       "    return {\"x\": x, \"y\": y};\n",
       "};\n",
       "\n",
       "/*\n",
       " * return a copy of an object with only non-object keys\n",
       " * we need this to avoid circular references\n",
       " * http://stackoverflow.com/a/24161582/3208463\n",
       " */\n",
       "function simpleKeys (original) {\n",
       "  return Object.keys(original).reduce(function (obj, key) {\n",
       "    if (typeof original[key] !== 'object')\n",
       "        obj[key] = original[key]\n",
       "    return obj;\n",
       "  }, {});\n",
       "}\n",
       "\n",
       "mpl.figure.prototype.mouse_event = function(event, name) {\n",
       "    var canvas_pos = mpl.findpos(event)\n",
       "\n",
       "    if (name === 'button_press')\n",
       "    {\n",
       "        this.canvas.focus();\n",
       "        this.canvas_div.focus();\n",
       "    }\n",
       "\n",
       "    var x = canvas_pos.x;\n",
       "    var y = canvas_pos.y;\n",
       "\n",
       "    this.send_message(name, {x: x, y: y, button: event.button,\n",
       "                             step: event.step,\n",
       "                             guiEvent: simpleKeys(event)});\n",
       "\n",
       "    /* This prevents the web browser from automatically changing to\n",
       "     * the text insertion cursor when the button is pressed.  We want\n",
       "     * to control all of the cursor setting manually through the\n",
       "     * 'cursor' event from matplotlib */\n",
       "    event.preventDefault();\n",
       "    return false;\n",
       "}\n",
       "\n",
       "mpl.figure.prototype._key_event_extra = function(event, name) {\n",
       "    // Handle any extra behaviour associated with a key event\n",
       "}\n",
       "\n",
       "mpl.figure.prototype.key_event = function(event, name) {\n",
       "\n",
       "    // Prevent repeat events\n",
       "    if (name == 'key_press')\n",
       "    {\n",
       "        if (event.which === this._key)\n",
       "            return;\n",
       "        else\n",
       "            this._key = event.which;\n",
       "    }\n",
       "    if (name == 'key_release')\n",
       "        this._key = null;\n",
       "\n",
       "    var value = '';\n",
       "    if (event.ctrlKey && event.which != 17)\n",
       "        value += \"ctrl+\";\n",
       "    if (event.altKey && event.which != 18)\n",
       "        value += \"alt+\";\n",
       "    if (event.shiftKey && event.which != 16)\n",
       "        value += \"shift+\";\n",
       "\n",
       "    value += 'k';\n",
       "    value += event.which.toString();\n",
       "\n",
       "    this._key_event_extra(event, name);\n",
       "\n",
       "    this.send_message(name, {key: value,\n",
       "                             guiEvent: simpleKeys(event)});\n",
       "    return false;\n",
       "}\n",
       "\n",
       "mpl.figure.prototype.toolbar_button_onclick = function(name) {\n",
       "    if (name == 'download') {\n",
       "        this.handle_save(this, null);\n",
       "    } else {\n",
       "        this.send_message(\"toolbar_button\", {name: name});\n",
       "    }\n",
       "};\n",
       "\n",
       "mpl.figure.prototype.toolbar_button_onmouseover = function(tooltip) {\n",
       "    this.message.textContent = tooltip;\n",
       "};\n",
       "mpl.toolbar_items = [[\"Home\", \"Reset original view\", \"fa fa-home icon-home\", \"home\"], [\"Back\", \"Back to  previous view\", \"fa fa-arrow-left icon-arrow-left\", \"back\"], [\"Forward\", \"Forward to next view\", \"fa fa-arrow-right icon-arrow-right\", \"forward\"], [\"\", \"\", \"\", \"\"], [\"Pan\", \"Pan axes with left mouse, zoom with right\", \"fa fa-arrows icon-move\", \"pan\"], [\"Zoom\", \"Zoom to rectangle\", \"fa fa-square-o icon-check-empty\", \"zoom\"], [\"\", \"\", \"\", \"\"], [\"Download\", \"Download plot\", \"fa fa-floppy-o icon-save\", \"download\"]];\n",
       "\n",
       "mpl.extensions = [\"eps\", \"jpeg\", \"pdf\", \"png\", \"ps\", \"raw\", \"svg\", \"tif\"];\n",
       "\n",
       "mpl.default_extension = \"png\";var comm_websocket_adapter = function(comm) {\n",
       "    // Create a \"websocket\"-like object which calls the given IPython comm\n",
       "    // object with the appropriate methods. Currently this is a non binary\n",
       "    // socket, so there is still some room for performance tuning.\n",
       "    var ws = {};\n",
       "\n",
       "    ws.close = function() {\n",
       "        comm.close()\n",
       "    };\n",
       "    ws.send = function(m) {\n",
       "        //console.log('sending', m);\n",
       "        comm.send(m);\n",
       "    };\n",
       "    // Register the callback with on_msg.\n",
       "    comm.on_msg(function(msg) {\n",
       "        //console.log('receiving', msg['content']['data'], msg);\n",
       "        // Pass the mpl event to the overriden (by mpl) onmessage function.\n",
       "        ws.onmessage(msg['content']['data'])\n",
       "    });\n",
       "    return ws;\n",
       "}\n",
       "\n",
       "mpl.mpl_figure_comm = function(comm, msg) {\n",
       "    // This is the function which gets called when the mpl process\n",
       "    // starts-up an IPython Comm through the \"matplotlib\" channel.\n",
       "\n",
       "    var id = msg.content.data.id;\n",
       "    // Get hold of the div created by the display call when the Comm\n",
       "    // socket was opened in Python.\n",
       "    var element = $(\"#\" + id);\n",
       "    var ws_proxy = comm_websocket_adapter(comm)\n",
       "\n",
       "    function ondownload(figure, format) {\n",
       "        window.open(figure.imageObj.src);\n",
       "    }\n",
       "\n",
       "    var fig = new mpl.figure(id, ws_proxy,\n",
       "                           ondownload,\n",
       "                           element.get(0));\n",
       "\n",
       "    // Call onopen now - mpl needs it, as it is assuming we've passed it a real\n",
       "    // web socket which is closed, not our websocket->open comm proxy.\n",
       "    ws_proxy.onopen();\n",
       "\n",
       "    fig.parent_element = element.get(0);\n",
       "    fig.cell_info = mpl.find_output_cell(\"<div id='\" + id + \"'></div>\");\n",
       "    if (!fig.cell_info) {\n",
       "        console.error(\"Failed to find cell for figure\", id, fig);\n",
       "        return;\n",
       "    }\n",
       "\n",
       "    var output_index = fig.cell_info[2]\n",
       "    var cell = fig.cell_info[0];\n",
       "\n",
       "};\n",
       "\n",
       "mpl.figure.prototype.handle_close = function(fig, msg) {\n",
       "    fig.root.unbind('remove')\n",
       "\n",
       "    // Update the output cell to use the data from the current canvas.\n",
       "    fig.push_to_output();\n",
       "    var dataURL = fig.canvas.toDataURL();\n",
       "    // Re-enable the keyboard manager in IPython - without this line, in FF,\n",
       "    // the notebook keyboard shortcuts fail.\n",
       "    IPython.keyboard_manager.enable()\n",
       "    $(fig.parent_element).html('<img src=\"' + dataURL + '\">');\n",
       "    fig.close_ws(fig, msg);\n",
       "}\n",
       "\n",
       "mpl.figure.prototype.close_ws = function(fig, msg){\n",
       "    fig.send_message('closing', msg);\n",
       "    // fig.ws.close()\n",
       "}\n",
       "\n",
       "mpl.figure.prototype.push_to_output = function(remove_interactive) {\n",
       "    // Turn the data on the canvas into data in the output cell.\n",
       "    var dataURL = this.canvas.toDataURL();\n",
       "    this.cell_info[1]['text/html'] = '<img src=\"' + dataURL + '\">';\n",
       "}\n",
       "\n",
       "mpl.figure.prototype.updated_canvas_event = function() {\n",
       "    // Tell IPython that the notebook contents must change.\n",
       "    IPython.notebook.set_dirty(true);\n",
       "    this.send_message(\"ack\", {});\n",
       "    var fig = this;\n",
       "    // Wait a second, then push the new image to the DOM so\n",
       "    // that it is saved nicely (might be nice to debounce this).\n",
       "    setTimeout(function () { fig.push_to_output() }, 1000);\n",
       "}\n",
       "\n",
       "mpl.figure.prototype._init_toolbar = function() {\n",
       "    var fig = this;\n",
       "\n",
       "    var nav_element = $('<div/>')\n",
       "    nav_element.attr('style', 'width: 100%');\n",
       "    this.root.append(nav_element);\n",
       "\n",
       "    // Define a callback function for later on.\n",
       "    function toolbar_event(event) {\n",
       "        return fig.toolbar_button_onclick(event['data']);\n",
       "    }\n",
       "    function toolbar_mouse_event(event) {\n",
       "        return fig.toolbar_button_onmouseover(event['data']);\n",
       "    }\n",
       "\n",
       "    for(var toolbar_ind in mpl.toolbar_items){\n",
       "        var name = mpl.toolbar_items[toolbar_ind][0];\n",
       "        var tooltip = mpl.toolbar_items[toolbar_ind][1];\n",
       "        var image = mpl.toolbar_items[toolbar_ind][2];\n",
       "        var method_name = mpl.toolbar_items[toolbar_ind][3];\n",
       "\n",
       "        if (!name) { continue; };\n",
       "\n",
       "        var button = $('<button class=\"btn btn-default\" href=\"#\" title=\"' + name + '\"><i class=\"fa ' + image + ' fa-lg\"></i></button>');\n",
       "        button.click(method_name, toolbar_event);\n",
       "        button.mouseover(tooltip, toolbar_mouse_event);\n",
       "        nav_element.append(button);\n",
       "    }\n",
       "\n",
       "    // Add the status bar.\n",
       "    var status_bar = $('<span class=\"mpl-message\" style=\"text-align:right; float: right;\"/>');\n",
       "    nav_element.append(status_bar);\n",
       "    this.message = status_bar[0];\n",
       "\n",
       "    // Add the close button to the window.\n",
       "    var buttongrp = $('<div class=\"btn-group inline pull-right\"></div>');\n",
       "    var button = $('<button class=\"btn btn-mini btn-primary\" href=\"#\" title=\"Stop Interaction\"><i class=\"fa fa-power-off icon-remove icon-large\"></i></button>');\n",
       "    button.click(function (evt) { fig.handle_close(fig, {}); } );\n",
       "    button.mouseover('Stop Interaction', toolbar_mouse_event);\n",
       "    buttongrp.append(button);\n",
       "    var titlebar = this.root.find($('.ui-dialog-titlebar'));\n",
       "    titlebar.prepend(buttongrp);\n",
       "}\n",
       "\n",
       "mpl.figure.prototype._root_extra_style = function(el){\n",
       "    var fig = this\n",
       "    el.on(\"remove\", function(){\n",
       "\tfig.close_ws(fig, {});\n",
       "    });\n",
       "}\n",
       "\n",
       "mpl.figure.prototype._canvas_extra_style = function(el){\n",
       "    // this is important to make the div 'focusable\n",
       "    el.attr('tabindex', 0)\n",
       "    // reach out to IPython and tell the keyboard manager to turn it's self\n",
       "    // off when our div gets focus\n",
       "\n",
       "    // location in version 3\n",
       "    if (IPython.notebook.keyboard_manager) {\n",
       "        IPython.notebook.keyboard_manager.register_events(el);\n",
       "    }\n",
       "    else {\n",
       "        // location in version 2\n",
       "        IPython.keyboard_manager.register_events(el);\n",
       "    }\n",
       "\n",
       "}\n",
       "\n",
       "mpl.figure.prototype._key_event_extra = function(event, name) {\n",
       "    var manager = IPython.notebook.keyboard_manager;\n",
       "    if (!manager)\n",
       "        manager = IPython.keyboard_manager;\n",
       "\n",
       "    // Check for shift+enter\n",
       "    if (event.shiftKey && event.which == 13) {\n",
       "        this.canvas_div.blur();\n",
       "        event.shiftKey = false;\n",
       "        // Send a \"J\" for go to next cell\n",
       "        event.which = 74;\n",
       "        event.keyCode = 74;\n",
       "        manager.command_mode();\n",
       "        manager.handle_keydown(event);\n",
       "    }\n",
       "}\n",
       "\n",
       "mpl.figure.prototype.handle_save = function(fig, msg) {\n",
       "    fig.ondownload(fig, null);\n",
       "}\n",
       "\n",
       "\n",
       "mpl.find_output_cell = function(html_output) {\n",
       "    // Return the cell and output element which can be found *uniquely* in the notebook.\n",
       "    // Note - this is a bit hacky, but it is done because the \"notebook_saving.Notebook\"\n",
       "    // IPython event is triggered only after the cells have been serialised, which for\n",
       "    // our purposes (turning an active figure into a static one), is too late.\n",
       "    var cells = IPython.notebook.get_cells();\n",
       "    var ncells = cells.length;\n",
       "    for (var i=0; i<ncells; i++) {\n",
       "        var cell = cells[i];\n",
       "        if (cell.cell_type === 'code'){\n",
       "            for (var j=0; j<cell.output_area.outputs.length; j++) {\n",
       "                var data = cell.output_area.outputs[j];\n",
       "                if (data.data) {\n",
       "                    // IPython >= 3 moved mimebundle to data attribute of output\n",
       "                    data = data.data;\n",
       "                }\n",
       "                if (data['text/html'] == html_output) {\n",
       "                    return [cell, data, j];\n",
       "                }\n",
       "            }\n",
       "        }\n",
       "    }\n",
       "}\n",
       "\n",
       "// Register the function which deals with the matplotlib target/channel.\n",
       "// The kernel may be null if the page has been refreshed.\n",
       "if (IPython.notebook.kernel != null) {\n",
       "    IPython.notebook.kernel.comm_manager.register_target('matplotlib', mpl.mpl_figure_comm);\n",
       "}\n"
      ],
      "text/plain": [
       "<IPython.core.display.Javascript object>"
      ]
     },
     "metadata": {},
     "output_type": "display_data"
    },
    {
     "data": {
      "text/html": [
       "<img src=\"data:image/png;base64,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\">"
      ],
      "text/plain": [
       "<IPython.core.display.HTML object>"
      ]
     },
     "metadata": {},
     "output_type": "display_data"
    },
    {
     "data": {
      "text/plain": [
       "[<matplotlib.lines.Line2D at 0x7f08e4657f10>]"
      ]
     },
     "execution_count": 215,
     "metadata": {},
     "output_type": "execute_result"
    }
   ],
   "source": [
    "plt.figure()\n",
    "plt.plot(ar['tau'],'.')"
   ]
  },
  {
   "cell_type": "code",
   "execution_count": 216,
   "metadata": {
    "ExecuteTime": {
     "end_time": "2018-07-03T17:41:19.575938Z",
     "start_time": "2018-07-03T17:41:19.512401Z"
    }
   },
   "outputs": [
    {
     "data": {
      "application/javascript": [
       "/* Put everything inside the global mpl namespace */\n",
       "window.mpl = {};\n",
       "\n",
       "mpl.get_websocket_type = function() {\n",
       "    if (typeof(WebSocket) !== 'undefined') {\n",
       "        return WebSocket;\n",
       "    } else if (typeof(MozWebSocket) !== 'undefined') {\n",
       "        return MozWebSocket;\n",
       "    } else {\n",
       "        alert('Your browser does not have WebSocket support.' +\n",
       "              'Please try Chrome, Safari or Firefox ≥ 6. ' +\n",
       "              'Firefox 4 and 5 are also supported but you ' +\n",
       "              'have to enable WebSockets in about:config.');\n",
       "    };\n",
       "}\n",
       "\n",
       "mpl.figure = function(figure_id, websocket, ondownload, parent_element) {\n",
       "    this.id = figure_id;\n",
       "\n",
       "    this.ws = websocket;\n",
       "\n",
       "    this.supports_binary = (this.ws.binaryType != undefined);\n",
       "\n",
       "    if (!this.supports_binary) {\n",
       "        var warnings = document.getElementById(\"mpl-warnings\");\n",
       "        if (warnings) {\n",
       "            warnings.style.display = 'block';\n",
       "            warnings.textContent = (\n",
       "                \"This browser does not support binary websocket messages. \" +\n",
       "                    \"Performance may be slow.\");\n",
       "        }\n",
       "    }\n",
       "\n",
       "    this.imageObj = new Image();\n",
       "\n",
       "    this.context = undefined;\n",
       "    this.message = undefined;\n",
       "    this.canvas = undefined;\n",
       "    this.rubberband_canvas = undefined;\n",
       "    this.rubberband_context = undefined;\n",
       "    this.format_dropdown = undefined;\n",
       "\n",
       "    this.image_mode = 'full';\n",
       "\n",
       "    this.root = $('<div/>');\n",
       "    this._root_extra_style(this.root)\n",
       "    this.root.attr('style', 'display: inline-block');\n",
       "\n",
       "    $(parent_element).append(this.root);\n",
       "\n",
       "    this._init_header(this);\n",
       "    this._init_canvas(this);\n",
       "    this._init_toolbar(this);\n",
       "\n",
       "    var fig = this;\n",
       "\n",
       "    this.waiting = false;\n",
       "\n",
       "    this.ws.onopen =  function () {\n",
       "            fig.send_message(\"supports_binary\", {value: fig.supports_binary});\n",
       "            fig.send_message(\"send_image_mode\", {});\n",
       "            fig.send_message(\"refresh\", {});\n",
       "        }\n",
       "\n",
       "    this.imageObj.onload = function() {\n",
       "            if (fig.image_mode == 'full') {\n",
       "                // Full images could contain transparency (where diff images\n",
       "                // almost always do), so we need to clear the canvas so that\n",
       "                // there is no ghosting.\n",
       "                fig.context.clearRect(0, 0, fig.canvas.width, fig.canvas.height);\n",
       "            }\n",
       "            fig.context.drawImage(fig.imageObj, 0, 0);\n",
       "        };\n",
       "\n",
       "    this.imageObj.onunload = function() {\n",
       "        this.ws.close();\n",
       "    }\n",
       "\n",
       "    this.ws.onmessage = this._make_on_message_function(this);\n",
       "\n",
       "    this.ondownload = ondownload;\n",
       "}\n",
       "\n",
       "mpl.figure.prototype._init_header = function() {\n",
       "    var titlebar = $(\n",
       "        '<div class=\"ui-dialog-titlebar ui-widget-header ui-corner-all ' +\n",
       "        'ui-helper-clearfix\"/>');\n",
       "    var titletext = $(\n",
       "        '<div class=\"ui-dialog-title\" style=\"width: 100%; ' +\n",
       "        'text-align: center; padding: 3px;\"/>');\n",
       "    titlebar.append(titletext)\n",
       "    this.root.append(titlebar);\n",
       "    this.header = titletext[0];\n",
       "}\n",
       "\n",
       "\n",
       "\n",
       "mpl.figure.prototype._canvas_extra_style = function(canvas_div) {\n",
       "\n",
       "}\n",
       "\n",
       "\n",
       "mpl.figure.prototype._root_extra_style = function(canvas_div) {\n",
       "\n",
       "}\n",
       "\n",
       "mpl.figure.prototype._init_canvas = function() {\n",
       "    var fig = this;\n",
       "\n",
       "    var canvas_div = $('<div/>');\n",
       "\n",
       "    canvas_div.attr('style', 'position: relative; clear: both; outline: 0');\n",
       "\n",
       "    function canvas_keyboard_event(event) {\n",
       "        return fig.key_event(event, event['data']);\n",
       "    }\n",
       "\n",
       "    canvas_div.keydown('key_press', canvas_keyboard_event);\n",
       "    canvas_div.keyup('key_release', canvas_keyboard_event);\n",
       "    this.canvas_div = canvas_div\n",
       "    this._canvas_extra_style(canvas_div)\n",
       "    this.root.append(canvas_div);\n",
       "\n",
       "    var canvas = $('<canvas/>');\n",
       "    canvas.addClass('mpl-canvas');\n",
       "    canvas.attr('style', \"left: 0; top: 0; z-index: 0; outline: 0\")\n",
       "\n",
       "    this.canvas = canvas[0];\n",
       "    this.context = canvas[0].getContext(\"2d\");\n",
       "\n",
       "    var rubberband = $('<canvas/>');\n",
       "    rubberband.attr('style', \"position: absolute; left: 0; top: 0; z-index: 1;\")\n",
       "\n",
       "    var pass_mouse_events = true;\n",
       "\n",
       "    canvas_div.resizable({\n",
       "        start: function(event, ui) {\n",
       "            pass_mouse_events = false;\n",
       "        },\n",
       "        resize: function(event, ui) {\n",
       "            fig.request_resize(ui.size.width, ui.size.height);\n",
       "        },\n",
       "        stop: function(event, ui) {\n",
       "            pass_mouse_events = true;\n",
       "            fig.request_resize(ui.size.width, ui.size.height);\n",
       "        },\n",
       "    });\n",
       "\n",
       "    function mouse_event_fn(event) {\n",
       "        if (pass_mouse_events)\n",
       "            return fig.mouse_event(event, event['data']);\n",
       "    }\n",
       "\n",
       "    rubberband.mousedown('button_press', mouse_event_fn);\n",
       "    rubberband.mouseup('button_release', mouse_event_fn);\n",
       "    // Throttle sequential mouse events to 1 every 20ms.\n",
       "    rubberband.mousemove('motion_notify', mouse_event_fn);\n",
       "\n",
       "    rubberband.mouseenter('figure_enter', mouse_event_fn);\n",
       "    rubberband.mouseleave('figure_leave', mouse_event_fn);\n",
       "\n",
       "    canvas_div.on(\"wheel\", function (event) {\n",
       "        event = event.originalEvent;\n",
       "        event['data'] = 'scroll'\n",
       "        if (event.deltaY < 0) {\n",
       "            event.step = 1;\n",
       "        } else {\n",
       "            event.step = -1;\n",
       "        }\n",
       "        mouse_event_fn(event);\n",
       "    });\n",
       "\n",
       "    canvas_div.append(canvas);\n",
       "    canvas_div.append(rubberband);\n",
       "\n",
       "    this.rubberband = rubberband;\n",
       "    this.rubberband_canvas = rubberband[0];\n",
       "    this.rubberband_context = rubberband[0].getContext(\"2d\");\n",
       "    this.rubberband_context.strokeStyle = \"#000000\";\n",
       "\n",
       "    this._resize_canvas = function(width, height) {\n",
       "        // Keep the size of the canvas, canvas container, and rubber band\n",
       "        // canvas in synch.\n",
       "        canvas_div.css('width', width)\n",
       "        canvas_div.css('height', height)\n",
       "\n",
       "        canvas.attr('width', width);\n",
       "        canvas.attr('height', height);\n",
       "\n",
       "        rubberband.attr('width', width);\n",
       "        rubberband.attr('height', height);\n",
       "    }\n",
       "\n",
       "    // Set the figure to an initial 600x600px, this will subsequently be updated\n",
       "    // upon first draw.\n",
       "    this._resize_canvas(600, 600);\n",
       "\n",
       "    // Disable right mouse context menu.\n",
       "    $(this.rubberband_canvas).bind(\"contextmenu\",function(e){\n",
       "        return false;\n",
       "    });\n",
       "\n",
       "    function set_focus () {\n",
       "        canvas.focus();\n",
       "        canvas_div.focus();\n",
       "    }\n",
       "\n",
       "    window.setTimeout(set_focus, 100);\n",
       "}\n",
       "\n",
       "mpl.figure.prototype._init_toolbar = function() {\n",
       "    var fig = this;\n",
       "\n",
       "    var nav_element = $('<div/>')\n",
       "    nav_element.attr('style', 'width: 100%');\n",
       "    this.root.append(nav_element);\n",
       "\n",
       "    // Define a callback function for later on.\n",
       "    function toolbar_event(event) {\n",
       "        return fig.toolbar_button_onclick(event['data']);\n",
       "    }\n",
       "    function toolbar_mouse_event(event) {\n",
       "        return fig.toolbar_button_onmouseover(event['data']);\n",
       "    }\n",
       "\n",
       "    for(var toolbar_ind in mpl.toolbar_items) {\n",
       "        var name = mpl.toolbar_items[toolbar_ind][0];\n",
       "        var tooltip = mpl.toolbar_items[toolbar_ind][1];\n",
       "        var image = mpl.toolbar_items[toolbar_ind][2];\n",
       "        var method_name = mpl.toolbar_items[toolbar_ind][3];\n",
       "\n",
       "        if (!name) {\n",
       "            // put a spacer in here.\n",
       "            continue;\n",
       "        }\n",
       "        var button = $('<button/>');\n",
       "        button.addClass('ui-button ui-widget ui-state-default ui-corner-all ' +\n",
       "                        'ui-button-icon-only');\n",
       "        button.attr('role', 'button');\n",
       "        button.attr('aria-disabled', 'false');\n",
       "        button.click(method_name, toolbar_event);\n",
       "        button.mouseover(tooltip, toolbar_mouse_event);\n",
       "\n",
       "        var icon_img = $('<span/>');\n",
       "        icon_img.addClass('ui-button-icon-primary ui-icon');\n",
       "        icon_img.addClass(image);\n",
       "        icon_img.addClass('ui-corner-all');\n",
       "\n",
       "        var tooltip_span = $('<span/>');\n",
       "        tooltip_span.addClass('ui-button-text');\n",
       "        tooltip_span.html(tooltip);\n",
       "\n",
       "        button.append(icon_img);\n",
       "        button.append(tooltip_span);\n",
       "\n",
       "        nav_element.append(button);\n",
       "    }\n",
       "\n",
       "    var fmt_picker_span = $('<span/>');\n",
       "\n",
       "    var fmt_picker = $('<select/>');\n",
       "    fmt_picker.addClass('mpl-toolbar-option ui-widget ui-widget-content');\n",
       "    fmt_picker_span.append(fmt_picker);\n",
       "    nav_element.append(fmt_picker_span);\n",
       "    this.format_dropdown = fmt_picker[0];\n",
       "\n",
       "    for (var ind in mpl.extensions) {\n",
       "        var fmt = mpl.extensions[ind];\n",
       "        var option = $(\n",
       "            '<option/>', {selected: fmt === mpl.default_extension}).html(fmt);\n",
       "        fmt_picker.append(option)\n",
       "    }\n",
       "\n",
       "    // Add hover states to the ui-buttons\n",
       "    $( \".ui-button\" ).hover(\n",
       "        function() { $(this).addClass(\"ui-state-hover\");},\n",
       "        function() { $(this).removeClass(\"ui-state-hover\");}\n",
       "    );\n",
       "\n",
       "    var status_bar = $('<span class=\"mpl-message\"/>');\n",
       "    nav_element.append(status_bar);\n",
       "    this.message = status_bar[0];\n",
       "}\n",
       "\n",
       "mpl.figure.prototype.request_resize = function(x_pixels, y_pixels) {\n",
       "    // Request matplotlib to resize the figure. Matplotlib will then trigger a resize in the client,\n",
       "    // which will in turn request a refresh of the image.\n",
       "    this.send_message('resize', {'width': x_pixels, 'height': y_pixels});\n",
       "}\n",
       "\n",
       "mpl.figure.prototype.send_message = function(type, properties) {\n",
       "    properties['type'] = type;\n",
       "    properties['figure_id'] = this.id;\n",
       "    this.ws.send(JSON.stringify(properties));\n",
       "}\n",
       "\n",
       "mpl.figure.prototype.send_draw_message = function() {\n",
       "    if (!this.waiting) {\n",
       "        this.waiting = true;\n",
       "        this.ws.send(JSON.stringify({type: \"draw\", figure_id: this.id}));\n",
       "    }\n",
       "}\n",
       "\n",
       "\n",
       "mpl.figure.prototype.handle_save = function(fig, msg) {\n",
       "    var format_dropdown = fig.format_dropdown;\n",
       "    var format = format_dropdown.options[format_dropdown.selectedIndex].value;\n",
       "    fig.ondownload(fig, format);\n",
       "}\n",
       "\n",
       "\n",
       "mpl.figure.prototype.handle_resize = function(fig, msg) {\n",
       "    var size = msg['size'];\n",
       "    if (size[0] != fig.canvas.width || size[1] != fig.canvas.height) {\n",
       "        fig._resize_canvas(size[0], size[1]);\n",
       "        fig.send_message(\"refresh\", {});\n",
       "    };\n",
       "}\n",
       "\n",
       "mpl.figure.prototype.handle_rubberband = function(fig, msg) {\n",
       "    var x0 = msg['x0'];\n",
       "    var y0 = fig.canvas.height - msg['y0'];\n",
       "    var x1 = msg['x1'];\n",
       "    var y1 = fig.canvas.height - msg['y1'];\n",
       "    x0 = Math.floor(x0) + 0.5;\n",
       "    y0 = Math.floor(y0) + 0.5;\n",
       "    x1 = Math.floor(x1) + 0.5;\n",
       "    y1 = Math.floor(y1) + 0.5;\n",
       "    var min_x = Math.min(x0, x1);\n",
       "    var min_y = Math.min(y0, y1);\n",
       "    var width = Math.abs(x1 - x0);\n",
       "    var height = Math.abs(y1 - y0);\n",
       "\n",
       "    fig.rubberband_context.clearRect(\n",
       "        0, 0, fig.canvas.width, fig.canvas.height);\n",
       "\n",
       "    fig.rubberband_context.strokeRect(min_x, min_y, width, height);\n",
       "}\n",
       "\n",
       "mpl.figure.prototype.handle_figure_label = function(fig, msg) {\n",
       "    // Updates the figure title.\n",
       "    fig.header.textContent = msg['label'];\n",
       "}\n",
       "\n",
       "mpl.figure.prototype.handle_cursor = function(fig, msg) {\n",
       "    var cursor = msg['cursor'];\n",
       "    switch(cursor)\n",
       "    {\n",
       "    case 0:\n",
       "        cursor = 'pointer';\n",
       "        break;\n",
       "    case 1:\n",
       "        cursor = 'default';\n",
       "        break;\n",
       "    case 2:\n",
       "        cursor = 'crosshair';\n",
       "        break;\n",
       "    case 3:\n",
       "        cursor = 'move';\n",
       "        break;\n",
       "    }\n",
       "    fig.rubberband_canvas.style.cursor = cursor;\n",
       "}\n",
       "\n",
       "mpl.figure.prototype.handle_message = function(fig, msg) {\n",
       "    fig.message.textContent = msg['message'];\n",
       "}\n",
       "\n",
       "mpl.figure.prototype.handle_draw = function(fig, msg) {\n",
       "    // Request the server to send over a new figure.\n",
       "    fig.send_draw_message();\n",
       "}\n",
       "\n",
       "mpl.figure.prototype.handle_image_mode = function(fig, msg) {\n",
       "    fig.image_mode = msg['mode'];\n",
       "}\n",
       "\n",
       "mpl.figure.prototype.updated_canvas_event = function() {\n",
       "    // Called whenever the canvas gets updated.\n",
       "    this.send_message(\"ack\", {});\n",
       "}\n",
       "\n",
       "// A function to construct a web socket function for onmessage handling.\n",
       "// Called in the figure constructor.\n",
       "mpl.figure.prototype._make_on_message_function = function(fig) {\n",
       "    return function socket_on_message(evt) {\n",
       "        if (evt.data instanceof Blob) {\n",
       "            /* FIXME: We get \"Resource interpreted as Image but\n",
       "             * transferred with MIME type text/plain:\" errors on\n",
       "             * Chrome.  But how to set the MIME type?  It doesn't seem\n",
       "             * to be part of the websocket stream */\n",
       "            evt.data.type = \"image/png\";\n",
       "\n",
       "            /* Free the memory for the previous frames */\n",
       "            if (fig.imageObj.src) {\n",
       "                (window.URL || window.webkitURL).revokeObjectURL(\n",
       "                    fig.imageObj.src);\n",
       "            }\n",
       "\n",
       "            fig.imageObj.src = (window.URL || window.webkitURL).createObjectURL(\n",
       "                evt.data);\n",
       "            fig.updated_canvas_event();\n",
       "            fig.waiting = false;\n",
       "            return;\n",
       "        }\n",
       "        else if (typeof evt.data === 'string' && evt.data.slice(0, 21) == \"data:image/png;base64\") {\n",
       "            fig.imageObj.src = evt.data;\n",
       "            fig.updated_canvas_event();\n",
       "            fig.waiting = false;\n",
       "            return;\n",
       "        }\n",
       "\n",
       "        var msg = JSON.parse(evt.data);\n",
       "        var msg_type = msg['type'];\n",
       "\n",
       "        // Call the  \"handle_{type}\" callback, which takes\n",
       "        // the figure and JSON message as its only arguments.\n",
       "        try {\n",
       "            var callback = fig[\"handle_\" + msg_type];\n",
       "        } catch (e) {\n",
       "            console.log(\"No handler for the '\" + msg_type + \"' message type: \", msg);\n",
       "            return;\n",
       "        }\n",
       "\n",
       "        if (callback) {\n",
       "            try {\n",
       "                // console.log(\"Handling '\" + msg_type + \"' message: \", msg);\n",
       "                callback(fig, msg);\n",
       "            } catch (e) {\n",
       "                console.log(\"Exception inside the 'handler_\" + msg_type + \"' callback:\", e, e.stack, msg);\n",
       "            }\n",
       "        }\n",
       "    };\n",
       "}\n",
       "\n",
       "// from http://stackoverflow.com/questions/1114465/getting-mouse-location-in-canvas\n",
       "mpl.findpos = function(e) {\n",
       "    //this section is from http://www.quirksmode.org/js/events_properties.html\n",
       "    var targ;\n",
       "    if (!e)\n",
       "        e = window.event;\n",
       "    if (e.target)\n",
       "        targ = e.target;\n",
       "    else if (e.srcElement)\n",
       "        targ = e.srcElement;\n",
       "    if (targ.nodeType == 3) // defeat Safari bug\n",
       "        targ = targ.parentNode;\n",
       "\n",
       "    // jQuery normalizes the pageX and pageY\n",
       "    // pageX,Y are the mouse positions relative to the document\n",
       "    // offset() returns the position of the element relative to the document\n",
       "    var x = e.pageX - $(targ).offset().left;\n",
       "    var y = e.pageY - $(targ).offset().top;\n",
       "\n",
       "    return {\"x\": x, \"y\": y};\n",
       "};\n",
       "\n",
       "/*\n",
       " * return a copy of an object with only non-object keys\n",
       " * we need this to avoid circular references\n",
       " * http://stackoverflow.com/a/24161582/3208463\n",
       " */\n",
       "function simpleKeys (original) {\n",
       "  return Object.keys(original).reduce(function (obj, key) {\n",
       "    if (typeof original[key] !== 'object')\n",
       "        obj[key] = original[key]\n",
       "    return obj;\n",
       "  }, {});\n",
       "}\n",
       "\n",
       "mpl.figure.prototype.mouse_event = function(event, name) {\n",
       "    var canvas_pos = mpl.findpos(event)\n",
       "\n",
       "    if (name === 'button_press')\n",
       "    {\n",
       "        this.canvas.focus();\n",
       "        this.canvas_div.focus();\n",
       "    }\n",
       "\n",
       "    var x = canvas_pos.x;\n",
       "    var y = canvas_pos.y;\n",
       "\n",
       "    this.send_message(name, {x: x, y: y, button: event.button,\n",
       "                             step: event.step,\n",
       "                             guiEvent: simpleKeys(event)});\n",
       "\n",
       "    /* This prevents the web browser from automatically changing to\n",
       "     * the text insertion cursor when the button is pressed.  We want\n",
       "     * to control all of the cursor setting manually through the\n",
       "     * 'cursor' event from matplotlib */\n",
       "    event.preventDefault();\n",
       "    return false;\n",
       "}\n",
       "\n",
       "mpl.figure.prototype._key_event_extra = function(event, name) {\n",
       "    // Handle any extra behaviour associated with a key event\n",
       "}\n",
       "\n",
       "mpl.figure.prototype.key_event = function(event, name) {\n",
       "\n",
       "    // Prevent repeat events\n",
       "    if (name == 'key_press')\n",
       "    {\n",
       "        if (event.which === this._key)\n",
       "            return;\n",
       "        else\n",
       "            this._key = event.which;\n",
       "    }\n",
       "    if (name == 'key_release')\n",
       "        this._key = null;\n",
       "\n",
       "    var value = '';\n",
       "    if (event.ctrlKey && event.which != 17)\n",
       "        value += \"ctrl+\";\n",
       "    if (event.altKey && event.which != 18)\n",
       "        value += \"alt+\";\n",
       "    if (event.shiftKey && event.which != 16)\n",
       "        value += \"shift+\";\n",
       "\n",
       "    value += 'k';\n",
       "    value += event.which.toString();\n",
       "\n",
       "    this._key_event_extra(event, name);\n",
       "\n",
       "    this.send_message(name, {key: value,\n",
       "                             guiEvent: simpleKeys(event)});\n",
       "    return false;\n",
       "}\n",
       "\n",
       "mpl.figure.prototype.toolbar_button_onclick = function(name) {\n",
       "    if (name == 'download') {\n",
       "        this.handle_save(this, null);\n",
       "    } else {\n",
       "        this.send_message(\"toolbar_button\", {name: name});\n",
       "    }\n",
       "};\n",
       "\n",
       "mpl.figure.prototype.toolbar_button_onmouseover = function(tooltip) {\n",
       "    this.message.textContent = tooltip;\n",
       "};\n",
       "mpl.toolbar_items = [[\"Home\", \"Reset original view\", \"fa fa-home icon-home\", \"home\"], [\"Back\", \"Back to  previous view\", \"fa fa-arrow-left icon-arrow-left\", \"back\"], [\"Forward\", \"Forward to next view\", \"fa fa-arrow-right icon-arrow-right\", \"forward\"], [\"\", \"\", \"\", \"\"], [\"Pan\", \"Pan axes with left mouse, zoom with right\", \"fa fa-arrows icon-move\", \"pan\"], [\"Zoom\", \"Zoom to rectangle\", \"fa fa-square-o icon-check-empty\", \"zoom\"], [\"\", \"\", \"\", \"\"], [\"Download\", \"Download plot\", \"fa fa-floppy-o icon-save\", \"download\"]];\n",
       "\n",
       "mpl.extensions = [\"eps\", \"jpeg\", \"pdf\", \"png\", \"ps\", \"raw\", \"svg\", \"tif\"];\n",
       "\n",
       "mpl.default_extension = \"png\";var comm_websocket_adapter = function(comm) {\n",
       "    // Create a \"websocket\"-like object which calls the given IPython comm\n",
       "    // object with the appropriate methods. Currently this is a non binary\n",
       "    // socket, so there is still some room for performance tuning.\n",
       "    var ws = {};\n",
       "\n",
       "    ws.close = function() {\n",
       "        comm.close()\n",
       "    };\n",
       "    ws.send = function(m) {\n",
       "        //console.log('sending', m);\n",
       "        comm.send(m);\n",
       "    };\n",
       "    // Register the callback with on_msg.\n",
       "    comm.on_msg(function(msg) {\n",
       "        //console.log('receiving', msg['content']['data'], msg);\n",
       "        // Pass the mpl event to the overriden (by mpl) onmessage function.\n",
       "        ws.onmessage(msg['content']['data'])\n",
       "    });\n",
       "    return ws;\n",
       "}\n",
       "\n",
       "mpl.mpl_figure_comm = function(comm, msg) {\n",
       "    // This is the function which gets called when the mpl process\n",
       "    // starts-up an IPython Comm through the \"matplotlib\" channel.\n",
       "\n",
       "    var id = msg.content.data.id;\n",
       "    // Get hold of the div created by the display call when the Comm\n",
       "    // socket was opened in Python.\n",
       "    var element = $(\"#\" + id);\n",
       "    var ws_proxy = comm_websocket_adapter(comm)\n",
       "\n",
       "    function ondownload(figure, format) {\n",
       "        window.open(figure.imageObj.src);\n",
       "    }\n",
       "\n",
       "    var fig = new mpl.figure(id, ws_proxy,\n",
       "                           ondownload,\n",
       "                           element.get(0));\n",
       "\n",
       "    // Call onopen now - mpl needs it, as it is assuming we've passed it a real\n",
       "    // web socket which is closed, not our websocket->open comm proxy.\n",
       "    ws_proxy.onopen();\n",
       "\n",
       "    fig.parent_element = element.get(0);\n",
       "    fig.cell_info = mpl.find_output_cell(\"<div id='\" + id + \"'></div>\");\n",
       "    if (!fig.cell_info) {\n",
       "        console.error(\"Failed to find cell for figure\", id, fig);\n",
       "        return;\n",
       "    }\n",
       "\n",
       "    var output_index = fig.cell_info[2]\n",
       "    var cell = fig.cell_info[0];\n",
       "\n",
       "};\n",
       "\n",
       "mpl.figure.prototype.handle_close = function(fig, msg) {\n",
       "    fig.root.unbind('remove')\n",
       "\n",
       "    // Update the output cell to use the data from the current canvas.\n",
       "    fig.push_to_output();\n",
       "    var dataURL = fig.canvas.toDataURL();\n",
       "    // Re-enable the keyboard manager in IPython - without this line, in FF,\n",
       "    // the notebook keyboard shortcuts fail.\n",
       "    IPython.keyboard_manager.enable()\n",
       "    $(fig.parent_element).html('<img src=\"' + dataURL + '\">');\n",
       "    fig.close_ws(fig, msg);\n",
       "}\n",
       "\n",
       "mpl.figure.prototype.close_ws = function(fig, msg){\n",
       "    fig.send_message('closing', msg);\n",
       "    // fig.ws.close()\n",
       "}\n",
       "\n",
       "mpl.figure.prototype.push_to_output = function(remove_interactive) {\n",
       "    // Turn the data on the canvas into data in the output cell.\n",
       "    var dataURL = this.canvas.toDataURL();\n",
       "    this.cell_info[1]['text/html'] = '<img src=\"' + dataURL + '\">';\n",
       "}\n",
       "\n",
       "mpl.figure.prototype.updated_canvas_event = function() {\n",
       "    // Tell IPython that the notebook contents must change.\n",
       "    IPython.notebook.set_dirty(true);\n",
       "    this.send_message(\"ack\", {});\n",
       "    var fig = this;\n",
       "    // Wait a second, then push the new image to the DOM so\n",
       "    // that it is saved nicely (might be nice to debounce this).\n",
       "    setTimeout(function () { fig.push_to_output() }, 1000);\n",
       "}\n",
       "\n",
       "mpl.figure.prototype._init_toolbar = function() {\n",
       "    var fig = this;\n",
       "\n",
       "    var nav_element = $('<div/>')\n",
       "    nav_element.attr('style', 'width: 100%');\n",
       "    this.root.append(nav_element);\n",
       "\n",
       "    // Define a callback function for later on.\n",
       "    function toolbar_event(event) {\n",
       "        return fig.toolbar_button_onclick(event['data']);\n",
       "    }\n",
       "    function toolbar_mouse_event(event) {\n",
       "        return fig.toolbar_button_onmouseover(event['data']);\n",
       "    }\n",
       "\n",
       "    for(var toolbar_ind in mpl.toolbar_items){\n",
       "        var name = mpl.toolbar_items[toolbar_ind][0];\n",
       "        var tooltip = mpl.toolbar_items[toolbar_ind][1];\n",
       "        var image = mpl.toolbar_items[toolbar_ind][2];\n",
       "        var method_name = mpl.toolbar_items[toolbar_ind][3];\n",
       "\n",
       "        if (!name) { continue; };\n",
       "\n",
       "        var button = $('<button class=\"btn btn-default\" href=\"#\" title=\"' + name + '\"><i class=\"fa ' + image + ' fa-lg\"></i></button>');\n",
       "        button.click(method_name, toolbar_event);\n",
       "        button.mouseover(tooltip, toolbar_mouse_event);\n",
       "        nav_element.append(button);\n",
       "    }\n",
       "\n",
       "    // Add the status bar.\n",
       "    var status_bar = $('<span class=\"mpl-message\" style=\"text-align:right; float: right;\"/>');\n",
       "    nav_element.append(status_bar);\n",
       "    this.message = status_bar[0];\n",
       "\n",
       "    // Add the close button to the window.\n",
       "    var buttongrp = $('<div class=\"btn-group inline pull-right\"></div>');\n",
       "    var button = $('<button class=\"btn btn-mini btn-primary\" href=\"#\" title=\"Stop Interaction\"><i class=\"fa fa-power-off icon-remove icon-large\"></i></button>');\n",
       "    button.click(function (evt) { fig.handle_close(fig, {}); } );\n",
       "    button.mouseover('Stop Interaction', toolbar_mouse_event);\n",
       "    buttongrp.append(button);\n",
       "    var titlebar = this.root.find($('.ui-dialog-titlebar'));\n",
       "    titlebar.prepend(buttongrp);\n",
       "}\n",
       "\n",
       "mpl.figure.prototype._root_extra_style = function(el){\n",
       "    var fig = this\n",
       "    el.on(\"remove\", function(){\n",
       "\tfig.close_ws(fig, {});\n",
       "    });\n",
       "}\n",
       "\n",
       "mpl.figure.prototype._canvas_extra_style = function(el){\n",
       "    // this is important to make the div 'focusable\n",
       "    el.attr('tabindex', 0)\n",
       "    // reach out to IPython and tell the keyboard manager to turn it's self\n",
       "    // off when our div gets focus\n",
       "\n",
       "    // location in version 3\n",
       "    if (IPython.notebook.keyboard_manager) {\n",
       "        IPython.notebook.keyboard_manager.register_events(el);\n",
       "    }\n",
       "    else {\n",
       "        // location in version 2\n",
       "        IPython.keyboard_manager.register_events(el);\n",
       "    }\n",
       "\n",
       "}\n",
       "\n",
       "mpl.figure.prototype._key_event_extra = function(event, name) {\n",
       "    var manager = IPython.notebook.keyboard_manager;\n",
       "    if (!manager)\n",
       "        manager = IPython.keyboard_manager;\n",
       "\n",
       "    // Check for shift+enter\n",
       "    if (event.shiftKey && event.which == 13) {\n",
       "        this.canvas_div.blur();\n",
       "        event.shiftKey = false;\n",
       "        // Send a \"J\" for go to next cell\n",
       "        event.which = 74;\n",
       "        event.keyCode = 74;\n",
       "        manager.command_mode();\n",
       "        manager.handle_keydown(event);\n",
       "    }\n",
       "}\n",
       "\n",
       "mpl.figure.prototype.handle_save = function(fig, msg) {\n",
       "    fig.ondownload(fig, null);\n",
       "}\n",
       "\n",
       "\n",
       "mpl.find_output_cell = function(html_output) {\n",
       "    // Return the cell and output element which can be found *uniquely* in the notebook.\n",
       "    // Note - this is a bit hacky, but it is done because the \"notebook_saving.Notebook\"\n",
       "    // IPython event is triggered only after the cells have been serialised, which for\n",
       "    // our purposes (turning an active figure into a static one), is too late.\n",
       "    var cells = IPython.notebook.get_cells();\n",
       "    var ncells = cells.length;\n",
       "    for (var i=0; i<ncells; i++) {\n",
       "        var cell = cells[i];\n",
       "        if (cell.cell_type === 'code'){\n",
       "            for (var j=0; j<cell.output_area.outputs.length; j++) {\n",
       "                var data = cell.output_area.outputs[j];\n",
       "                if (data.data) {\n",
       "                    // IPython >= 3 moved mimebundle to data attribute of output\n",
       "                    data = data.data;\n",
       "                }\n",
       "                if (data['text/html'] == html_output) {\n",
       "                    return [cell, data, j];\n",
       "                }\n",
       "            }\n",
       "        }\n",
       "    }\n",
       "}\n",
       "\n",
       "// Register the function which deals with the matplotlib target/channel.\n",
       "// The kernel may be null if the page has been refreshed.\n",
       "if (IPython.notebook.kernel != null) {\n",
       "    IPython.notebook.kernel.comm_manager.register_target('matplotlib', mpl.mpl_figure_comm);\n",
       "}\n"
      ],
      "text/plain": [
       "<IPython.core.display.Javascript object>"
      ]
     },
     "metadata": {},
     "output_type": "display_data"
    },
    {
     "data": {
      "text/html": [
       "<img src=\"data:image/png;base64,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\">"
      ],
      "text/plain": [
       "<IPython.core.display.HTML object>"
      ]
     },
     "metadata": {},
     "output_type": "display_data"
    },
    {
     "data": {
      "text/plain": [
       "[<matplotlib.lines.Line2D at 0x7f08ed2e4810>]"
      ]
     },
     "execution_count": 216,
     "metadata": {},
     "output_type": "execute_result"
    }
   ],
   "source": [
    "plt.figure()\n",
    "plt.plot(ar['ref'],'.')"
   ]
  },
  {
   "cell_type": "code",
   "execution_count": 261,
   "metadata": {
    "ExecuteTime": {
     "end_time": "2018-07-04T02:47:59.555414Z",
     "start_time": "2018-07-04T02:47:59.549740Z"
    }
   },
   "outputs": [
    {
     "data": {
      "text/plain": [
       "30270"
      ]
     },
     "execution_count": 261,
     "metadata": {},
     "output_type": "execute_result"
    }
   ],
   "source": [
    "len(np.where(np.isfinite(ar['ref']))[0])"
   ]
  },
  {
   "cell_type": "code",
   "execution_count": 262,
   "metadata": {
    "ExecuteTime": {
     "end_time": "2018-07-04T02:48:00.098720Z",
     "start_time": "2018-07-04T02:48:00.094458Z"
    }
   },
   "outputs": [
    {
     "data": {
      "text/plain": [
       "380923"
      ]
     },
     "execution_count": 262,
     "metadata": {},
     "output_type": "execute_result"
    }
   ],
   "source": [
    "len(ar['ref'])"
   ]
  },
  {
   "cell_type": "markdown",
   "metadata": {},
   "source": [
    "# Save the retrieved output"
   ]
  },
  {
   "cell_type": "code",
   "execution_count": 263,
   "metadata": {
    "ExecuteTime": {
     "end_time": "2018-07-04T02:48:01.905080Z",
     "start_time": "2018-07-04T02:48:01.900897Z"
    }
   },
   "outputs": [],
   "source": [
    "out = {}"
   ]
  },
  {
   "cell_type": "code",
   "execution_count": 264,
   "metadata": {
    "ExecuteTime": {
     "end_time": "2018-07-04T02:48:02.468121Z",
     "start_time": "2018-07-04T02:48:02.462902Z"
    }
   },
   "outputs": [
    {
     "data": {
      "text/plain": [
       "['tau',\n",
       " 'UP1250',\n",
       " 'DN415',\n",
       " 'UP500',\n",
       " 'sza',\n",
       " 'LON',\n",
       " 'UP870',\n",
       " 'AOD_500',\n",
       " 'ki',\n",
       " 'DN1650',\n",
       " 'DN2100',\n",
       " 'flagcaod',\n",
       " 'UP990',\n",
       " 'flagacaod',\n",
       " 'UP1064',\n",
       " 'DN675',\n",
       " 'ref',\n",
       " 'UP415',\n",
       " 'HEAD',\n",
       " 'airmass',\n",
       " 'UP1020',\n",
       " 'UP2100',\n",
       " 'UP675',\n",
       " 'DN500',\n",
       " 'a1',\n",
       " 'DN1020',\n",
       " 'DN870',\n",
       " 'DN440',\n",
       " 'flacaod',\n",
       " 'meas',\n",
       " 'DN1250',\n",
       " 'a0',\n",
       " 'UP440',\n",
       " 'DN1064',\n",
       " 'Start_UTC',\n",
       " 'days',\n",
       " 'UP1650',\n",
       " 'a2',\n",
       " 'PITCH',\n",
       " 'LAT',\n",
       " 'DN990',\n",
       " 'ALT',\n",
       " 'ROLL']"
      ]
     },
     "execution_count": 264,
     "metadata": {},
     "output_type": "execute_result"
    }
   ],
   "source": [
    "ar.keys()"
   ]
  },
  {
   "cell_type": "code",
   "execution_count": 265,
   "metadata": {
    "ExecuteTime": {
     "end_time": "2018-07-04T02:48:08.850936Z",
     "start_time": "2018-07-04T02:48:08.845830Z"
    }
   },
   "outputs": [],
   "source": [
    "out['tau'] = ar['tau']\n",
    "out['ref'] = ar['ref']\n",
    "out['sza'] = ar['sza']\n",
    "out['aod'] = ar['AOD_500']\n",
    "out['days'] = ar['days']\n",
    "out['utc'] = ar['Start_UTC']\n",
    "out['lat'] = ar['LAT']\n",
    "out['lon'] = ar['LON']\n",
    "out['a0'],out['a1'],out['a2'] = ar['a0'],ar['a1'],ar['a2']"
   ]
  },
  {
   "cell_type": "code",
   "execution_count": 266,
   "metadata": {
    "ExecuteTime": {
     "end_time": "2018-07-04T02:48:10.145958Z",
     "start_time": "2018-07-04T02:48:10.141956Z"
    }
   },
   "outputs": [
    {
     "data": {
      "text/plain": [
       "u'/mnt/c/Users/sleblanc/Research/ORACLES/'"
      ]
     },
     "execution_count": 266,
     "metadata": {},
     "output_type": "execute_result"
    }
   ],
   "source": [
    "fp"
   ]
  },
  {
   "cell_type": "code",
   "execution_count": 267,
   "metadata": {
    "ExecuteTime": {
     "end_time": "2018-07-04T02:48:11.916119Z",
     "start_time": "2018-07-04T02:48:11.300730Z"
    }
   },
   "outputs": [],
   "source": [
    "hs.savemat(fp+'data_other/ssfr_2016_retrieved_COD.mat',out)"
   ]
  },
  {
   "cell_type": "code",
   "execution_count": 268,
   "metadata": {
    "ExecuteTime": {
     "end_time": "2018-07-04T02:48:12.761483Z",
     "start_time": "2018-07-04T02:48:12.757172Z"
    }
   },
   "outputs": [
    {
     "data": {
      "text/plain": [
       "array([  0.,   0.,   0., ...,  13.,  13.,  13.])"
      ]
     },
     "execution_count": 268,
     "metadata": {},
     "output_type": "execute_result"
    }
   ],
   "source": [
    "out['days']"
   ]
  }
 ],
 "metadata": {
  "kernelspec": {
   "display_name": "Python 2",
   "language": "python",
   "name": "python2"
  },
  "language_info": {
   "codemirror_mode": {
    "name": "ipython",
    "version": 2
   },
   "file_extension": ".py",
   "mimetype": "text/x-python",
   "name": "python",
   "nbconvert_exporter": "python",
   "pygments_lexer": "ipython2",
   "version": "2.7.12"
  },
  "toc": {
   "nav_menu": {},
   "number_sections": true,
   "sideBar": false,
   "skip_h1_title": false,
   "toc_cell": false,
   "toc_position": {},
   "toc_section_display": "block",
   "toc_window_display": false
  },
  "varInspector": {
   "cols": {
    "lenName": 16,
    "lenType": 16,
    "lenVar": 40
   },
   "kernels_config": {
    "python": {
     "delete_cmd_postfix": "",
     "delete_cmd_prefix": "del ",
     "library": "var_list.py",
     "varRefreshCmd": "print(var_dic_list())"
    },
    "r": {
     "delete_cmd_postfix": ") ",
     "delete_cmd_prefix": "rm(",
     "library": "var_list.r",
     "varRefreshCmd": "cat(var_dic_list()) "
    }
   },
   "types_to_exclude": [
    "module",
    "function",
    "builtin_function_or_method",
    "instance",
    "_Feature"
   ],
   "window_display": false
  }
 },
 "nbformat": 4,
 "nbformat_minor": 2
}
