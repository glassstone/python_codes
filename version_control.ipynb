{
 "metadata": {
  "name": "",
  "signature": "sha256:c2fc4d098428bf8449f9fe20b7f4d309d95d8b9119d2b00ef6ebc5fcbab611c6"
 },
 "nbformat": 3,
 "nbformat_minor": 0,
 "worksheets": [
  {
   "cells": [
    {
     "cell_type": "code",
     "collapsed": false,
     "input": [
      "#global program_version"
     ],
     "language": "python",
     "metadata": {
      "run_control": {
       "breakpoint": false,
       "read_only": false
      }
     },
     "outputs": []
    },
    {
     "cell_type": "code",
     "collapsed": false,
     "input": [
      "def version_set(v_tag):\n",
      "    \"\"\"\n",
      "    Name:\n",
      "\n",
      "        version_set\n",
      "    \n",
      "    Purpose:\n",
      "\n",
      "        to set the version of the file currently being called\n",
      "        Returns a tuple of dictionary with items descripbing \n",
      "        the current file name, last time it was modified and by whom, and the v_tag (version tag, eg., v1.3...)\n",
      "    \n",
      "    Calling Sequence:\n",
      "\n",
      "        program_version = version_set(v_tag,program_version)        \n",
      "    \n",
      "    Input: \n",
      "  \n",
      "        v_tag: version tag in string (e.g., 'v1.0')\n",
      "        program_version: tuple of dictionary containing info from all runned programs\n",
      "    \n",
      "    Output:\n",
      "\n",
      "        program_vervion: see above\n",
      "    \n",
      "    Keywords: \n",
      "\n",
      "        none\n",
      "    \n",
      "    Dependencies:\n",
      "\n",
      "        - os\n",
      "        - time\n",
      "        - inspect\n",
      "        - getpass\n",
      "    \n",
      "    Required files:\n",
      "   \n",
      "        None\n",
      "    \n",
      "    Example:\n",
      "\n",
      "        ...\n",
      "        \n",
      "    Modification History:\n",
      "    \n",
      "        Written (v1.0): Samuel LeBlanc, 2015-02-02, NASA Ames\n",
      "        \n",
      "    \"\"\"\n",
      "    #global program_version\n",
      "    \n",
      "    import os, time\n",
      "    import inspect\n",
      "    import getpass\n",
      "    \n",
      "    def getname(): \n",
      "        import IPython\n",
      "        IPython.display.display(IPython.display.Javascript('IPython.notebook.kernel.execute(\"theNotebookName = \" + \"\\'\"+IPython.notebook.notebook_name+\"\\'\");'))\n",
      "        IPython.display.display(IPython.display.Javascript('IPython.notebook.kernel.execute(\"theNotebookPath = \" + \"\\'\"+IPython.notebook.notebook_path+\"\\'\");'))\n",
      "    getname()\n",
      "  #  thisfilepath = os.getcwd() + os.path.sep+theNotebookPath+theNotebookName\n",
      "    \n",
      "    current_file_name = inspect.stack()[1][1]\n",
      "    #current_file_name = theNotebookName\n",
      "    print current_file_name\n",
      "    (mode, ino, dev, nlink, uid, gid, size, atime, mtime, ctime) = os.stat(current_file_name)\n",
      "    lm = \"last modified: %s\" % time.ctime(mtime)\n",
      "    lc = \"file created: %s\" % time.ctime(ctime)\n",
      "    user = getpass.getuser()\n",
      "    \n",
      "    pro_version = {'Filename':current_file_name,'Version':v_tag,'creation':lc,'modified':lm,'Run by':user}\n",
      "    #return program_version+pro_version\n",
      "    return pro_version"
     ],
     "language": "python",
     "metadata": {
      "run_control": {
       "breakpoint": false,
       "read_only": false
      }
     },
     "outputs": []
    }
   ],
   "metadata": {}
  }
 ]
}