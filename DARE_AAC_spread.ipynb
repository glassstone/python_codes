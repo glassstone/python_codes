{
 "cells": [
  {
   "cell_type": "markdown",
   "metadata": {},
   "source": [
    "# Introduction\n",
    "Name:  \n",
    "\n",
    "    DARE_AAC_spread\n",
    "\n",
    "Purpose:  \n",
    "\n",
    "    For Meloë's study for global DARE, using calipso, MODIS, and other measurements of Aerosol above clouds\n",
    "    Prep and read the radiative transfer files to run the \n",
    "  \n",
    "Input:\n",
    "\n",
    "    none\n",
    "\n",
    "Output:\n",
    "   \n",
    "    plots\n",
    "  \n",
    "Keywords:\n",
    "\n",
    "    none\n",
    "  \n",
    "Dependencies:\n",
    "\n",
    "    - numpy\n",
    "    - scipy : for saving and reading\n",
    "    - Run_libradtran\n",
    "\n",
    "  \n",
    "Needed Files:\n",
    "\n",
    "  - matlab input files: Input_to_DARF_mmm.mat\n",
    "  - spread of the data information"
   ]
  },
  {
   "cell_type": "markdown",
   "metadata": {},
   "source": [
    "# Import the required modules and file paths"
   ]
  },
  {
   "cell_type": "code",
   "execution_count": 21,
   "metadata": {
    "ExecuteTime": {
     "end_time": "2018-01-22T17:46:35.767426Z",
     "start_time": "2018-01-22T17:46:35.762990Z"
    }
   },
   "outputs": [],
   "source": [
    "import numpy as np\n",
    "import scipy.io as sio\n",
    "import Run_libradtran as RL\n",
    "import load_utils as lm\n",
    "import os"
   ]
  },
  {
   "cell_type": "code",
   "execution_count": 5,
   "metadata": {
    "ExecuteTime": {
     "end_time": "2018-01-19T07:16:41.251780Z",
     "start_time": "2018-01-19T07:16:41.247777Z"
    }
   },
   "outputs": [],
   "source": [
    "fp = '/u/sleblan2/meloe_AAC/v4_spread/'\n",
    "fp_alb = '/nobackup/sleblan2/AAC_DARF/surface_albedo/'\n",
    "fp_out = '/nobackup/sleblan2/AAC_DARF/input/v4_spread/'\n",
    "fp_pmom = '/nobackup/sleblan2/AAC_DARF/rtm/'\n",
    "fp_uvspec = '/u/sleblan2/libradtran/libRadtran-2.0-beta/bin/uvspec'\n",
    "wvl_thm = '/nobackup/sleblan2/AAC_DARF/rtm/wvl.thm.dat'\n",
    "vv = 'v3_20170616_CALIOP_AAC_AODxfAAC_With_Without_Sa'"
   ]
  },
  {
   "cell_type": "code",
   "execution_count": 6,
   "metadata": {
    "ExecuteTime": {
     "end_time": "2018-01-19T07:16:42.177956Z",
     "start_time": "2018-01-19T07:16:42.175482Z"
    }
   },
   "outputs": [],
   "source": [
    "std_label = 'v4_spread'"
   ]
  },
  {
   "cell_type": "markdown",
   "metadata": {},
   "source": [
    "## Check if reading or writing"
   ]
  },
  {
   "cell_type": "code",
   "execution_count": null,
   "metadata": {},
   "outputs": [],
   "source": [
    "import argparse\n",
    "long_description = \"\"\"    Prepare or read the AAC DARE calculations, with the spread for all values.\n",
    "      - defaults to prepare AAC files \"\"\"\n",
    "parser = argparse.ArgumentParser(description=long_description)\n",
    "parser.add_argument('-doread','--doread',help='if set, will only read the output, not produce them',\n",
    "                    action='store_true')\n",
    "parser.add_argument('-dowrite','--dowrite',help='if set, will write the input and list files for fuliou',\n",
    "                    action='store_true')\n",
    "#parser.add_argument('-i','--index',help='Sets the index of the pixel file to use (19374,22135). Default is 0',type=int)\n",
    "in_ = vars(parser.parse_args())\n",
    "doread = in_.get('doread',False)\n",
    "dowrite = in_.get('dowrite',True)\n",
    "#i = in_.get('index',0)"
   ]
  },
  {
   "cell_type": "markdown",
   "metadata": {},
   "source": [
    "# Load the input files and create the subsets"
   ]
  },
  {
   "cell_type": "code",
   "execution_count": 22,
   "metadata": {
    "ExecuteTime": {
     "end_time": "2018-01-22T17:46:41.902840Z",
     "start_time": "2018-01-22T17:46:41.900371Z"
    }
   },
   "outputs": [],
   "source": [
    "mmm = 'JJA'"
   ]
  },
  {
   "cell_type": "code",
   "execution_count": 31,
   "metadata": {
    "ExecuteTime": {
     "end_time": "2018-01-22T17:51:56.881806Z",
     "start_time": "2018-01-22T17:51:56.877879Z"
    }
   },
   "outputs": [
    {
     "name": "stdout",
     "output_type": "stream",
     "text": [
      "in JJA months, getting mat file: /mnt/c/Users/sleblanc/Research/Calipso/meloe/v3_without/Input_to_DARF_JJA_v3_20170616_CALIOP_AAC_AODxfAAC_With_Without_Sa.mat\n"
     ]
    }
   ],
   "source": [
    "fpm = fp+'Input_to_DARF_{mmm}_{vv}.mat'.format(mmm=mmm,vv=vv)\n",
    "print 'in %s months, getting mat file: %s' % (mmm,fpm)"
   ]
  },
  {
   "cell_type": "code",
   "execution_count": 32,
   "metadata": {
    "ExecuteTime": {
     "end_time": "2018-01-22T17:51:57.722306Z",
     "start_time": "2018-01-22T17:51:57.653625Z"
    }
   },
   "outputs": [],
   "source": [
    "input_mmm = sio.loadmat(fpm,mat_dtype=True)['data_input_darf']"
   ]
  },
  {
   "cell_type": "code",
   "execution_count": 70,
   "metadata": {
    "ExecuteTime": {
     "end_time": "2018-01-22T18:23:05.250865Z",
     "start_time": "2018-01-22T18:23:05.245403Z"
    }
   },
   "outputs": [],
   "source": [
    "geo = {'zout':[0,3,100],'year':2007,'day':15,'minute':0,'second':0}\n",
    "geo['month'] = 7\n",
    "doy = 225\n",
    "aero = {'z_arr':[3.0,4.0]}\n",
    "cloud = {'ztop':3.0,'zbot':2.0,'phase':'wc','write_moments_file':True}\n",
    "source = {'integrate_values':True,'dat_path':'/u/sleblan2/libradtran/libRadtran-2.0-beta/data/','run_fuliou':True}\n",
    "albedo = {'create_albedo_file':False}\n",
    "albedo['sea_surface_albedo'] = True"
   ]
  },
  {
   "cell_type": "code",
   "execution_count": 34,
   "metadata": {
    "ExecuteTime": {
     "end_time": "2018-01-22T17:52:01.163038Z",
     "start_time": "2018-01-22T17:52:01.160270Z"
    }
   },
   "outputs": [],
   "source": [
    "geo['lat'],geo['lon'] = -7.0,-10.0"
   ]
  },
  {
   "cell_type": "code",
   "execution_count": 63,
   "metadata": {
    "ExecuteTime": {
     "end_time": "2018-01-22T18:21:22.074282Z",
     "start_time": "2018-01-22T18:21:22.070715Z"
    }
   },
   "outputs": [],
   "source": [
    "ia1,ia2,io1,io2 = 16,25,35,39\n",
    "ilat = np.arange(18,26)\n",
    "ilon = np.arange(37,40)"
   ]
  },
  {
   "cell_type": "code",
   "execution_count": 203,
   "metadata": {
    "ExecuteTime": {
     "end_time": "2018-01-23T19:44:29.006413Z",
     "start_time": "2018-01-23T19:44:29.000304Z"
    }
   },
   "outputs": [],
   "source": [
    "cod = input_mmm['MODIS_COD_mean'][0,0][ia1:ia2,io1:io2].flatten(order='F')\n",
    "ext = np.append(np.abs(input_mmm['MOC_ext_mean'][0,0][ia1:ia2,io1:io2,:]).reshape([36,30],order='F'),np.zeros([1,30]),axis=0)\n",
    "ssa = input_mmm['MOC_ssa_mean'][0,0][ia1:ia2,io1:io2,:].reshape([36,30],order='F')\n",
    "asy = input_mmm['MOC_asym_mean'][0,0][ia1:ia2,io1:io2,:].reshape([36,30],order='F')"
   ]
  },
  {
   "cell_type": "code",
   "execution_count": 84,
   "metadata": {
    "ExecuteTime": {
     "end_time": "2018-01-22T19:06:02.843830Z",
     "start_time": "2018-01-22T19:06:02.840071Z"
    }
   },
   "outputs": [],
   "source": [
    "cloud['ref'] = np.nanmean(input_mmm['MODIS_effrad_mean'][0,0][ia1:ia2,io1:io2])"
   ]
  },
  {
   "cell_type": "markdown",
   "metadata": {},
   "source": [
    "# Prepare the inputs"
   ]
  },
  {
   "cell_type": "code",
   "execution_count": null,
   "metadata": {},
   "outputs": [],
   "source": [
    "pmom_solar = RL.make_pmom_inputs(fp_rtm=fp_pmom,source='solar')\n",
    "pmom_thermal = RL.make_pmom_inputs(fp_rtm=fp_pmom,source='thermal')\n",
    "max_nmom=20\n",
    "pmom_solar['max_nmoms'] = max_nmom\n",
    "pmom_thermal['max_nmoms'] = max_nmom"
   ]
  },
  {
   "cell_type": "markdown",
   "metadata": {},
   "source": [
    "# Start the writing out"
   ]
  },
  {
   "cell_type": "code",
   "execution_count": null,
   "metadata": {},
   "outputs": [],
   "source": [
    "change_fp_output = True\n",
    "#if aero_clear:\n",
    "#    std_label = '_clear'"
   ]
  },
  {
   "cell_type": "code",
   "execution_count": null,
   "metadata": {},
   "outputs": [],
   "source": [
    "fp_out2 = fp_out+mmm+std_label+'/'\n",
    "if not os.path.exists(fp_out2):\n",
    "    os.mkdir(fp_out2)\n",
    "if change_fp_output:\n",
    "    fp_output = fp_out2.replace('input','output')\n",
    "    if not os.path.exists(fp_output):\n",
    "        os.mkdir(fp_output)\n",
    "fp_base_file = fp_out2+'base.inp'\n",
    "make_base = True"
   ]
  },
  {
   "cell_type": "code",
   "execution_count": null,
   "metadata": {},
   "outputs": [],
   "source": [
    "if dowrite: \n",
    "    ff = 'AAC_list_file_{m}_{v}{lbl}.sh'.format(m=mmm,v=vv,lbl=std_label)\n",
    "    file_list = file(fp_out+ff,'w')\n",
    "    print 'Starting list file: '+fp_out+ff"
   ]
  },
  {
   "cell_type": "code",
   "execution_count": null,
   "metadata": {},
   "outputs": [],
   "source": [
    "aero['wvl_arr'] = input_mmm['MOC_wavelengths'][0,0][0,:]*1000.0"
   ]
  },
  {
   "cell_type": "code",
   "execution_count": null,
   "metadata": {},
   "outputs": [],
   "source": [
    "print 'Running through the permutations'\n",
    "for icod,c in enumerate(cod):\n",
    "    for iext,e in enumerate(ext):\n",
    "        for issa,s in enumerate(ssa):\n",
    "            for iasy,a in enumerate(asy):\n",
    "                # set the aerosol values\n",
    "                aero['ext'] = e\n",
    "                aero['ext'][aero['ext']<0.0] = 0.0\n",
    "                if np.isnan(aero['ext']).all():\n",
    "                    print 'skipping cod:%i, ext:%i, ssa:%i, asy:%i' % (icod,iext,issa,iasy)\n",
    "                    continue\n",
    "                aero['ssa'] = s\n",
    "                aero['asy'] = a\n",
    "\n",
    "                #sanitize inputs after adding subtracting standard deviations\n",
    "                try: aero['ssa'][aero['ssa']<0.0] = 0.0\n",
    "                except: pass\n",
    "                try: aero['ssa'][aero['ssa']>1.0] = 1.0\n",
    "                except: pass\n",
    "                try: aero['asy'][aero['asy']<0.0] = 0.0\n",
    "                except: pass\n",
    "                try: aero['asy'][aero['asy']>1.0] = 1.0\n",
    "                except: pass\n",
    "\n",
    "                if aero['wvl_arr'].max()<100000.0:\n",
    "                    aero['wvl_arr'] = np.append(aero['wvl_arr'],100000.0)\n",
    "                    aero['ext'] = np.append(aero['ext'],e[-1])\n",
    "                    aero['ssa'] = np.append(aero['ssa'],s[-1])\n",
    "                    aero['asy'] = np.append(aero['asy'],a[-1])\n",
    "                # set the cloud values\n",
    "                cloud['tau'] = c\n",
    "                try: cloud['tau'][cloud['tau']<0.0] = 0.0\n",
    "                except: pass\n",
    "                try: cloud['ref'][cloud['ref']<2.0] = 2.0\n",
    "                except: pass\n",
    "\n",
    "                cloud['link_to_mom_file'] = False\n",
    "                aero['link_to_mom_file'] = False\n",
    "                cloud_file_name_sol = fp_out2+'AAC_input_cod%02i_ext%02i_ssa%02i_asy%02i_%s_sol.inp_cloud' % (icod,iext,issa,iasy,mmm)\n",
    "                cloud_file_name_thm = fp_out2+'AAC_input_cod%02i_ext%02i_ssa%02i_asy%02i_%s_thm.inp_cloud' % (icod,iext,issa,iasy,mmm)\n",
    "                aero['file_name'] = fp_out2+'AAC_input_cod%02i_ext%02i_ssa%02i_asy%02i_%s_sol.inp_aero' % (icod,iext,issa,iasy,mmm)\n",
    "\n",
    "                for HH in xrange(24):\n",
    "                    geo['hour'] = HH\n",
    "                    #build the solar input file\n",
    "                    source['source'] = 'solar'\n",
    "                    source['wvl_range'] = [250,5600]\n",
    "                    source['wvl_filename'] = None\n",
    "                    cloud['moms_dict'] = pmom_solar\n",
    "                    cloud['file_name'] = cloud_file_name_sol\n",
    "                    file_out_sol = fp_out2+'AAC_input_cod%02i_ext%02i_ssa%02i_asy%02i_%s_HH%02i_sol.inp' % (icod,iext,issa,iasy,mmm,HH)\n",
    "                    if dowrite:\n",
    "                        RL.write_input_aac(file_out_sol,geo=geo,aero=aero,cloud=cloud,source=source,albedo=albedo,verbose=False,\n",
    "                                       make_base=make_base,fp_base_file=fp_base_file,set_quiet=True,solver='rodents')\n",
    "                    if make_base:\n",
    "                        make_base = False\n",
    "                    #build the thermal input file\n",
    "                    source['source'] = 'thermal'\n",
    "                    if wvl_file_thm:\n",
    "                        source['wvl_filename'] = wvl_file_thm\n",
    "                    else:\n",
    "                        source['wvl_range'] = [4000,50000-1]\n",
    "                        source['wvl_filename'] = None\n",
    "                    cloud['moms_dict'] = pmom_thermal\n",
    "                    cloud['file_name'] = cloud_file_name_thm\n",
    "                    file_out_thm = fp_out2+'AAC_input_cod%02i_ext%02i_ssa%02i_asy%02i_%s_HH%02i_thm.inp' % (icod,iext,issa,iasy,mmm,HH)\n",
    "\n",
    "                    if dowrite:\n",
    "                        RL.write_input_aac(file_out_thm,geo=geo,aero=aero,cloud=cloud,source=source,albedo=albedo,verbose=False,\n",
    "                                       make_base=False,fp_base_file=fp_base_file,set_quiet=True,solver='rodents')\n",
    "                        file_list.write(fp_uvspec+' < '+file_out_sol+' > '+fp_output\n",
    "                                    +'AAC_input_cod%02i_ext%02i_ssa%02i_asy%02i_%s_HH%02i_sol.out\\n' % (icod,iext,issa,iasy,mmm,HH))\n",
    "                        file_list.write(fp_uvspec+' < '+file_out_thm+' > '+fp_output\n",
    "                                    +'AAC_input_cod%02i_ext%02i_ssa%02i_asy%02i_%s_HH%02i_thm.out\\n' % (icod,iext,issa,iasy,mmm,HH))\n",
    "                    if not cloud['link_to_mom_file']:\n",
    "                        cloud['link_to_mom_file'] = True\n",
    "                    if not aero['link_to_mom_file']:\n",
    "                        aero['link_to_mom_file'] = True\n",
    "                    print mmm,icod,iext,issa,iasy,HH\n",
    "file_list.close()"
   ]
  }
 ],
 "metadata": {
  "kernelspec": {
   "display_name": "Python 2",
   "language": "python",
   "name": "python2"
  },
  "language_info": {
   "codemirror_mode": {
    "name": "ipython",
    "version": 2
   },
   "file_extension": ".py",
   "mimetype": "text/x-python",
   "name": "python",
   "nbconvert_exporter": "python",
   "pygments_lexer": "ipython2",
   "version": "2.7.12"
  },
  "toc": {
   "nav_menu": {},
   "number_sections": true,
   "sideBar": false,
   "skip_h1_title": false,
   "toc_cell": false,
   "toc_position": {},
   "toc_section_display": "block",
   "toc_window_display": false
  },
  "varInspector": {
   "cols": {
    "lenName": 16,
    "lenType": 16,
    "lenVar": 40
   },
   "kernels_config": {
    "python": {
     "delete_cmd_postfix": "",
     "delete_cmd_prefix": "del ",
     "library": "var_list.py",
     "varRefreshCmd": "print(var_dic_list())"
    },
    "r": {
     "delete_cmd_postfix": ") ",
     "delete_cmd_prefix": "rm(",
     "library": "var_list.r",
     "varRefreshCmd": "cat(var_dic_list()) "
    }
   },
   "types_to_exclude": [
    "module",
    "function",
    "builtin_function_or_method",
    "instance",
    "_Feature"
   ],
   "window_display": false
  }
 },
 "nbformat": 4,
 "nbformat_minor": 2
}
