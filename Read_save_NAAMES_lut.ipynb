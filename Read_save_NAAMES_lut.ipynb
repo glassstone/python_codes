{
 "cells": [
  {
   "cell_type": "markdown",
   "metadata": {},
   "source": [
    "Name:  \n",
    "\n",
    "    Read_save_NAAMES_lut\n",
    "\n",
    "Purpose:  \n",
    "\n",
    "    Read the output files from the NAAMES lut after libradran run. \n",
    "    Based on inputs created by Prepare_NAAMES_lut\n",
    "\n",
    "Calling Sequence:\n",
    "\n",
    "    python Read_save_NAAMES_lut\n",
    "  \n",
    "Input:\n",
    "\n",
    "    none\n",
    "\n",
    "Output:\n",
    "   \n",
    "    Save matlab file of lut files\n",
    "  \n",
    "Keywords:\n",
    "\n",
    "    none\n",
    "  \n",
    "Dependencies:\n",
    "\n",
    "    - numpy\n",
    "    - scipy : for saving and reading\n",
    "    - Run_Libradtran\n",
    "\n",
    "  \n",
    "Needed Files:\n",
    "\n",
    "  - ...\n",
    "    \n",
    "History:\n",
    "\n",
    "    Written: Samuel LeBlanc, NASA Ames, 2015-10-14"
   ]
  },
  {
   "cell_type": "markdown",
   "metadata": {},
   "source": [
    "# Prepare the python environment"
   ]
  },
  {
   "cell_type": "code",
   "execution_count": 2,
   "metadata": {
    "collapsed": true
   },
   "outputs": [],
   "source": [
    "import numpy as np\n",
    "import Run_libradtran as RL\n",
    "import scipy.io as sio\n",
    "import os"
   ]
  },
  {
   "cell_type": "code",
   "execution_count": 5,
   "metadata": {
    "collapsed": true
   },
   "outputs": [],
   "source": [
    "if os.sys.platform == 'win32':\n",
    "    fp = 'C:\\\\Users\\\\sleblan2\\\\Research\\\\NAAMES\\\\'\n",
    "    fp_rtm = 'C:\\\\Users\\\\sleblan2\\\\Research\\\\NAAMES\\\\rtm\\\\'\n",
    "elif os.sys.platform == 'linux2':\n",
    "    fp = '/u/sleblan2/NAAMES/'\n",
    "    fp_rtm = '/nobackup/sleblan2/rtm/'\n",
    "else:\n",
    "    raise Exception"
   ]
  },
  {
   "cell_type": "markdown",
   "metadata": {},
   "source": [
    "# Setup the variables used for lut"
   ]
  },
  {
   "cell_type": "code",
   "execution_count": 6,
   "metadata": {
    "collapsed": true
   },
   "outputs": [],
   "source": [
    "vv = 'v2'\n",
    "mu = np.arange(1.05,4.0,0.2)\n",
    "sza = np.round(np.arccos(1.0/mu)*180.0/np.pi)\n",
    "tau = np.array([0.1,0.2,0.3,0.5,0.75,1.0,1.5,2.0,2.5,3.0,4.0,5.0,\n",
    "       6.0,7.0,8.0,9.0,10.0,12.5,15.0,17.5,20.0,25.0,30.0,40.0,50.0,\n",
    "       60.0,70.0,80.0,100.0])\n",
    "ref = np.append(np.append(np.arange(2,15),np.arange(15,30,2)),np.ceil(np.arange(30,61,2.5)))\n",
    "zout = [0.2,3.0,100.0]"
   ]
  },
  {
   "cell_type": "code",
   "execution_count": 7,
   "metadata": {
    "collapsed": true
   },
   "outputs": [],
   "source": [
    "fp_out = os.path.join(fp_rtm,'output','%s_NAAMES'%vv)"
   ]
  },
  {
   "cell_type": "code",
   "execution_count": null,
   "metadata": {
    "collapsed": true
   },
   "outputs": [],
   "source": [
    "dat = RL.read_lut(fp_out,zout=zout,tau=tau,ref=ref,sza=sza,\n",
    "                  phase=['wc','ic'],\n",
    "                  fmt='lut_sza{sza:02i}_ref{tau:02.1f}_tau{ref:03.1f}_{phase}_w{iwvl:1i}.dat',\n",
    "                  split_wvl=True)"
   ]
  },
  {
   "cell_type": "code",
   "execution_count": null,
   "metadata": {
    "collapsed": true
   },
   "outputs": [],
   "source": [
    "print 'Saving matlab file'"
   ]
  },
  {
   "cell_type": "code",
   "execution_count": null,
   "metadata": {
    "collapsed": true
   },
   "outputs": [],
   "source": [
    "sio.savemat(fp+'{}_NAAMES_lut.mat'.format(vv),dat)"
   ]
  }
 ],
 "metadata": {
  "kernelspec": {
   "display_name": "Python 2",
   "language": "python",
   "name": "python2"
  },
  "language_info": {
   "codemirror_mode": {
    "name": "ipython",
    "version": 2
   },
   "file_extension": ".py",
   "mimetype": "text/x-python",
   "name": "python",
   "nbconvert_exporter": "python",
   "pygments_lexer": "ipython2",
   "version": "2.7.6"
  }
 },
 "nbformat": 4,
 "nbformat_minor": 0
}
