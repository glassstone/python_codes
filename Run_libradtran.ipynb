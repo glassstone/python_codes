{
 "metadata": {
  "name": "",
  "signature": "sha256:4db526e5b117e54fe98be37580608ceab4a8a006b360456759e39e3e23b28dd7"
 },
 "nbformat": 3,
 "nbformat_minor": 0,
 "worksheets": [
  {
   "cells": [
    {
     "cell_type": "markdown",
     "metadata": {
      "variables": {}
     },
     "source": [
      "Name:  \n",
      "\n",
      "    Run_libradtran\n",
      "\n",
      "Purpose:  \n",
      "\n",
      "    Python modules that combine the different modules used for writing and reading libradtran files. \n",
      "    Used with libradtran 2.0\n",
      "    Same outputs as IDL procedures 'write_inp_mix.pro' but for libradtran 2.0\n",
      "\n",
      "Calling Sequence:\n",
      "\n",
      "    import Run_libradtran as RL\n",
      "  \n",
      "Input:\n",
      "\n",
      "    none at command line\n",
      "    see methods of module\n",
      "\n",
      "Output:\n",
      "   \n",
      "    input files for libradtran 2.0 (uvspec) \n",
      "  \n",
      "Keywords:\n",
      "\n",
      "    none\n",
      "  \n",
      "Dependencies:\n",
      "\n",
      "    - numpy\n",
      "    - scipy : for saving and reading\n",
      "    - math\n",
      "    - pdb\n",
      "    - datetime\n",
      "\n",
      "  \n",
      "Needed Files:\n",
      "\n",
      "  - ..."
     ]
    },
    {
     "cell_type": "code",
     "collapsed": false,
     "input": [],
     "language": "python",
     "metadata": {
      "run_control": {
       "breakpoint": false
      }
     },
     "outputs": []
    }
   ],
   "metadata": {}
  }
 ]
}