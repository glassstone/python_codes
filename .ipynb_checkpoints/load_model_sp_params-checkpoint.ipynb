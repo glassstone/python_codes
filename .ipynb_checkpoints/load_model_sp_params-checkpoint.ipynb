{
 "metadata": {
  "css": [
   ""
  ],
  "name": "",
  "signature": "sha256:02b119cafc04c68e9a401cb28791433830d4ff90d3391dd24cada4a93a346dcb"
 },
 "nbformat": 3,
 "nbformat_minor": 0,
 "worksheets": [
  {
   "cells": [
    {
     "cell_type": "markdown",
     "metadata": {
      "heading_collapsed": false,
      "slideshow": {
       "slide_type": "slide"
      },
      "variables": {}
     },
     "source": [
      "Name:  \n",
      "\n",
      "    load_model_sp_params\n",
      "\n",
      "Purpose:  \n",
      "\n",
      "    Python script that is used to step through the building and use of the parameters from TCAP\n",
      "    Starts with the measured 4STAR zenith radiances, then loads the idl save file containing the modeled lut for that day\n",
      "    Regroups all the necessary steps to build all the figures used to analyze the data\n",
      "    Runs the ki^2 retrieval with 15 parameters\n",
      "    plots the results\n",
      "    Compares to MODIS retrievals for that day\n",
      "\n",
      "Calling Sequence:\n",
      "\n",
      "    python load_model_sp_params.py\n",
      "  \n",
      "Input:\n",
      "\n",
      "    none at command line\n",
      "  \n",
      "Output:\n",
      "\n",
      "    figures and save files...\n",
      "  \n",
      "Keywords:\n",
      "\n",
      "    none\n",
      "  \n",
      "Dependencies:\n",
      "\n",
      "    - Sp_parameters.py : for Sp class definition, and for defining the functions used to build parameters\n",
      "    - run_kisq_retrieval.py : for the retrieval functions\n",
      "    - load_modis.py : for loading modis files\n",
      "    - matplotlib\n",
      "    - mpltools\n",
      "    - numpy\n",
      "    - plotly : optional\n",
      "    - scipy : for saving and reading\n",
      "    - math\n",
      "    - os\n",
      "    - gc\n",
      "    - pdb\n",
      "    - datetime\n",
      "    - pyhdf\n",
      "    - mpl_toolkits\n",
      "    - gdal (from osgeo)\n",
      "  \n",
      "Needed Files:\n",
      "\n",
      "  - file.rc : for consistent creation of look of matplotlib figures\n",
      "  - sp_v1_20130219_4STAR.out : modeled spectra output for TCAP in idl save file\n",
      "  - 20130219starzen_rad.mat : special zenith radiance 4star matlab file "
     ]
    },
    {
     "cell_type": "code",
     "collapsed": false,
     "input": [
      "%config InlineBackend.rc = {}\n",
      "import matplotlib \n",
      "matplotlib.rc_file('C:\\\\Users\\\\sleblan2\\\\Research\\\\python_codes\\\\file.rc')\n",
      "import matplotlib.pyplot as plt\n",
      "import matplotlib.colors as colors\n",
      "from mpltools import color\n",
      "%matplotlib inline"
     ],
     "language": "python",
     "metadata": {
      "run_control": {
       "breakpoint": false,
       "read_only": false,
       "state": "n"
      },
      "slideshow": {
       "slide_type": "skip"
      }
     },
     "outputs": [],
     "prompt_number": 1
    },
    {
     "cell_type": "code",
     "collapsed": false,
     "input": [
      "import numpy as np, h5py\n",
      "import plotly.plotly as py\n",
      "import scipy.io as sio\n",
      "import math\n",
      "import os\n",
      "import warnings\n",
      "warnings.simplefilter('ignore', np.RankWarning)\n",
      "import Sp_parameters as Sp\n",
      "py.sign_in(\"samuelleblanc\", \"4y3khh7ld4\")\n",
      "#import mpld3\n",
      "#mpld3.enable_notbeook()"
     ],
     "language": "python",
     "metadata": {
      "run_control": {
       "breakpoint": false,
       "read_only": false,
       "state": "n"
      },
      "slideshow": {
       "slide_type": "skip"
      }
     },
     "outputs": [],
     "prompt_number": 2
    },
    {
     "cell_type": "code",
     "collapsed": false,
     "input": [
      "# set the basic directory path\n",
      "fp='C:\\\\Users\\\\sleblan2\\\\Research\\\\TCAP\\\\'"
     ],
     "language": "python",
     "metadata": {
      "run_control": {
       "breakpoint": false,
       "read_only": false,
       "state": "n"
      },
      "slideshow": {
       "slide_type": "skip"
      }
     },
     "outputs": [],
     "prompt_number": 3
    },
    {
     "cell_type": "code",
     "collapsed": false,
     "input": [
      "# load the idl save file containing the modeled radiances\n",
      "s=sio.idl.readsav(fp+'model/sp_v1_20130219_4STAR.out')\n",
      "print s.keys()\n",
      "print 'sp', s.sp.shape\n",
      "print 'sp (wp, wvl, z, re, ta)'"
     ],
     "language": "python",
     "metadata": {
      "run_control": {
       "breakpoint": false,
       "read_only": false,
       "state": "n"
      },
      "slideshow": {
       "slide_type": "slide"
      }
     },
     "outputs": [
      {
       "output_type": "stream",
       "stream": "stdout",
       "text": [
        "['tau', 'ab', 'pw', 'sp_irrdn', 'sp', 'zenlambda', 'sza', 'zout', 'sp_irrup', 'z', 'ref']\n",
        "sp (2, 1556, 2, 35, 24)\n",
        "sp (wp, wvl, z, re, ta)\n"
       ]
      }
     ],
     "prompt_number": 4
    },
    {
     "cell_type": "code",
     "collapsed": false,
     "input": [
      "# create custom key for sorting via wavelength\n",
      "iwvls = np.argsort(s.zenlambda)\n",
      "s.wv = np.sort(s.zenlambda)"
     ],
     "language": "python",
     "metadata": {
      "run_control": {
       "breakpoint": false,
       "read_only": false,
       "state": "n"
      },
      "slideshow": {
       "slide_type": "subslide"
      }
     },
     "outputs": [],
     "prompt_number": 5
    },
    {
     "cell_type": "code",
     "collapsed": false,
     "input": [
      "# load the matlab file containing the measured TCAP radiances\n",
      "m = sio.loadmat(fp+'4STAR/20130219starzen_rad.mat')\n",
      "sm = sio.idl.AttrDict(m)\n",
      "print sm.keys()\n",
      "print 'Measured radiance Shape: ', sm.rad.shape\n",
      "\n",
      "print np.nanmax(sm.rad[sm.good[100],:])\n",
      "sm.good[100]\n",
      "print sm.good.shape, sm.good.max()"
     ],
     "language": "python",
     "metadata": {
      "run_control": {
       "breakpoint": false,
       "read_only": false,
       "state": "n"
      },
      "slideshow": {
       "slide_type": "subslide"
      }
     },
     "outputs": [
      {
       "output_type": "stream",
       "stream": "stdout",
       "text": [
        "['utc', 'rad', 'good', 'nm', '__version__', '__header__', '__globals__']\n",
        "Measured radiance Shape:  (3296, 1512)\n",
        "0.110006678277\n",
        "(823, 1) 3276\n"
       ]
      }
     ],
     "prompt_number": 6
    },
    {
     "cell_type": "heading",
     "level": 4,
     "metadata": {},
     "source": [
      "Next section loads a few functions that can be used for typical analysis"
     ]
    },
    {
     "cell_type": "code",
     "collapsed": false,
     "input": [
      "from Sp_parameters import nanmasked, closestindex, norm2max\n",
      "    \n",
      "time_ref=17.22\n",
      "ii = closestindex(sm.utc,time_ref)\n",
      "rad,mask = nanmasked(sm.rad[sm.good[ii],:])"
     ],
     "language": "python",
     "metadata": {
      "run_control": {
       "breakpoint": false,
       "read_only": false,
       "state": "n"
      }
     },
     "outputs": [],
     "prompt_number": 7
    },
    {
     "cell_type": "heading",
     "level": 4,
     "metadata": {},
     "source": [
      "Plotting functions defined"
     ]
    },
    {
     "cell_type": "code",
     "collapsed": false,
     "input": [
      "# set up plotting of a few of the zenith radiance spectra\n",
      "def pltzen(fig=None,ax=None, tit='Zenith spectra'):\n",
      "    \"Plotting of zenith measurements in radiance units\"\n",
      "    if ax is None: \n",
      "        fig,ax = plt.subplots()\n",
      "        doaxes = True\n",
      "    else:\n",
      "        doaxes = False\n",
      "    ax.plot(sm.nm[mask],rad,lw=2, c='k', label='4STAR measured at: '+str(time_ref))\n",
      "    if doaxes:\n",
      "        plt.title(tit)\n",
      "        plt.ylabel('Radiance [Wm$^{-2}$nm$^{-1}$sr$^{-1}$]')\n",
      "        plt.xlabel('Wavelength [nm]')\n",
      "        plt.xlim([350,1700])\n",
      "        plt.ylim([0,0.22])\n",
      "        plt.legend(frameon=False)\n",
      "    #plot_url = py.plot_mpl(fig)\n",
      "    return fig,ax\n",
      "\n",
      "def norm(fig=None,ax=None):\n",
      "    \"Plotting of zenith measurements in normalized radiance\"\n",
      "    if ax is None:\n",
      "        fig,ax = plt.subplots()\n",
      "        doaxes = True\n",
      "    else:\n",
      "        doaxes = False\n",
      "    ax.plot(sm.nm[mask],norm2max(rad),lw=2, c='k', label='4STAR measured at: '+str(time_ref))\n",
      "    if doaxes:\n",
      "        plt.title('Zenith spectra')\n",
      "        plt.ylabel('Normalized Radiance')\n",
      "        plt.xlabel('Wavelength [nm]')\n",
      "        plt.xlim([350,1700])\n",
      "        plt.ylim([0,1.0])\n",
      "        plt.legend(frameon=False)\n",
      "    #plot_url = py.plot_mpl(fig)\n",
      "    return fig,ax\n",
      "\n",
      "def dashlen(dashlength,dashseperation,fig=plt.gcf()):\n",
      "    \"\"\" Build a list of dash length that fits within the current figure or figure denoted by fig, \n",
      "        each dash is length dashlength, with its centers at dashseperation \"\"\"\n",
      "    totallen = fig.get_figwidth()\n",
      "    numdash = int(totallen/dashseperation)*2\n",
      "    f=lambda i: dashlength if i%2==0 else dashseperation-dashlength\n",
      "    return tuple([f(i) for i in range(numdash)])\n",
      "\n",
      "def plot_line_gradients(ax,s,names,cmap,iphase,irefs,itau,iwvls,pos,normalize=False):\n",
      "    \"\"\" Make multiple lines on the subplot ax of the spectra s, for the case defined by names with the cmap\n",
      "      for one particular phase (iphase), range of refs (irefs) and at one itau. Returns the axis handles for the thin and thick ref \"\"\"\n",
      "    rf = range(irefs[0],irefs[1])\n",
      "    colors = plt.cm._generate_cmap(cmap,int(len(rf)*2.25))\n",
      "    for ir in rf:\n",
      "        if not(normalize):\n",
      "            a1 = ax.plot(s.wv,s.sp[iphase,iwvls,0,ir,itau],\n",
      "                         color=(0.2,0.2,0.2),\n",
      "                         lw=1.8*ir/irefs[1])\n",
      "            ax.plot(s.wv,s.sp[iphase,iwvls,0,ir,itau],\n",
      "                     color=colors(ir),\n",
      "                     lw=1.7*ir/irefs[1])\n",
      "            ax.text(pos[0],pos[1],names,color=colors(irefs[1]))\n",
      "        else:\n",
      "            a1 = ax.plot(s.wv,norm2max(s.sp[iphase,iwvls,0,ir,itau]),\n",
      "                         color=(0.2,0.2,0.2),\n",
      "                         lw=1.8*ir/irefs[1])\n",
      "            ax.plot(s.wv,norm2max(s.sp[iphase,iwvls,0,ir,itau]),\n",
      "                     color=colors(ir),\n",
      "                     lw=1.7*ir/irefs[1])    \n",
      "            ax.text(pos[0],pos[1]/0.22,names,color=colors(irefs[1]))\n",
      "        if ir == rf[0]:\n",
      "            alow = a1\n",
      "        if ir == rf[-1]:\n",
      "            ahigh = a1\n",
      "    return [alow,ahigh]\n",
      "\n",
      "def plot_greys(fig=None,ax=None):\n",
      "    \" Plotting of grey regions that indicates the different wavelenght regions where the parameters are defined. \"\n",
      "    cl = '#BBBBBB'\n",
      "    plt.axvspan(1000,1077,color=cl) #eta1\n",
      "    plt.axvspan(1192,1194,color=cl) #eta2\n",
      "    plt.axvspan(1492,1494,color=cl) #eta3\n",
      "    plt.axvspan(1197,1199,color=cl); plt.axvspan(1235,1237,color=cl);  #eta4\n",
      "    plt.axvspan(1248,1270,color=cl) #eta5\n",
      "    plt.axvspan(1565,1644,color=cl) #eta6\n",
      "    plt.axvspan(1000,1050,color=cl) #eta7\n",
      "    plt.axvspan(1493,1600,color=cl) #eta8\n",
      "    plt.axvspan(1000,1077,color=cl) #eta9\n",
      "    plt.axvspan(1200,1300,color=cl) #eta10\n",
      "    plt.axvspan(530 ,610 ,color=cl) #eta11\n",
      "    plt.axvspan(1039,1041,color=cl) #eta12\n",
      "    plt.axvspan(999 ,1001,color=cl); plt.axvspan(1064,1066,color=cl);  #eta13\n",
      "    plt.axvspan(599 ,601 ,color=cl); plt.axvspan(869 ,871 ,color=cl);  #eta14\n",
      "    plt.axvspan(1565,1634,color=cl); #eta15\n",
      "    "
     ],
     "language": "python",
     "metadata": {
      "run_control": {
       "breakpoint": false,
       "read_only": false,
       "state": "n"
      }
     },
     "outputs": [
      {
       "metadata": {},
       "output_type": "display_data",
       "text": [
        "<matplotlib.figure.Figure at 0x5c23290>"
       ]
      }
     ],
     "prompt_number": 8
    },
    {
     "cell_type": "heading",
     "level": 3,
     "metadata": {},
     "source": [
      "Plotting iterations"
     ]
    },
    {
     "cell_type": "code",
     "collapsed": false,
     "input": [
      "fig,ax=pltzen()"
     ],
     "language": "python",
     "metadata": {
      "run_control": {
       "breakpoint": false,
       "read_only": false,
       "state": "n"
      }
     },
     "outputs": [
      {
       "metadata": {},
       "output_type": "display_data",
       "png": "[encoded data removed]",
       "text": [
        "<matplotlib.figure.Figure at 0x9e11e10>"
       ]
      }
     ],
     "prompt_number": 9
    },
    {
     "cell_type": "markdown",
     "metadata": {
      "variables": {}
     },
     "source": [
      "Next figure with modeled spectra"
     ]
    },
    {
     "cell_type": "code",
     "collapsed": false,
     "input": [
      "# now go through and add the different modeled spectra\n",
      "fig,ax=pltzen()\n",
      "\n",
      "lines = [('Liquid Cloud Model, COD=0.5','Reds',0,[0,13],1,[420,0.01]),\n",
      "         ('Ice Cloud Model, COD=0.5','Greens',1,[13,34],1,[380,0.02]),\n",
      "         ('Liquid Cloud Model, COD=10','Purples',0,[0,13],9,[700,0.16]),\n",
      "         ('Ice Cloud Model, COD=10','Blues',1,[13,34],9,[750,0.15])]\n",
      "\n",
      "for names,cmap,iphase,irefs,itau,pos in lines:\n",
      "    [alow,ahigh] = plot_line_gradients(ax,s,names,cmap,iphase,irefs,itau,iwvls,pos)\n",
      "    \n",
      "lbl=[\"Small R$_{eff}$ (Ice=\" + str(s.ref[34]) + \" $\\mu m$, Liquid=\" + str(s.ref[13]) + \" $\\mu m$)\",\n",
      "     \"Large R$_{eff}$ (Ice=\" + str(s.ref[13]) + \" $\\mu m$, Liquid=\" + str(s.ref[0]) + \" $\\mu m$)\"]\n",
      "plt.legend([alow[0],ahigh[0]],\n",
      "           lbl,\n",
      "           frameon=False,\n",
      "           loc=7)\n",
      "ax.text(600,0.19,'4STAR Measurement')\n",
      "pltzen(fig,ax)"
     ],
     "language": "python",
     "metadata": {
      "run_control": {
       "breakpoint": false,
       "read_only": false,
       "state": "n"
      }
     },
     "outputs": [
      {
       "metadata": {},
       "output_type": "pyout",
       "prompt_number": 10,
       "text": [
        "(<matplotlib.figure.Figure at 0x9e29790>,\n",
        " <matplotlib.axes.AxesSubplot at 0x9e7c330>)"
       ]
      },
      {
       "metadata": {},
       "output_type": "display_data",
       "png": "[encoded data removed]",
       "text": [
        "<matplotlib.figure.Figure at 0x9e29790>"
       ]
      }
     ],
     "prompt_number": 10
    },
    {
     "cell_type": "heading",
     "level": 3,
     "metadata": {},
     "source": [
      "Next figure with normalized spectra and areas of parameters"
     ]
    },
    {
     "cell_type": "code",
     "collapsed": false,
     "input": [
      "fig,ax=norm()\n",
      "for names,cmap,iphase,irefs,itau,pos in lines:\n",
      "    [alow,ahigh] = plot_line_gradients(ax,s,names,cmap,iphase,irefs,itau,iwvls,pos,normalize=True)\n",
      "plt.legend([alow[0],ahigh[0]],\n",
      "           lbl,\n",
      "           frameon=False,\n",
      "           loc=7)\n",
      "ax.text(600,0.19/0.22,'4STAR Measurement')\n",
      "norm(fig,ax)\n",
      "plot_greys()"
     ],
     "language": "python",
     "metadata": {
      "run_control": {
       "breakpoint": false,
       "read_only": false,
       "state": "n"
      }
     },
     "outputs": [
      {
       "metadata": {},
       "output_type": "display_data",
       "png": "[encoded data removed]",
       "text": [
        "<matplotlib.figure.Figure at 0x9e13cf0>"
       ]
      }
     ],
     "prompt_number": 11
    },
    {
     "cell_type": "heading",
     "level": 3,
     "metadata": {},
     "source": [
      "Now calculate the parameters for the measured spectra"
     ]
    },
    {
     "cell_type": "code",
     "collapsed": false,
     "input": [
      "reload(Sp)\n",
      "if 'meas' in locals():\n",
      "    del meas\n",
      "    import gc; gc.collect()"
     ],
     "language": "python",
     "metadata": {
      "run_control": {
       "breakpoint": false,
       "read_only": false
      }
     },
     "outputs": [],
     "prompt_number": 16
    },
    {
     "cell_type": "code",
     "collapsed": false,
     "input": [
      "# first convert measurements to Sp class, with inherent parameters defined\n",
      "meas = Sp.Sp(m)\n",
      "meas.params()"
     ],
     "language": "python",
     "metadata": {
      "run_control": {
       "breakpoint": false,
       "read_only": false,
       "state": "n"
      }
     },
     "outputs": [
      {
       "output_type": "stream",
       "stream": "stdout",
       "text": [
        "1512 1512\n",
        "in rad\n",
        "(3296, 1512) 2 1512\n",
        "1 in ui\n",
        "(3296, 1512)"
       ]
      },
      {
       "output_type": "stream",
       "stream": "stdout",
       "text": [
        "\n"
       ]
      },
      {
       "ename": "UnboundLocalError",
       "evalue": "local variable 'map' referenced before assignment",
       "output_type": "pyerr",
       "traceback": [
        "\u001b[1;31m---------------------------------------------------------------------------\u001b[0m\n\u001b[1;31mUnboundLocalError\u001b[0m                         Traceback (most recent call last)",
        "\u001b[1;32m<ipython-input-15-7febb26b6e01>\u001b[0m in \u001b[0;36m<module>\u001b[1;34m()\u001b[0m\n\u001b[0;32m      1\u001b[0m \u001b[1;31m# first convert measurements to Sp class, with inherent parameters defined\u001b[0m\u001b[1;33m\u001b[0m\u001b[1;33m\u001b[0m\u001b[0m\n\u001b[0;32m      2\u001b[0m \u001b[0mmeas\u001b[0m \u001b[1;33m=\u001b[0m \u001b[0mSp\u001b[0m\u001b[1;33m.\u001b[0m\u001b[0mSp\u001b[0m\u001b[1;33m(\u001b[0m\u001b[0mm\u001b[0m\u001b[1;33m)\u001b[0m\u001b[1;33m\u001b[0m\u001b[0m\n\u001b[1;32m----> 3\u001b[1;33m \u001b[0mmeas\u001b[0m\u001b[1;33m.\u001b[0m\u001b[0mparams\u001b[0m\u001b[1;33m(\u001b[0m\u001b[1;33m)\u001b[0m\u001b[1;33m\u001b[0m\u001b[0m\n\u001b[0m",
        "\u001b[1;32mC:\\Users\\sleblan2\\Research\\python_codes\\Sp_parameters.py\u001b[0m in \u001b[0;36mparams\u001b[1;34m(self)\u001b[0m\n\u001b[0;32m    295\u001b[0m                 \u001b[0mpar\u001b[0m \u001b[1;33m=\u001b[0m \u001b[0mnp\u001b[0m\u001b[1;33m.\u001b[0m\u001b[0marray\u001b[0m\u001b[1;33m(\u001b[0m\u001b[0mmap\u001b[0m\u001b[1;33m(\u001b[0m\u001b[0mapplypartime\u001b[0m\u001b[1;33m,\u001b[0m\u001b[0mxrange\u001b[0m\u001b[1;33m(\u001b[0m\u001b[0mlen\u001b[0m\u001b[1;33m(\u001b[0m\u001b[0mself\u001b[0m\u001b[1;33m.\u001b[0m\u001b[0mutc\u001b[0m\u001b[1;33m)\u001b[0m\u001b[1;33m)\u001b[0m\u001b[1;33m,\u001b[0m\u001b[0mncpu\u001b[0m\u001b[1;33m=\u001b[0m\u001b[1;36m2\u001b[0m\u001b[1;33m,\u001b[0m\u001b[0mprogress\u001b[0m\u001b[1;33m=\u001b[0m\u001b[0mTrue\u001b[0m\u001b[1;33m)\u001b[0m\u001b[1;33m)\u001b[0m\u001b[1;33m\u001b[0m\u001b[0m\n\u001b[0;32m    296\u001b[0m             \u001b[1;32melse\u001b[0m\u001b[1;33m:\u001b[0m\u001b[1;33m\u001b[0m\u001b[0m\n\u001b[1;32m--> 297\u001b[1;33m                 \u001b[0mpar\u001b[0m \u001b[1;33m=\u001b[0m \u001b[0mnp\u001b[0m\u001b[1;33m.\u001b[0m\u001b[0marray\u001b[0m\u001b[1;33m(\u001b[0m\u001b[0mmap\u001b[0m\u001b[1;33m(\u001b[0m\u001b[0mapplypartime\u001b[0m\u001b[1;33m,\u001b[0m\u001b[0mxrange\u001b[0m\u001b[1;33m(\u001b[0m\u001b[0mlen\u001b[0m\u001b[1;33m(\u001b[0m\u001b[0mself\u001b[0m\u001b[1;33m.\u001b[0m\u001b[0mutc\u001b[0m\u001b[1;33m)\u001b[0m\u001b[1;33m)\u001b[0m\u001b[1;33m)\u001b[0m\u001b[1;33m)\u001b[0m\u001b[1;33m\u001b[0m\u001b[0m\n\u001b[0m\u001b[0;32m    298\u001b[0m             \u001b[0mself\u001b[0m\u001b[1;33m.\u001b[0m\u001b[0mnpar\u001b[0m \u001b[1;33m=\u001b[0m \u001b[0mpar\u001b[0m\u001b[1;33m.\u001b[0m\u001b[0mshape\u001b[0m\u001b[1;33m[\u001b[0m\u001b[1;36m1\u001b[0m\u001b[1;33m]\u001b[0m\u001b[1;33m\u001b[0m\u001b[0m\n\u001b[0;32m    299\u001b[0m         \u001b[1;32melse\u001b[0m\u001b[1;33m:\u001b[0m \u001b[1;32mraise\u001b[0m \u001b[0mLookupError\u001b[0m\u001b[1;33m\u001b[0m\u001b[0m\n",
        "\u001b[1;31mUnboundLocalError\u001b[0m: local variable 'map' referenced before assignment"
       ]
      }
     ],
     "prompt_number": 15
    },
    {
     "cell_type": "markdown",
     "metadata": {
      "variables": {}
     },
     "source": [
      "Plot the parameters for the specified time"
     ]
    },
    {
     "cell_type": "code",
     "collapsed": false,
     "input": [
      "fig2,ax2 = plt.subplots(5,3,sharex=True,figsize=(15,8))\n",
      "ax2 = ax2.ravel()\n",
      "for i in range(meas.npar-1):\n",
      "    ax2[i].plot(meas.utc,Sp.smooth(meas.par[:,i],3))\n",
      "    ax2[i].set_title('Parameter '+str(i))\n",
      "    ax2[i].grid()\n",
      "    ax2[i].set_xlim([17,19])\n",
      "    if i > 11: \n",
      "        ax2[i].set_xlabel('UTC [h]')\n",
      "\n",
      "fig2.tight_layout()\n",
      "plt.show()"
     ],
     "language": "python",
     "metadata": {
      "run_control": {
       "breakpoint": false,
       "read_only": false,
       "state": "n"
      }
     },
     "outputs": []
    },
    {
     "cell_type": "heading",
     "level": 3,
     "metadata": {},
     "source": [
      "Prepare the LUT for the modeled spectra"
     ]
    },
    {
     "cell_type": "code",
     "collapsed": false,
     "input": [
      "reload(Sp)\n",
      "if 'lut' in locals():\n",
      "    del lut\n",
      "    import gc; gc.collect()"
     ],
     "language": "python",
     "metadata": {
      "run_control": {
       "breakpoint": false,
       "read_only": false,
       "state": "n"
      }
     },
     "outputs": []
    },
    {
     "cell_type": "code",
     "collapsed": false,
     "input": [
      "lut = Sp.Sp(s)"
     ],
     "language": "python",
     "metadata": {
      "run_control": {
       "breakpoint": false,
       "read_only": false,
       "state": "n"
      }
     },
     "outputs": []
    },
    {
     "cell_type": "code",
     "collapsed": false,
     "input": [
      "lut.sp_hires()"
     ],
     "language": "python",
     "metadata": {
      "run_control": {
       "breakpoint": false,
       "read_only": false,
       "state": "n"
      }
     },
     "outputs": []
    },
    {
     "cell_type": "code",
     "collapsed": false,
     "input": [
      "lut.params()"
     ],
     "language": "python",
     "metadata": {
      "run_control": {
       "breakpoint": false,
       "read_only": false,
       "state": "n"
      }
     },
     "outputs": []
    },
    {
     "cell_type": "code",
     "collapsed": false,
     "input": [
      "print lut.ref\n",
      "print lut.sp[0,400,0,23,10]\n",
      "print lut.sp[1,400,0,:,10]"
     ],
     "language": "python",
     "metadata": {
      "run_control": {
       "breakpoint": false,
       "read_only": false,
       "state": "n"
      }
     },
     "outputs": []
    },
    {
     "cell_type": "code",
     "collapsed": false,
     "input": [
      "print lut.par.shape"
     ],
     "language": "python",
     "metadata": {
      "run_control": {
       "breakpoint": false,
       "read_only": false,
       "state": "n"
      }
     },
     "outputs": []
    },
    {
     "cell_type": "markdown",
     "metadata": {
      "variables": {}
     },
     "source": [
      "Now plot the resulting lut of parameters"
     ]
    },
    {
     "cell_type": "code",
     "collapsed": false,
     "input": [
      "fig3,ax3 = plt.subplots(5,3,sharex=True,figsize=(15,8))\n",
      "ax3 = ax3.ravel()\n",
      "\n",
      "for i in range(lut.npar-1):\n",
      "    color.cycle_cmap(len(lut.ref[lut.ref<30]),cmap=plt.cm.RdBu,ax=ax3[i])\n",
      "    for j in xrange(len(lut.ref)):\n",
      "        ax3[i].plot(lut.tau,lut.par[0,j,:,i])\n",
      "    ax3[i].set_title('Parameter '+str(i))\n",
      "    ax3[i].grid()\n",
      "    ax3[i].set_xlim([0,100])\n",
      "    if i > 11: \n",
      "        ax3[i].set_xlabel('Tau')\n",
      "\n",
      "fig3.tight_layout()\n",
      "plt.suptitle('Liquid')\n",
      "plt.subplots_adjust(top=0.93,right=0.93)\n",
      "\n",
      "cbar_ax = fig3.add_axes([0.95,0.10,0.02,0.8])\n",
      "scalarmap = plt.cm.ScalarMappable(cmap=plt.cm.RdBu,norm=plt.Normalize(vmin=0,vmax=1))\n",
      "scalarmap.set_array(lut.ref[lut.ref<30])\n",
      "cba = plt.colorbar(scalarmap,ticks=np.linspace(0,1,6),cax=cbar_ax)\n",
      "cba.ax.set_ylabel('R$_{ef}$ [$\\\\mu$m]')\n",
      "cba.ax.set_yticklabels(np.linspace(lut.ref[0],29,6));\n",
      "\n",
      "plt.show()"
     ],
     "language": "python",
     "metadata": {
      "run_control": {
       "breakpoint": false,
       "read_only": false,
       "state": "n"
      }
     },
     "outputs": []
    },
    {
     "cell_type": "code",
     "collapsed": false,
     "input": [
      "fig4,ax4 = plt.subplots(5,3,sharex=True,figsize=(15,8))\n",
      "ax4 = ax4.ravel()\n",
      "\n",
      "for i in range(lut.npar-1):\n",
      "    color.cycle_cmap(len(lut.tau),cmap=plt.cm.gist_ncar,ax=ax4[i])\n",
      "    for j in xrange(len(lut.tau)):\n",
      "        ax4[i].plot(lut.ref,lut.par[0,:,j,i])\n",
      "    ax4[i].set_title('Parameter '+str(i))\n",
      "    ax4[i].grid()\n",
      "    ax4[i].set_xlim([0,30])\n",
      "    if i > 11: \n",
      "        ax4[i].set_xlabel('R$_{ef}$ [$\\mu$m]')\n",
      "\n",
      "fig4.tight_layout()\n",
      "plt.suptitle('Liquid')\n",
      "plt.subplots_adjust(top=0.93,right=0.93)\n",
      "\n",
      "cbar_ax = fig4.add_axes([0.95,0.10,0.02,0.8])\n",
      "scalarmap = plt.cm.ScalarMappable(cmap=plt.cm.gist_ncar,norm=plt.Normalize(vmin=0,vmax=1))\n",
      "scalarmap.set_array(lut.tau)\n",
      "cba = plt.colorbar(scalarmap,ticks=np.linspace(0,1,6),cax=cbar_ax)\n",
      "cba.ax.set_ylabel('$\\\\tau$')\n",
      "labels = ['%5.1f' %F for F in np.linspace(lut.tau[0],lut.tau[-1],6)]\n",
      "cba.ax.set_yticklabels(labels);\n",
      "\n",
      "plt.show()"
     ],
     "language": "python",
     "metadata": {
      "run_control": {
       "breakpoint": false,
       "read_only": false,
       "state": "n"
      }
     },
     "outputs": []
    },
    {
     "cell_type": "code",
     "collapsed": false,
     "input": [
      "fig5,ax5 = plt.subplots(5,3,sharex=True,figsize=(15,8))\n",
      "ax5 = ax5.ravel()\n",
      "\n",
      "for i in range(lut.npar-1):\n",
      "    color.cycle_cmap(len(lut.ref),cmap=plt.cm.RdBu,ax=ax5[i])\n",
      "    for j in xrange(len(lut.ref)):\n",
      "        ax5[i].plot(lut.tau,lut.par[1,j,:,i])\n",
      "    ax5[i].set_title('Parameter '+str(i))\n",
      "    ax5[i].grid()\n",
      "    ax5[i].set_xlim([0,100])\n",
      "    if i > 11: \n",
      "        ax5[i].set_xlabel('Tau')\n",
      "\n",
      "fig5.tight_layout()\n",
      "plt.suptitle('Ice')\n",
      "plt.subplots_adjust(top=0.93,right=0.93)\n",
      "cbar_ax = fig5.add_axes([0.95,0.10,0.02,0.8])\n",
      "scalarmap = plt.cm.ScalarMappable(cmap=plt.cm.RdBu,norm=plt.Normalize(vmin=0,vmax=1))\n",
      "scalarmap.set_array(lut.ref)\n",
      "cba = plt.colorbar(scalarmap,ticks=np.linspace(0,1,6),cax=cbar_ax)\n",
      "cba.ax.set_ylabel('R$_{ef}$ [$\\\\mu$m]')\n",
      "cba.ax.set_yticklabels(np.linspace(lut.ref[0],lut.ref[-1],6));\n",
      "plt.show()"
     ],
     "language": "python",
     "metadata": {
      "run_control": {
       "breakpoint": false,
       "read_only": false,
       "state": "n"
      }
     },
     "outputs": []
    },
    {
     "cell_type": "code",
     "collapsed": false,
     "input": [
      "fig6,ax6 = plt.subplots(5,3,sharex=True,figsize=(15,8))\n",
      "ax6 = ax6.ravel()\n",
      "for i in range(lut.npar-1):\n",
      "    color.cycle_cmap(len(lut.tau),cmap=plt.cm.gist_ncar,ax=ax6[i])\n",
      "    for j in xrange(len(lut.tau)):\n",
      "        ax6[i].plot(lut.ref,lut.par[1,:,j,i])\n",
      "    ax6[i].set_title('Parameter '+str(i))\n",
      "    ax6[i].grid()\n",
      "    ax6[i].set_xlim([0,50])\n",
      "    if i > 11: \n",
      "        ax6[i].set_xlabel('R$_{ef}$ [$\\mu$m]')\n",
      "\n",
      "fig6.tight_layout()\n",
      "plt.suptitle('Ice')\n",
      "plt.subplots_adjust(top=0.93,right=0.93)\n",
      "cbar_ax = fig6.add_axes([0.95,0.10,0.02,0.8])\n",
      "scalarmap = plt.cm.ScalarMappable(cmap=plt.cm.gist_ncar,norm=plt.Normalize(vmin=0,vmax=1))\n",
      "scalarmap.set_array(lut.tau)\n",
      "cba = plt.colorbar(scalarmap,ticks=np.linspace(0,1,6),cax=cbar_ax)\n",
      "cba.ax.set_ylabel('$\\\\tau$')\n",
      "labels = ['%5.1f' %F for F in np.linspace(lut.tau[0],lut.tau[-1],6)]\n",
      "cba.ax.set_yticklabels(labels);\n",
      "plt.show()"
     ],
     "language": "python",
     "metadata": {
      "run_control": {
       "breakpoint": false,
       "read_only": false,
       "state": "n"
      }
     },
     "outputs": []
    },
    {
     "cell_type": "markdown",
     "metadata": {
      "variables": {}
     },
     "source": [
      "Now run through a few spectra for double checking the input to make sure everythin matches"
     ]
    },
    {
     "cell_type": "code",
     "collapsed": false,
     "input": [
      "print lut.sp.shape\n",
      "print lut.tau[80]"
     ],
     "language": "python",
     "metadata": {
      "run_control": {
       "breakpoint": false,
       "read_only": false,
       "state": "n"
      }
     },
     "outputs": []
    },
    {
     "cell_type": "code",
     "collapsed": false,
     "input": [
      "plt.figure()\n",
      "color.cycle_cmap(31,cmap=plt.cm.gist_ncar)\n",
      "for i in xrange(30):\n",
      "    plt.plot(lut.wvl,lut.sp[0,:,0,i,80])\n",
      "plt.title('Liquid water cloud with varying R$_{ef}$ at $\\\\tau$ of '+str(lut.tau[80]))\n",
      "plt.xlabel('Wavelength [nm]')\n",
      "plt.ylabel('Radiance [Wm$^{-2}$sr$^{-1}$nm$^{-1}$]')\n",
      "scalarmap = plt.cm.ScalarMappable(cmap=plt.cm.gist_ncar\n",
      "                                  ,norm=plt.Normalize(vmin=0,vmax=1))\n",
      "scalarmap.set_array(lut.ref[range(30)])\n",
      "cba = plt.colorbar(scalarmap,ticks=np.linspace(0,1,6))\n",
      "cba.ax.set_ylabel('R$_{ef}$ [$\\\\mu$m]')\n",
      "cba.ax.set_yticklabels(np.linspace(lut.ref[0],lut.ref[30],6));"
     ],
     "language": "python",
     "metadata": {
      "run_control": {
       "breakpoint": false,
       "read_only": false,
       "state": "n"
      }
     },
     "outputs": []
    },
    {
     "cell_type": "code",
     "collapsed": false,
     "input": [
      "all_zeros = not np.any(lut.sp[0,:,0,40,39])\n",
      "print all_zeros\n",
      "print np.max(lut.sp[0,:,0,20,80]), np.min(lut.sp[0,:,0,20,80])\n",
      "print np.any(lut.sp[0,:,0,20,70])\n",
      "print lut.ref[28]\n",
      "plt.figure()\n",
      "for i in xrange(75,85):\n",
      "    plt.plot(lut.wvl,lut.sp[0,:,0,28,i], label=\"tau:\"+str(lut.tau[i]))\n",
      "plt.legend()\n",
      "plt.title('Liquid water cloud with R$_{ef}$ = '+str(lut.ref[28])+' at varying $\\\\tau$ between '+str(lut.tau[75])+' to '+str(lut.tau[85]))\n",
      "plt.xlabel('Wavelength [nm]')\n",
      "plt.ylabel('Radiance [Wm$^{-2}$sr$^{-1}$nm$^{-1}$]')\n"
     ],
     "language": "python",
     "metadata": {
      "run_control": {
       "breakpoint": false,
       "read_only": false,
       "state": "n"
      }
     },
     "outputs": []
    },
    {
     "cell_type": "code",
     "collapsed": false,
     "input": [
      "plt.figure()\n",
      "plt.plot(lut.wvl,lut.sp[0,:,0,28,70])\n",
      "plt.title('Liquid water cloud with R$_{ef}$ = '+str(lut.ref[28])+' at $\\\\tau$ '+str(lut.tau[70]))\n",
      "plt.xlabel('Wavelength [nm]')\n",
      "plt.ylabel('Radiance [Wm$^{-2}$sr$^{-1}$nm$^{-1}$]')"
     ],
     "language": "python",
     "metadata": {
      "run_control": {
       "breakpoint": false,
       "read_only": false,
       "state": "n"
      }
     },
     "outputs": []
    },
    {
     "cell_type": "code",
     "collapsed": false,
     "input": [
      "print np.any(lut.sp[0,:,0,28,70])\n",
      "print lut.ref[3]"
     ],
     "language": "python",
     "metadata": {
      "run_control": {
       "breakpoint": false,
       "read_only": false,
       "state": "n"
      }
     },
     "outputs": []
    },
    {
     "cell_type": "code",
     "collapsed": false,
     "input": [
      "ro = (range(1,20),range(4,50))\n",
      "print ro[1]\n",
      "print ro[0]"
     ],
     "language": "python",
     "metadata": {
      "run_control": {
       "breakpoint": false,
       "read_only": false,
       "state": "n"
      }
     },
     "outputs": []
    },
    {
     "cell_type": "code",
     "collapsed": false,
     "input": [
      "from scipy import interpolate\n",
      "print np.shape([lut.tau[69],lut.tau[71]])\n",
      "print np.shape([lut.sp[0,:,0,28,69],lut.sp[0,:,0,28,69]])\n",
      "fs = interpolate.interp1d([lut.tau[69],lut.tau[71]],[lut.sp[0,:,0,28,69],lut.sp[0,:,0,28,69]],axis=0)\n",
      "sss = fs(lut.tau[70])"
     ],
     "language": "python",
     "metadata": {
      "run_control": {
       "breakpoint": false,
       "read_only": false,
       "state": "n"
      }
     },
     "outputs": []
    },
    {
     "cell_type": "code",
     "collapsed": false,
     "input": [
      "print np.shape(sss)\n",
      "plt.figure()\n",
      "plt.plot(lut.wvl,sss)\n",
      "plt.plot(lut.wvl,lut.sp[0,:,0,28,70],'r')\n",
      "print type(sss)\n",
      "plt.title('Liquid water cloud with R$_{ef}$ = '+str(lut.ref[28])+' interpolated through $\\\\tau$='+str(lut.tau[70]))\n",
      "plt.xlabel('Wavelength [nm]')\n",
      "plt.ylabel('Radiance [Wm$^{-2}$sr$^{-1}$nm$^{-1}$]')"
     ],
     "language": "python",
     "metadata": {
      "run_control": {
       "breakpoint": false,
       "read_only": false,
       "state": "n"
      }
     },
     "outputs": []
    },
    {
     "cell_type": "heading",
     "level": 2,
     "metadata": {},
     "source": [
      "Now run through the retrieval scheme"
     ]
    },
    {
     "cell_type": "code",
     "collapsed": false,
     "input": [
      "import run_kisq_retrieval as rk\n",
      "reload(rk)\n",
      "import Sp_parameters as Sp\n",
      "reload(Sp)\n",
      "#del lut\n",
      "#del meas"
     ],
     "language": "python",
     "metadata": {
      "run_control": {
       "breakpoint": false,
       "read_only": false,
       "state": "n"
      }
     },
     "outputs": []
    },
    {
     "cell_type": "code",
     "collapsed": false,
     "input": [
      "print max(meas.good)"
     ],
     "language": "python",
     "metadata": {
      "run_control": {
       "breakpoint": false,
       "read_only": false,
       "state": "n"
      }
     },
     "outputs": []
    },
    {
     "cell_type": "code",
     "collapsed": false,
     "input": [
      " (tau,ref,phase,ki) = rk.run_retrieval(meas,lut)"
     ],
     "language": "python",
     "metadata": {
      "run_control": {
       "breakpoint": false,
       "read_only": false,
       "state": "n"
      }
     },
     "outputs": []
    },
    {
     "cell_type": "code",
     "collapsed": false,
     "input": [
      "del lut"
     ],
     "language": "python",
     "metadata": {
      "run_control": {
       "breakpoint": false,
       "read_only": false,
       "state": "n"
      }
     },
     "outputs": []
    },
    {
     "cell_type": "code",
     "collapsed": false,
     "input": [
      "print meas.utc.shape\n",
      "print len(meas.good), max(meas.good)"
     ],
     "language": "python",
     "metadata": {
      "run_control": {
       "breakpoint": false,
       "read_only": false,
       "state": "n"
      }
     },
     "outputs": []
    },
    {
     "cell_type": "code",
     "collapsed": false,
     "input": [
      "from Sp_parameters import smooth"
     ],
     "language": "python",
     "metadata": {
      "run_control": {
       "breakpoint": false,
       "read_only": false,
       "state": "n"
      }
     },
     "outputs": []
    },
    {
     "cell_type": "code",
     "collapsed": false,
     "input": [
      "fig,ax = plt.subplots(4,sharex=True)\n",
      "ax[0].set_title('Retrieval results time trace')\n",
      "ax[0].plot(meas.utc,tau,'rx')\n",
      "ax[0].plot(meas.utc[meas.good[:,0]],smooth(tau[meas.good[:,0],0],20),'k')\n",
      "ax[0].set_ylabel('$\\\\tau$')\n",
      "ax[1].plot(meas.utc,ref,'g+')\n",
      "ax[1].set_ylabel('R$_{ef}$ [$\\\\mu$m]')\n",
      "ax[1].plot(meas.utc[meas.good[:,0]],smooth(ref[meas.good[:,0],0],20),'k')\n",
      "ax[2].plot(meas.utc,phase,'k.')\n",
      "ax[2].set_ylabel('Phase')\n",
      "ax[2].set_ylim([-0.5,1.5])\n",
      "ax[2].set_yticks([0,1])\n",
      "ax[2].set_yticklabels(['liq','ice'])\n",
      "ax[3].plot(meas.utc,ki)\n",
      "ax[3].set_ylabel('$\\\\chi^{2}$')\n",
      "ax[3].set_xlabel('UTC [Hours]')\n",
      "ax[3].set_xlim([17,19.05])"
     ],
     "language": "python",
     "metadata": {
      "run_control": {
       "breakpoint": false,
       "read_only": false,
       "state": "n"
      }
     },
     "outputs": []
    },
    {
     "cell_type": "heading",
     "level": 3,
     "metadata": {},
     "source": [
      "Now load the results from MODIS to compare"
     ]
    },
    {
     "cell_type": "markdown",
     "metadata": {
      "variables": {}
     },
     "source": [
      "Check the day of year"
     ]
    },
    {
     "cell_type": "code",
     "collapsed": false,
     "input": [
      "import datetime\n",
      "doy = datetime.datetime(2013,2,19)\n",
      "print doy.timetuple().tm_yday\n",
      "dd = datetime.datetime(2014,9,19)\n",
      "print dd.timetuple().tm_yday"
     ],
     "language": "python",
     "metadata": {
      "run_control": {
       "breakpoint": false,
       "read_only": false,
       "state": "n"
      }
     },
     "outputs": []
    },
    {
     "cell_type": "markdown",
     "metadata": {
      "variables": {}
     },
     "source": [
      "Now import the hdf files of MODIS"
     ]
    },
    {
     "cell_type": "code",
     "collapsed": false,
     "input": [
      "from mpl_toolkits.basemap import Basemap,cm"
     ],
     "language": "python",
     "metadata": {
      "run_control": {
       "breakpoint": false,
       "read_only": false,
       "state": "n"
      }
     },
     "outputs": []
    },
    {
     "cell_type": "code",
     "collapsed": false,
     "input": [
      "myd06_file = fp+'MODIS\\\\MYD06_L2.A2013050.1725.006.2014260074007.hdf'\n",
      "myd03_file = fp+'MODIS\\\\MYD03.A2013050.1725.006.2013051163424.hdf'\n",
      "print os.path.isfile(myd03_file) #check if it exists\n",
      "print os.path.isfile(myd06_file)"
     ],
     "language": "python",
     "metadata": {
      "run_control": {
       "breakpoint": false,
       "read_only": false,
       "state": "n"
      }
     },
     "outputs": []
    },
    {
     "cell_type": "code",
     "collapsed": false,
     "input": [
      "import load_modis as lm\n",
      "reload(lm)\n",
      "if 'modis' in locals():\n",
      "    del modis, modis_dicts\n",
      "    import gc; gc.collect()\n",
      "    "
     ],
     "language": "python",
     "metadata": {
      "run_control": {
       "breakpoint": false,
       "read_only": false,
       "state": "n"
      }
     },
     "outputs": []
    },
    {
     "cell_type": "markdown",
     "metadata": {
      "variables": {}
     },
     "source": [
      "Load the geolocated data:"
     ]
    },
    {
     "cell_type": "code",
     "collapsed": false,
     "input": [
      "print 'after import'\n",
      "import gc; gc.collect()\n",
      "modis,modis_dicts = lm.load_modis(myd03_file,myd06_file)"
     ],
     "language": "python",
     "metadata": {
      "run_control": {
       "breakpoint": false,
       "read_only": false,
       "state": "n"
      }
     },
     "outputs": []
    },
    {
     "cell_type": "markdown",
     "metadata": {
      "variables": {}
     },
     "source": [
      "Now plot the resulting imagery"
     ]
    },
    {
     "cell_type": "code",
     "collapsed": false,
     "input": [
      "#set up a easy plotting function\n",
      "def tcap_map(ax=plt.gca()):\n",
      "    m = Basemap(projection='stere',lon_0=-70,lat_0=42,\n",
      "            llcrnrlon=-72, llcrnrlat=40,\n",
      "            urcrnrlon=-66, urcrnrlat=45,resolution='h',ax=ax)\n",
      "    m.drawcoastlines()\n",
      "    #m.fillcontinents(color='#AAAAAA')\n",
      "    m.drawstates()\n",
      "    m.drawcountries()\n",
      "    m.drawmeridians(np.linspace(-66,-72,6),labels=[0,0,0,1])\n",
      "    m.drawparallels(np.linspace(40,45,5),labels=[1,0,0,0])\n",
      "    return m"
     ],
     "language": "python",
     "metadata": {
      "run_control": {
       "breakpoint": false,
       "read_only": false,
       "state": "n"
      }
     },
     "outputs": []
    },
    {
     "cell_type": "code",
     "collapsed": false,
     "input": [
      "figm = plt.figure()\n",
      "axm = figm.add_axes([0.1,0.1,0.8,0.8])\n",
      "m = tcap_map(axm)\n",
      "x,y = m(modis['lon'],modis['lat'])\n",
      "clevels = np.linspace(0,25,25)\n",
      "cs = m.contourf(x,y,modis['tau'],clevels,cmap=plt.cm.gist_ncar)\n",
      "cbar = m.colorbar(cs)\n",
      "cbar.set_label('$\\\\tau$')\n",
      "axm.set_title('MODIS - AQUA Cloud optical Thickness')"
     ],
     "language": "python",
     "metadata": {
      "run_control": {
       "breakpoint": false,
       "read_only": false,
       "state": "n"
      }
     },
     "outputs": []
    },
    {
     "cell_type": "code",
     "collapsed": false,
     "input": [
      "figm2,axm2 = plt.subplots(1,2,figsize=(13,13))\n",
      "m1 = tcap_map(axm2[0])\n",
      "m2 = tcap_map(axm2[1])\n",
      "x,y = m1(modis['lon'],modis['lat'])\n",
      "clevels = np.linspace(0,25,25)\n",
      "\n",
      "cs1 = m1.contourf(x,y,modis['tau'],clevels,cmap=plt.cm.gist_ncar)\n",
      "cbar = m1.colorbar(cs1)\n",
      "cbar.set_label('$\\\\tau$')\n",
      "axm2[0].set_title('MODIS - AQUA Cloud optical Thickness')\n",
      "\n",
      "clevels2 = np.linspace(0,50,25)\n",
      "cs2 = m2.contourf(x,y,modis['ref'],clevels2,cmap=plt.cm.gist_earth)\n",
      "cbar = m2.colorbar(cs2)\n",
      "cbar.set_label('R$_{ef}$ [$\\\\mu$m]')\n",
      "axm2[1].set_title('MODIS - AQUA Cloud effective radius')\n",
      "figm2.subplots_adjust(wspace=0.3)\n",
      "plt.show()"
     ],
     "language": "python",
     "metadata": {
      "run_control": {
       "breakpoint": false,
       "read_only": false,
       "state": "n"
      }
     },
     "outputs": []
    },
    {
     "cell_type": "markdown",
     "metadata": {
      "variables": {}
     },
     "source": [
      "Now load the aircraft telemetry onto the plot"
     ]
    },
    {
     "cell_type": "code",
     "collapsed": false,
     "input": [
      "reload(lm)"
     ],
     "language": "python",
     "metadata": {
      "run_control": {
       "breakpoint": false
      }
     },
     "outputs": []
    },
    {
     "cell_type": "code",
     "collapsed": false,
     "input": [
      "# load the ict file and check out the results\n",
      "iwg = lm.load_ict(fp+'arm-iop/aaf.iwg1001s.g1.TCAP.20130219.145837.a1.dat')\n",
      "print iwg.dtype.names\n",
      "print iwg.dtype.names.index('Date_Time')\n",
      "print iwg['Date_Time'][0]\n",
      "print type(iwg['Date_Time'][0])\n",
      "iwg['Lat']"
     ],
     "language": "python",
     "metadata": {
      "run_control": {
       "breakpoint": false,
       "read_only": false,
       "state": "n"
      }
     },
     "outputs": []
    },
    {
     "cell_type": "code",
     "collapsed": false,
     "input": [
      "iwg_utch = np.array([i.hour+i.minute/60.+i.second/3600.+i.microsecond/3600000. for i in iwg['Date_Time']])"
     ],
     "language": "python",
     "metadata": {
      "run_control": {
       "breakpoint": false,
       "read_only": false,
       "state": "n"
      }
     },
     "outputs": []
    },
    {
     "cell_type": "code",
     "collapsed": false,
     "input": [
      "fig = plt.figure()\n",
      "fig.add_subplot(3,1,1)\n",
      "ax = plt.plot(iwg_utch,iwg['Lat'])\n",
      "plt.ylabel('Latitude')\n",
      "plt.title('flight path')\n",
      "fig.add_subplot(3,1,2)\n",
      "plt.plot(iwg_utch,iwg['Lon'])\n",
      "plt.ylabel('Longitude')\n",
      "fig.add_subplot(3,1,3)\n",
      "plt.plot(iwg_utch,iwg['GPS_MSL_Alt'])\n",
      "plt.xlabel('UTC [hours]')\n",
      "plt.ylabel('Altitude')"
     ],
     "language": "python",
     "metadata": {
      "run_control": {
       "breakpoint": false,
       "read_only": false,
       "state": "n"
      }
     },
     "outputs": []
    },
    {
     "cell_type": "heading",
     "level": 2,
     "metadata": {},
     "source": [
      "interpolate the lat and lons and alts to retrieved values"
     ]
    },
    {
     "cell_type": "code",
     "collapsed": false,
     "input": [
      "from scipy import interpolate"
     ],
     "language": "python",
     "metadata": {
      "run_control": {
       "breakpoint": false,
       "read_only": false,
       "state": "n"
      }
     },
     "outputs": []
    },
    {
     "cell_type": "code",
     "collapsed": false,
     "input": [
      "flat = interpolate.interp1d(iwg_utch,iwg['Lat'])\n",
      "meas.lat = flat(meas.utc)\n",
      "flon = interpolate.interp1d(iwg_utch,iwg['Lon'])\n",
      "meas.lon = flon(meas.utc)\n",
      "falt = interpolate.interp1d(iwg_utch,iwg['GPS_MSL_Alt'])\n",
      "meas.alt = falt(meas.utc)"
     ],
     "language": "python",
     "metadata": {
      "run_control": {
       "breakpoint": false,
       "read_only": false,
       "state": "n"
      }
     },
     "outputs": []
    },
    {
     "cell_type": "markdown",
     "metadata": {
      "variables": {}
     },
     "source": [
      "Now plot on top of the maps"
     ]
    },
    {
     "cell_type": "code",
     "collapsed": false,
     "input": [
      "figm2,axm2 = plt.subplots(1,2,figsize=(13,13))\n",
      "m1 = tcap_map(axm2[0])\n",
      "m2 = tcap_map(axm2[1])\n",
      "x,y = m1(modis['lon'],modis['lat'])\n",
      "clevels = np.linspace(0,25,25)\n",
      "\n",
      "cs1 = m1.contourf(x,y,modis['tau'],clevels,cmap=plt.cm.gist_ncar)\n",
      "cbar = m1.colorbar(cs1)\n",
      "cbar.set_label('$\\\\tau$')\n",
      "axm2[0].set_title('MODIS - AQUA Cloud optical Thickness')\n",
      "x1,y1 = m1(meas.lon,meas.lat)\n",
      "m1.scatter(x1,y1,c=tau,cmap=plt.cm.gist_ncar,marker='o',vmin=clevels[0],vmax=clevels[-1],alpha=0.5,edgecolors='g',linewidth=0.15)\n",
      "\n",
      "clevels2 = np.linspace(0,50,25)\n",
      "cs2 = m2.contourf(x,y,modis['ref'],clevels2,cmap=plt.cm.gist_earth)\n",
      "cbar = m2.colorbar(cs2)\n",
      "cbar.set_label('R$_{ef}$ [$\\\\mu$m]')\n",
      "axm2[1].set_title('MODIS - AQUA Cloud effective radius')\n",
      "m2.scatter(x1,y1,c=ref,cmap=plt.cm.gist_earth,marker='o',vmin=clevels2[0],vmax=clevels2[-1],alpha=0.5,edgecolors='g',linewidth=0.15)\n",
      "figm2.subplots_adjust(wspace=0.3)\n",
      "plt.show()"
     ],
     "language": "python",
     "metadata": {
      "run_control": {
       "breakpoint": false,
       "read_only": false,
       "state": "n"
      }
     },
     "outputs": []
    },
    {
     "cell_type": "markdown",
     "metadata": {
      "variables": {}
     },
     "source": [
      "Now find the modis points along flight track that match the most"
     ]
    },
    {
     "cell_type": "code",
     "collapsed": false,
     "input": [
      "from Sp_parameters import closestindex,startprogress,progress,endprogress\n",
      "import scipy.spatial"
     ],
     "language": "python",
     "metadata": {
      "run_control": {
       "breakpoint": false,
       "read_only": false,
       "state": "n"
      }
     },
     "outputs": []
    },
    {
     "cell_type": "code",
     "collapsed": false,
     "input": [
      "if max(meas.good) > meas.utc.size:\n",
      "    meas.good = sm.good\n",
      "print len(meas.good)\n",
      "print meas.utc.size\n",
      "print len(meas.lon)\n",
      "print meas.sp.size\n",
      "print meas.good.max()\n",
      "plt.figure()\n",
      "plt.plot(meas.good)"
     ],
     "language": "python",
     "metadata": {
      "run_control": {
       "breakpoint": false,
       "read_only": false,
       "state": "n"
      }
     },
     "outputs": []
    },
    {
     "cell_type": "code",
     "collapsed": false,
     "input": [
      "imodis = np.logical_and(np.logical_and(modis['lon']>min(meas.lon[meas.good])-0.02 , modis['lon']<max(meas.lon[meas.good])+0.02),\n",
      "                        np.logical_and(modis['lat']>min(meas.lat[meas.good])-0.02 , modis['lat']<max(meas.lat[meas.good])+0.02))"
     ],
     "language": "python",
     "metadata": {
      "run_control": {
       "breakpoint": false,
       "read_only": false,
       "state": "n"
      }
     },
     "outputs": []
    },
    {
     "cell_type": "code",
     "collapsed": false,
     "input": [
      "wimodis = np.where(imodis)\n",
      "print np.shape(wimodis)"
     ],
     "language": "python",
     "metadata": {
      "run_control": {
       "breakpoint": false,
       "read_only": false,
       "state": "n"
      }
     },
     "outputs": []
    },
    {
     "cell_type": "code",
     "collapsed": false,
     "input": [
      "def spherical_dist(pos1, pos2, r=3958.75):\n",
      "    pos1 = pos1 * np.pi / 180\n",
      "    pos2 = pos2 * np.pi / 180\n",
      "    cos_lat1 = np.cos(pos1[..., 0])\n",
      "    cos_lat2 = np.cos(pos2[..., 0])\n",
      "    cos_lat_d = np.cos(pos1[..., 0] - pos2[..., 0])\n",
      "    cos_lon_d = np.cos(pos1[..., 1] - pos2[..., 1])\n",
      "    return r * np.arccos(cos_lat_d - cos_lat1 * cos_lat2 * (1 - cos_lon_d))"
     ],
     "language": "python",
     "metadata": {
      "run_control": {
       "breakpoint": false
      }
     },
     "outputs": []
    },
    {
     "cell_type": "code",
     "collapsed": false,
     "input": [
      "N1 = modis['lon'][imodis].size\n",
      "modis_grid = np.hstack([modis['lon'][imodis].reshape((N1,1)),modis['lat'][imodis].reshape((N1,1))])\n",
      "print N1\n",
      "#measurement\n",
      "N2 = len(meas.good)\n",
      "print N2\n",
      "meas_grid = np.hstack([np.array(meas.lon[meas.good]).reshape((N2,1)),np.array(meas.lat[meas.good]).reshape((N2,1))])\n",
      "meas_in = meas_grid.astype(int)\n",
      "print len(meas_grid[0])"
     ],
     "language": "python",
     "metadata": {
      "run_control": {
       "breakpoint": false,
       "read_only": false,
       "state": "n"
      }
     },
     "outputs": []
    },
    {
     "cell_type": "markdown",
     "metadata": {
      "variables": {}
     },
     "source": [
      "Test if the spherical dist works for one point along the track"
     ]
    },
    {
     "cell_type": "code",
     "collapsed": false,
     "input": [
      "d = spherical_dist(meas_grid[0],modis_grid)\n",
      "print d.shape\n",
      "print np.argmin(d)\n",
      "print len(wimodis[0])\n",
      "print len(wimodis[1])\n",
      "print wimodis[0][np.argmin(d)]\n",
      "print wimodis[1][np.argmin(d)]"
     ],
     "language": "python",
     "metadata": {
      "run_control": {
       "breakpoint": false
      }
     },
     "outputs": []
    },
    {
     "cell_type": "code",
     "collapsed": false,
     "input": [
      "print meas.lat[0]\n",
      "print meas.lon[0]\n",
      "print modis['lon'][292,891]\n",
      "print modis['lat'][292,891]"
     ],
     "language": "python",
     "metadata": {
      "run_control": {
       "breakpoint": false
      }
     },
     "outputs": []
    },
    {
     "cell_type": "code",
     "collapsed": false,
     "input": [
      "meas.ind = np.array([meas.good.ravel()*0,meas.good.ravel()*0])\n",
      "print np.shape(meas.ind)\n",
      "meas.ind[0,0] = 2\n",
      "meas.ind[1,0] = 3\n",
      "print meas.ind[:,0]"
     ],
     "language": "python",
     "metadata": {
      "run_control": {
       "breakpoint": false
      }
     },
     "outputs": []
    },
    {
     "cell_type": "markdown",
     "metadata": {
      "variables": {}
     },
     "source": [
      "The spherical distance works for one point along track, now loop through all values"
     ]
    },
    {
     "cell_type": "code",
     "collapsed": false,
     "input": [
      "startprogress('Running through flight track')\n",
      "for i in xrange(meas.good.size):\n",
      "    d = spherical_dist(meas_grid[i],modis_grid)\n",
      "    meas.ind[0,i] = wimodis[0][np.argmin(d)]\n",
      "    meas.ind[1,i] = wimodis[1][np.argmin(d)]\n",
      "    progress(float(i)/len(meas.good)*100)\n",
      "endprogress()"
     ],
     "language": "python",
     "metadata": {
      "run_control": {
       "breakpoint": false,
       "read_only": false,
       "state": "n"
      }
     },
     "outputs": []
    },
    {
     "cell_type": "code",
     "collapsed": false,
     "input": [
      "print modis['tau'].shape\n",
      "print np.shape(modis['tau'][meas.ind])\n",
      "print modis['tau'][meas.ind[0,:],meas.ind[1,:]]\n",
      "print meas.utc[meas.good].ravel().shape\n",
      "print meas.good.shape"
     ],
     "language": "python",
     "metadata": {
      "run_control": {
       "breakpoint": false
      }
     },
     "outputs": []
    },
    {
     "cell_type": "heading",
     "level": 2,
     "metadata": {},
     "source": [
      "Now plot MODIS and the retrieval result"
     ]
    },
    {
     "cell_type": "code",
     "collapsed": false,
     "input": [
      "fig = plt.figure()\n",
      "plt.plot(modis['lat'][meas.ind[0,:],meas.ind[1,:]],modis['lon'][meas.ind[0,:],meas.ind[1,:]])\n",
      "plt.title('Nearest MODIS points')\n",
      "plt.ylabel('Latitude')\n",
      "plt.xlabel('longitude')"
     ],
     "language": "python",
     "metadata": {
      "run_control": {
       "breakpoint": false
      }
     },
     "outputs": []
    },
    {
     "cell_type": "code",
     "collapsed": false,
     "input": [
      "fig = plt.figure()\n",
      "plt.plot(meas.utc[meas.good].ravel(),modis['tau'][meas.ind[0,:],meas.ind[1,:]])\n",
      "plt.title('raw tau values')\n",
      "plt.xlabel('UTC [Hours]')"
     ],
     "language": "python",
     "metadata": {
      "run_control": {
       "breakpoint": false
      }
     },
     "outputs": []
    },
    {
     "cell_type": "code",
     "collapsed": false,
     "input": [
      "modis_dicts['phase']"
     ],
     "language": "python",
     "metadata": {
      "run_control": {
       "breakpoint": false
      }
     },
     "outputs": []
    },
    {
     "cell_type": "code",
     "collapsed": false,
     "input": [
      "fig,ax = plt.subplots(4,sharex=True)\n",
      "ax[0].set_title('Retrieval results time trace')\n",
      "ax[0].plot(meas.utc,tau,'rx')\n",
      "#ax[0].plot(meas.utc[meas.good[:,0]],smooth(tau[meas.good[:,0],0],20),'k')\n",
      "ax[0].plot(meas.utc[meas.good].ravel(),modis['tau'][meas.ind[0,:],meas.ind[1,:]],'m+')\n",
      "ax[0].set_ylabel('$\\\\tau$')\n",
      "ax[0].set_ylim([0,50])\n",
      "ax[1].plot(meas.utc,ref,'g+')\n",
      "ax[1].set_ylabel('R$_{ef}$ [$\\\\mu$m]')\n",
      "ax[1].plot(meas.utc[meas.good].ravel(),modis['ref'][meas.ind[0,:],meas.ind[1,:]],'m+')\n",
      "ax[1].set_ylim([0,60])\n",
      "#ax[1].plot(meas.utc[meas.good[:,0]],smooth(ref[meas.good[:,0],0],20),'k')\n",
      "ax[2].plot(meas.utc,phase,'k.')\n",
      "ax[2].set_ylabel('Phase')\n",
      "ax[2].set_ylim([-0.5,1.5])\n",
      "ax[2].set_yticks([0,1])\n",
      "ax[2].set_yticklabels(['liq','ice'])\n",
      "ax[2].plot(meas.utc[meas.good].ravel(),modis['phase'][meas.ind[0,:],meas.ind[1,:]]-1,'m+')\n",
      "ax[3].plot(meas.utc,ki)\n",
      "ax[3].set_ylabel('$\\\\chi^{2}$')\n",
      "ax[3].set_xlabel('UTC [Hours]')\n",
      "ax[3].set_xlim([17,19.05])"
     ],
     "language": "python",
     "metadata": {
      "run_control": {
       "breakpoint": false,
       "read_only": false,
       "state": "n"
      }
     },
     "outputs": []
    },
    {
     "cell_type": "markdown",
     "metadata": {
      "variables": {}
     },
     "source": [
      "plot onto a map the points that were selected"
     ]
    },
    {
     "cell_type": "code",
     "collapsed": false,
     "input": [
      "figs2,axs2 = plt.subplots(1,2,figsize=(13,13))\n",
      "ma1 = tcap_map(axs2[0])\n",
      "ma2 = tcap_map(axs2[1])\n",
      "xr,yr = ma1(modis['lon'][meas.ind[0,:],meas.ind[1,:]],modis['lat'][meas.ind[0,:],meas.ind[1,:]])\n",
      "xi,yi = ma1(meas.lon[meas.good].ravel(),meas.lat[meas.good].ravel()+0.03)\n",
      "axs2[0].set_title('Optical thickness')\n",
      "ma1.scatter(xr,yr,c=modis['tau'][meas.ind[0,:],meas.ind[1,:]],\n",
      "            cmap=plt.cm.gist_ncar,marker='o',vmin=clevels[0],\n",
      "            vmax=clevels[-1],alpha=0.5,edgecolors='#999999',linewidth=0.15)\n",
      "ma1.scatter(xi,yi,c=tau[meas.good],\n",
      "            cmap=plt.cm.gist_ncar,marker='o',vmin=clevels[0],\n",
      "            vmax=clevels[-1],alpha=0.5,edgecolors='#FFFFFF',linewidth=0.15)\n",
      "\n",
      "axs2[1].set_title('Effective Radius')\n",
      "ma2.scatter(xr,yr,c=modis['ref'][meas.ind[0,:],meas.ind[1,:]],\n",
      "            cmap=plt.cm.gist_earth,marker='o',vmin=clevels2[0],\n",
      "            vmax=clevels2[-1],alpha=0.5,edgecolors='#999999',linewidth=0.15)\n",
      "ma2.scatter(xi,yi,c=ref[meas.good],\n",
      "            cmap=plt.cm.gist_earth,marker='o',vmin=clevels2[0],\n",
      "            vmax=clevels2[-1],alpha=0.5,edgecolors='#FFFFFF',linewidth=0.15)"
     ],
     "language": "python",
     "metadata": {
      "run_control": {
       "breakpoint": false,
       "read_only": false,
       "state": "n"
      }
     },
     "outputs": []
    },
    {
     "cell_type": "heading",
     "level": 2,
     "metadata": {},
     "source": [
      "Build the comparison of histograms"
     ]
    },
    {
     "cell_type": "markdown",
     "metadata": {
      "variables": {}
     },
     "source": [
      "build a filter for only showing 1-1 plots"
     ]
    },
    {
     "cell_type": "code",
     "collapsed": false,
     "input": [
      "from Sp_parameters import nanmasked\n",
      "mtau,tmask = nanmasked(modis['tau'][meas.ind[0,:],meas.ind[1,:]])"
     ],
     "language": "python",
     "metadata": {
      "run_control": {
       "breakpoint": false
      }
     },
     "outputs": []
    },
    {
     "cell_type": "code",
     "collapsed": false,
     "input": [
      "print tmask.shape\n",
      "print meas.good.shape\n",
      "print tmask"
     ],
     "language": "python",
     "metadata": {
      "run_control": {
       "breakpoint": false
      }
     },
     "outputs": []
    },
    {
     "cell_type": "code",
     "collapsed": false,
     "input": [
      "meastau,ttmask = nanmasked(tau[meas.good[tmask]].ravel())"
     ],
     "language": "python",
     "metadata": {
      "run_control": {
       "breakpoint": false
      }
     },
     "outputs": []
    },
    {
     "cell_type": "code",
     "collapsed": false,
     "input": [
      "plt.figure()\n",
      "plt.hist(mtau[ttmask], bins=30, histtype='stepfilled', normed=True, color='m',alpha=0.7, label='Modis')\n",
      "plt.hist(meastau, bins=30, histtype='stepfilled', normed=True, color='r',alpha=0.7, label='4STAR')\n",
      "plt.legend()\n",
      "plt.title('Optical Thickness histogram')\n",
      "plt.ylabel('Normed probability')\n",
      "plt.xlabel('$\\\\tau$')"
     ],
     "language": "python",
     "metadata": {
      "run_control": {
       "breakpoint": false
      }
     },
     "outputs": []
    },
    {
     "cell_type": "markdown",
     "metadata": {
      "variables": {}
     },
     "source": [
      "Now for Ref"
     ]
    },
    {
     "cell_type": "code",
     "collapsed": false,
     "input": [
      "mref,rmask = nanmasked(modis['ref'][meas.ind[0,:],meas.ind[1,:]])\n",
      "measref,rrmask = nanmasked(ref[meas.good[rmask]].ravel())"
     ],
     "language": "python",
     "metadata": {
      "run_control": {
       "breakpoint": false
      }
     },
     "outputs": []
    },
    {
     "cell_type": "code",
     "collapsed": false,
     "input": [
      "plt.figure()\n",
      "plt.hist(mref[rrmask], bins=30, histtype='stepfilled', normed=True, color='m',alpha=0.7, label='Modis')\n",
      "plt.hist(measref, bins=30, histtype='stepfilled', normed=True, color='r',alpha=0.7, label='4STAR')\n",
      "plt.legend()\n",
      "plt.title('Optical Thickness histogram')\n",
      "plt.ylabel('Normed probability')\n",
      "plt.xlabel('R$_{ef}$ [$\\\\mu$m]')"
     ],
     "language": "python",
     "metadata": {
      "run_control": {
       "breakpoint": false
      }
     },
     "outputs": []
    },
    {
     "cell_type": "code",
     "collapsed": false,
     "input": [],
     "language": "python",
     "metadata": {
      "run_control": {
       "breakpoint": false
      }
     },
     "outputs": []
    }
   ],
   "metadata": {}
  }
 ]
}