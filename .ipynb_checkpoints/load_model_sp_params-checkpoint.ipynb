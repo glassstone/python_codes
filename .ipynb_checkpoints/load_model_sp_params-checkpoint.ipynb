{
 "metadata": {
  "name": "",
  "signature": "sha256:16efd61fe2496bd9193cf998d044e19462cab7597ac91f278773963ba8f44213"
 },
 "nbformat": 3,
 "nbformat_minor": 0,
 "worksheets": [
  {
   "cells": [
    {
     "cell_type": "code",
     "collapsed": false,
     "input": [
      "import matplotlib.pyplot as plt\n",
      "import numpy as np, h5py\n",
      "import plotly.plotly as py\n",
      "import scipy.io as sio\n",
      "%matplotlib inline\n",
      "py.sign_in(\"samuelleblanc\", \"4y3khh7ld4\")"
     ],
     "language": "python",
     "metadata": {},
     "outputs": [],
     "prompt_number": 28
    },
    {
     "cell_type": "code",
     "collapsed": false,
     "input": [
      "# set the basic directory path\n",
      "fp='C:/Users/sleblan2/Research/TCAP/'"
     ],
     "language": "python",
     "metadata": {},
     "outputs": [],
     "prompt_number": 29
    },
    {
     "cell_type": "code",
     "collapsed": false,
     "input": [
      "# load the idl save file containing the modeled radiances\n",
      "s=sio.idl.readsav(fp+'model/sp_v1_20130219_4STAR.out')\n",
      "print s.keys()\n",
      "print 'sp', s.sp.shape"
     ],
     "language": "python",
     "metadata": {},
     "outputs": [
      {
       "output_type": "stream",
       "stream": "stdout",
       "text": [
        "['tau', 'ab', 'pw', 'sp_irrdn', 'sp', 'zenlambda', 'sza', 'zout', 'sp_irrup', 'z', 'ref']\n",
        "sp (2, 1556, 2, 35, 24)\n"
       ]
      }
     ],
     "prompt_number": 51
    },
    {
     "cell_type": "code",
     "collapsed": false,
     "input": [
      "# create custom key for sorting via wavelength\n",
      "iwvls = np.argsort(s.zenlambda)\n",
      "s.zenlambda.sort()"
     ],
     "language": "python",
     "metadata": {},
     "outputs": [],
     "prompt_number": 52
    },
    {
     "cell_type": "code",
     "collapsed": false,
     "input": [
      "# load the matlab file containing the measured TCAP radiances\n",
      "m = sio.loadmat(fp+'4STAR/20130219starzen_rad.mat')\n",
      "sm = sio.idl.AttrDict(m)\n",
      "print sm.keys()\n",
      "print 'Measured radiance Shape: ', sm.rad.shape\n",
      "\n",
      "print np.nanmax(sm.rad[sm.good[100],:])\n",
      "sm.good[100]"
     ],
     "language": "python",
     "metadata": {},
     "outputs": [
      {
       "output_type": "stream",
       "stream": "stdout",
       "text": [
        "['utc', 'rad', 'good', 'nm', '__version__', '__header__', '__globals__']\n",
        "Measured radiance Shape:  (3296, 1512)\n",
        "0.110006678277\n"
       ]
      },
      {
       "metadata": {},
       "output_type": "pyout",
       "prompt_number": 107,
       "text": [
        "array([634], dtype=uint16)"
       ]
      }
     ],
     "prompt_number": 107
    },
    {
     "cell_type": "code",
     "collapsed": false,
     "input": [
      "def nanmasked(x):\n",
      "    \" Build an array with nans masked out and the mask output\"\n",
      "    mask = ~np.isnan(x)\n",
      "    maskA = x[mask]\n",
      "    return (maskA,mask)\n",
      "\n",
      "def closestindex(a,x):\n",
      "    \" Get the index from a of the closest value from x \"\n",
      "    return min(range(len(a)), key=lambda i: abs(a[i]-x))\n",
      "\n",
      "def norm2max(x):\n",
      "    \" Returns a spectrum, x, that is normalized by its maximum value \"\n",
      "    return x/np.nanmax(x)\n",
      "    \n",
      "time_ref=17.22\n",
      "ii = closestindex(sm.utc,time_ref)\n",
      "rad,mask = nanmasked(sm.rad[sm.good[ii],:])"
     ],
     "language": "python",
     "metadata": {},
     "outputs": [],
     "prompt_number": 113
    },
    {
     "cell_type": "code",
     "collapsed": false,
     "input": [
      "# set up plotting of a few of the zenith radiance spectra\n",
      "fig = plt.figure(1)\n",
      "plt.rc('axes', color_cycle=['r', 'g', 'b', 'y'])\n",
      "#plt.plot(s.zenlambda,s.sp[0,iwvls,0,10,10])\n",
      "plt.plot(sm.nm[mask],rad,lw=2, c='k', label='4STAR measured at: '+str(time_ref))\n",
      "plt.title('Zenith spectra')\n",
      "plt.ylabel('Radiance [Wm$^{-2}$nm$^{-1}$sr$^{-1}$]')\n",
      "plt.xlabel('Wavelength [nm]')\n",
      "plt.xlim([350,1700])\n",
      "plt.ylim([0,0.2])\n",
      "plt.legend(frameon=False)\n",
      "plt.show()"
     ],
     "language": "python",
     "metadata": {},
     "outputs": [
      {
       "metadata": {},
       "output_type": "display_data",
       "png": "[encoded data removed]",
       "text": [
        "<matplotlib.figure.Figure at 0x35b08210>"
       ]
      }
     ],
     "prompt_number": 121
    },
    {
     "cell_type": "code",
     "collapsed": false,
     "input": [
      "#plot_url = py.plot_mpl(fig)"
     ],
     "language": "python",
     "metadata": {},
     "outputs": [],
     "prompt_number": 102
    },
    {
     "cell_type": "code",
     "collapsed": false,
     "input": [
      "# now go through and add the different modeled spectra\n",
      "plt.figure(1)\n",
      "plt.plot(s.zenlambda,s.sp[0,iwvls,0,10,10])\n"
     ],
     "language": "python",
     "metadata": {},
     "outputs": [
      {
       "metadata": {},
       "output_type": "pyout",
       "prompt_number": 126,
       "text": [
        "[<matplotlib.lines.Line2D at 0x35b52710>]"
       ]
      },
      {
       "metadata": {},
       "output_type": "display_data",
       "png": "[encoded data removed]",
       "text": [
        "<matplotlib.figure.Figure at 0x372a7a10>"
       ]
      }
     ],
     "prompt_number": 126
    },
    {
     "cell_type": "code",
     "collapsed": false,
     "input": [],
     "language": "python",
     "metadata": {},
     "outputs": []
    }
   ],
   "metadata": {}
  }
 ]
}