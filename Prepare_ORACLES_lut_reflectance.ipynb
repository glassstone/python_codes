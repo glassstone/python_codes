{
 "cells": [
  {
   "cell_type": "markdown",
   "metadata": {},
   "source": [
    "# Info\n",
    "Name:  \n",
    "\n",
    "    Prepare_ORACLES_lut_reflectance\n",
    "\n",
    "Purpose:  \n",
    "\n",
    "    Create the input libradtran files for creating a lut of low clouds with aerosol on top to be used in ORACLES operational \n",
    "    cloud retrievals. Using the reflectance values calculated from SSFR measurements. Creating the lut for Irradiance values.\n",
    "\n",
    "Calling Sequence:\n",
    "\n",
    "    python Prepare_ORACLES_lut_reflectance\n",
    "  \n",
    "Input:\n",
    "\n",
    "    none\n",
    "\n",
    "Output:\n",
    "   \n",
    "    input files for libradtran 2.0 (uvspec) \n",
    "  \n",
    "Keywords:\n",
    "\n",
    "    none\n",
    "  \n",
    "Dependencies:\n",
    "\n",
    "    - numpy\n",
    "    - scipy : for saving and reading\n",
    "    - mplt_toolkits for basemap, map plotting\n",
    "    - pdb\n",
    "    - datetime\n",
    "\n",
    "  \n",
    "Needed Files:\n",
    "\n",
    "  - aero_file_v4.txt details of the aerosol layer above\n",
    "    \n",
    "History:\n",
    "\n",
    "    Written: Samuel LeBlanc, Santa Cruz, CA, 2018-06-25\n",
    "             based on Prepare_ORACLES_lut\n",
    "    "
   ]
  },
  {
   "cell_type": "markdown",
   "metadata": {},
   "source": [
    "# Prepare the python environment"
   ]
  },
  {
   "cell_type": "code",
   "execution_count": 4,
   "metadata": {
    "ExecuteTime": {
     "end_time": "2018-06-25T19:40:11.910826Z",
     "start_time": "2018-06-25T19:40:11.906555Z"
    }
   },
   "outputs": [],
   "source": [
    "import numpy as np\n",
    "import scipy.io as sio\n",
    "import os\n",
    "import Run_libradtran as RL"
   ]
  },
  {
   "cell_type": "code",
   "execution_count": 5,
   "metadata": {
    "ExecuteTime": {
     "end_time": "2018-06-25T19:40:12.582681Z",
     "start_time": "2018-06-25T19:40:12.579523Z"
    }
   },
   "outputs": [],
   "source": [
    "from load_utils import load_from_json\n",
    "from path_utils import getpath"
   ]
  },
  {
   "cell_type": "code",
   "execution_count": 6,
   "metadata": {
    "ExecuteTime": {
     "end_time": "2018-06-25T19:40:14.640500Z",
     "start_time": "2018-06-25T19:40:14.634320Z"
    }
   },
   "outputs": [],
   "source": [
    "if os.sys.platform == 'win32':\n",
    "    fp = 'C:\\\\Users\\\\sleblan2\\\\Research\\\\ORACLES\\\\'\n",
    "    fp_rtm = 'C:\\\\Users\\\\sleblan2\\\\Research\\\\ORACLES\\\\rtm\\\\'\n",
    "    fp_uvspec = 'C:\\\\Users\\\\sleblan2\\\\Research\\\\libradtran\\\\libRadtran-2.0-beta\\\\bin\\\\uvspec'\n",
    "    fp_rtmdat = 'C:\\\\Users\\\\sleblan2\\\\Research\\\\libradtran\\\\libRadtran-2.0-beta\\\\data\\\\'\n",
    "elif os.sys.platform == 'linux2':\n",
    "    fp = '/u/sleblan2/ORACLES/'\n",
    "    fp_rtm = '/nobackup/sleblan2/rtm/'\n",
    "    fp_uvspec = '/u/sleblan2/libradtran/libRadtran-2.0-beta/bin/uvspec'\n",
    "    fp_rtmdat = '/nobackup/sleblan2/AAC_DARF/rtm/' #'/u/sleblan2/4STAR/rtm_dat/'\n",
    "else:\n",
    "    raise Exception"
   ]
  },
  {
   "cell_type": "markdown",
   "metadata": {},
   "source": [
    "# Setup the variables used to create the lut"
   ]
  },
  {
   "cell_type": "code",
   "execution_count": 14,
   "metadata": {
    "ExecuteTime": {
     "end_time": "2018-06-25T19:42:53.011185Z",
     "start_time": "2018-06-25T19:42:53.006167Z"
    }
   },
   "outputs": [
    {
     "data": {
      "text/plain": [
       "(48,)"
      ]
     },
     "execution_count": 14,
     "metadata": {},
     "output_type": "execute_result"
    }
   ],
   "source": [
    "vv = 'v5_irr'\n",
    "mu = np.arange(1.02,3.4,0.05)\n",
    "mu.shape"
   ]
  },
  {
   "cell_type": "code",
   "execution_count": 15,
   "metadata": {
    "ExecuteTime": {
     "end_time": "2018-06-25T19:42:53.914863Z",
     "start_time": "2018-06-25T19:42:53.909707Z"
    }
   },
   "outputs": [
    {
     "name": "stdout",
     "output_type": "stream",
     "text": [
      "[ 11.36487697  20.83969366  26.76550058  31.2732978   34.94801372\n",
      "  38.05665663  40.74905438  43.11972483  45.23300465  47.13508975\n",
      "  48.86048959  50.43578157  51.88193569  53.21582641  54.451256    55.5996703\n",
      "  56.67067347  57.67240684  58.61183354  59.49495605  60.3269852\n",
      "  61.11247301  61.85541869  62.55935386  63.22741194  63.86238505\n",
      "  64.46677106  65.04281282  65.59253108  66.11775223  66.62013188\n",
      "  67.10117502  67.56225324  68.00461964  68.4294217   68.83771245\n",
      "  69.23046027  69.60855741  69.97282752  70.32403224  70.6628771\n",
      "  70.99001664  71.30605908  71.61157038  71.90707798  72.193074\n",
      "  72.47001827  72.73834093]\n"
     ]
    }
   ],
   "source": [
    "sza = np.arccos(1.0/mu)*180.0/np.pi\n",
    "#sza = np.arange(40,91,5)\n",
    "print(sza)"
   ]
  },
  {
   "cell_type": "code",
   "execution_count": 16,
   "metadata": {
    "ExecuteTime": {
     "end_time": "2018-06-25T19:43:12.257312Z",
     "start_time": "2018-06-25T19:43:12.252671Z"
    }
   },
   "outputs": [],
   "source": [
    "tau = np.array([0.1,0.2,0.5,0.75,1.0,1.5,2.0,3.0,4.0,5.0,\n",
    "       6.0,7.0,8.0,9.0,10.0,12.5,15.0,17.5,20.0,25.0,30.0,35.0,40.0,50.0,\n",
    "       60.0,80.0,100.0])\n",
    "ref = np.append(np.append(np.arange(1,15),np.arange(15,30,2)),np.ceil(np.arange(30,61,2.5)))"
   ]
  },
  {
   "cell_type": "code",
   "execution_count": 17,
   "metadata": {
    "ExecuteTime": {
     "end_time": "2018-06-25T19:43:12.671578Z",
     "start_time": "2018-06-25T19:43:12.665748Z"
    }
   },
   "outputs": [
    {
     "data": {
      "text/plain": [
       "array([  1.,   2.,   3.,   4.,   5.,   6.,   7.,   8.,   9.,  10.,  11.,\n",
       "        12.,  13.,  14.,  15.,  17.,  19.,  21.,  23.,  25.,  27.,  29.,\n",
       "        30.,  33.,  35.,  38.,  40.,  43.,  45.,  48.,  50.,  53.,  55.,\n",
       "        58.,  60.])"
      ]
     },
     "execution_count": 17,
     "metadata": {},
     "output_type": "execute_result"
    }
   ],
   "source": [
    "ref"
   ]
  },
  {
   "cell_type": "code",
   "execution_count": 18,
   "metadata": {
    "ExecuteTime": {
     "end_time": "2018-06-25T19:43:14.136086Z",
     "start_time": "2018-06-25T19:43:14.131363Z"
    }
   },
   "outputs": [
    {
     "name": "stdout",
     "output_type": "stream",
     "text": [
      "(35,)\n",
      "(27,)\n"
     ]
    }
   ],
   "source": [
    "print(ref.shape)\n",
    "print(tau.shape)"
   ]
  },
  {
   "cell_type": "code",
   "execution_count": null,
   "metadata": {
    "collapsed": true
   },
   "outputs": [],
   "source": [
    "pmom = RL.make_pmom_inputs(fp_rtm=fp_rtmdat,source='solar',deltascale=False)"
   ]
  },
  {
   "cell_type": "code",
   "execution_count": null,
   "metadata": {
    "collapsed": true
   },
   "outputs": [],
   "source": [
    "aero = load_from_json(fp+'aero_file_v4.txt')"
   ]
  },
  {
   "cell_type": "code",
   "execution_count": 70,
   "metadata": {},
   "outputs": [],
   "source": [
    "#geo = {'lat':-22.979,\n",
    "#       'lon':14.645,\n",
    "#       'doy':245,\n",
    "#       'zout':[0.2,1.5,100.0]}\n",
    "geo = {'lat':-16.0,\n",
    "       'lon': 9.0,\n",
    "       'doy':253, #September 10th\n",
    "       'zout':[0.2,1.5,100.0]}\n",
    "#aero = {'z_arr':[2.0,5.0],\n",
    "#        'ext':np.array([[0.6,0.4,0.10,0.04],[0.0,0.0,0.0,0.0]]),\n",
    "#        'ssa':np.array([[0.8,0.85,0.9,0.95],[0.9,0.9,0.9,0.9]]),\n",
    "#        'asy':np.array([[0.8,0.8,0.8,0.8],[0.8,0.8,0.8,0.8]]),\n",
    "#        'wvl_arr':[400.0,500.0,650.0,940.0],\n",
    "#        'disort_phase':False,\n",
    "#        'expand_hg':True}\n",
    "cloud = {'ztop':1.0,\n",
    "         'zbot':0.5,\n",
    "         'write_moments_file':True,\n",
    "         'moms_dict':pmom}\n",
    "source = {'wvl_range':[350,1750],\n",
    "          'source':'solar',\n",
    "          'integrate_values':False,\n",
    "          'run_fuliou':False,\n",
    "          'dat_path':'/u/sleblan2/libradtran/libRadtran-2.0-beta/data/',\n",
    "          'atm_file':'/u/sleblan2/libradtran/libRadtran-2.0-beta/data/atmmod/afglt.dat',\n",
    "          'zenith':False}\n",
    "albedo = {'create_albedo_file':False,\n",
    "          'sea_surface_albedo':True,\n",
    "          'wind_speed':5.0}"
   ]
  },
  {
   "cell_type": "code",
   "execution_count": 60,
   "metadata": {},
   "outputs": [],
   "source": [
    "RL.print_version_details(fp+'ORACLES_lut_%s.txt'%vv,vv,geo=geo,\n",
    "                         aero=aero,cloud=cloud,source=source,albedo=albedo,\n",
    "                         tau=tau,ref=ref,sza=sza,cloud_pmom_file=fp_rtmdat+'mie_hi_delta.mat')"
   ]
  },
  {
   "cell_type": "code",
   "execution_count": 71,
   "metadata": {},
   "outputs": [],
   "source": [
    "fp_in = os.path.join(fp_rtm,'input','%s_ORACLES'%vv)\n",
    "fp_out = os.path.join(fp_rtm,'output','%s_ORACLES'%vv)"
   ]
  },
  {
   "cell_type": "code",
   "execution_count": 82,
   "metadata": {
    "collapsed": true
   },
   "outputs": [],
   "source": [
    "f_slit_vis = os.path.join(fp_rtm,'vis_1nm.dat')\n",
    "f_slit_nir = os.path.join(fp_rtm,'nir_1nm.dat')"
   ]
  },
  {
   "cell_type": "code",
   "execution_count": 72,
   "metadata": {
    "collapsed": true
   },
   "outputs": [],
   "source": [
    "if not os.path.exists(fp_in):\n",
    "    os.makedirs(fp_in)\n",
    "if not os.path.exists(fp_out):\n",
    "    os.makedirs(fp_out)"
   ]
  },
  {
   "cell_type": "code",
   "execution_count": 79,
   "metadata": {},
   "outputs": [],
   "source": [
    "f_list = open(os.path.join(fp,'run','ORACLES_list_%s.sh'%vv),'w')\n",
    "print f_list.name"
   ]
  },
  {
   "cell_type": "code",
   "execution_count": null,
   "metadata": {
    "collapsed": true
   },
   "outputs": [],
   "source": [
    "for s in sza:\n",
    "    for t in tau:\n",
    "        for r in ref:\n",
    "            fname = 'lut_irr_sza%04.1f_tau%06.2f_ref%04.1f' % (s,t,r)\n",
    "            geo['sza'] = s\n",
    "            cloud['tau'] = t\n",
    "            cloud['ref'] = r\n",
    "            if False: #r>=5.0:\n",
    "                cloud['phase'] = 'ic'\n",
    "                fname0 = fname+'_'+cloud['phase']+'_w0.dat'\n",
    "                source['wvl_range'] = [499.0,501.]\n",
    "                source['slit_file'] = f_slit_vis\n",
    "                RL.write_input_aac(os.path.join(fp_in,fname0),geo=geo,aero=aero,cloud=cloud,source=source,albedo=albedo,\n",
    "                                   verbose=False,make_base=False,set_quiet=True)\n",
    "                f_list.write(fp_uvspec+' < '+os.path.join(fp_in,fname0)+' > '+os.path.join(fp_out,fname0)+'\\n')\n",
    "                fname1 = fname+'_'+cloud['phase']+'_w1.dat'\n",
    "                source['wvl_range'] = [981.,1700.]\n",
    "                source['slit_file'] = f_slit_nir\n",
    "                RL.write_input_aac(os.path.join(fp_in,fname1),geo=geo,aero=aero,cloud=cloud,source=source,albedo=albedo,\n",
    "                                   verbose=False,make_base=False,set_quiet=True)\n",
    "                f_list.write(fp_uvspec+' < '+os.path.join(fp_in,fname1)+' > '+os.path.join(fp_out,fname1)+'\\n')\n",
    "            if r<=30.0:\n",
    "                cloud['phase'] = 'wc'\n",
    "                fname0 = fname+'_'+cloud['phase']+'_w0.dat'\n",
    "                source['wvl_range'] = [500.0,500.0]\n",
    "                source['slit_file'] = f_slit_vis\n",
    "                RL.write_input_aac(os.path.join(fp_in,fname0),geo=geo,aero=aero,cloud=cloud,source=source,albedo=albedo,\n",
    "                                   verbose=True,make_base=False,set_quiet=True)\n",
    "                f_list.write(fp_uvspec+' < '+os.path.join(fp_in,fname0)+' > '+os.path.join(fp_out,fname0)+'\\n')\n",
    "                fname1 = fname+'_'+cloud['phase']+'_w1.dat'\n",
    "                source['wvl_range'] = [1649.0,1649.0]\n",
    "                source['slit_file'] = f_slit_nir\n",
    "                RL.write_input_aac(os.path.join(fp_in,fname1),geo=geo,aero=aero,cloud=cloud,source=source,albedo=albedo,\n",
    "                                   verbose=False,make_base=False,set_quiet=True)\n",
    "                f_list.write(fp_uvspec+' < '+os.path.join(fp_in,fname1)+' > '+os.path.join(fp_out,fname1)+'\\n')                \n",
    "            print s,t,r\n",
    "        #break\n",
    "    #break"
   ]
  },
  {
   "cell_type": "code",
   "execution_count": null,
   "metadata": {
    "collapsed": true
   },
   "outputs": [],
   "source": [
    "f_list.close()"
   ]
  }
 ],
 "metadata": {
  "kernelspec": {
   "display_name": "Python 2",
   "language": "python",
   "name": "python2"
  },
  "language_info": {
   "codemirror_mode": {
    "name": "ipython",
    "version": 2
   },
   "file_extension": ".py",
   "mimetype": "text/x-python",
   "name": "python",
   "nbconvert_exporter": "python",
   "pygments_lexer": "ipython2",
   "version": "2.7.12"
  },
  "toc": {
   "nav_menu": {},
   "number_sections": true,
   "sideBar": false,
   "skip_h1_title": false,
   "toc_cell": false,
   "toc_position": {},
   "toc_section_display": "block",
   "toc_window_display": false
  },
  "varInspector": {
   "cols": {
    "lenName": 16,
    "lenType": 16,
    "lenVar": 40
   },
   "kernels_config": {
    "python": {
     "delete_cmd_postfix": "",
     "delete_cmd_prefix": "del ",
     "library": "var_list.py",
     "varRefreshCmd": "print(var_dic_list())"
    },
    "r": {
     "delete_cmd_postfix": ") ",
     "delete_cmd_prefix": "rm(",
     "library": "var_list.r",
     "varRefreshCmd": "cat(var_dic_list()) "
    }
   },
   "types_to_exclude": [
    "module",
    "function",
    "builtin_function_or_method",
    "instance",
    "_Feature"
   ],
   "window_display": false
  }
 },
 "nbformat": 4,
 "nbformat_minor": 1
}
