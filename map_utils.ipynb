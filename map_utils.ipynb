{
 "metadata": {
  "name": "",
  "signature": "sha256:a3c663559545156d07ee1da6258015b1b16dd9ad282a74618fc0ebca2486d5dd"
 },
 "nbformat": 3,
 "nbformat_minor": 0,
 "worksheets": [
  {
   "cells": [
    {
     "cell_type": "code",
     "collapsed": false,
     "input": [
      "def __init__():\n",
      "    \"\"\"\n",
      "       Collection of codes to run some typical map utilities\n",
      "       \n",
      "           - spherical_dist: codes to calculate the distance from a certain lat lon points\n",
      "           - map_ind: find the indices of the closest point \n",
      "           - radius_m2deg: return the radius of a circle defined by meters to lat lon degrees, \n",
      "           \n",
      "        details are in the info of each module\n",
      "    \"\"\"\n",
      "    pass"
     ],
     "language": "python",
     "metadata": {
      "run_control": {
       "breakpoint": false,
       "read_only": false
      }
     },
     "outputs": []
    },
    {
     "cell_type": "code",
     "collapsed": false,
     "input": [
      "def spherical_dist(pos1, pos2, r=3958.75):\n",
      "    \"Calculate the distance, in km, from one point to another (can use arrays)\"\n",
      "    import numpy as np\n",
      "    pos1 = np.array(pos1)\n",
      "    pos2 = np.array(pos2)\n",
      "    pos1 = pos1 * np.pi / 180\n",
      "    pos2 = pos2 * np.pi / 180\n",
      "    cos_lat1 = np.cos(pos1[..., 0])\n",
      "    cos_lat2 = np.cos(pos2[..., 0])\n",
      "    cos_lat_d = np.cos(pos1[..., 0] - pos2[..., 0])\n",
      "    cos_lon_d = np.cos(pos1[..., 1] - pos2[..., 1])\n",
      "    return r * np.arccos(cos_lat_d - cos_lat1 * cos_lat2 * (1 - cos_lon_d))"
     ],
     "language": "python",
     "metadata": {
      "run_control": {
       "breakpoint": false,
       "read_only": false
      }
     },
     "outputs": [],
     "prompt_number": 1
    },
    {
     "cell_type": "code",
     "collapsed": false,
     "input": [
      "def map_ind(mod_lon,mod_lat,meas_lon,meas_lat,meas_good=None):\n",
      "    \"\"\" Run to get indices in the measurement space of all the closest mod points. Assuming earth geometry.\"\"\"\n",
      "    from map_utils import spherical_dist\n",
      "    from Sp_parameters import startprogress, progress, endprogress\n",
      "    import numpy as np\n",
      "    try:\n",
      "        if not meas_good:\n",
      "            meas_good = np.where(meas_lon)\n",
      "    except ValueError:\n",
      "        if not meas_good.any():\n",
      "            meas_good = np.where(meas_lon)\n",
      "        \n",
      "    imodis = np.logical_and(np.logical_and(mod_lon>min(meas_lon[meas_good])-0.02 , mod_lon<max(meas_lon[meas_good])+0.02),\n",
      "                            np.logical_and(mod_lat>min(meas_lat[meas_good])-0.02 , mod_lat<max(meas_lat[meas_good])+0.02))\n",
      "    wimodis = np.where(imodis)\n",
      "    if not wimodis[0].any():\n",
      "        print '** No points found within range +/- 0.02 in lat and lon, Extending range to +/- 0.2 **'\n",
      "        imodis = np.logical_and(np.logical_and(mod_lon>min(meas_lon[meas_good])-0.2 , mod_lon<max(meas_lon[meas_good])+0.2),\n",
      "                                np.logical_and(mod_lat>min(meas_lat[meas_good])-0.2 , mod_lat<max(meas_lat[meas_good])+0.2))\n",
      "        wimodis = np.where(imodis)\n",
      "        if not wimodis[0].any():\n",
      "            print '** No points found in extended range, returning null **'\n",
      "            return []\n",
      "    N1 = mod_lon[imodis].size\n",
      "    modis_grid = np.hstack([mod_lon[imodis].reshape((N1,1)),mod_lat[imodis].reshape((N1,1))])\n",
      "    try:\n",
      "        N2 = len(meas_good)\n",
      "        if N2==1 or N2==2:\n",
      "            meas_good = meas_good[0]\n",
      "            N2 = len(meas_good)\n",
      "        meas_grid = np.hstack([np.array(meas_lon[meas_good]).reshape((N2,1)),np.array(meas_lat[meas_good]).reshape((N2,1))])\n",
      "    except:\n",
      "        import pdb; pdb.set_trace()\n",
      "    meas_in = meas_grid.astype(int)\n",
      "    meas_ind = np.array([meas_good.ravel()*0,meas_good.ravel()*0])\n",
      "    startprogress('Running through flight track')\n",
      "    for i in xrange(meas_good.size):\n",
      "        d = spherical_dist(meas_grid[i],modis_grid)\n",
      "        try:\n",
      "            meas_ind[0,i] = wimodis[0][np.argmin(d)]\n",
      "        except:\n",
      "            import pdb; pdb.set_trace()\n",
      "        meas_ind[1,i] = wimodis[1][np.argmin(d)]\n",
      "        progress(float(i)/len(meas_good)*100)\n",
      "    endprogress()\n",
      "    return meas_ind"
     ],
     "language": "python",
     "metadata": {
      "run_control": {
       "breakpoint": false,
       "read_only": false
      }
     },
     "outputs": [],
     "prompt_number": 2
    },
    {
     "cell_type": "code",
     "collapsed": false,
     "input": [
      "def radius_m2deg(center_lon,center_lat,radius):\n",
      "    \"\"\" \n",
      "    Return the radius in lat lon degrees of a circle centered at the points defined by\n",
      "      center_lon\n",
      "      center_lat\n",
      "    with a radius defined in meters by:\n",
      "      radius\n",
      "      \n",
      "    Dependencies:\n",
      "        \n",
      "        - geopy library\n",
      "    \"\"\"\n",
      "    import geopy\n",
      "    from geopy.distance import VincentyDistance\n",
      "    origin = geopy.Point(center_lat,center_lon)\n",
      "    destination = VincentyDistance(kilometers=radius/1000.0).destination(origin,0.0)\n",
      "    radius_degrees = abs(center_lat-destination.latitude)\n",
      "    return radius_degrees"
     ],
     "language": "python",
     "metadata": {
      "run_control": {
       "breakpoint": false,
       "read_only": false
      }
     },
     "outputs": []
    },
    {
     "cell_type": "code",
     "collapsed": false,
     "input": [
      "def stats_within_radius(lat1,lon1,lat2,lon2,x2,radius,subset=True):\n",
      "    \"\"\"\n",
      "    Run through all points defined by lat1 and lon1 (can be arrays)\n",
      "    to find the points within defined by lat2 and lon2 that are within a distance in meters defined by radius\n",
      "    lat2, lon2, x2 can be multidimensional, will be flattened first\n",
      "    if subset (optional) is set to True, and there are more than 100 points, only every 10th in lat1, lon1 will be used.\n",
      "    Returns a dicttionary of statistics:\n",
      "        'index' : array of indices of flattened lat2 and lon2 that are within radius meters of each point of lat1 and lon1\n",
      "        'std' : array of standard deviation of x2 that are near lat1 and lon1 by radius\n",
      "        'range' : range of values of x2 near lat1, lon1\n",
      "        'mean' : mean of values of x2 near lat1, lon1\n",
      "        'median': median values of x2 near lat1, lon1\n",
      "    \"\"\"\n",
      "    from scipy.spatial import cKDTree\n",
      "    from map_utils import radius_m2deg\n",
      "    import numpy as np\n",
      "    print 'Setting up the lat, lon, localization'\n",
      "    max_distance = radius_m2deg(lon1[0],lat1[0],radius) #transform to degrees\n",
      "    if (len(lat1) > 100) & subset:\n",
      "        points_ref = np.column_stack((lat1[::10],lon1[::10]))\n",
      "    else:\n",
      "        points_ref = np.column_stack((lat1,lon1))\n",
      "    if len(lat2.shape) > 1:\n",
      "        points = np.column_stack((lat2.reshape(lat2.size),lon2.reshape(lon2.size)))\n",
      "        xx = x2.reshape(x2.size)\n",
      "    else:\n",
      "        points = np.column_stack((lat2,lon2)) \n",
      "        xx = x2\n",
      "    tree = cKDTree(points)\n",
      "    tree_ref = cKDTree(points_ref)\n",
      "    out = dict()\n",
      "    print '... Getting the index points'\n",
      "    out['index'] = tree_ref.query_ball_tree(tree,max_distance)\n",
      "    out['std'] = []\n",
      "    out['range'] = []\n",
      "    out['mean'] = []\n",
      "    out['median'] = []\n",
      "    print '... Running through index points'\n",
      "    for i in out['index']:\n",
      "        if not i:\n",
      "            out['std'].append(np.NaN)\n",
      "            out['range'].append(np.NaN)\n",
      "            out['mean'].append(np.NaN)\n",
      "            out['median'].append(np.NaN)\n",
      "        else:\n",
      "            out['std'].append(np.nanstd(xx[i]))\n",
      "            out['range'].append(np.nanmax(xx[i])-np.nanmin(xx[i]))\n",
      "            out['mean'].append(np.nanmean(xx[i]))\n",
      "            out['median'].append(np.median(xx[i]))\n",
      "    out['std'] = np.array(out['std'])\n",
      "    out['range'] = np.array(out['range'])\n",
      "    out['mean'] = np.array(out['mean'])\n",
      "    out['median'] = np.array(out['median'])\n",
      "    print out.keys()\n",
      "    return out"
     ],
     "language": "python",
     "metadata": {
      "run_control": {
       "breakpoint": false,
       "read_only": false
      }
     },
     "outputs": [],
     "prompt_number": 1
    }
   ],
   "metadata": {}
  }
 ]
}