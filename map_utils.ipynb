{
 "metadata": {
  "name": "",
  "signature": "sha256:5563024c500d1dcd6e37bc4eaca751786dc28361231557eaa4d6670d735e7fa9"
 },
 "nbformat": 3,
 "nbformat_minor": 0,
 "worksheets": [
  {
   "cells": [
    {
     "cell_type": "code",
     "collapsed": false,
     "input": [
      "def __init__():\n",
      "    \"\"\"\n",
      "       Collection of codes to run some typical map utilities\n",
      "       \n",
      "           - spherical_dist: codes to calculate the distance from a certain lat lon points\n",
      "           - map_ind: find the indices of the closest point \n",
      "           - radius_m2deg: return the radius of a circle defined by meters to lat lon degrees, \n",
      "           \n",
      "        details are in the info of each module\n",
      "    \"\"\"\n",
      "    pass"
     ],
     "language": "python",
     "metadata": {
      "run_control": {
       "breakpoint": false
      }
     },
     "outputs": []
    },
    {
     "cell_type": "code",
     "collapsed": false,
     "input": [
      "def spherical_dist(pos1, pos2, r=3958.75):\n",
      "    \"Calculate the distance, in km, from one point to another (can use arrays)\"\n",
      "    import numpy as np\n",
      "    pos1 = pos1 * np.pi / 180\n",
      "    pos2 = pos2 * np.pi / 180\n",
      "    cos_lat1 = np.cos(pos1[..., 0])\n",
      "    cos_lat2 = np.cos(pos2[..., 0])\n",
      "    cos_lat_d = np.cos(pos1[..., 0] - pos2[..., 0])\n",
      "    cos_lon_d = np.cos(pos1[..., 1] - pos2[..., 1])\n",
      "    return r * np.arccos(cos_lat_d - cos_lat1 * cos_lat2 * (1 - cos_lon_d))"
     ],
     "language": "python",
     "metadata": {
      "run_control": {
       "breakpoint": false,
       "read_only": false
      }
     },
     "outputs": [],
     "prompt_number": 1
    },
    {
     "cell_type": "code",
     "collapsed": false,
     "input": [
      "def map_ind(mod_lon,mod_lat,meas_lon,meas_lat,meas_good=None):\n",
      "    \"\"\" Run to get indices in the measurement space of all the closest mod points. Assuming earth geometry.\"\"\"\n",
      "    from map_utils import spherical_dist\n",
      "    from Sp_parameters import startprogress, progress, endprogress\n",
      "    import numpy as np\n",
      "    if not any(meas_good):\n",
      "        meas_good = np.where(meas_lon)\n",
      "    imodis = np.logical_and(np.logical_and(mod_lon>min(meas_lon[meas_good])-0.02 , mod_lon<max(meas_lon[meas_good])+0.02),\n",
      "                            np.logical_and(mod_lat>min(meas_lat[meas_good])-0.02 , mod_lat<max(meas_lat[meas_good])+0.02))\n",
      "    wimodis = np.where(imodis)\n",
      "    N1 = mod_lon[imodis].size\n",
      "    modis_grid = np.hstack([mod_lon[imodis].reshape((N1,1)),mod_lat[imodis].reshape((N1,1))])\n",
      "    N2 = len(meas_good)\n",
      "    meas_grid = np.hstack([np.array(meas_lon[meas_good]).reshape((N2,1)),np.array(meas_lat[meas_good]).reshape((N2,1))])\n",
      "    meas_in = meas_grid.astype(int)\n",
      "    meas_ind = np.array([meas_good.ravel()*0,meas_good.ravel()*0])\n",
      "    startprogress('Running through flight track')\n",
      "    for i in xrange(meas_good.size):\n",
      "        d = spherical_dist(meas_grid[i],modis_grid)\n",
      "        meas_ind[0,i] = wimodis[0][np.argmin(d)]\n",
      "        meas_ind[1,i] = wimodis[1][np.argmin(d)]\n",
      "        progress(float(i)/len(meas_good)*100)\n",
      "    endprogress()\n",
      "    return meas_ind"
     ],
     "language": "python",
     "metadata": {
      "run_control": {
       "breakpoint": false
      }
     },
     "outputs": [],
     "prompt_number": 2
    },
    {
     "cell_type": "code",
     "collapsed": false,
     "input": [
      "def radius_m2deg(center_lon,center_lat,radius):\n",
      "    \"\"\" \n",
      "    Return the radius in lat lon degrees of a circle centered at the points defined by\n",
      "      center_lon\n",
      "      center_lat\n",
      "    with a radius defined in meters by:\n",
      "      radius\n",
      "      \n",
      "    Dependencies:\n",
      "        \n",
      "        - geopy library\n",
      "    \"\"\"\n",
      "    import geopy\n",
      "    from geopy.distance import VincentyDistance\n",
      "    origin = geopy.Point(center_lon,center_lat)\n",
      "    destination = VincentyDistance(kilometers=radius/1000.0).destination(origin,0.0)\n",
      "    radius_degrees = abs(center_lat-destination.latitude)\n",
      "    return radius_degrees"
     ],
     "language": "python",
     "metadata": {
      "run_control": {
       "breakpoint": false
      }
     },
     "outputs": []
    }
   ],
   "metadata": {}
  }
 ]
}