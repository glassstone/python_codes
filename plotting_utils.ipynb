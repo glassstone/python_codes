{
 "metadata": {
  "name": "",
  "signature": "sha256:5de9ef72cab1af8b900a0a3c9f8a600178b0ed6b4c8fc988e98a3d69598f2874"
 },
 "nbformat": 3,
 "nbformat_minor": 0,
 "worksheets": [
  {
   "cells": [
    {
     "cell_type": "code",
     "collapsed": false,
     "input": [
      "def __init__():\n",
      "    \"\"\"\n",
      "       Collection of codes to run some typical plotting utilities\n",
      "       \n",
      "           - circles : plot circles with radius in data scale\n",
      "           \n",
      "        details are in the info of each module\n",
      "    \"\"\"\n",
      "    pass"
     ],
     "language": "python",
     "metadata": {
      "run_control": {
       "breakpoint": false
      }
     },
     "outputs": []
    },
    {
     "cell_type": "code",
     "collapsed": false,
     "input": [
      "def circles(x, y, s, c='b', ax=None, vmin=None, vmax=None, **kwargs):\n",
      "    \"\"\"\n",
      "    Make a scatter of circles plot of x vs y, where x and y are sequence \n",
      "    like objects of the same lengths. The size of circles are in data scale.\n",
      "\n",
      "    Parameters\n",
      "    ----------\n",
      "    x,y : scalar or array_like, shape (n, )\n",
      "        Input data\n",
      "    s : scalar or array_like, shape (n, ) \n",
      "        Radius of circle in data scale (ie. in data unit)\n",
      "    c : color or sequence of color, optional, default : 'b'\n",
      "        `c` can be a single color format string, or a sequence of color\n",
      "        specifications of length `N`, or a sequence of `N` numbers to be\n",
      "        mapped to colors using the `cmap` and `norm` specified via kwargs.\n",
      "        Note that `c` should not be a single numeric RGB or\n",
      "        RGBA sequence because that is indistinguishable from an array of\n",
      "        values to be colormapped.  `c` can be a 2-D array in which the\n",
      "        rows are RGB or RGBA, however.\n",
      "    ax : Axes object, optional, default: None\n",
      "        Parent axes of the plot. It uses gca() if not specified.\n",
      "    vmin, vmax : scalar, optional, default: None\n",
      "        `vmin` and `vmax` are used in conjunction with `norm` to normalize\n",
      "        luminance data.  If either are `None`, the min and max of the\n",
      "        color array is used.  (Note if you pass a `norm` instance, your\n",
      "        settings for `vmin` and `vmax` will be ignored.)\n",
      "\n",
      "    Returns\n",
      "    -------\n",
      "    paths : `~matplotlib.collections.PathCollection`\n",
      "\n",
      "    Other parameters\n",
      "    ----------------\n",
      "    kwargs : `~matplotlib.collections.Collection` properties\n",
      "        eg. alpha, edgecolors, facecolors, linewidths, linestyles, norm, cmap\n",
      "\n",
      "    Examples\n",
      "    --------\n",
      "    a = np.arange(11)\n",
      "    circles(a, a, a*0.2, c=a, alpha=0.5, edgecolor='none')\n",
      "\n",
      "    License\n",
      "    --------\n",
      "    This code is under [The BSD 3-Clause License]\n",
      "    (http://opensource.org/licenses/BSD-3-Clause)\n",
      "    \"\"\"\n",
      "    from matplotlib.patches import Circle\n",
      "    from matplotlib.collections import PatchCollection\n",
      "    import pylab as plt\n",
      "    #import matplotlib.colors as colors\n",
      "\n",
      "    if ax is None:\n",
      "        ax = plt.gca()    \n",
      "\n",
      "    if isinstance(c,basestring):\n",
      "        color = c     # ie. use colors.colorConverter.to_rgba_array(c)\n",
      "    else:\n",
      "        color = None  # use cmap, norm after collection is created\n",
      "    kwargs.update(color=color)\n",
      "\n",
      "    if isinstance(x, (int, long, float)):\n",
      "        patches = [Circle((x, y), s),]\n",
      "    elif isinstance(s, (int, long, float)):\n",
      "        patches = [Circle((x_,y_), s) for x_,y_ in zip(x,y)]\n",
      "    else:\n",
      "        patches = [Circle((x_,y_), s_) for x_,y_,s_ in zip(x,y,s)]\n",
      "    collection = PatchCollection(patches, **kwargs)\n",
      "\n",
      "    if color is None:\n",
      "        collection.set_array(np.asarray(c))\n",
      "        if vmin is not None or vmax is not None:\n",
      "            collection.set_clim(vmin, vmax)\n",
      "\n",
      "    ax.add_collection(collection)\n",
      "    return collection"
     ],
     "language": "python",
     "metadata": {
      "run_control": {
       "breakpoint": false,
       "read_only": false
      }
     },
     "outputs": []
    }
   ],
   "metadata": {}
  }
 ]
}