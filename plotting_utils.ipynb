{
 "metadata": {
  "name": "",
  "signature": "sha256:58e9550fbfcd343e7769970d6175af89a724f1ac0ed1c0d4d3f98bbf5b62f61c"
 },
 "nbformat": 3,
 "nbformat_minor": 0,
 "worksheets": [
  {
   "cells": [
    {
     "cell_type": "code",
     "collapsed": false,
     "input": [
      "def __init__():\n",
      "    \"\"\"\n",
      "       Collection of codes to run some typical plotting utilities\n",
      "       \n",
      "           - circles : plot circles with radius in data scale\n",
      "           \n",
      "        details are in the info of each module\n",
      "    \"\"\"\n",
      "    pass"
     ],
     "language": "python",
     "metadata": {
      "run_control": {
       "breakpoint": false,
       "read_only": false
      }
     },
     "outputs": []
    },
    {
     "cell_type": "code",
     "collapsed": false,
     "input": [
      "def circles(x, y, s, c='b', ax=None, vmin=None, vmax=None, **kwargs):\n",
      "    \"\"\"\n",
      "    Make a scatter of circles plot of x vs y, where x and y are sequence \n",
      "    like objects of the same lengths. The size of circles are in data scale.\n",
      "\n",
      "    Parameters\n",
      "    ----------\n",
      "    x,y : scalar or array_like, shape (n, )\n",
      "        Input data\n",
      "    s : scalar or array_like, shape (n, ) \n",
      "        Radius of circle in data scale (ie. in data unit)\n",
      "    c : color or sequence of color, optional, default : 'b'\n",
      "        `c` can be a single color format string, or a sequence of color\n",
      "        specifications of length `N`, or a sequence of `N` numbers to be\n",
      "        mapped to colors using the `cmap` and `norm` specified via kwargs.\n",
      "        Note that `c` should not be a single numeric RGB or\n",
      "        RGBA sequence because that is indistinguishable from an array of\n",
      "        values to be colormapped.  `c` can be a 2-D array in which the\n",
      "        rows are RGB or RGBA, however.\n",
      "    ax : Axes object, optional, default: None\n",
      "        Parent axes of the plot. It uses gca() if not specified.\n",
      "    vmin, vmax : scalar, optional, default: None\n",
      "        `vmin` and `vmax` are used in conjunction with `norm` to normalize\n",
      "        luminance data.  If either are `None`, the min and max of the\n",
      "        color array is used.  (Note if you pass a `norm` instance, your\n",
      "        settings for `vmin` and `vmax` will be ignored.)\n",
      "\n",
      "    Returns\n",
      "    -------\n",
      "    paths : `~matplotlib.collections.PathCollection`\n",
      "\n",
      "    Other parameters\n",
      "    ----------------\n",
      "    kwargs : `~matplotlib.collections.Collection` properties\n",
      "        eg. alpha, edgecolors, facecolors, linewidths, linestyles, norm, cmap\n",
      "\n",
      "    Examples\n",
      "    --------\n",
      "    a = np.arange(11)\n",
      "    circles(a, a, a*0.2, c=a, alpha=0.5, edgecolor='none')\n",
      "\n",
      "    License\n",
      "    --------\n",
      "    This code is under [The BSD 3-Clause License]\n",
      "    (http://opensource.org/licenses/BSD-3-Clause)\n",
      "    \"\"\"\n",
      "    from matplotlib.patches import Circle\n",
      "    from matplotlib.collections import PatchCollection\n",
      "    import pylab as plt\n",
      "    #import matplotlib.colors as colors\n",
      "\n",
      "    if ax is None:\n",
      "        ax = plt.gca()    \n",
      "\n",
      "    if isinstance(c,basestring):\n",
      "        color = c     # ie. use colors.colorConverter.to_rgba_array(c)\n",
      "    else:\n",
      "        color = None  # use cmap, norm after collection is created\n",
      "    kwargs.update(color=color)\n",
      "\n",
      "    if isinstance(x, (int, long, float)):\n",
      "        patches = [Circle((x, y), s),]\n",
      "    elif isinstance(s, (int, long, float)):\n",
      "        patches = [Circle((x_,y_), s) for x_,y_ in zip(x,y)]\n",
      "    else:\n",
      "        patches = [Circle((x_,y_), s_) for x_,y_,s_ in zip(x,y,s)]\n",
      "    collection = PatchCollection(patches, **kwargs)\n",
      "\n",
      "    if color is None:\n",
      "        collection.set_array(np.asarray(c))\n",
      "        if vmin is not None or vmax is not None:\n",
      "            collection.set_clim(vmin, vmax)\n",
      "\n",
      "    ax.add_collection(collection)\n",
      "    return collection"
     ],
     "language": "python",
     "metadata": {
      "run_control": {
       "breakpoint": false,
       "read_only": false
      }
     },
     "outputs": []
    },
    {
     "cell_type": "code",
     "collapsed": false,
     "input": [
      "def plot_color_maps(reverse=False):\n",
      "    \"\"\"\n",
      "    Simple plotting function to run through and plot each color map\n",
      "    Help for choosing which colormap to use\n",
      "    \"\"\"\n",
      "    import pylab as plt\n",
      "    from numpy import outer\n",
      "    plt.rc('text', usetex=False)\n",
      "    a=outer(plt.ones(10,),plt.arange(0,1,0.01))\n",
      "    plt.figure(figsize=(5,15))\n",
      "    plt.subplots_adjust(top=0.8,bottom=0.08,left=0.03,right=0.99)\n",
      "    if reverse:\n",
      "        maps=[m for m in plt.cm.datad]\n",
      "        rr = 2\n",
      "    else:\n",
      "        maps=[m for m in plt.cm.datad if not m.endswith(\"_r\")]\n",
      "        rr = 1\n",
      "    maps.sort()\n",
      "    l=len(maps)+1\n",
      "    title_dict = {'fontsize': 10,\n",
      "                  'verticalalignment': 'center',\n",
      "                  'horizontalalignment': 'left'}\n",
      "    for i, m in enumerate(maps):\n",
      "        plt.subplot(l,rr,i+1)\n",
      "        plt.axis(\"off\")\n",
      "        plt.imshow(a,aspect='auto',cmap=plt.get_cmap(m),origin=\"lower\")\n",
      "        plt.text(1.01,0.5,m,fontdict=title_dict,transform=plt.gca().transAxes)"
     ],
     "language": "python",
     "metadata": {
      "run_control": {
       "breakpoint": false
      }
     },
     "outputs": [],
     "prompt_number": 5
    }
   ],
   "metadata": {}
  }
 ]
}