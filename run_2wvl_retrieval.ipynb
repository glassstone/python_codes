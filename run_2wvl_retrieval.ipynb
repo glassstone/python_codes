{
 "metadata": {
  "name": "",
  "signature": "sha256:9dc758a1c0cb07930856558cde750f282b080a9c91cee7e0fe1037fdc2ac0230"
 },
 "nbformat": 3,
 "nbformat_minor": 0,
 "worksheets": [
  {
   "cells": [
    {
     "cell_type": "heading",
     "level": 1,
     "metadata": {},
     "source": [
      "Module that runs the 2-wavelength reflectance retrieval of cloud properties"
     ]
    },
    {
     "cell_type": "code",
     "collapsed": false,
     "input": [
      "def run_2wvl_retrieval(meas,model,wvls=[500.0,1600.0],sza_norm=True):\n",
      "    \"\"\" \n",
      "    Name:\n",
      "\n",
      "        run_2wvl_retrieval\n",
      "    \n",
      "    Purpose:\n",
      "\n",
      "        Retrieves cloud optical properties from reflectance 2 wavelength method (Nakajima & King, 1990)\n",
      "        A function that uses the Sp class to run through each utc point in meas, \n",
      "        and finds the closest model values.\n",
      "        If sza is present then the reflectance is calculated with sza_factor (1/cos(sza))\n",
      "    \n",
      "    Calling Sequence:\n",
      "\n",
      "        (ta,re,ki) = run_2wvl_retrieval(meas,model,wvls=[500.0,1600.0],sza_norm=True)\n",
      "    \n",
      "    Input: \n",
      "  \n",
      "        meas : object with keys of utc (time in fractional hours), Rvis (reflectance in vis), Rnir (reflectance in nir)\n",
      "        model: Sp object with irradiance values set\n",
      "     \n",
      "    Output:\n",
      "\n",
      "        ta: 2d array of cloud optical thickness, for [:,0] = liquid, for [:,1] = ice\n",
      "        re: 2d array of cloud particle effective radius, for [:,0] = liquid, for [:,1] = ice\n",
      "        ki: 2d array of minimal ki^2 values, for [:,0] = liquid, for [:,1] = ice\n",
      "    \n",
      "    Keywords: \n",
      "\n",
      "        wvls: (optional) array of two values with the vis wavlength in first, and nir wavelength in second [nm]\n",
      "        sza_norm: (optional) if set to True (default) then searches for sza in meas and model. \n",
      "                 If there, normalizes meas and model reflectances by 1/cos(sza) \n",
      "    \n",
      "    Dependencies:\n",
      "\n",
      "        Sp_parameters\n",
      "        numpy\n",
      "        warnings\n",
      "        gc: for clearing the garbage\n",
      "        run_2wvl_retrieval (this file)\n",
      "        pdb: for debugging when there is an error\n",
      "        math\n",
      "    \n",
      "    Required files:\n",
      "   \n",
      "        none\n",
      "    \n",
      "    Example:\n",
      "\n",
      "        ...\n",
      "        \n",
      "    Modification History:\n",
      "    \n",
      "        Written (v1.0): Samuel LeBlanc, 2014-12-08, NASA Ames\n",
      "\n",
      "    \"\"\"\n",
      "    import Sp_parameters as Sp\n",
      "    import numpy as np\n",
      "    import run_2wvl_retrieval as rw\n",
      "    import warnings\n",
      "    import math\n",
      "    if not model.irrad:\n",
      "        warnings.warn('model lut does not have irradiances set! please rerun with irradiances')\n",
      "        return\n",
      "    if sza_norm & hasattr(meas,'sza'):\n",
      "        meas.sza_factor = 1.0/np.cos(np.radians(meas.sza))\n",
      "    else:\n",
      "        meas.sza_factor = 1.0\n",
      "    meas.Rvis = meas.Rvis*meas.sza_factor\n",
      "    meas.Rnir = meas.Rnir*meas.sza_factor\n",
      "    model.lut_2wvl = rw.build_lut_2wvl(model,wvls,sza_norm)    \n",
      "    #start loop over measurement\n",
      "    Sp.startprogress('Retrieval progress over times')\n",
      "    ki = np.ndarray((len(meas.utc),2))*np.nan\n",
      "    ta = np.ndarray((len(meas.utc),2))*np.nan\n",
      "    re = np.ndarray((len(meas.utc),2))*np.nan\n",
      "    #make good filter\n",
      "    meas.good = np.where((np.isfinite(meas.Rvis)) & (meas.Rvis > 0) & (np.isfinite(meas.Rnir)) & (meas.Rnir > 0))[0]\n",
      "    for tt in meas.good:\n",
      "        for ph in [0,1]:\n",
      "            ki_ref_tau = (meas.Rvis[tt]-model.lut_2wvl[ph,0,:,:])**2+(meas.Rnir[tt]-model.lut_2wvl[ph,1,:,:])**2\n",
      "            try:\n",
      "                ki_minin = np.unravel_index(np.nanargmin(ki_ref_tau),ki_ref_tau.shape)\n",
      "            except:\n",
      "                import pdb; pdb.set_trace()\n",
      "            ki[tt,ph] = np.nanmin(ki_ref_tau)\n",
      "            (ta[tt,ph],re[tt,ph]) = (model.tau[ki_minin[1]],model.ref[ki_minin[0]])\n",
      "         #   if (ph == 1) & (meas.utc[tt] > 18.4):\n",
      "         #       import pdb; pdb.set_trace()\n",
      "        Sp.progress(float(tt)/len(meas.utc)*100.0)\n",
      "    Sp.endprogress()\n",
      "    return (ta,re,ki)"
     ],
     "language": "python",
     "metadata": {
      "run_control": {
       "breakpoint": false,
       "read_only": false
      }
     },
     "outputs": [],
     "prompt_number": 3
    },
    {
     "cell_type": "code",
     "collapsed": false,
     "input": [
      "def build_lut_2wvl(model,wvls,sza_norm):\n",
      "    \" function that builds the 2 wavelength Reflectance lut from the model Sp object (lut) \"\n",
      "    import numpy as np\n",
      "    import math\n",
      "    from Sp_parameters import find_closest\n",
      "    iw = find_closest(model.wvl,np.array(wvls))\n",
      "    if hasattr(model,'sza') & sza_norm:\n",
      "        sza_factor = 1.0/math.cos(math.radians(model.sza))\n",
      "    else:\n",
      "        sza_factor = 1.0\n",
      "    return np.reshape(model.reflect[:,iw,1,:,:],(2,2,model.ref.size,model.tau.size))*sza_factor #ph, wvl, z, ref, tau"
     ],
     "language": "python",
     "metadata": {
      "run_control": {
       "breakpoint": false,
       "read_only": false
      }
     },
     "outputs": [],
     "prompt_number": 2
    }
   ],
   "metadata": {}
  }
 ]
}