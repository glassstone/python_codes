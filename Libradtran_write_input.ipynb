{
 "cells": [
  {
   "cell_type": "code",
   "execution_count": null,
   "metadata": {
    "collapsed": false,
    "run_control": {
     "breakpoint": false,
     "read_only": false
    }
   },
   "outputs": [],
   "source": [
    "def write_inp_aac(geofile,datfile):\n",
    "    \"\"\"\n",
    "    Name:\n",
    "\n",
    "        write_inp_aac\n",
    "    \n",
    "    Purpose:\n",
    "\n",
    "        To write out the input files for libradtran calcualtions of aerosol over clouds\n",
    "        Uses the new libradtran 2.0 beta\n",
    "        Made to be more general\n",
    "    \n",
    "    Calling Sequence:\n",
    "\n",
    "        write_inp_aac\n",
    "    \n",
    "    Input: \n",
    "  \n",
    "        ...\n",
    "    \n",
    "    Output:\n",
    "\n",
    "        file output\n",
    "    \n",
    "    Keywords: \n",
    "\n",
    "        none\n",
    "    \n",
    "    Dependencies:\n",
    "\n",
    "        numpy\n",
    "        scipy\n",
    "    \n",
    "    Required files:\n",
    "   \n",
    "        ...\n",
    "        \n",
    "    Example:\n",
    "\n",
    "        ...\n",
    "        \n",
    "    Modification History:\n",
    "    \n",
    "        Written (v1.0): Samuel LeBlanc, 2015-06-10, NASA Ames\n",
    "        \n",
    "    \"\"\"\n",
    "    "
   ]
  }
 ],
 "metadata": {
  "kernelspec": {
   "display_name": "Python 2",
   "language": "python",
   "name": "python2"
  },
  "language_info": {
   "codemirror_mode": {
    "name": "ipython",
    "version": 2
   },
   "file_extension": ".py",
   "mimetype": "text/x-python",
   "name": "python",
   "nbconvert_exporter": "python",
   "pygments_lexer": "ipython2",
   "version": "2.7.6"
  }
 },
 "nbformat": 4,
 "nbformat_minor": 0
}
