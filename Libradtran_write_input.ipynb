{
 "metadata": {
  "name": "",
  "signature": "sha256:99ea53bc2aedd484bd1deceaf1a52f594383b1b3f7e22f47d9b92349a7a32ce7"
 },
 "nbformat": 3,
 "nbformat_minor": 0,
 "worksheets": [
  {
   "cells": [
    {
     "cell_type": "code",
     "collapsed": false,
     "input": [
      "def write_inp_aac(geofile,datfile):\n",
      "    \"\"\"\n",
      "    Name:\n",
      "\n",
      "        write_inp_aac\n",
      "    \n",
      "    Purpose:\n",
      "\n",
      "        To write out the input files for libradtran calcualtions of aerosol over clouds\n",
      "        Uses the new libradtran 2.0 beta\n",
      "        Made to be more general\n",
      "    \n",
      "    Calling Sequence:\n",
      "\n",
      "        write_inp_aac\n",
      "    \n",
      "    Input: \n",
      "  \n",
      "        ...\n",
      "    \n",
      "    Output:\n",
      "\n",
      "        file output\n",
      "    \n",
      "    Keywords: \n",
      "\n",
      "        none\n",
      "    \n",
      "    Dependencies:\n",
      "\n",
      "        numpy\n",
      "        scipy\n",
      "    \n",
      "    Required files:\n",
      "   \n",
      "        ...\n",
      "        \n",
      "    Example:\n",
      "\n",
      "        ...\n",
      "        \n",
      "    Modification History:\n",
      "    \n",
      "        Written (v1.0): Samuel LeBlanc, 2015-06-10, NASA Ames\n",
      "        \n",
      "    \"\"\"\n",
      "    "
     ],
     "language": "python",
     "metadata": {
      "run_control": {
       "breakpoint": false,
       "read_only": false
      }
     },
     "outputs": []
    }
   ],
   "metadata": {}
  }
 ]
}