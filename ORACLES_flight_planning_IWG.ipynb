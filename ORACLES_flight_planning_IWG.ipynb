{
 "cells": [
  {
   "cell_type": "markdown",
   "metadata": {},
   "source": [
    "# Intro\n",
    "Loading of files from previous flight to checkout the winds during flight"
   ]
  },
  {
   "cell_type": "code",
   "execution_count": 1,
   "metadata": {
    "ExecuteTime": {
     "end_time": "2018-10-18T09:20:54.742946Z",
     "start_time": "2018-10-18T09:20:54.282011Z"
    }
   },
   "outputs": [],
   "source": [
    "%config InlineBackend.rc = {}\n",
    "import matplotlib \n",
    "import os\n",
    "matplotlib.rc_file(os.path.join(os.getcwd(),'file.rc'))\n",
    "import matplotlib.pyplot as plt\n",
    "import matplotlib.colors as colors\n",
    "import numpy as np\n",
    "import Sp_parameters as Sp\n",
    "from load_utils import mat2py_time, toutc, load_ict\n",
    "from Sp_parameters import smooth\n",
    "from linfit import linfit\n",
    "from path_utils import getpath\n",
    "from plotting_utils import make_boxplot"
   ]
  },
  {
   "cell_type": "code",
   "execution_count": 2,
   "metadata": {
    "ExecuteTime": {
     "end_time": "2018-10-18T09:20:59.912127Z",
     "start_time": "2018-10-18T09:20:59.890899Z"
    }
   },
   "outputs": [],
   "source": [
    "%matplotlib notebook"
   ]
  },
  {
   "cell_type": "code",
   "execution_count": 3,
   "metadata": {
    "ExecuteTime": {
     "end_time": "2018-10-18T09:21:07.028640Z",
     "start_time": "2018-10-18T09:21:07.022155Z"
    }
   },
   "outputs": [
    {
     "data": {
      "text/plain": [
       "u'/mnt/c/Users/sleblanc/Research/ORACLES/'"
      ]
     },
     "execution_count": 3,
     "metadata": {},
     "output_type": "execute_result"
    }
   ],
   "source": [
    "fp =getpath('ORACLES')#'C:/Userds/sleblan2/Research/ORACLES/'\n",
    "fp"
   ]
  },
  {
   "cell_type": "markdown",
   "metadata": {},
   "source": [
    "# Load files"
   ]
  },
  {
   "cell_type": "code",
   "execution_count": 4,
   "metadata": {
    "ExecuteTime": {
     "end_time": "2018-10-18T09:39:55.130617Z",
     "start_time": "2018-10-18T09:39:54.956640Z"
    }
   },
   "outputs": [],
   "source": [
    "d = np.genfromtxt(fp+'flight_planning/2018/RF11/IWG1.17Oct2018-1514.txt')"
   ]
  },
  {
   "cell_type": "code",
   "execution_count": 9,
   "metadata": {
    "ExecuteTime": {
     "end_time": "2018-10-18T09:40:25.792848Z",
     "start_time": "2018-10-18T09:40:25.790102Z"
    }
   },
   "outputs": [],
   "source": [
    "d.dtype.names"
   ]
  },
  {
   "cell_type": "code",
   "execution_count": null,
   "metadata": {},
   "outputs": [],
   "source": []
  }
 ],
 "metadata": {
  "kernelspec": {
   "display_name": "Python 2",
   "language": "python",
   "name": "python2"
  },
  "language_info": {
   "codemirror_mode": {
    "name": "ipython",
    "version": 2
   },
   "file_extension": ".py",
   "mimetype": "text/x-python",
   "name": "python",
   "nbconvert_exporter": "python",
   "pygments_lexer": "ipython2",
   "version": "2.7.12"
  },
  "toc": {
   "nav_menu": {},
   "number_sections": true,
   "sideBar": false,
   "skip_h1_title": false,
   "toc_cell": false,
   "toc_position": {},
   "toc_section_display": "block",
   "toc_window_display": false
  },
  "varInspector": {
   "cols": {
    "lenName": 16,
    "lenType": 16,
    "lenVar": 40
   },
   "kernels_config": {
    "python": {
     "delete_cmd_postfix": "",
     "delete_cmd_prefix": "del ",
     "library": "var_list.py",
     "varRefreshCmd": "print(var_dic_list())"
    },
    "r": {
     "delete_cmd_postfix": ") ",
     "delete_cmd_prefix": "rm(",
     "library": "var_list.r",
     "varRefreshCmd": "cat(var_dic_list()) "
    }
   },
   "types_to_exclude": [
    "module",
    "function",
    "builtin_function_or_method",
    "instance",
    "_Feature"
   ],
   "window_display": false
  }
 },
 "nbformat": 4,
 "nbformat_minor": 2
}
