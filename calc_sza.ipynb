{
 "metadata": {
  "name": "",
  "signature": "sha256:3dc66d86bb74df07d919ccbb03089ea9a0a71a734097fad9376d54762c5fa741"
 },
 "nbformat": 3,
 "nbformat_minor": 0,
 "worksheets": [
  {
   "cells": [
    {
     "cell_type": "markdown",
     "metadata": {
      "variables": {}
     },
     "source": [
      "Name:  \n",
      "\n",
      "    calc_sza\n",
      "\n",
      "Purpose:  \n",
      "\n",
      "    Python script to calculate the solar zenith angle and airmass factor using the pysolar algorithm\n",
      "    \n",
      "Calling Sequence:\n",
      "\n",
      "    python calc_sza.py\n",
      "  \n",
      "Input:\n",
      "\n",
      "    none at command line\n",
      "  \n",
      "Output:\n",
      "\n",
      "    figures\n",
      "  \n",
      "Keywords:\n",
      "\n",
      "    none\n",
      "  \n",
      "Dependencies:\n",
      "\n",
      "    - numpy\n",
      "    - pysolar\n",
      "  \n",
      "Needed Files:\n",
      "\n",
      "  - file.rc : for consistent creation of look of matplotlib figures\n",
      "  \n",
      " Modification History:\n",
      " \n",
      "     Written: by Samuel LeBlanc, NASA Ames, 2015-08-20"
     ]
    },
    {
     "cell_type": "code",
     "collapsed": false,
     "input": [
      "%config InlineBackend.rc = {}\n",
      "import matplotlib \n",
      "matplotlib.rc_file('C:\\\\Users\\\\sleblan2\\\\Research\\\\python_codes\\\\file.rc')\n",
      "import matplotlib.pyplot as plt\n",
      "%matplotlib inline\n",
      "import numpy as np\n",
      "import Pysolar.solar as sol\n",
      "import datetime\n",
      "fp='C:/Users/sleblan2/Research/NAAMES/plot/'"
     ],
     "language": "python",
     "metadata": {
      "run_control": {
       "breakpoint": false,
       "read_only": false
      }
     },
     "outputs": [],
     "prompt_number": 1
    },
    {
     "cell_type": "code",
     "collapsed": false,
     "input": [
      "lat = 47.6\n",
      "lon = np.array([-40.0,-45.0,-50.0,-52.8])\n",
      "utc = np.arange('2015-11-12T00:00Z','2015-11-13T00:00Z',15,dtype='datetime64[m]').astype(datetime.datetime)"
     ],
     "language": "python",
     "metadata": {
      "run_control": {
       "breakpoint": false,
       "read_only": false
      }
     },
     "outputs": [],
     "prompt_number": 12
    },
    {
     "cell_type": "code",
     "collapsed": false,
     "input": [
      "uu = datetime.datetime(2015,11,12,0,0,10)"
     ],
     "language": "python",
     "metadata": {
      "run_control": {
       "breakpoint": false
      }
     },
     "outputs": [],
     "prompt_number": 40
    },
    {
     "cell_type": "code",
     "collapsed": false,
     "input": [
      "uu.timetuple()"
     ],
     "language": "python",
     "metadata": {
      "run_control": {
       "breakpoint": false
      }
     },
     "outputs": [
      {
       "metadata": {},
       "output_type": "pyout",
       "prompt_number": 41,
       "text": [
        "time.struct_time(tm_year=2015, tm_mon=11, tm_mday=12, tm_hour=0, tm_min=0, tm_sec=10, tm_wday=3, tm_yday=316, tm_isdst=-1)"
       ]
      }
     ],
     "prompt_number": 41
    },
    {
     "cell_type": "code",
     "collapsed": false,
     "input": [
      "t = 20.6"
     ],
     "language": "python",
     "metadata": {
      "run_control": {
       "breakpoint": false
      }
     },
     "outputs": [],
     "prompt_number": 42
    },
    {
     "cell_type": "code",
     "collapsed": false,
     "input": [
      "int(floor(t))"
     ],
     "language": "python",
     "metadata": {
      "run_control": {
       "breakpoint": false
      }
     },
     "outputs": [
      {
       "metadata": {},
       "output_type": "pyout",
       "prompt_number": 45,
       "text": [
        "20"
       ]
      }
     ],
     "prompt_number": 45
    },
    {
     "cell_type": "code",
     "collapsed": false,
     "input": [
      "u = utc[0]"
     ],
     "language": "python",
     "metadata": {
      "run_control": {
       "breakpoint": false,
       "read_only": false
      }
     },
     "outputs": [],
     "prompt_number": 3
    },
    {
     "cell_type": "code",
     "collapsed": false,
     "input": [
      "u.timetuple()"
     ],
     "language": "python",
     "metadata": {
      "run_control": {
       "breakpoint": false,
       "read_only": false
      }
     },
     "outputs": [
      {
       "metadata": {},
       "output_type": "pyout",
       "prompt_number": 4,
       "text": [
        "time.struct_time(tm_year=2015, tm_mon=11, tm_mday=12, tm_hour=0, tm_min=0, tm_sec=0, tm_wday=3, tm_yday=316, tm_isdst=-1)"
       ]
      }
     ],
     "prompt_number": 4
    },
    {
     "cell_type": "code",
     "collapsed": false,
     "input": [
      "sza = np.zeros((len(lon),len(utc)))"
     ],
     "language": "python",
     "metadata": {
      "run_control": {
       "breakpoint": false,
       "read_only": false
      }
     },
     "outputs": [],
     "prompt_number": 5
    },
    {
     "cell_type": "code",
     "collapsed": false,
     "input": [
      "azi = np.zeros((len(lon),len(utc)))"
     ],
     "language": "python",
     "metadata": {
      "run_control": {
       "breakpoint": false,
       "read_only": false
      }
     },
     "outputs": [],
     "prompt_number": 6
    },
    {
     "cell_type": "code",
     "collapsed": false,
     "input": [
      "utc.size"
     ],
     "language": "python",
     "metadata": {
      "run_control": {
       "breakpoint": false
      }
     },
     "outputs": [
      {
       "metadata": {},
       "output_type": "pyout",
       "prompt_number": 19,
       "text": [
        "96"
       ]
      }
     ],
     "prompt_number": 19
    },
    {
     "cell_type": "code",
     "collapsed": false,
     "input": [
      "utcsub = utc[0::10]"
     ],
     "language": "python",
     "metadata": {
      "run_control": {
       "breakpoint": false
      }
     },
     "outputs": [],
     "prompt_number": 32
    },
    {
     "cell_type": "code",
     "collapsed": false,
     "input": [
      "utcsub"
     ],
     "language": "python",
     "metadata": {
      "run_control": {
       "breakpoint": false
      }
     },
     "outputs": [
      {
       "metadata": {},
       "output_type": "pyout",
       "prompt_number": 34,
       "text": [
        "array([datetime.datetime(2015, 11, 12, 0, 0),\n",
        "       datetime.datetime(2015, 11, 12, 2, 30),\n",
        "       datetime.datetime(2015, 11, 12, 5, 0),\n",
        "       datetime.datetime(2015, 11, 12, 7, 30),\n",
        "       datetime.datetime(2015, 11, 12, 10, 0),\n",
        "       datetime.datetime(2015, 11, 12, 12, 30),\n",
        "       datetime.datetime(2015, 11, 12, 15, 0),\n",
        "       datetime.datetime(2015, 11, 12, 17, 30),\n",
        "       datetime.datetime(2015, 11, 12, 20, 0),\n",
        "       datetime.datetime(2015, 11, 12, 22, 30)], dtype=object)"
       ]
      }
     ],
     "prompt_number": 34
    },
    {
     "cell_type": "code",
     "collapsed": false,
     "input": [
      "latsub = [lat,lat,lat,lat,lat,\n",
      "          lat,lat,lat,lat,lat]"
     ],
     "language": "python",
     "metadata": {
      "run_control": {
       "breakpoint": false
      }
     },
     "outputs": [],
     "prompt_number": 35
    },
    {
     "cell_type": "code",
     "collapsed": false,
     "input": [
      "lonsub = [lon[0],lon[0],lon[0],lon[0],lon[0],\n",
      "          lon[0],lon[0],lon[0],lon[0],lon[0]]"
     ],
     "language": "python",
     "metadata": {
      "run_control": {
       "breakpoint": false
      }
     },
     "outputs": [],
     "prompt_number": 37
    },
    {
     "cell_type": "code",
     "collapsed": false,
     "input": [
      "szasub = 90.0-sol.GetAltitude(latsub,lonsub,utcsub)"
     ],
     "language": "python",
     "metadata": {
      "run_control": {
       "breakpoint": false
      }
     },
     "outputs": [
      {
       "ename": "TypeError",
       "evalue": "a float is required",
       "output_type": "pyerr",
       "traceback": [
        "\u001b[1;31m---------------------------------------------------------------------------\u001b[0m\n\u001b[1;31mTypeError\u001b[0m                                 Traceback (most recent call last)",
        "\u001b[1;32m<ipython-input-38-fc11ba5a10be>\u001b[0m in \u001b[0;36m<module>\u001b[1;34m()\u001b[0m\n\u001b[1;32m----> 1\u001b[1;33m \u001b[0mszasub\u001b[0m \u001b[1;33m=\u001b[0m \u001b[1;36m90.0\u001b[0m\u001b[1;33m-\u001b[0m\u001b[0msol\u001b[0m\u001b[1;33m.\u001b[0m\u001b[0mGetAltitude\u001b[0m\u001b[1;33m(\u001b[0m\u001b[0mlatsub\u001b[0m\u001b[1;33m,\u001b[0m\u001b[0mlonsub\u001b[0m\u001b[1;33m,\u001b[0m\u001b[0mutcsub\u001b[0m\u001b[1;33m)\u001b[0m\u001b[1;33m\u001b[0m\u001b[0m\n\u001b[0m",
        "\u001b[1;32mC:\\Python27_64\\WinPython-64bit-2.7.6.4\\python-2.7.6.amd64\\lib\\site-packages\\pysolar-0.6-py2.7.egg\\Pysolar\\solar.pyc\u001b[0m in \u001b[0;36mGetAltitude\u001b[1;34m(latitude_deg, longitude_deg, utc_datetime, elevation, temperature_celsius, pressure_millibars)\u001b[0m\n\u001b[0;32m     54\u001b[0m         \u001b[1;34m'''See also the faster, but less accurate, GetAltitudeFast()'''\u001b[0m\u001b[1;33m\u001b[0m\u001b[0m\n\u001b[0;32m     55\u001b[0m         \u001b[1;31m# location-dependent calculations\u001b[0m\u001b[1;33m\u001b[0m\u001b[1;33m\u001b[0m\u001b[0m\n\u001b[1;32m---> 56\u001b[1;33m         \u001b[0mprojected_radial_distance\u001b[0m \u001b[1;33m=\u001b[0m \u001b[0mGetProjectedRadialDistance\u001b[0m\u001b[1;33m(\u001b[0m\u001b[0melevation\u001b[0m\u001b[1;33m,\u001b[0m \u001b[0mlatitude_deg\u001b[0m\u001b[1;33m)\u001b[0m\u001b[1;33m\u001b[0m\u001b[0m\n\u001b[0m\u001b[0;32m     57\u001b[0m         \u001b[0mprojected_axial_distance\u001b[0m \u001b[1;33m=\u001b[0m \u001b[0mGetProjectedAxialDistance\u001b[0m\u001b[1;33m(\u001b[0m\u001b[0melevation\u001b[0m\u001b[1;33m,\u001b[0m \u001b[0mlatitude_deg\u001b[0m\u001b[1;33m)\u001b[0m\u001b[1;33m\u001b[0m\u001b[0m\n\u001b[0;32m     58\u001b[0m \u001b[1;33m\u001b[0m\u001b[0m\n",
        "\u001b[1;32mC:\\Python27_64\\WinPython-64bit-2.7.6.4\\python-2.7.6.amd64\\lib\\site-packages\\pysolar-0.6-py2.7.egg\\Pysolar\\solar.pyc\u001b[0m in \u001b[0;36mGetProjectedRadialDistance\u001b[1;34m(elevation, latitude)\u001b[0m\n\u001b[0;32m    272\u001b[0m \u001b[1;33m\u001b[0m\u001b[0m\n\u001b[0;32m    273\u001b[0m \u001b[1;32mdef\u001b[0m \u001b[0mGetProjectedRadialDistance\u001b[0m\u001b[1;33m(\u001b[0m\u001b[0melevation\u001b[0m\u001b[1;33m,\u001b[0m \u001b[0mlatitude\u001b[0m\u001b[1;33m)\u001b[0m\u001b[1;33m:\u001b[0m\u001b[1;33m\u001b[0m\u001b[0m\n\u001b[1;32m--> 274\u001b[1;33m         \u001b[0mflattened_latitude_rad\u001b[0m \u001b[1;33m=\u001b[0m \u001b[0mmath\u001b[0m\u001b[1;33m.\u001b[0m\u001b[0mradians\u001b[0m\u001b[1;33m(\u001b[0m\u001b[0mGetFlattenedLatitude\u001b[0m\u001b[1;33m(\u001b[0m\u001b[0mlatitude\u001b[0m\u001b[1;33m)\u001b[0m\u001b[1;33m)\u001b[0m\u001b[1;33m\u001b[0m\u001b[0m\n\u001b[0m\u001b[0;32m    275\u001b[0m         \u001b[0mlatitude_rad\u001b[0m \u001b[1;33m=\u001b[0m \u001b[0mmath\u001b[0m\u001b[1;33m.\u001b[0m\u001b[0mradians\u001b[0m\u001b[1;33m(\u001b[0m\u001b[0mlatitude\u001b[0m\u001b[1;33m)\u001b[0m\u001b[1;33m\u001b[0m\u001b[0m\n\u001b[0;32m    276\u001b[0m         \u001b[1;32mreturn\u001b[0m \u001b[0mmath\u001b[0m\u001b[1;33m.\u001b[0m\u001b[0mcos\u001b[0m\u001b[1;33m(\u001b[0m\u001b[0mflattened_latitude_rad\u001b[0m\u001b[1;33m)\u001b[0m \u001b[1;33m+\u001b[0m \u001b[1;33m(\u001b[0m\u001b[0melevation\u001b[0m \u001b[1;33m*\u001b[0m \u001b[0mmath\u001b[0m\u001b[1;33m.\u001b[0m\u001b[0mcos\u001b[0m\u001b[1;33m(\u001b[0m\u001b[0mlatitude_rad\u001b[0m\u001b[1;33m)\u001b[0m \u001b[1;33m/\u001b[0m \u001b[0mconstants\u001b[0m\u001b[1;33m.\u001b[0m\u001b[0mearth_radius\u001b[0m\u001b[1;33m)\u001b[0m\u001b[1;33m\u001b[0m\u001b[0m\n",
        "\u001b[1;32mC:\\Python27_64\\WinPython-64bit-2.7.6.4\\python-2.7.6.amd64\\lib\\site-packages\\pysolar-0.6-py2.7.egg\\Pysolar\\solar.pyc\u001b[0m in \u001b[0;36mGetFlattenedLatitude\u001b[1;34m(latitude)\u001b[0m\n\u001b[0;32m    167\u001b[0m \u001b[1;33m\u001b[0m\u001b[0m\n\u001b[0;32m    168\u001b[0m \u001b[1;32mdef\u001b[0m \u001b[0mGetFlattenedLatitude\u001b[0m\u001b[1;33m(\u001b[0m\u001b[0mlatitude\u001b[0m\u001b[1;33m)\u001b[0m\u001b[1;33m:\u001b[0m\u001b[1;33m\u001b[0m\u001b[0m\n\u001b[1;32m--> 169\u001b[1;33m         \u001b[0mlatitude_rad\u001b[0m \u001b[1;33m=\u001b[0m \u001b[0mmath\u001b[0m\u001b[1;33m.\u001b[0m\u001b[0mradians\u001b[0m\u001b[1;33m(\u001b[0m\u001b[0mlatitude\u001b[0m\u001b[1;33m)\u001b[0m\u001b[1;33m\u001b[0m\u001b[0m\n\u001b[0m\u001b[0;32m    170\u001b[0m         \u001b[1;32mreturn\u001b[0m \u001b[0mmath\u001b[0m\u001b[1;33m.\u001b[0m\u001b[0mdegrees\u001b[0m\u001b[1;33m(\u001b[0m\u001b[0mmath\u001b[0m\u001b[1;33m.\u001b[0m\u001b[0matan\u001b[0m\u001b[1;33m(\u001b[0m\u001b[1;36m0.99664719\u001b[0m \u001b[1;33m*\u001b[0m \u001b[0mmath\u001b[0m\u001b[1;33m.\u001b[0m\u001b[0mtan\u001b[0m\u001b[1;33m(\u001b[0m\u001b[0mlatitude_rad\u001b[0m\u001b[1;33m)\u001b[0m\u001b[1;33m)\u001b[0m\u001b[1;33m)\u001b[0m\u001b[1;33m\u001b[0m\u001b[0m\n\u001b[0;32m    171\u001b[0m \u001b[1;33m\u001b[0m\u001b[0m\n",
        "\u001b[1;31mTypeError\u001b[0m: a float is required"
       ]
      }
     ],
     "prompt_number": 38
    },
    {
     "cell_type": "code",
     "collapsed": false,
     "input": [
      "for i in xrange(len(lon)):\n",
      "    for j in xrange(len(utc)):\n",
      "        azi[i,j] = sol.GetAzimuth(lat,lon[i],utc[j])\n",
      "        sza[i,j] = 90.0-sol.GetAltitude(lat,lon[i],utc[j])"
     ],
     "language": "python",
     "metadata": {
      "run_control": {
       "breakpoint": false,
       "read_only": false
      }
     },
     "outputs": [],
     "prompt_number": 13
    },
    {
     "cell_type": "code",
     "collapsed": false,
     "input": [
      "m = 1.0/np.cos(sza*np.pi/180.0)"
     ],
     "language": "python",
     "metadata": {
      "run_control": {
       "breakpoint": false,
       "read_only": false
      }
     },
     "outputs": [],
     "prompt_number": 14
    },
    {
     "cell_type": "code",
     "collapsed": false,
     "input": [
      "def datetime2utch(dt):\n",
      "    if len(dt)>1:\n",
      "        h = np.zeros(len(dt))\n",
      "        for i,t in enumerate(dt):\n",
      "            xtup = t.timetuple()\n",
      "            h[i] = xtup[3]+xtup[4]/60.0+xtup[5]/3600.00+xtup[6]/10**6 \n",
      "    else:\n",
      "        xtup = dt.timetuple() \n",
      "        h = xtup[3]+xtup[4]/60.0+xtup[5]/3600.00+xtup[6]/10**6 \n",
      "    return h"
     ],
     "language": "python",
     "metadata": {
      "run_control": {
       "breakpoint": false,
       "read_only": false
      }
     },
     "outputs": [],
     "prompt_number": 15
    },
    {
     "cell_type": "code",
     "collapsed": false,
     "input": [
      "utch = datetime2utch(utc)"
     ],
     "language": "python",
     "metadata": {
      "run_control": {
       "breakpoint": false,
       "read_only": false
      }
     },
     "outputs": [],
     "prompt_number": 10
    },
    {
     "cell_type": "code",
     "collapsed": false,
     "input": [
      "plt.plot(utch,m[0,:])\n",
      "plt.ylim([1,25])\n",
      "plt.ylabel('Airmass')\n",
      "plt.xlabel('UTC [h]')"
     ],
     "language": "python",
     "metadata": {
      "run_control": {
       "breakpoint": false,
       "read_only": false
      }
     },
     "outputs": [
      {
       "metadata": {},
       "output_type": "pyout",
       "prompt_number": 16,
       "text": [
        "<matplotlib.text.Text at 0xa3f4b00>"
       ]
      },
      {
       "metadata": {},
       "output_type": "display_data",
       "png": "[encoded data removed]",
       "text": [
        "<matplotlib.figure.Figure at 0xa3fb5f8>"
       ]
      }
     ],
     "prompt_number": 16
    },
    {
     "cell_type": "code",
     "collapsed": false,
     "input": [
      "plt.plot(utch,sza[0,:])\n"
     ],
     "language": "python",
     "metadata": {
      "run_control": {
       "breakpoint": false,
       "read_only": false
      }
     },
     "outputs": [
      {
       "metadata": {},
       "output_type": "pyout",
       "prompt_number": 17,
       "text": [
        "[<matplotlib.lines.Line2D at 0xa87f0b8>]"
       ]
      },
      {
       "metadata": {},
       "output_type": "display_data",
       "png": "[encoded data removed]",
       "text": [
        "<matplotlib.figure.Figure at 0xa3d3a58>"
       ]
      }
     ],
     "prompt_number": 17
    },
    {
     "cell_type": "code",
     "collapsed": false,
     "input": [
      "plt.plot(utch,azi[0,:])"
     ],
     "language": "python",
     "metadata": {
      "run_control": {
       "breakpoint": false,
       "read_only": false
      }
     },
     "outputs": [
      {
       "metadata": {},
       "output_type": "pyout",
       "prompt_number": 18,
       "text": [
        "[<matplotlib.lines.Line2D at 0xab53048>]"
       ]
      },
      {
       "metadata": {},
       "output_type": "display_data",
       "png": "[encoded data removed]",
       "text": [
        "<matplotlib.figure.Figure at 0xa88c978>"
       ]
      }
     ],
     "prompt_number": 18
    },
    {
     "cell_type": "code",
     "collapsed": false,
     "input": [
      "sol.GetAltitude(36.6,-122.6,datetime.datetime(2015,8,20,13,0))"
     ],
     "language": "python",
     "metadata": {
      "run_control": {
       "breakpoint": false,
       "read_only": false
      }
     },
     "outputs": [
      {
       "metadata": {},
       "output_type": "pyout",
       "prompt_number": 119,
       "text": [
        "-6.956916540931134"
       ]
      }
     ],
     "prompt_number": 119
    },
    {
     "cell_type": "code",
     "collapsed": false,
     "input": [
      "datetime.datetime(2015,8,20,13,0)."
     ],
     "language": "python",
     "metadata": {
      "run_control": {
       "breakpoint": false,
       "read_only": false
      }
     },
     "outputs": [
      {
       "ename": "AttributeError",
       "evalue": "'datetime.datetime' object has no attribute 'utc'",
       "output_type": "pyerr",
       "traceback": [
        "\u001b[1;31m---------------------------------------------------------------------------\u001b[0m\n\u001b[1;31mAttributeError\u001b[0m                            Traceback (most recent call last)",
        "\u001b[1;32m<ipython-input-121-f2ccea15ad26>\u001b[0m in \u001b[0;36m<module>\u001b[1;34m()\u001b[0m\n\u001b[1;32m----> 1\u001b[1;33m \u001b[0mdatetime\u001b[0m\u001b[1;33m.\u001b[0m\u001b[0mdatetime\u001b[0m\u001b[1;33m(\u001b[0m\u001b[1;36m2015\u001b[0m\u001b[1;33m,\u001b[0m\u001b[1;36m8\u001b[0m\u001b[1;33m,\u001b[0m\u001b[1;36m20\u001b[0m\u001b[1;33m,\u001b[0m\u001b[1;36m13\u001b[0m\u001b[1;33m,\u001b[0m\u001b[1;36m0\u001b[0m\u001b[1;33m)\u001b[0m\u001b[1;33m.\u001b[0m\u001b[0mutc\u001b[0m\u001b[1;33m(\u001b[0m\u001b[1;33m)\u001b[0m\u001b[1;33m\u001b[0m\u001b[0m\n\u001b[0m",
        "\u001b[1;31mAttributeError\u001b[0m: 'datetime.datetime' object has no attribute 'utc'"
       ]
      }
     ],
     "prompt_number": 121
    },
    {
     "cell_type": "code",
     "collapsed": false,
     "input": [],
     "language": "python",
     "metadata": {
      "run_control": {
       "breakpoint": false,
       "read_only": false
      }
     },
     "outputs": []
    }
   ],
   "metadata": {}
  }
 ]
}