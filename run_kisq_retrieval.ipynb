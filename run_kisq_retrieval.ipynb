{
 "metadata": {
  "name": "",
  "signature": "sha256:5c3c9c0a3b6b11d4b13ad4be3bfc287b77d92ed5022f8639eb4cc6215a0dbb3b"
 },
 "nbformat": 3,
 "nbformat_minor": 0,
 "worksheets": [
  {
   "cells": [
    {
     "cell_type": "heading",
     "level": 1,
     "metadata": {},
     "source": [
      "Functions to run the ki^2 retrieval based on the parameters calculated in the Sp class, from modeled and measured source"
     ]
    },
    {
     "cell_type": "code",
     "collapsed": false,
     "input": [
      "def run_retrieval(meas,model):\n",
      "    \"\"\" A function that uses the Sp class to run through each utc point in meas, and finds the closest model values \"\"\"\n",
      "    import Sp_parameters as Sp\n",
      "    assure_input(meas)\n",
      "    assure_input(model)\n",
      "    # normalize the parameters\n",
      "    pcoef = model.par_norm()\n",
      "    pcoef = meas.par_norm(pcoef=pcoef)\n",
      "    \n",
      "    # build the model and measurement error\n",
      "    # model.std()\n",
      "    # model.std.par_norm(pcoef=pcoef)\n",
      "    \n",
      "    # build the reshaped model for ice and liquid\n",
      "    model.reshape_lut(phase='liq')\n",
      "    model.reshape_lut(phase='ice')\n",
      "    pcoef_liq = model.liq.par_norm()\n",
      "    pcoef_ice = model.ice.par_norm()\n",
      "    # meas.std()\n",
      "    # meas.std.par_norm(pcoef=pcoef)\n",
      "    \n",
      "    # build the weights\n",
      "    wg,wg_liq,wg_ice = par_weights(meas,model)\n",
      "    #start loop over measurement\n",
      "    Sp.startprogress('Progress over times')\n",
      "    ph = np.zeros_like(meas.utc)\n",
      "    ki = np.zeros_like(meas.utc)\n",
      "    ta = np.zeros_like(meas.utc)\n",
      "    re = np.zeros_like(meas.utc)\n",
      "    for tt in xrange(len(meas.utc)):\n",
      "        #first get the phase\n",
      "        ph[tt] = kisq_phase(meas.parn[tt,:],model,wg[tt,:])\n",
      "        if ph[tt] == 0: #liquid\n",
      "            goodpi = reject_outofbounds(meas.parn[tt,:],model.liq.lut)\n",
      "            ki[tt],ta[tt],re[tt] = kisq(meas.parn[tt,:],model.liq,wg,goodpi)\n",
      "        elif ph[tt] == 1: #ice\n",
      "            goodpi = reject_outofbounds(meas.parn[tt,:],model.ice.lut)\n",
      "            ki[tt],ta[tt],re[tt] = kisq(meas.parn[tt,:],model.ice,wg,goodpi)\n",
      "        else:\n",
      "            warning('Problem with phase!')\n",
      "        Sp.progress(tt/len(meas.utc))\n",
      "        \n",
      "    Sp.endprogress()\n",
      "    \n",
      "    #save the file\n",
      "    \n",
      "    "
     ],
     "language": "python",
     "metadata": {},
     "outputs": []
    },
    {
     "cell_type": "code",
     "collapsed": false,
     "input": [
      "def assure_input(sp):\n",
      "    \" A function that checks the input and runs all the required functions to generate parameters\"\n",
      "    if sp.sp.ndim == 5:\n",
      "        print('Running the interpolation to hi-res')\n",
      "        sp.sp_hires()\n",
      "    if not(hasattr(sp,'par')):\n",
      "        print('Running the params on current class')\n",
      "        sp.params()        "
     ],
     "language": "python",
     "metadata": {},
     "outputs": []
    },
    {
     "cell_type": "code",
     "collapsed": false,
     "input": [
      "def par_weights(meas,model):\n",
      "    \"\"\"\n",
      "    A function to combine the standard deviation uncertainty in measurement\n",
      "    and model to build a set of weigths for the ki^2 regression.  \n",
      "    \"\"\"\n",
      "    pstd = np.sqrt(meas.std.parn**2.0+model.std.parn**2.0)\n",
      "    return 1./pstd"
     ],
     "language": "python",
     "metadata": {},
     "outputs": []
    },
    {
     "cell_type": "code",
     "collapsed": false,
     "input": [
      "def kisq_phase(parn,model,weights,goodpi):\n",
      "    \"\"\"\n",
      "    Function that first gets the phase from the unique possibilities, \n",
      "    and then calculates the ki^2 value with phase.\n",
      "    \"\"\"\n",
      "    ki = -999.9\n",
      "    return ki"
     ],
     "language": "python",
     "metadata": {},
     "outputs": []
    },
    {
     "cell_type": "code",
     "collapsed": false,
     "input": [
      "def reject_outofbounds(parn,lut):\n",
      "    \"\"\"\n",
      "    functions that builds a mask of bad parameters that are deemed out of bounds of the model luts\n",
      "    \"\"\"\n",
      "    maskgood = [1,0]\n",
      "    return maskgood"
     ],
     "language": "python",
     "metadata": {},
     "outputs": [],
     "prompt_number": 7
    },
    {
     "cell_type": "code",
     "collapsed": false,
     "input": [
      "def kisq(parn,model,wg):\n",
      "    \"\"\" \n",
      "    function to calculate the ki squared value for a single set of \n",
      "    measured parameter compared to model lut. Returns the tau min and ref min\n",
      "    \"\"\"\n",
      "    taumin = -999\n",
      "    refmin = -999\n",
      "    return taumin,refmin"
     ],
     "language": "python",
     "metadata": {},
     "outputs": []
    }
   ],
   "metadata": {}
  }
 ]
}