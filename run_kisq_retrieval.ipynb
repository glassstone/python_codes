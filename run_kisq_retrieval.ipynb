{
 "metadata": {
  "name": "",
  "signature": "sha256:cdac83deb86fd8ed3a33c4f591b9433425aaf013ea51ccf1718dcafb8eeaf8ec"
 },
 "nbformat": 3,
 "nbformat_minor": 0,
 "worksheets": [
  {
   "cells": [
    {
     "cell_type": "heading",
     "level": 1,
     "metadata": {},
     "source": [
      "Functions to run the ki^2 retrieval based on the parameters calculated in the Sp class, from modeled and measured source"
     ]
    },
    {
     "cell_type": "code",
     "collapsed": false,
     "input": [
      "def assure_input(sp):\n",
      "    \" A function that checks the input and runs all the required functions to generate parameters\"\n",
      "    import numpy as np\n",
      "    if not sp.parhires and hasattr(sp,'tau'):\n",
      "        print('Running the interpolation to hi-res')\n",
      "        sp.param_hires()\n",
      "    if not(hasattr(sp,'par')):\n",
      "        print('Running the params on current class')\n",
      "        sp.params()        \n",
      "    elif (np.isnan(sp.par)).all():\n",
      "        print('Running the params on current class')\n",
      "        sp.params() \n",
      "        sp.param_hires()"
     ],
     "language": "python",
     "metadata": {
      "run_control": {
       "breakpoint": false,
       "read_only": false
      }
     },
     "outputs": [],
     "prompt_number": 1
    },
    {
     "cell_type": "code",
     "collapsed": false,
     "input": [
      "def phase(parn,model,stdparn):\n",
      "    \"\"\"\n",
      "    Function to determine the phase of the measurement by checking if the \n",
      "    measured parameters are within the possible model values.\n",
      "    Lists the default parameter boundaries. \n",
      "    **** to be updated ****\n",
      "    \"\"\"\n",
      "    import numpy as np\n",
      "    ph = 2 # set default to uncertain\n",
      "    try:\n",
      "        if parn[1]-stdparn[1] > np.nanmax(model.parn[1,:,:,1]):\n",
      "            ph = 0\n",
      "    except IndexError:\n",
      "        import pdb; pdb.set_trace()\n",
      "    if parn[1]+stdparn[1] < np.nanmin(model.parn[0,:,:,1]):\n",
      "        ph = 1\n",
      "    if parn[0]+stdparn[0] < np.nanmin(model.parn[0,:,:,0]):\n",
      "        ph = 1\n",
      "    if parn[8]-stdparn[8] > np.nanmax(model.parn[0,:,:,8]):\n",
      "        ph = 1\n",
      "    if parn[9]-stdparn[9] > np.nanmax(model.parn[0,:,:,9]):\n",
      "        ph = 1\n",
      "    return ph"
     ],
     "language": "python",
     "metadata": {
      "run_control": {
       "breakpoint": false,
       "read_only": false
      }
     },
     "outputs": [],
     "prompt_number": 5
    },
    {
     "cell_type": "code",
     "collapsed": false,
     "input": [
      "def run_retrieval(meas,model,subp=range(15)):\n",
      "    \"\"\" \n",
      "    Name:\n",
      "\n",
      "        run_retrieval\n",
      "    \n",
      "    Purpose:\n",
      "\n",
      "        A function that uses the Sp class to run through each utc point in meas, \n",
      "        and finds the closest model values, \n",
      "        uses only the subset of parameters defined by subp, which defaults to first 15 parameters\n",
      "    \n",
      "    Calling Sequence:\n",
      "\n",
      "        (ta,re,ph,ki) = run_retrieval(meas,model,subp=range(15))\n",
      "    \n",
      "    Input: \n",
      "  \n",
      "        meas : Sp object (from Sp_parameters) of measurement spectra\n",
      "        model: Sp object (from Sp_paramters) of modeled spectra, also considered the look-up-table (lut) object\n",
      "        subp: (optional) array of parameters to use for retrieval\n",
      "     \n",
      "    Output:\n",
      "\n",
      "        ta: array of cloud optical thickness\n",
      "        re: array of cloud particle effective radius\n",
      "        ph: array of cloud thermodynamic phase (ph=0 for liquid, ph=1 for ice)\n",
      "        ki: array of minimal ki^2 values \n",
      "    \n",
      "    Keywords: \n",
      "\n",
      "        none\n",
      "    \n",
      "    Dependencies:\n",
      "\n",
      "        Sp_parameters\n",
      "        numpy\n",
      "        gc: for clearing the garbage\n",
      "        run_kisq_retrieval (this file)\n",
      "        pdb: for debugging when there is an error\n",
      "    \n",
      "    Required files:\n",
      "   \n",
      "        none\n",
      "    \n",
      "    Example:\n",
      "\n",
      "        ...\n",
      "        \n",
      "    Modification History:\n",
      "    \n",
      "        Written (v1.0): Samuel LeBlanc, 2014-11-08, NASA Ames\n",
      "\n",
      "    \"\"\"\n",
      "    import Sp_parameters as Sp\n",
      "    import numpy as np\n",
      "    import run_kisq_retrieval as rk\n",
      "    rk.assure_input(meas)\n",
      "    rk.assure_input(model)\n",
      "    # normalize the parameters\n",
      "    pcoef = model.norm_par()\n",
      "    meas.norm_par(pcoef=pcoef)\n",
      "    \n",
      "    # build the measurement error\n",
      "    meas.build_std() #in future must reference a set of measurements to establishe the uncertainty, right now only white noise at 0.5%\n",
      "    meas.stdparn = meas.stdpar/pcoef['coef'] #for creating the normalized version of the stdpar\n",
      "    \n",
      "    # build the reshaped model for ice and liquid\n",
      "    model.reshape_lut(phase='liq')\n",
      "    model.reshape_lut(phase='ice')\n",
      "    \n",
      "    # build the normalized measurement parameters based on liquid or ice values\n",
      "    meas.norm_par(pcoef=model.ice.pcoef,vartitle='parn_ice')\n",
      "    meas.norm_par(pcoef=model.liq.pcoef,vartitle='parn_liq')\n",
      "    \n",
      "    # build the weights from the stdparn of measurements\n",
      "    wg = np.sqrt(meas.stdpar)/pcoef['coef']\n",
      "    \n",
      "    #start loop over measurement\n",
      "    Sp.startprogress('Retrieval progress over times')\n",
      "    ph = np.zeros_like(meas.utc)*np.nan\n",
      "    ki = np.zeros_like(meas.utc)*np.nan\n",
      "    ta = np.zeros_like(meas.utc)*np.nan\n",
      "    re = np.zeros_like(meas.utc)*np.nan\n",
      "    #ki_2ph = np.zeros_like(meas.utc) #kisq with 2 phase\n",
      "    for tt in meas.good:\n",
      "        try:\n",
      "            if np.all(np.isnan(meas.parn[tt,subp])):\n",
      "                continue\n",
      "        except:\n",
      "            import pdb; pdb.set_trace()\n",
      "        #first get the phase in first method\n",
      "        #import pdb; pdb.set_trace()\n",
      "        ph[tt] = rk.phase(meas.parn[tt,:].ravel(),model,meas.stdparn)\n",
      "        if ph[tt] == 2: # undecided, must do the kisq\n",
      "            ki_2ph = np.nansum(wg[subp]*(meas.parn[tt,subp]-model.parn[:,:,:,subp])**2,axis=3)\n",
      "            ki_minin = np.unravel_index(np.nanargmin(ki_2ph),ki_2ph.shape)\n",
      "            ph[tt] = ki_minin[0]\n",
      "        if ph[tt] == 0: #liquid\n",
      "            goodpi = [i for i in subp if (meas.parn_liq[tt,i]+meas.stdparn[i]>=0) and (meas.parn_liq[tt,i]-meas.stdparn[i]<=1)]\n",
      "            if len(goodpi) < 4:\n",
      "                continue\n",
      "            ki_arr = np.nansum(wg[goodpi]*(meas.parn_liq[tt,goodpi]-model.liq.parn[:,:,goodpi])**2,axis=2)\n",
      "            ki[tt] = np.nanmin(ki_arr)\n",
      "            #print ki[tt]\n",
      "            ki_minin = np.unravel_index(np.nanargmin(ki_arr),ki_arr.shape)\n",
      "            (ta[tt],re[tt]) = (model.liq.tau[ki_minin[1]],model.liq.ref[ki_minin[0]])\n",
      "        elif ph[tt] == 1: #ice\n",
      "            goodpi = [i for i in subp if (meas.parn_ice[tt,i]+meas.stdparn[i]>=0) and (meas.parn_ice[tt,i]-meas.stdparn[i]<=1)]\n",
      "     #       print goodpi\n",
      "            if len(goodpi) < 4:\n",
      "                continue\n",
      "            ki_arr = np.nansum(wg[goodpi]*(meas.parn_ice[tt,goodpi]-model.ice.parn[:,:,goodpi])**2,axis=2)\n",
      "            ki[tt] = np.nanmin(ki_arr)\n",
      "            ki_minin = np.unravel_index(np.nanargmin(ki_arr),ki_arr.shape)\n",
      "            (ta[tt],re[tt]) = (model.ice.tau[ki_minin[1]],model.ice.ref[ki_minin[0]])\n",
      "            #print ki[tt]\n",
      "        else:\n",
      "            print('Problem with phase!')\n",
      "            return\n",
      "        Sp.progress(float(tt)/len(meas.utc)*100.0)\n",
      "    Sp.endprogress()\n",
      "    \n",
      "    #save the file\n",
      "    return (ta,re,ph,ki)\n",
      "    "
     ],
     "language": "python",
     "metadata": {
      "run_control": {
       "breakpoint": false,
       "read_only": false
      }
     },
     "outputs": [
      {
       "ename": "SyntaxError",
       "evalue": "invalid syntax (<ipython-input-1-30a9e22c895e>, line 46)",
       "output_type": "pyerr",
       "traceback": [
        "\u001b[1;36m  File \u001b[1;32m\"<ipython-input-1-30a9e22c895e>\"\u001b[1;36m, line \u001b[1;32m46\u001b[0m\n\u001b[1;33m    ki_minin = np.unravel_index(np.nanargmin(ki_2ph),ki_2ph.shape)\u001b[0m\n\u001b[1;37m           ^\u001b[0m\n\u001b[1;31mSyntaxError\u001b[0m\u001b[1;31m:\u001b[0m invalid syntax\n"
       ]
      }
     ],
     "prompt_number": 1
    },
    {
     "cell_type": "code",
     "collapsed": false,
     "input": [],
     "language": "python",
     "metadata": {
      "run_control": {
       "breakpoint": false,
       "read_only": false
      }
     },
     "outputs": []
    }
   ],
   "metadata": {}
  }
 ]
}