{
 "metadata": {
  "name": "",
  "signature": "sha256:99475fd41b648a8a77bd88f83ec1480f2571d98c59c36f241966693b7355eebe"
 },
 "nbformat": 3,
 "nbformat_minor": 0,
 "worksheets": [
  {
   "cells": [
    {
     "cell_type": "heading",
     "level": 1,
     "metadata": {},
     "source": [
      "Functions to run the ki^2 retrieval based on the parameters calculated in the Sp class, from modeled and measured source"
     ]
    },
    {
     "cell_type": "code",
     "collapsed": false,
     "input": [
      "def run_retrieval(meas,model):\n",
      "    \"\"\" A function that uses the Sp class to run through each utc point in meas, and finds the closest model values \"\"\"\n",
      "    if not(hasattr(meas,'par')):\n",
      "        print('Running the params on meas class')\n",
      "        meas.params()\n",
      "    if not(hasattr(model,'par')):\n",
      "        print('Running the params on the model class')\n",
      "    \n",
      "    # normalize the parameters\n",
      "    \n",
      "    #start loop over measurement"
     ],
     "language": "python",
     "metadata": {},
     "outputs": []
    }
   ],
   "metadata": {}
  }
 ]
}