{
 "metadata": {
  "name": "",
  "signature": "sha256:7e07d0f071a8bbd491fc5c981ba0a4af826e77edc825910d78f2c06fbdfb20b1"
 },
 "nbformat": 3,
 "nbformat_minor": 0,
 "worksheets": [
  {
   "cells": [
    {
     "cell_type": "heading",
     "level": 1,
     "metadata": {},
     "source": [
      "Functions to run the ki^2 retrieval based on the parameters calculated in the Sp class, from modeled and measured source"
     ]
    },
    {
     "cell_type": "code",
     "collapsed": false,
     "input": [
      "def run_retrieval(meas,model):\n",
      "    \"\"\" A function that uses the Sp class to run through each utc point in meas, and finds the closest model values \"\"\"\n",
      "    assure_input(meas)\n",
      "    assure_input(model)\n",
      "    # normalize the parameters\n",
      "    pcoef = model.par_norm()\n",
      "    pcoef = meas.par_norm(pcoef=pcoef)\n",
      "    \n",
      "    #start loop over measurement\n",
      "    "
     ],
     "language": "python",
     "metadata": {},
     "outputs": []
    },
    {
     "cell_type": "code",
     "collapsed": false,
     "input": [
      "def assure_input(sp):\n",
      "    \" A function that checks the input and runs all the required functions to generate parameters\"\n",
      "    if not(hasattr(sp,'par')):\n",
      "        print('Running the params on current class')\n",
      "        sp.params()\n",
      "        "
     ],
     "language": "python",
     "metadata": {},
     "outputs": []
    }
   ],
   "metadata": {}
  }
 ]
}