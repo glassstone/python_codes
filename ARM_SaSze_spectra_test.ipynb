{
 "cells": [
  {
   "cell_type": "markdown",
   "metadata": {},
   "source": [
    "# Info\n",
    "Name:  \n",
    "\n",
    "    ARM_SaSza_spetra_test\n",
    "\n",
    "Purpose:  \n",
    "\n",
    "    First go through of SaS-ze spectral data for testing application to cloud properties\n",
    "  \n",
    "Input:\n",
    "\n",
    "    none at command line\n",
    "  \n",
    "Output:\n",
    "\n",
    "    figures and save files...\n",
    "  \n",
    "Keywords:\n",
    "\n",
    "    none\n",
    "  \n",
    "Dependencies:\n",
    "\n",
    "    - load_utils.py : for loading netcdf files\n",
    "    - matplotlib\n",
    "    - numpy\n",
    "    - scipy : for saving and reading\n",
    "    - os\n",
    "  \n",
    "Needed Files:\n",
    "\n",
    "  - file.rc : for consistent creation of look of matplotlib figures\n",
    "  - ...\n",
    "  \n",
    "Modification History:\n",
    "\n",
    "    Written: Samuel LeBlanc, NOAA-Boulder, 2019-02-26\n",
    "    Modified: "
   ]
  },
  {
   "cell_type": "markdown",
   "metadata": {},
   "source": [
    "# Load the python modules and environment"
   ]
  },
  {
   "cell_type": "code",
   "execution_count": 1,
   "metadata": {
    "ExecuteTime": {
     "end_time": "2019-02-26T18:09:11.034569Z",
     "start_time": "2019-02-26T18:08:58.484686Z"
    }
   },
   "outputs": [],
   "source": [
    "import matplotlib.pyplot as plt\n",
    "import numpy as np\n",
    "import scipy.io as sio\n",
    "import load_utils as lu\n",
    "from path_utils import getpath"
   ]
  },
  {
   "cell_type": "code",
   "execution_count": 31,
   "metadata": {
    "ExecuteTime": {
     "end_time": "2019-02-26T21:34:13.397269Z",
     "start_time": "2019-02-26T21:34:13.376693Z"
    }
   },
   "outputs": [],
   "source": [
    "import os\n",
    "import Sp_parameters as Sp"
   ]
  },
  {
   "cell_type": "code",
   "execution_count": 2,
   "metadata": {
    "ExecuteTime": {
     "end_time": "2019-02-26T18:09:11.109857Z",
     "start_time": "2019-02-26T18:09:11.049832Z"
    }
   },
   "outputs": [],
   "source": [
    "%matplotlib notebook"
   ]
  },
  {
   "cell_type": "code",
   "execution_count": 7,
   "metadata": {
    "ExecuteTime": {
     "end_time": "2019-02-26T18:10:03.724461Z",
     "start_time": "2019-02-26T18:10:03.689227Z"
    }
   },
   "outputs": [
    {
     "data": {
      "text/plain": [
       "u'/mnt/c/Users/sleblanc/Research/LASIC/'"
      ]
     },
     "execution_count": 7,
     "metadata": {},
     "output_type": "execute_result"
    }
   ],
   "source": [
    "fp = getpath('LASIC',make_path=True)\n",
    "fp"
   ]
  },
  {
   "cell_type": "code",
   "execution_count": 8,
   "metadata": {
    "ExecuteTime": {
     "end_time": "2019-02-26T18:20:12.675311Z",
     "start_time": "2019-02-26T18:20:12.672542Z"
    }
   },
   "outputs": [],
   "source": [
    "daystr = '20160815'"
   ]
  },
  {
   "cell_type": "markdown",
   "metadata": {},
   "source": [
    "# Load the files"
   ]
  },
  {
   "cell_type": "code",
   "execution_count": 10,
   "metadata": {
    "ExecuteTime": {
     "end_time": "2019-02-26T18:28:23.370385Z",
     "start_time": "2019-02-26T18:28:23.366861Z"
    }
   },
   "outputs": [],
   "source": [
    "fl = os.listdir(fp+'data/')"
   ]
  },
  {
   "cell_type": "code",
   "execution_count": 22,
   "metadata": {
    "ExecuteTime": {
     "end_time": "2019-02-26T18:38:42.725671Z",
     "start_time": "2019-02-26T18:38:42.721827Z"
    }
   },
   "outputs": [],
   "source": [
    "for g in fl: \n",
    "    if daystr in g:\n",
    "        if 'vis' in g:\n",
    "            glv = g\n",
    "        if 'nir' in g:\n",
    "            gln = g"
   ]
  },
  {
   "cell_type": "code",
   "execution_count": 23,
   "metadata": {
    "ExecuteTime": {
     "end_time": "2019-02-26T18:38:47.505472Z",
     "start_time": "2019-02-26T18:38:47.501028Z"
    }
   },
   "outputs": [
    {
     "data": {
      "text/plain": [
       "(u'asisaszevisM1.a1.20160815.054702.cdf',\n",
       " u'asisaszenirM1.a1.20160815.054702.cdf')"
      ]
     },
     "execution_count": 23,
     "metadata": {},
     "output_type": "execute_result"
    }
   ],
   "source": [
    "glv,gln"
   ]
  },
  {
   "cell_type": "code",
   "execution_count": 24,
   "metadata": {
    "ExecuteTime": {
     "end_time": "2019-02-26T18:39:06.513007Z",
     "start_time": "2019-02-26T18:38:51.835600Z"
    }
   },
   "outputs": [
    {
     "name": "stdout",
     "output_type": "stream",
     "text": [
      "Reading file: /mnt/c/Users/sleblanc/Research/LASIC/data/asisaszevisM1.a1.20160815.054702.cdf\n",
      "Outputting the Data subdatasets:\n",
      "\u001b[1;36m0: base_time\u001b[0m\n",
      "\u001b[1;36m1: time_offset\u001b[0m\n",
      "\u001b[1;36m2: time\u001b[0m\n",
      "\u001b[1;36m3: wavelength\u001b[0m\n",
      "\u001b[1;36m4: mio_temperature_mems\u001b[0m\n",
      "\u001b[1;36m5: mio_temperature_mems_fahr\u001b[0m\n",
      "\u001b[1;36m6: mio_temperature_trh\u001b[0m\n",
      "\u001b[1;36m7: mio_rh\u001b[0m\n",
      "\u001b[1;36m8: collector_temperature\u001b[0m\n",
      "\u001b[1;36m9: collector_rh\u001b[0m\n",
      "\u001b[1;36m10: collector_dewpoint\u001b[0m\n",
      "\u001b[1;36m11: chiller_temperature\u001b[0m\n",
      "\u001b[1;36m12: chiller_rh\u001b[0m\n",
      "\u001b[1;36m13: chiller_dewpoint\u001b[0m\n",
      "\u001b[1;36m14: collector_x_tilt\u001b[0m\n",
      "\u001b[1;36m15: collector_y_tilt\u001b[0m\n",
      "\u001b[1;36m16: collector_x_tilt_std\u001b[0m\n",
      "\u001b[1;36m17: collector_y_tilt_std\u001b[0m\n",
      "\u001b[1;36m18: band_azimuth\u001b[0m\n",
      "\u001b[1;36m19: solar_azimuth\u001b[0m\n",
      "\u001b[1;36m20: solar_zenith\u001b[0m\n",
      "\u001b[1;36m21: inner_band_angle\u001b[0m\n",
      "\u001b[1;36m22: inner_band_scattering_angle\u001b[0m\n",
      "\u001b[1;36m23: clock_ticks\u001b[0m\n",
      "\u001b[1;36m24: bench_temperature\u001b[0m\n",
      "\u001b[1;36m25: ad_temperature\u001b[0m\n",
      "\u001b[1;36m26: integration_time\u001b[0m\n",
      "\u001b[1;36m27: number_of_scans\u001b[0m\n",
      "\u001b[1;36m28: responsivity\u001b[0m\n",
      "\u001b[1;36m29: zenith_radiance\u001b[0m\n",
      "\u001b[1;36m30: lat\u001b[0m\n",
      "\u001b[1;36m31: lon\u001b[0m\n",
      "\u001b[1;36m32: alt\u001b[0m\n",
      "['chiller_rh', 'collector_y_tilt_std', 'base_time', 'mio_rh', 'mio_temperature_mems_fahr', 'number_of_scans', 'solar_zenith', 'zenith_radiance', 'wavelength', 'alt', 'ad_temperature', 'mio_temperature_mems', 'lon', 'chiller_dewpoint', 'bench_temperature', 'inner_band_angle', 'clock_ticks', 'integration_time', 'collector_rh', 'collector_x_tilt_std', 'lat', 'collector_y_tilt', 'collector_temperature', 'band_azimuth', 'collector_x_tilt', 'solar_azimuth', 'time_offset', 'chiller_temperature', 'mio_temperature_trh', 'time', 'inner_band_scattering_angle', 'collector_dewpoint', 'responsivity']\n"
     ]
    }
   ],
   "source": [
    "vis,vish = lu.load_netcdf(fp+'data/'+glv,everything=True)"
   ]
  },
  {
   "cell_type": "code",
   "execution_count": 25,
   "metadata": {
    "ExecuteTime": {
     "end_time": "2019-02-26T18:39:13.023278Z",
     "start_time": "2019-02-26T18:39:10.671571Z"
    }
   },
   "outputs": [
    {
     "name": "stdout",
     "output_type": "stream",
     "text": [
      "Reading file: /mnt/c/Users/sleblanc/Research/LASIC/data/asisaszenirM1.a1.20160815.054702.cdf\n",
      "Outputting the Data subdatasets:\n",
      "\u001b[1;36m0: base_time\u001b[0m\n",
      "\u001b[1;36m1: time_offset\u001b[0m\n",
      "\u001b[1;36m2: time\u001b[0m\n",
      "\u001b[1;36m3: wavelength\u001b[0m\n",
      "\u001b[1;36m4: mio_temperature_mems\u001b[0m\n",
      "\u001b[1;36m5: mio_temperature_mems_fahr\u001b[0m\n",
      "\u001b[1;36m6: mio_temperature_trh\u001b[0m\n",
      "\u001b[1;36m7: mio_rh\u001b[0m\n",
      "\u001b[1;36m8: collector_temperature\u001b[0m\n",
      "\u001b[1;36m9: collector_rh\u001b[0m\n",
      "\u001b[1;36m10: collector_dewpoint\u001b[0m\n",
      "\u001b[1;36m11: chiller_temperature\u001b[0m\n",
      "\u001b[1;36m12: chiller_rh\u001b[0m\n",
      "\u001b[1;36m13: chiller_dewpoint\u001b[0m\n",
      "\u001b[1;36m14: collector_x_tilt\u001b[0m\n",
      "\u001b[1;36m15: collector_y_tilt\u001b[0m\n",
      "\u001b[1;36m16: collector_x_tilt_std\u001b[0m\n",
      "\u001b[1;36m17: collector_y_tilt_std\u001b[0m\n",
      "\u001b[1;36m18: band_azimuth\u001b[0m\n",
      "\u001b[1;36m19: solar_azimuth\u001b[0m\n",
      "\u001b[1;36m20: solar_zenith\u001b[0m\n",
      "\u001b[1;36m21: inner_band_angle\u001b[0m\n",
      "\u001b[1;36m22: inner_band_scattering_angle\u001b[0m\n",
      "\u001b[1;36m23: clock_ticks\u001b[0m\n",
      "\u001b[1;36m24: bench_temperature\u001b[0m\n",
      "\u001b[1;36m25: ad_temperature\u001b[0m\n",
      "\u001b[1;36m26: integration_time\u001b[0m\n",
      "\u001b[1;36m27: number_of_scans\u001b[0m\n",
      "\u001b[1;36m28: responsivity\u001b[0m\n",
      "\u001b[1;36m29: zenith_radiance\u001b[0m\n",
      "\u001b[1;36m30: lat\u001b[0m\n",
      "\u001b[1;36m31: lon\u001b[0m\n",
      "\u001b[1;36m32: alt\u001b[0m\n",
      "['chiller_rh', 'collector_y_tilt_std', 'base_time', 'mio_rh', 'mio_temperature_mems_fahr', 'number_of_scans', 'solar_zenith', 'zenith_radiance', 'wavelength', 'alt', 'ad_temperature', 'mio_temperature_mems', 'lon', 'chiller_dewpoint', 'bench_temperature', 'inner_band_angle', 'clock_ticks', 'integration_time', 'collector_rh', 'collector_x_tilt_std', 'lat', 'collector_y_tilt', 'collector_temperature', 'band_azimuth', 'collector_x_tilt', 'solar_azimuth', 'time_offset', 'chiller_temperature', 'mio_temperature_trh', 'time', 'inner_band_scattering_angle', 'collector_dewpoint', 'responsivity']\n"
     ]
    }
   ],
   "source": [
    "nir,nirh = lu.load_netcdf(fp+'data/'+gln,everything=True)"
   ]
  },
  {
   "cell_type": "code",
   "execution_count": 29,
   "metadata": {
    "ExecuteTime": {
     "end_time": "2019-02-26T21:17:13.446346Z",
     "start_time": "2019-02-26T21:17:13.440639Z"
    }
   },
   "outputs": [
    {
     "data": {
      "text/plain": [
       "(<type 'netCDF4._netCDF4.Variable'>\n",
       " float32 zenith_radiance(time, wavelength)\n",
       "     long_name: Spectral zenith radiance from Si VIS spectrometer\n",
       "     units: W/(m^2 um sr)\n",
       "     valid_min: 0.0\n",
       "     missing_value: -9999.0\n",
       " unlimited dimensions: time\n",
       " current shape = (39258, 2048)\n",
       " filling off, <type 'netCDF4._netCDF4.Variable'>\n",
       " float32 wavelength(wavelength)\n",
       "     long_name: Wavelength of VIS spectrometer pixels\n",
       "     units: nm\n",
       " unlimited dimensions: \n",
       " current shape = (2048,)\n",
       " filling off)"
      ]
     },
     "execution_count": 29,
     "metadata": {},
     "output_type": "execute_result"
    }
   ],
   "source": [
    "vish['zenith_radiance'], vish['wavelength']"
   ]
  },
  {
   "cell_type": "code",
   "execution_count": 30,
   "metadata": {
    "ExecuteTime": {
     "end_time": "2019-02-26T21:31:18.388540Z",
     "start_time": "2019-02-26T21:31:18.383222Z"
    }
   },
   "outputs": [
    {
     "data": {
      "text/plain": [
       "(<type 'netCDF4._netCDF4.Variable'>\n",
       " float32 zenith_radiance(time, wavelength)\n",
       "     long_name: Spectral zenith radiance from InGaAs NIR spectrometer\n",
       "     units: W/(m^2 um sr)\n",
       "     valid_min: 0.0\n",
       "     missing_value: -9999.0\n",
       " unlimited dimensions: time\n",
       " current shape = (39258, 256)\n",
       " filling off, <type 'netCDF4._netCDF4.Variable'>\n",
       " float32 wavelength(wavelength)\n",
       "     long_name: Wavelength of NIR spectrometer pixels\n",
       "     units: nm\n",
       " unlimited dimensions: \n",
       " current shape = (256,)\n",
       " filling off)"
      ]
     },
     "execution_count": 30,
     "metadata": {},
     "output_type": "execute_result"
    }
   ],
   "source": [
    "nirh['zenith_radiance'], nirh['wavelength']"
   ]
  },
  {
   "cell_type": "markdown",
   "metadata": {},
   "source": [
    "# Plot out some data"
   ]
  },
  {
   "cell_type": "code",
   "execution_count": 32,
   "metadata": {
    "ExecuteTime": {
     "end_time": "2019-02-26T21:42:15.043848Z",
     "start_time": "2019-02-26T21:42:15.036670Z"
    }
   },
   "outputs": [
    {
     "name": "stdout",
     "output_type": "stream",
     "text": [
      "Help on class Sp in module Sp_parameters:\n",
      "\n",
      "class Sp\n",
      " |  Purpose:\n",
      " |    Sp: spectrum class object that has all the tools for easy spectra analysis.\n",
      " |    Includes tools for building look up tables\n",
      " |  \n",
      " |  keywords:\n",
      " |    - irrad: (default False) if True, then calculates the irradiance values as well\n",
      " |    - verbose (default True) if True, then returns many comments while processing\n",
      " |    - liq_only (default False) if True, then only computes the liquid side of the lut\n",
      " |    - ice_only (default False) if True only computes the ice lut\n",
      " |  \n",
      " |  \n",
      " |  Modification History:\n",
      " |  Modified (v1.1): Samuel LeBlanc, NASA Ames, 2015-05-14\n",
      " |                  - added in _init_ for checking if using radiance subset instead of all radiances \n",
      " |                    (rad vs. rads), in matlab loaded values\n",
      " |  Modified (v1.2): Samuel LeBlanc, NASA Ames, 2015-10-01\n",
      " |                  - added subset of wavelengths for normalization\n",
      " |  Modified (v1.3): Samuel LeBlanc, NASA Ames, 2015-11-02\n",
      " |                  - added __getitem__ method for calling like a dict\n",
      " |                  - added method for obtaining the valid ref ranges for ice or liquid, making Sp more general.\n",
      " |                  - added verbose keyword during init\n",
      " |  Modified (v1.4): Samuel LeBlanc, Santa Cruz, CA, 2016-10-07\n",
      " |                  - added a method for assuring the utc input, and getting a new datestr object for the measurement\n",
      " |  Modified (v1.5): Samuel LeBlanc, Santa Cruz, CA, 2016-10-21\n",
      " |                  - added liquid only keyword for when using the param on lut, to copy the liq lut values to ice\n",
      " |  Modified (v1.6): Samuel LeBlanc, Santa Cruz, CA, 2016-11-22\n",
      " |                  - added keyword for hires params to subset the ref and tau ranges\n",
      " |                  - added keys() method for listing the methods of this class in a dict-like way.\n",
      " |  Modified (v1.7): Samuel LeBlanc, Santa Cruz, CA, 2017-02-19\n",
      " |                  - added keyword for ice_only lut development\n",
      " |  Modified (v1.8): Samuel LeBlanc, Mountain View, CA, 2017-02-22\n",
      " |                  - added keyword in params for defining which zout to use when calculating parameters for luts.\n",
      " |  \n",
      " |  Methods defined here:\n",
      " |  \n",
      " |  __getitem__(self, i)\n",
      " |      Method to call only the variables in the SP class like a dict\n",
      " |  \n",
      " |  __init__(self, s, irrad=False, verbose=True, liq_only=False, ice_only=False)\n",
      " |  \n",
      " |  build_std(self)\n",
      " |      Function that creates a set of uncertainty for each parameter.\n",
      " |      Currently just uses white noise (gaussian)\n",
      " |  \n",
      " |  get_refrange(self)\n",
      " |      Simple program that returns the ref ranges with valid first parameter for two phases\n",
      " |  \n",
      " |  get_utc_datestr(self, s)\n",
      " |      Method to return the utc and datestr\n",
      " |  \n",
      " |  keys(self)\n",
      " |      Method to wrap the dict call to the SP class object\n",
      " |  \n",
      " |  make_agree_vis_nir(self, rad)\n",
      " |      Function that goes through measured spectra to ensure that the vis and nir agree on the wavelength range of 980 mn\n",
      " |      ratio the NIR protion of the spectrum to the ratio difference NIR and VIS at 980 nm, VIS does not change\n",
      " |  \n",
      " |  mean(self)\n",
      " |      function that returns the mean spectra.\n",
      " |  \n",
      " |  norm_par(self, pcoef=None, std=False, vartitle=None)\n",
      " |      Normalize the parameters, if no keyword set, returns the normalized parameter values in self.parn\n",
      " |      if the keywords are not set, returns the normalized parameter values in self.parn and returns\n",
      " |      the pcoef dictionary containing the coefficients and additive values used for normalizing each parameter.\n",
      " |      Applies the normalization to std if set to true, \n",
      " |      and requires the pceof to be set and creates stdparn, overrides vartitle\n",
      " |      \n",
      " |      Saves to vartitle if vartitle is set.\n",
      " |  \n",
      " |  normsp(self, sp, iws=None)\n",
      " |      Function to return the normalized spectra list\n",
      " |  \n",
      " |  param_hires(self, start_ref=None, end_ref=None, start_tau=None, end_tau=None)\n",
      " |      Runs through the parameter space and interpolates to create a hires version, should be run instead of sp_hires \n",
      " |      \n",
      " |      input:\n",
      " |          start_ref: the starting point of the hires ref array (defaults to first ref array from original data)\n",
      " |          end_ref: the ending point of the hires ref array (defaults to last ref array+1.0 from original data)\n",
      " |          start_tau: first point in tau hires array (defaults to first tau from original data) \n",
      " |          end_tau: last value of hires tau array (defaults to last tau of original data)\n",
      " |  \n",
      " |  params(self, liq_only=False, ice_only=True, iz=0)\n",
      " |      Purpose:\n",
      " |          Runs through each spectrum in the sp array to calculate the parameters\n",
      " |      \n",
      " |      Keyword:\n",
      " |          - liq_only: (default False) if True, copies the keywords from liquid to ice values\n",
      " |          - ice_only: (default False) if True, copies the keywords from ice to liquid values\n",
      " |          - iz: (default 0 or lowest) zout index value used in calculating the parameters\n",
      " |  \n",
      " |  reshape_lut(self, phase=None)\n",
      " |      Function that reformats the lut such that only liquid or ice clouds values exist\n",
      " |  \n",
      " |  sp_hires(self, doirrad=False)\n",
      " |      Interpolate the modeled sp to a finer resolution in tau and ref. \n",
      " |      Only works on modeled data with 5 dimensions\n",
      " |      When doirrad is set to True, run the interpolation of reflectance at z=1\n",
      " |  \n",
      " |  std(self, sp=None)\n",
      " |      function that returns the standard deviation spectra.\n",
      " |  \n",
      " |  wvl_for_norm(self, wvl, wrange=[315.0, 940.0])\n",
      " |      Function that gets the indices for the wavelengths to be used in normalization\n",
      " |  \n",
      " |  wvlsort(self, s, irrad)\n",
      " |      Function to sort spectra along the wavelength axis\n",
      " |      select processing depending on the keys in the original dictionary input\n",
      " |      \n",
      " |      Creates the sp element in self, and iset for measurements\n",
      " |  \n",
      " |  ----------------------------------------------------------------------\n",
      " |  Data and other attributes defined here:\n",
      " |  \n",
      " |  np = <module 'numpy' from '/usr/local/lib/python2.7/dist-packages/nump...\n",
      "\n"
     ]
    }
   ],
   "source": [
    "help(Sp.Sp)"
   ]
  },
  {
   "cell_type": "code",
   "execution_count": null,
   "metadata": {},
   "outputs": [],
   "source": []
  }
 ],
 "metadata": {
  "kernelspec": {
   "display_name": "Python 2",
   "language": "python",
   "name": "python2"
  },
  "language_info": {
   "codemirror_mode": {
    "name": "ipython",
    "version": 2
   },
   "file_extension": ".py",
   "mimetype": "text/x-python",
   "name": "python",
   "nbconvert_exporter": "python",
   "pygments_lexer": "ipython2",
   "version": "2.7.12"
  },
  "toc": {
   "nav_menu": {},
   "number_sections": true,
   "sideBar": false,
   "skip_h1_title": false,
   "toc_cell": false,
   "toc_position": {},
   "toc_section_display": "block",
   "toc_window_display": false
  },
  "varInspector": {
   "cols": {
    "lenName": 16,
    "lenType": 16,
    "lenVar": 40
   },
   "kernels_config": {
    "python": {
     "delete_cmd_postfix": "",
     "delete_cmd_prefix": "del ",
     "library": "var_list.py",
     "varRefreshCmd": "print(var_dic_list())"
    },
    "r": {
     "delete_cmd_postfix": ") ",
     "delete_cmd_prefix": "rm(",
     "library": "var_list.r",
     "varRefreshCmd": "cat(var_dic_list()) "
    }
   },
   "types_to_exclude": [
    "module",
    "function",
    "builtin_function_or_method",
    "instance",
    "_Feature"
   ],
   "window_display": false
  }
 },
 "nbformat": 4,
 "nbformat_minor": 2
}
