{
 "cells": [
  {
   "cell_type": "markdown",
   "metadata": {},
   "source": [
    "# Info\n",
    "Name:  \n",
    "\n",
    "    SEAC4RS_cld_compare_v5_small\n",
    "\n",
    "Purpose:  \n",
    "\n",
    "    Python script to simplify the SEAC4RS_compare_v5 script. \n",
    "    Used for making the figures in the paper:\n",
    "        Comparing Cloud properties and radiative effect estimated from airborne measurements of transmitted and reflected light\n",
    "        LeBlanc et al., JGR \n",
    "\n",
    "Input:\n",
    "\n",
    "    none at command line\n",
    "  \n",
    "Output:\n",
    "\n",
    "    figures and save files...\n",
    "  \n",
    "Keywords:\n",
    "\n",
    "    none\n",
    "  \n",
    "Dependencies:\n",
    "\n",
    "    - Sp_parameters.py : for Sp class definition, and for defining the functions used to build parameters\n",
    "    - run_kisq_retrieval.py : for the retrieval functions\n",
    "    - load_utils.py : for loading modis files\n",
    "    - matplotlib\n",
    "    - mpltools\n",
    "    - numpy\n",
    "    - plotly : optional\n",
    "    - scipy : for saving and reading\n",
    "    - math\n",
    "    - os\n",
    "    - gc\n",
    "    - pdb\n",
    "    - datetime\n",
    "    - pyhdf\n",
    "    - mpl_toolkits\n",
    "    - gdal (from osgeo)\n",
    "    - plotting_utils (user defined plotting routines)\n",
    "    - map_utils, dependent on geopy\n",
    "    - hdf5storage\n",
    "  \n",
    "Needed Files:\n",
    "\n",
    "  - file.rc : for consistent creation of look of matplotlib figures\n",
    "  - sp_v3_20130913_4STAR.out: modeled spectra output for SEAC4RS at sza 17.9, idl save file\n",
    "  - %%20130219starzen_rad.mat : special zenith radiance 4star matlab file \n",
    "  - ict files from 20130913\n",
    "  \n",
    "Modification History:\n",
    "\n",
    "    Written: Samuel LeBlanc, Santa Cruz, CA, 2016-11-11\n",
    "             ported from SEAC4RS_compare_v5"
   ]
  },
  {
   "cell_type": "markdown",
   "metadata": {},
   "source": [
    "# Load the required python modules"
   ]
  },
  {
   "cell_type": "code",
   "execution_count": 1,
   "metadata": {
    "collapsed": true
   },
   "outputs": [],
   "source": [
    "%config InlineBackend.rc = {}\n",
    "import matplotlib \n",
    "matplotlib.rc_file('C:\\\\Users\\\\sleblan2\\\\Research\\\\python_codes\\\\file.rc')\n",
    "import matplotlib.pyplot as plt\n",
    "import matplotlib.colors as colors\n",
    "from mpltools import color\n",
    "\n",
    "import numpy as np\n",
    "import scipy.io as sio\n",
    "import math\n",
    "import os\n",
    "import Sp_parameters as Sp\n",
    "\n",
    "import hdf5storage as hs\n",
    "from load_utils import mat2py_time, toutc, load_ict\n",
    "\n",
    "from Sp_parameters import smooth\n",
    "import cPickle as pickle\n"
   ]
  },
  {
   "cell_type": "code",
   "execution_count": 2,
   "metadata": {
    "collapsed": false
   },
   "outputs": [
    {
     "name": "stderr",
     "output_type": "stream",
     "text": [
      "C:\\Python27_64\\WinPython-64bit-2.7.6.4\\python-2.7.6.amd64\\lib\\site-packages\\IPython\\kernel\\__init__.py:13: ShimWarning: The `IPython.kernel` package has been deprecated. You should import from ipykernel or jupyter_client instead.\n",
      "  \"You should import from ipykernel or jupyter_client instead.\", ShimWarning)\n"
     ]
    }
   ],
   "source": [
    "%matplotlib notebook"
   ]
  },
  {
   "cell_type": "code",
   "execution_count": 3,
   "metadata": {
    "collapsed": true
   },
   "outputs": [],
   "source": [
    "# set the basic directory path\n",
    "fp='C:/Users/sleblan2/Research/SEAC4RS/'"
   ]
  },
  {
   "cell_type": "code",
   "execution_count": null,
   "metadata": {
    "collapsed": true
   },
   "outputs": [],
   "source": []
  }
 ],
 "metadata": {
  "kernelspec": {
   "display_name": "Python 2",
   "language": "python",
   "name": "python2"
  },
  "language_info": {
   "codemirror_mode": {
    "name": "ipython",
    "version": 2
   },
   "file_extension": ".py",
   "mimetype": "text/x-python",
   "name": "python",
   "nbconvert_exporter": "python",
   "pygments_lexer": "ipython2",
   "version": "2.7.6"
  },
  "toc": {
   "toc_cell": false,
   "toc_number_sections": true,
   "toc_threshold": 4,
   "toc_window_display": false
  }
 },
 "nbformat": 4,
 "nbformat_minor": 0
}
