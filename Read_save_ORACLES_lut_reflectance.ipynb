{
 "cells": [
  {
   "cell_type": "markdown",
   "metadata": {},
   "source": [
    "Name:  \n",
    "\n",
    "    Read_save_ORACLES_lut_reflectance\n",
    "\n",
    "Purpose:  \n",
    "\n",
    "    Read the output files from the ORACLES lut after libradran run for creating irradiance reflectances. \n",
    "    Based on inputs created by Prepare_ORACLES_lut_reflectance\n",
    "\n",
    "Calling Sequence:\n",
    "\n",
    "    python Read_save_ORACLES_lut_reflectance\n",
    "  \n",
    "Input:\n",
    "\n",
    "    none\n",
    "\n",
    "Output:\n",
    "   \n",
    "    Save matlab file of lut files\n",
    "  \n",
    "Keywords:\n",
    "\n",
    "    none\n",
    "  \n",
    "Dependencies:\n",
    "\n",
    "    - numpy\n",
    "    - hdf5storage : for saving and reading\n",
    "    - Run_Libradtran\n",
    "    - os\n",
    "  \n",
    "Needed Files:\n",
    "\n",
    "  - .out uvspec files\n",
    "    \n",
    "History:\n",
    "\n",
    "    Written: Samuel LeBlanc, Santa Cruz, CA, 2018-06-27"
   ]
  },
  {
   "cell_type": "markdown",
   "metadata": {},
   "source": [
    "# Prepare the python environment"
   ]
  },
  {
   "cell_type": "code",
   "execution_count": 1,
   "metadata": {
    "ExecuteTime": {
     "end_time": "2018-06-27T23:14:36.935286Z",
     "start_time": "2018-06-27T23:14:35.624849Z"
    }
   },
   "outputs": [],
   "source": [
    "import numpy as np\n",
    "import Run_libradtran as RL\n",
    "import hdf5storage as hs\n",
    "import os"
   ]
  },
  {
   "cell_type": "code",
   "execution_count": 2,
   "metadata": {
    "ExecuteTime": {
     "end_time": "2018-06-27T23:14:36.980104Z",
     "start_time": "2018-06-27T23:14:36.975648Z"
    }
   },
   "outputs": [],
   "source": [
    "if os.sys.platform == 'win32':\n",
    "    fp = 'C:\\\\Users\\\\sleblan2\\\\Research\\\\ORACLES\\\\'\n",
    "    fp_rtm = 'C:\\\\Users\\\\sleblan2\\\\Research\\\\ORACLES\\\\rtm\\\\'\n",
    "elif os.sys.platform == 'linux2':\n",
    "    fp = '/u/sleblan2/ORACLES/'\n",
    "    fp_rtm = '/nobackup/sleblan2/rtm/'\n",
    "else:\n",
    "    raise Exception"
   ]
  },
  {
   "cell_type": "markdown",
   "metadata": {},
   "source": [
    "# Setup the variables used for lut"
   ]
  },
  {
   "cell_type": "code",
   "execution_count": 3,
   "metadata": {
    "ExecuteTime": {
     "end_time": "2018-06-27T23:15:01.129721Z",
     "start_time": "2018-06-27T23:15:01.127264Z"
    }
   },
   "outputs": [],
   "source": [
    "vv = 'v5_irr'"
   ]
  },
  {
   "cell_type": "code",
   "execution_count": null,
   "metadata": {
    "collapsed": true
   },
   "outputs": [],
   "source": [
    "# try to read from the saved version file\n",
    "from load_utils import load_from_json, deep_convert_dict\n",
    "try:\n",
    "    d = load_from_json(fp+'ORACLES_lut_{}.txt'.format(vv))\n",
    "    d = deep_convert_dict(d)\n",
    "    sza = d['lut_details']['sza']\n",
    "    tau = d['lut_details']['tau']\n",
    "    ref = d['lut_details']['ref']\n",
    "    zout = d['geo']['zout']\n",
    "    fmt = d['lut_details']['format']\n",
    "    mu = np.round(1.0/np.cos(sza*np.pi/180.0))\n",
    "    use_json = True\n",
    "except ValueError: # not a json file try old way\n",
    "    use_json = False\n",
    "    fmt='lut_irr_sza{sza:02.0f}_tau{tau:06.2f}_ref{ref:04.1f}_{phase}_w{iwvl:1d}.dat'\n",
    "    if vv=='v1':\n",
    "        mu = np.arange(1.05,4.0,0.2)\n",
    "        sza = np.round(np.arccos(1.0/mu)*180.0/np.pi)\n",
    "        tau = np.array([0.1,0.2,0.3,0.5,0.75,1.0,1.5,2.0,2.5,3.0,4.0,5.0,\n",
    "               6.0,7.0,8.0,9.0,10.0,12.5,15.0,17.5,20.0,25.0,30.0,35.0,40.0,50.0,\n",
    "               60.0,80.0,100.0])\n",
    "        ref = np.append(np.append(np.arange(2,15),np.arange(15,30,2)),np.ceil(np.arange(30,61,2.5)))\n",
    "        zout = [0.2,1.5,100.0]\n",
    "    elif vv=='v3':\n",
    "        mu = np.arange(1.05,4.0,0.2)\n",
    "        sza = np.round(np.arccos(1.0/mu)*180.0/np.pi)\n",
    "        tau = np.array([0.1,0.2,0.5,0.75,1.0,1.5,2.0,3.0,4.0,5.0,\n",
    "               6.0,7.0,8.0,9.0,10.0,12.5,15.0,17.5,20.0,25.0,30.0,35.0,40.0,50.0,\n",
    "               60.0,80.0,100.0])\n",
    "        ref = np.append(np.append(np.arange(1,15),np.arange(15,30,2)),np.ceil(np.arange(30,61,2.5)))\n",
    "        zout = [0.2,1.5,100.0]    "
   ]
  },
  {
   "cell_type": "code",
   "execution_count": 7,
   "metadata": {
    "collapsed": true
   },
   "outputs": [],
   "source": [
    "fp_out = os.path.join(fp_rtm,'output','%s_ORACLES'%vv)"
   ]
  },
  {
   "cell_type": "code",
   "execution_count": null,
   "metadata": {
    "collapsed": true
   },
   "outputs": [],
   "source": [
    "dat = RL.read_lut(fp_out,zout=zout,tau=tau,ref=ref,sza=sza,\n",
    "                  phase=['wc'],\n",
    "                  fmt=fmt,\n",
    "                  split_wvl=True,numrad=0)"
   ]
  },
  {
   "cell_type": "code",
   "execution_count": null,
   "metadata": {
    "collapsed": true
   },
   "outputs": [],
   "source": [
    "if use_json:\n",
    "    dat['lut_details'] = d"
   ]
  },
  {
   "cell_type": "code",
   "execution_count": null,
   "metadata": {
    "collapsed": true
   },
   "outputs": [],
   "source": [
    "print 'Saving matlab file'"
   ]
  },
  {
   "cell_type": "code",
   "execution_count": 10,
   "metadata": {},
   "outputs": [
    {
     "ename": "NameError",
     "evalue": "name 'dat' is not defined",
     "output_type": "error",
     "traceback": [
      "\u001b[1;31m---------------------------------------------------------------------------\u001b[0m",
      "\u001b[1;31mNameError\u001b[0m                                 Traceback (most recent call last)",
      "\u001b[1;32m<ipython-input-10-c69408fbcd1e>\u001b[0m in \u001b[0;36m<module>\u001b[1;34m()\u001b[0m\n\u001b[1;32m----> 1\u001b[1;33m \u001b[0mhs\u001b[0m\u001b[1;33m.\u001b[0m\u001b[0msavemat\u001b[0m\u001b[1;33m(\u001b[0m\u001b[0mfp\u001b[0m\u001b[1;33m+\u001b[0m\u001b[1;34m'{}_NAAMES_lut.mat'\u001b[0m\u001b[1;33m.\u001b[0m\u001b[0mformat\u001b[0m\u001b[1;33m(\u001b[0m\u001b[0mvv\u001b[0m\u001b[1;33m)\u001b[0m\u001b[1;33m,\u001b[0m\u001b[0mdat\u001b[0m\u001b[1;33m)\u001b[0m\u001b[1;33m\u001b[0m\u001b[0m\n\u001b[0m",
      "\u001b[1;31mNameError\u001b[0m: name 'dat' is not defined"
     ]
    }
   ],
   "source": [
    "hs.savemat(fp+'{}_ORACLES_lut.mat'.format(vv),dat)"
   ]
  }
 ],
 "metadata": {
  "kernelspec": {
   "display_name": "Python 2",
   "language": "python",
   "name": "python2"
  },
  "language_info": {
   "codemirror_mode": {
    "name": "ipython",
    "version": 2
   },
   "file_extension": ".py",
   "mimetype": "text/x-python",
   "name": "python",
   "nbconvert_exporter": "python",
   "pygments_lexer": "ipython2",
   "version": "2.7.12"
  },
  "toc": {
   "nav_menu": {},
   "number_sections": true,
   "sideBar": false,
   "skip_h1_title": false,
   "toc_cell": false,
   "toc_position": {},
   "toc_section_display": "block",
   "toc_window_display": false
  },
  "varInspector": {
   "cols": {
    "lenName": 16,
    "lenType": 16,
    "lenVar": 40
   },
   "kernels_config": {
    "python": {
     "delete_cmd_postfix": "",
     "delete_cmd_prefix": "del ",
     "library": "var_list.py",
     "varRefreshCmd": "print(var_dic_list())"
    },
    "r": {
     "delete_cmd_postfix": ") ",
     "delete_cmd_prefix": "rm(",
     "library": "var_list.r",
     "varRefreshCmd": "cat(var_dic_list()) "
    }
   },
   "types_to_exclude": [
    "module",
    "function",
    "builtin_function_or_method",
    "instance",
    "_Feature"
   ],
   "window_display": false
  }
 },
 "nbformat": 4,
 "nbformat_minor": 1
}
