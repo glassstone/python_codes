{
 "metadata": {
  "name": "",
  "signature": "sha256:dde172fecfdae2936ef64e50655e8ed25e2bc3ca6a8c3523438244ba009080b9"
 },
 "nbformat": 3,
 "nbformat_minor": 0,
 "worksheets": [
  {
   "cells": [
    {
     "cell_type": "code",
     "collapsed": false,
     "input": [
      "def __init__():\n",
      "    pass"
     ],
     "language": "python",
     "metadata": {},
     "outputs": []
    },
    {
     "cell_type": "code",
     "collapsed": false,
     "input": [
      "def load_modis(geofile,datfile):\n",
      "    \"\"\"\n",
      "    Name:\n",
      "\n",
      "        load_modis\n",
      "    \n",
      "    Purpose:\n",
      "\n",
      "        to compile functions required to load Modis files\n",
      "        from within another script\n",
      "    \n",
      "    Calling Sequence:\n",
      "\n",
      "        modis,modis_dict = load_modis(geofile,datfile) \n",
      "    \n",
      "    Input: \n",
      "  \n",
      "        geofile name\n",
      "        datfile name (hdf files)\n",
      "    \n",
      "    Output:\n",
      "\n",
      "        modis dictionary with tau, ref, etau, eref, phase, qa\n",
      "        modis_dicts : metadate for each of the variables\n",
      "    \n",
      "    Keywords: \n",
      "\n",
      "        none\n",
      "    \n",
      "    Dependencies:\n",
      "\n",
      "        gdal\n",
      "        numpy\n",
      "        gc: for clearing the garbage\n",
      "    \n",
      "    Required files:\n",
      "   \n",
      "        geo and dat files\n",
      "    \n",
      "    Example:\n",
      "\n",
      "        ...\n",
      "    \"\"\"\n",
      "    import numpy as np\n",
      "    from osgeo import gdal\n",
      "    from Sp_parameters import startprogress, progress, endprogress\n",
      "    geosds = gdal.Open(geofile)\n",
      "    datsds = gdal.Open(datfile)\n",
      "    geosub = geosds.GetSubDatasets()\n",
      "    datsub = datsds.GetSubDatasets()\n",
      "    print 'Outputting the Geo subdatasets:'\n",
      "    for i in range(len(geosub)):\n",
      "        print str(i)+': '+geosub[i][1]\n",
      "    print 'Outputting the Data subdatasets:'\n",
      "    for i in range(len(datsub)):\n",
      "        print str(i)+': '+datsub[i][1]\n",
      "    latsds = gdal.Open(geosub[12][0],gdal.GA_ReadOnly)\n",
      "    lonsds = gdal.Open(geosub[13][0],gdal.GA_ReadOnly)\n",
      "    szasds = gdal.Open(geosub[21][0],gdal.GA_ReadOnly)\n",
      "    modis = dict()\n",
      "    modis['lat'] = latsds.ReadAsArray()\n",
      "    modis['lon'] = lonsds.ReadAsArray()\n",
      "    modis['sza'] = szasds.ReadAsArray()\n",
      "    print modis['lon'].shape\n",
      "    meta = datsds.GetMetadata() \n",
      "    modis_values = (#('cloud_top',57),\n",
      "                    ('phase',53),\n",
      "          #          ('cloud_top_temp',58),\n",
      "                    ('ref',66),\n",
      "                    ('tau',72),\n",
      "           #         ('cwp',82),\n",
      "                    ('eref',90),\n",
      "                    ('etau',93),\n",
      "            #        ('ecwp',96),\n",
      "                    ('multi_layer',105),\n",
      "                    ('qa',123),\n",
      "             #       ('cloud_mask',110)\n",
      "                    )\n",
      "    import gc; gc.collect()\n",
      "    modis_dicts = dict()\n",
      "    startprogress('Running through modis values')\n",
      "    for i,j in modis_values:\n",
      "        sds = gdal.Open(datsub[j][0])\n",
      "        modis_dicts[i] = sds.GetMetadata()\n",
      "        modis[i] = nd.array(sds.ReadAsArray())\n",
      "        modis[i][modis[i] == float(modis_dicts[i]['_FillValue'])] = np.nan\n",
      "        modis[i] = modis[i]*float(modis_dicts[i]['scale_factor'])+float(modis_dicts[i]['add_offset'])\n",
      "        progress(float(tuple(i[0] for i in modis_values).index(i))/len(modis_values)*100.)\n",
      "    endprogress()\n",
      "    print modis.keys()\n",
      "    return modis,modis_dicts"
     ],
     "language": "python",
     "metadata": {},
     "outputs": [],
     "prompt_number": 1
    },
    {
     "cell_type": "code",
     "collapsed": false,
     "input": [],
     "language": "python",
     "metadata": {},
     "outputs": []
    },
    {
     "cell_type": "markdown",
     "metadata": {},
     "source": [
      "Testing of the script:"
     ]
    },
    {
     "cell_type": "code",
     "collapsed": false,
     "input": [
      "import os\n",
      "import numpy as np\n",
      "from osgeo import gdal"
     ],
     "language": "python",
     "metadata": {},
     "outputs": []
    },
    {
     "cell_type": "code",
     "collapsed": false,
     "input": [
      "fp='C:\\\\Users\\\\sleblan2\\\\Research\\\\TCAP\\\\'"
     ],
     "language": "python",
     "metadata": {},
     "outputs": []
    },
    {
     "cell_type": "code",
     "collapsed": false,
     "input": [
      "myd06_file = fp+'MODIS\\\\MYD06_L2.A2013050.1725.006.2014260074007.hdf'\n",
      "myd03_file = fp+'MODIS\\\\MYD03.A2013050.1725.006.2013051163424.hdf'\n",
      "print os.path.isfile(myd03_file) #check if it exists\n",
      "print os.path.isfile(myd06_file)"
     ],
     "language": "python",
     "metadata": {},
     "outputs": []
    },
    {
     "cell_type": "code",
     "collapsed": false,
     "input": [
      "myd_geo = gdal.Open(myd03_file)\n",
      "myd_geo_sub = myd_geo.GetSubDatasets()\n",
      "for i in range(len(myd_geo_sub)):\n",
      "    print str(i)+': '+myd_geo_sub[i][1]"
     ],
     "language": "python",
     "metadata": {},
     "outputs": []
    },
    {
     "cell_type": "code",
     "collapsed": false,
     "input": [
      "latsds = gdal.Open(myd_geo_sub[12][0],gdal.GA_ReadOnly)\n",
      "lonsds = gdal.Open(myd_geo_sub[13][0],gdal.GA_ReadOnly)\n",
      "szasds = gdal.Open(myd_geo_sub[21][0],gdal.GA_ReadOnly)"
     ],
     "language": "python",
     "metadata": {},
     "outputs": []
    },
    {
     "cell_type": "code",
     "collapsed": false,
     "input": [
      "print latsds.RasterCount # verify that only one raster exists\n",
      "lat = latsds.ReadAsArray()\n",
      "lon = lonsds.ReadAsArray()\n",
      "sza = szasds.ReadAsArray()\n",
      "print lon.shape"
     ],
     "language": "python",
     "metadata": {},
     "outputs": []
    },
    {
     "cell_type": "markdown",
     "metadata": {},
     "source": [
      "Now load the specific data files:"
     ]
    },
    {
     "cell_type": "code",
     "collapsed": false,
     "input": [
      "myd_dat = gdal.Open(myd06_file)\n",
      "myd_dat_sub = myd_dat.GetSubDatasets()\n",
      "for i in range(len(myd_dat_sub)):\n",
      "    print str(i)+': '+myd_dat_sub[i][1]"
     ],
     "language": "python",
     "metadata": {},
     "outputs": []
    },
    {
     "cell_type": "code",
     "collapsed": false,
     "input": [
      "print myd_dat_sub[118]\n",
      "retfsds = gdal.Open(myd_dat_sub[118][0])"
     ],
     "language": "python",
     "metadata": {},
     "outputs": []
    },
    {
     "cell_type": "code",
     "collapsed": false,
     "input": [
      "for key,value in myd_dat.GetMetadata_Dict().items():\n",
      "    print key,value"
     ],
     "language": "python",
     "metadata": {},
     "outputs": []
    },
    {
     "cell_type": "markdown",
     "metadata": {},
     "source": [
      "Load the different modis values:"
     ]
    },
    {
     "cell_type": "code",
     "collapsed": false,
     "input": [
      "modis_values = (('cloud_top',57),\n",
      "                ('phase',53),\n",
      "                ('cloud_top_temp',58),\n",
      "                ('ref',66),\n",
      "                ('tau',72),\n",
      "                ('cwp',82),\n",
      "                ('eref',90),\n",
      "                ('etau',93),\n",
      "                ('ecwp',96),\n",
      "                ('multi_layer',105),\n",
      "                ('qa',123),\n",
      "                ('cloud_mask',110)\n",
      "                )"
     ],
     "language": "python",
     "metadata": {},
     "outputs": []
    },
    {
     "cell_type": "markdown",
     "metadata": {},
     "source": [
      "Testing the metadata dictionary"
     ]
    },
    {
     "cell_type": "code",
     "collapsed": false,
     "input": [
      "gdal.Open(myd_dat_sub[53][0]).GetMetadata()"
     ],
     "language": "python",
     "metadata": {},
     "outputs": []
    },
    {
     "cell_type": "code",
     "collapsed": false,
     "input": [
      "mm = dict()\n",
      "mm['one'] = gdal.Open(myd_dat_sub[72][0]).GetMetadata()\n",
      "mm['two'] = gdal.Open(myd_dat_sub[74][0]).GetMetadata()\n",
      "mm['two']['_FillValue']"
     ],
     "language": "python",
     "metadata": {},
     "outputs": []
    },
    {
     "cell_type": "code",
     "collapsed": false,
     "input": [
      "from Sp_parameters import startprogress, progress, endprogress\n",
      "import gc; gc.collect()"
     ],
     "language": "python",
     "metadata": {},
     "outputs": []
    },
    {
     "cell_type": "code",
     "collapsed": false,
     "input": [
      "tuple(i[0] for i in modis_values).index('etau')"
     ],
     "language": "python",
     "metadata": {},
     "outputs": []
    },
    {
     "cell_type": "code",
     "collapsed": false,
     "input": [
      "modis = dict()\n",
      "modis_dicts = dict()\n",
      "startprogress('Running through modis values')\n",
      "for i,j in modis_values:\n",
      "    sds = gdal.Open(myd_dat_sub[j][0])\n",
      "    modis_dicts[i] = sds.GetMetadata()\n",
      "    modis[i] = np.array(sds.ReadAsArray())*float(modis_dicts[i]['scale_factor'])+float(modis_dicts[i]['add_offset'])\n",
      "    modis[i][modis[i] == float(modis_dicts[i]['_FillValue'])] = np.nan\n",
      "    progress(float(tuple(i[0] for i in modis_values).index(i))/len(modis_values)*100.)\n",
      "endprogress()"
     ],
     "language": "python",
     "metadata": {},
     "outputs": []
    },
    {
     "cell_type": "code",
     "collapsed": false,
     "input": [
      "print modis.keys()\n",
      "print modis_dicts.keys()"
     ],
     "language": "python",
     "metadata": {},
     "outputs": []
    }
   ],
   "metadata": {}
  }
 ]
}