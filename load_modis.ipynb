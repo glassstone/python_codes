{
 "metadata": {
  "name": "",
  "signature": "sha256:53f40ab07ac8de9e3e61b450cc268fd665bfd4bf5f8d9e7c747aac0593bac825"
 },
 "nbformat": 3,
 "nbformat_minor": 0,
 "worksheets": [
  {
   "cells": [
    {
     "cell_type": "code",
     "collapsed": false,
     "input": [
      "def load_modis(geofile,datfile):\n",
      "\"\"\"\n",
      "Name:\n",
      "\n",
      "    load_modis\n",
      "    \n",
      "Purpose:\n",
      "\n",
      "    to compile functions required to load Modis files\n",
      "    from within another script\n",
      "    \n",
      "Calling Sequence:\n",
      "\n",
      "    modis = load_modis(geofile,datfile) \n",
      "    \n",
      "Input: \n",
      "  \n",
      "    geofile name\n",
      "    datfile name (hdf files)\n",
      "    \n",
      "Output:\n",
      "\n",
      "    modis class with tau, ref, etau, eref, phase, qa,\n",
      "    \n",
      "Keywords: \n",
      "\n",
      "    none\n",
      "    \n",
      "Dependencies:\n",
      "\n",
      "    gdal\n",
      "    numpy\n",
      "    \n",
      "Required files:\n",
      "   \n",
      "    geo and dat files\n",
      "    \n",
      "Example:\n",
      "\n",
      "    ...\n",
      "\"\"\"\n",
      "from load_modis import modis_cls\n",
      "from osgeo import gdal\n",
      "\n",
      "    "
     ],
     "language": "python",
     "metadata": {},
     "outputs": []
    },
    {
     "cell_type": "code",
     "collapsed": false,
     "input": [],
     "language": "python",
     "metadata": {},
     "outputs": []
    }
   ],
   "metadata": {}
  }
 ]
}