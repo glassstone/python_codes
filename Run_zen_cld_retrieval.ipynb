{
 "cells": [
  {
   "cell_type": "markdown",
   "metadata": {},
   "source": [
    "Name:  \n",
    "\n",
    "    Run_zen_cld_retrieval\n",
    "\n",
    "Purpose:  \n",
    "\n",
    "    Run the zenith cloud property retrieval on the supplied 4STAR starzen.mat file\n",
    "    Applies the 15 parameters spectral cloud retrieval [LeBlanc et al., 2015, amt]\n",
    "    Run with python code versions of the lut saved to .mat and the starzen created with the matlab codes\n",
    "    Outputs pngs of the plots of the retrieved values\n",
    "\n",
    "Calling Sequence:\n",
    "\n",
    "    python Run_zen_cld_retrieval fp_starzen fp_zencld -o fp_zencld_plots -lut fp_lut_mat\n",
    "    where:\n",
    "        fp_starzen: the full path (with .mat extension) of the starzen file to read\n",
    "        fp_zencld: (optional) the full path of the output file (with .mat extension) of the saved retrieval file\n",
    "                   if omitted, uses the same directory as starzen.mat, but saves file as *_zencld.mat\n",
    "        fp_zencld_plots: (optional) the full path of the directory to save the plots from the retrieval\n",
    "                        if omitted uss the same directory as starzen.matà\n",
    "        fp_lut_mat: (optional) put in a special look up table file path \n",
    "\n",
    "Input:\n",
    "\n",
    "    See Calling Sequence above.\n",
    "\n",
    "Output:\n",
    "   \n",
    "    Save matlab file of retrieved zenith cloud properties\n",
    "  \n",
    "Keywords:\n",
    "\n",
    "    none\n",
    "  \n",
    "Dependencies:\n",
    "\n",
    "    - numpy\n",
    "    - hdf5storage : for saving and reading\n",
    "    - Run_Libradtran\n",
    "    - os\n",
    "    - sys\n",
    "    - matplotlib\n",
    "    - argparse\n",
    "    - Tkinter (for file open dialogs)\n",
    "    - Sp_parameter\n",
    "    - mpltools for color cycle\n",
    "    - load_modis for mat2py_time and toutc\n",
    "  \n",
    "Needed Files:\n",
    "\n",
    "  - lut .mat file created by Read_save_NAAMES_lut\n",
    "  - starzen.mat file created by the matlab program : starzen.m\n",
    "  \n",
    "Example:\n",
    "\n",
    "    >> python Run_zen_cld_retrieval.py -lut /nobackup/sleblan2/NAAMES/model/v2_NAAMES_lut.mat /nobackup/sleblan2/NAAMES/c130/20151114starzen.mat -o /u/sleblan2/NAAMES/plot/\n",
    "loading file /nobackup/sleblan2/NAAMES/c130/20151114starzen.mat\n",
    "Exception occured: unable to create file (File accessibilty: Unable to open file)\n",
    "Running the parameter calculations on measured spectra\n",
    "Making plots...\n",
    "zenrad... norm zenrad... utc curtain zenrad... utc curtain norm zenrad... curtain zenrad... curtain norm zenrad... Loading the lut file: /nobackup/sleblan2/NAAMES/model/v2_NAAMES_lut.mat\n",
    "Running interpolation on params: [########################################]100% -- Done!\n",
    "Running interpolation on params: [########################################]100% -- Done!\n",
    "Running interpolation on params: [########################################]100% -- Done!\n",
    "Running interpolation on params: [########################################]100% -- Done!\n",
    "Running interpolation on params: [########################################]100% -- Done!\n",
    "Running interpolation on params: [########################################]100% -- Done!\n",
    "Running interpolation on params: [########################################]100% -- Done!\n",
    "Running interpolation on params: [########################################]100% -- Done!\n",
    "Running interpolation on params: [########################################]100% -- Done!\n",
    "Running interpolation on params: [########################################]100% -- Done!\n",
    "Running interpolation on params: [########################################]100% -- Done!\n",
    "Running interpolation on params: [########################################]100% -- Done!\n",
    "Running interpolation on params: [########################################]100% -- Done!\n",
    "Running interpolation on params: [########################################]100% -- Done!\n",
    "Running interpolation on params: [########################################]100% -- Done!\n",
    "Running through the airmasses\n",
    "airmass: 3.2360679775, 11/3\n",
    "['tau', 'verbose', 'sza', 'stdparn', 'par', 'hiresirrad', 'meansp', 'iwvls', 'stdsp', 'ref', 'norm', 'iset', 'parn', 'stdpar', 'reflect', 'isubwvl', 'wvl', 'npar', 'sphires', 'refsp', 'parhires', 'sp', 'irrad', 'tausp']\n",
    "meas.good lengh: (142,),meas.utc length: (850,)\n",
    "In Rk, Measurement space length: (850,)\n",
    "Retrieval progress over times: [########################################]100% -- Done!\n",
    "airmass: 3.42030361983, 12/3\n",
    "['tau', 'verbose', 'sza', 'stdparn', 'par', 'hiresirrad', 'meansp', 'iwvls', 'stdsp', 'ref', 'norm', 'iset', 'parn', 'stdpar', 'reflect', 'isubwvl', 'wvl', 'npar', 'sphires', 'refsp', 'parhires', 'sp', 'irrad', 'tausp']\n",
    "meas.good lengh: (48,),meas.utc length: (850,)\n",
    "In Rk, Measurement space length: (850,)\n",
    "Retrieval progress over times: [########################################]100% -- Done!\n",
    "airmass: 3.86370330516, 14/3\n",
    "['tau', 'verbose', 'sza', 'stdparn', 'par', 'hiresirrad', 'meansp', 'iwvls', 'stdsp', 'ref', 'norm', 'iset', 'parn', 'stdpar', 'reflect', 'isubwvl', 'wvl', 'npar', 'sphires', 'refsp', 'parhires', 'sp', 'irrad', 'tausp']\n",
    "meas.good lengh: (660,),meas.utc length: (850,)\n",
    "In Rk, Measurement space length: (850,)\n",
    "Retrieval progress over times: [########################################]100% -- Done!\n",
    "saving to file: /nobackup/sleblan2/NAAMES/c13020151114_zen_cld_retrieved.mat\n",
    "making the retrieval plots\n",
    "making the retrieval histogram plots\n",
    "making the map\n",
    "\n",
    "History:\n",
    "\n",
    "    Written: Samuel LeBlanc, NASA Ames, 2015-10-26"
   ]
  },
  {
   "cell_type": "code",
   "execution_count": null,
   "metadata": {
    "collapsed": true
   },
   "outputs": [],
   "source": [
    "import argparse"
   ]
  },
  {
   "cell_type": "markdown",
   "metadata": {},
   "source": [
    "## Prepare command line argument parser"
   ]
  },
  {
   "cell_type": "code",
   "execution_count": 39,
   "metadata": {
    "collapsed": true
   },
   "outputs": [],
   "source": [
    "long_description = \"\"\"    Run the zenith cloud property retrieval on the supplied 4STAR starzen.mat file\n",
    "    Applies the 15 parameters spectral cloud retrieval [LeBlanc et al., 2015, amt]\n",
    "    Run with python code versions of the lut saved to .mat and the starzen created with the matlab codes\n",
    "    Outputs pngs of the plots of the retrieved values\"\"\""
   ]
  },
  {
   "cell_type": "code",
   "execution_count": 69,
   "metadata": {
    "collapsed": false
   },
   "outputs": [
    {
     "data": {
      "text/plain": [
       "_StoreAction(option_strings=['-f'], dest='f', nargs='?', const=None, default=None, type=None, choices=None, help='not used', metavar=None)"
      ]
     },
     "execution_count": 69,
     "metadata": {},
     "output_type": "execute_result"
    }
   ],
   "source": [
    "parser = argparse.ArgumentParser(description=long_description)\n",
    "parser.add_argument('fp_starzen',nargs='?',help='the full path (with .mat extension) of the starzen file to read')\n",
    "parser.add_argument('fp_zencld',nargs='?',help='''(optional) the full path of the output file (with .mat extension) of the saved retrieval file\n",
    "                   if omitted, uses the same directory as starzen.mat, but saves file as *_zencld.mat''')\n",
    "parser.add_argument('-o','--fp_zencld_plot',nargs='?',help=\"\"\"(optional) the full path of the directory to save the plots from the retrieval\n",
    "                        if omitted uss the same directory as starzen.mat\"\"\")\n",
    "parser.add_argument('-lut','--fp_lut_mat',nargs='?',help='Put in special look up table file path')\n",
    "parser.add_argument('-f',nargs='?',help='not used')\n",
    "parser.add_argument('-n','--noplot',nargs='?',help='if set, will not output plots')"
   ]
  },
  {
   "cell_type": "code",
   "execution_count": 70,
   "metadata": {
    "collapsed": false
   },
   "outputs": [],
   "source": [
    "in_ = vars(parser.parse_args())"
   ]
  },
  {
   "cell_type": "markdown",
   "metadata": {},
   "source": [
    "## Import rest of needed modules"
   ]
  },
  {
   "cell_type": "code",
   "execution_count": null,
   "metadata": {
    "collapsed": true
   },
   "outputs": [],
   "source": [
    "import sys\n",
    "import os\n",
    "import matplotlib.pyplot as plt\n",
    "import Run_libradtran as RL\n",
    "import hdf5storage as hs\n",
    "import numpy as np\n",
    "from load_modis import mat2py_time, toutc\n",
    "import Sp_parameters as Sp\n",
    "from mpltools import color\n",
    "import scipy.io as sio\n",
    "import run_kisq_retrieval as rk\n",
    "try:\n",
    "    from mpl_toolkits.basemap import Basemap\n",
    "    isbasemap = True\n",
    "except:\n",
    "    isbasemap = False"
   ]
  },
  {
   "cell_type": "markdown",
   "metadata": {},
   "source": [
    "## Parse command line and get appropriate paths"
   ]
  },
  {
   "cell_type": "code",
   "execution_count": 74,
   "metadata": {
    "collapsed": false
   },
   "outputs": [
    {
     "name": "stdout",
     "output_type": "stream",
     "text": [
      "Using interactive version hard coded fp_starzen\n",
      "C:\\Users\\sleblan2\\Research\\4STAR\\SEAC4RS\\20130913\\20130913starzen_3.mat\n"
     ]
    }
   ],
   "source": [
    "if in_['f']:\n",
    "    print 'Using interactive version hard coded fp_starzen'\n",
    "    if os.sys.platform == 'win32':\n",
    "        fp = 'C:\\\\Users\\\\sleblan2\\\\Research\\\\SEAC4RS\\\\'\n",
    "    elif os.sys.platform == 'linux2':\n",
    "        fp = '/u/sleblan2/SEAC4RS/'\n",
    "    else:\n",
    "        raise Exception\n",
    "    fp_starzen = os.path.abspath(fp+'../4STAR/SEAC4RS/20130913/20130913starzen_3.mat')\n",
    "    print fp_starzen\n",
    "else:\n",
    "    if not in_.get('fp_starzen'):\n",
    "        from Tkinter import Tk\n",
    "        from tkFileDialog import asksaveasfilename\n",
    "        Tk().withdraw() # we don't want a full GUI, so keep the root window from appearing\n",
    "        filename = asksaveasfilename(defaultextension='*.mat',filetypes=[('mat file','*.mat'),('All files','*.*')]) # show an \"Open\" dialog box and return the path to the selected file\n",
    "        fp_starzen = os.path.abspath(filename)\n",
    "    else:\n",
    "        fp_starzen = in_.get('fp_starzen')"
   ]
  },
  {
   "cell_type": "code",
   "execution_count": 75,
   "metadata": {
    "collapsed": true
   },
   "outputs": [],
   "source": [
    "fp,fname = os.path.split(fp_starzen)\n",
    "datestr = fname[0:8]"
   ]
  },
  {
   "cell_type": "code",
   "execution_count": 76,
   "metadata": {
    "collapsed": true
   },
   "outputs": [],
   "source": [
    "if in_.get('fp_zencld'):\n",
    "    fp_zencld = in_.get('fp_zencld')\n",
    "else:\n",
    "    fp_zencld = fp+'{datestr}_zencld.mat'.format(datestr=datestr)"
   ]
  },
  {
   "cell_type": "code",
   "execution_count": 77,
   "metadata": {
    "collapsed": true
   },
   "outputs": [],
   "source": [
    "if in_.get('fp_zencld_plot'):\n",
    "    fp_zencld_plot = in_.get('fp_zencld_plot')\n",
    "else:\n",
    "    fp_zencld = fp"
   ]
  },
  {
   "cell_type": "code",
   "execution_count": 93,
   "metadata": {
    "collapsed": true
   },
   "outputs": [],
   "source": [
    "if in_.get('fp_lut_mat'):\n",
    "    fp_lut_mat = in_.get('fp_lut_mat')\n",
    "else:\n",
    "    fp_lut_mat = fp+os.path.sep+'v2_NAAMES_lut.mat'"
   ]
  },
  {
   "cell_type": "code",
   "execution_count": null,
   "metadata": {
    "collapsed": true
   },
   "outputs": [],
   "source": [
    "if in_.get('noplot'):\n",
    "    noplot = True\n",
    "else:\n",
    "    noplot = False"
   ]
  },
  {
   "cell_type": "markdown",
   "metadata": {},
   "source": [
    "# Load starzen files and the look up table"
   ]
  },
  {
   "cell_type": "code",
   "execution_count": 79,
   "metadata": {
    "collapsed": true
   },
   "outputs": [],
   "source": [
    "if not os.path.isfile(fp_starzen):\n",
    "    raise IOError('file {} is not found'.format(fp_starzen))"
   ]
  },
  {
   "cell_type": "code",
   "execution_count": null,
   "metadata": {
    "collapsed": true
   },
   "outputs": [],
   "source": [
    "print 'loading file {}'.format(fp_starzen)"
   ]
  },
  {
   "cell_type": "code",
   "execution_count": null,
   "metadata": {
    "collapsed": true
   },
   "outputs": [],
   "source": [
    "try:\n",
    "    mea = hs.loadmat(fp_starzen)\n",
    "except Exception as ei:\n",
    "    print 'Exception occured: {}'.format(ei)\n",
    "    mea = sio.loadmat(fp_starzen)"
   ]
  },
  {
   "cell_type": "code",
   "execution_count": null,
   "metadata": {
    "collapsed": true
   },
   "outputs": [],
   "source": [
    "tt = mat2py_time(mea['t'])\n",
    "mea['utc'] = toutc(tt)"
   ]
  },
  {
   "cell_type": "code",
   "execution_count": null,
   "metadata": {
    "collapsed": true
   },
   "outputs": [],
   "source": [
    "print 'Running the parameter calculations on measured spectra'\n",
    "meas = Sp.Sp(mea,verbose=False)\n",
    "meas.params()"
   ]
  },
  {
   "cell_type": "markdown",
   "metadata": {},
   "source": [
    "### plot out the different spectra"
   ]
  },
  {
   "cell_type": "code",
   "execution_count": null,
   "metadata": {
    "collapsed": true
   },
   "outputs": [],
   "source": [
    "if not noplot:\n",
    "    print('Making plots...')\n",
    "    fig1 = Sp.plt_zenrad(meas)\n",
    "    fig1.savefig(fp_zencld_plot+'{datestr}_zenrad.png'.format(datestr=datestr),\n",
    "                 dpi=600,transparent=True)\n",
    "    print('zenrad...'),\n",
    "\n",
    "    fig1n = Sp.plt_norm_zenrad(meas)\n",
    "    fig1n.savefig(fp_zencld_plot+'{datestr}_norm_zenrad.png'.format(datestr=datestr),\n",
    "                  dpi=600,transparent=True)\n",
    "    print('norm zenrad...'),\n",
    "\n",
    "    fig2 = Sp.curtain_zenrad(meas,utc=True)\n",
    "    fig2.savefig(fp_zencld_plot+'{datestr}_curtain_utc_zenrad.png'.format(datestr=datestr),\n",
    "                 dpi=600,transparent=True)\n",
    "    print('utc curtain zenrad...'),\n",
    "\n",
    "    fig2n = Sp.curtain_norm_zenrad(meas,utc=True)\n",
    "    fig2n.savefig(fp_zencld_plot+'{datestr}_curtain_utc_norm_zenrad.png'.format(datestr=datestr),\n",
    "                  dpi=600,transparent=True)\n",
    "    print('utc curtain norm zenrad...'),\n",
    "\n",
    "    fig3 = Sp.curtain_zenrad(meas,utc=False)\n",
    "    fig3.savefig(fp_zencld_plot+'{datestr}_curtain_zenrad.png'.format(datestr=datestr),\n",
    "                 dpi=600,transparent=True)\n",
    "    print('curtain zenrad...'),\n",
    "\n",
    "    fig3n = Sp.curtain_norm_zenrad(meas,utc=False)\n",
    "    fig3n.savefig(fp_zencld_plot+'{datestr}_curtain_norm_zenrad.png'.format(datestr=datestr),\n",
    "                  dpi=600,transparent=True)\n",
    "    print('curtain norm zenrad...'),"
   ]
  },
  {
   "cell_type": "markdown",
   "metadata": {},
   "source": [
    "### Load the lut file"
   ]
  },
  {
   "cell_type": "code",
   "execution_count": 90,
   "metadata": {
    "collapsed": false
   },
   "outputs": [
    {
     "name": "stdout",
     "output_type": "stream",
     "text": [
      "Loading the lut file:C:\\Users\\sleblan2\\Research\\4STAR\\SEAC4RS\\20130913v2_NAAMES_lut.mat\n"
     ]
    }
   ],
   "source": [
    "print('Loading the lut file:{}'.format(fp_lut_mat))\n",
    "if not os.path.isfile(fp_lut_mat):\n",
    "    print('File {} does not exist'.format(fp_lut_mat))\n",
    "    raise IOError('LUT File not found: {}'.format(fp_lut_mat))\n",
    "try:\n",
    "    luts = hs.loadmat(fp_lut_mat)\n",
    "except Exception as ei:\n",
    "    print 'Exception occured when loading lut : {}'.format(ei)\n",
    "    luts = sio.loadmat(fp_lut_mat)"
   ]
  },
  {
   "cell_type": "markdown",
   "metadata": {},
   "source": [
    "### run through the lut for each sza/airmass and create the lut params in hires"
   ]
  },
  {
   "cell_type": "code",
   "execution_count": null,
   "metadata": {
    "collapsed": true
   },
   "outputs": [],
   "source": [
    "lut = []"
   ]
  },
  {
   "cell_type": "code",
   "execution_count": null,
   "metadata": {
    "collapsed": true
   },
   "outputs": [],
   "source": [
    "for s in xrange(len(luts['sza'])):\n",
    "    sptemp = {}\n",
    "    sptemp['tau'] = luts['tau']\n",
    "    sptemp['ref'] = luts['ref']\n",
    "    sptemp['zout'] = luts['zout']\n",
    "    sptemp['sza'] = luts['sza']\n",
    "    sptemp['phase'] = luts['phase']\n",
    "    sptemp['irr_dn_diff'] = luts['irr_dn_diff'][:,:,:,:,:,s]\n",
    "    sptemp['irr_dn'] = luts['irr_dn'][:,:,:,:,:,s]\n",
    "    sptemp['irr_up'] = luts['irr_up'][:,:,:,:,:,s]\n",
    "    sptemp['wvl'] = [luts['wvl']]\n",
    "    sptemp['rad'] = luts['rad'][:,:,:,:,:,s]\n",
    "    ltemp = Sp.Sp(sptemp,verbose=False)\n",
    "    ltemp.params()\n",
    "    ltemp.param_hires()\n",
    "    lut.append(ltemp)"
   ]
  },
  {
   "cell_type": "code",
   "execution_count": null,
   "metadata": {
    "collapsed": true
   },
   "outputs": [],
   "source": [
    "airmass = 1./np.cos(ltemp.sza*np.pi/180.0)"
   ]
  },
  {
   "cell_type": "markdown",
   "metadata": {},
   "source": [
    "## Define the good points and start doing the retrieval"
   ]
  },
  {
   "cell_type": "code",
   "execution_count": null,
   "metadata": {
    "collapsed": true
   },
   "outputs": [],
   "source": [
    "meas.airmass = 1.0/np.cos(meas.sza*np.pi/180.0)\n",
    "idx = Sp.find_closest(airmass,meas.airmass)"
   ]
  },
  {
   "cell_type": "code",
   "execution_count": null,
   "metadata": {
    "collapsed": true
   },
   "outputs": [],
   "source": [
    "(meas.taut,meas.ref,meas.phase,meas.ki) = (np.zeros_like(meas.utc),np.zeros_like(meas.utc),np.zeros_like(meas.utc),np.zeros_like(meas.utc))"
   ]
  },
  {
   "cell_type": "code",
   "execution_count": null,
   "metadata": {
    "collapsed": true
   },
   "outputs": [],
   "source": [
    "print 'Running through the airmasses'\n",
    "for i in np.unique(idx):\n",
    "    print 'airmass: {airmass}, {i}/{i_tot}'.format(airmass=airmass[i],i=i,i_tot=idx.max()-idx.min())\n",
    "    meas.good = np.where(idx==i)[0]\n",
    "    try:\n",
    "        print lut[i].__dict__.keys()\n",
    "    except Exception as ei:\n",
    "        print 'exception: {}'.format(ei)\n",
    "        import pdb; pdb.set_trace()\n",
    "    print 'meas.good lengh: {},meas.utc length: {}'.format(meas.good.shape,meas.utc.shape)\n",
    "    tau,ref,phase,ki = rk.run_retrieval(meas,lut[i])\n",
    "    meas.taut[meas.good] = tau\n",
    "    meas.ref[meas.good] = ref\n",
    "    meas.phase[meas.good] = phase\n",
    "    meas.ki[meas.good] = ki"
   ]
  },
  {
   "cell_type": "code",
   "execution_count": null,
   "metadata": {
    "collapsed": true
   },
   "outputs": [],
   "source": [
    "meas.tau = meas.taut"
   ]
  },
  {
   "cell_type": "markdown",
   "metadata": {},
   "source": [
    "## Save the retrieval results"
   ]
  },
  {
   "cell_type": "code",
   "execution_count": null,
   "metadata": {
    "collapsed": true
   },
   "outputs": [],
   "source": [
    "mdict = {'tau':meas.tau,'ref':meas.ref,'phase':meas.phase,'ki':meas.ki,\n",
    "         'utc':meas.utc,'sza':meas.sza,'lat':meas.lat,'lon':meas.lon,'alt':meas.alt}"
   ]
  },
  {
   "cell_type": "code",
   "execution_count": null,
   "metadata": {
    "collapsed": true
   },
   "outputs": [],
   "source": [
    "fp_out = os.path.join(fp,'{datestr}_zen_cld_retrieved.mat'.format(datestr=datestr))\n",
    "print 'saving to file: {fp_out}'.format(fp_out=fp_out)\n",
    "hs.savemat(fp_out,mdict)"
   ]
  },
  {
   "cell_type": "markdown",
   "metadata": {},
   "source": [
    "## Make output plots"
   ]
  },
  {
   "cell_type": "code",
   "execution_count": null,
   "metadata": {
    "collapsed": true
   },
   "outputs": [],
   "source": [
    "if not noplot:\n",
    "    print 'making the retrieval plots'\n",
    "    figz = Sp.plot_zen_cld_retrieval(meas)\n",
    "    figz.savefig(fp_zencld_plot+'{datestr}_retrieval_out.png'.format(datestr=datestr),dpi=600,transparent=True)"
   ]
  },
  {
   "cell_type": "code",
   "execution_count": null,
   "metadata": {
    "collapsed": true
   },
   "outputs": [],
   "source": [
    "if not noplot:\n",
    "    print 'making the retrieval histogram plots'\n",
    "    figh = Sp.plot_hist_cld_retrieval(meas)\n",
    "    figh.savefig(fp_zencld_plot+'{datestr}_retrieval_hist_out.png'.format(datestr=datestr),dpi=600,transparent=True)"
   ]
  },
  {
   "cell_type": "code",
   "execution_count": null,
   "metadata": {
    "collapsed": true
   },
   "outputs": [],
   "source": [
    "if not noplot:\n",
    "    print 'making the map'\n",
    "    figm = Sp.plot_map_cld_retrieval(meas)\n",
    "    figm.savefig(fp_zencld_plot+'{datestr}_map_retr_zencld.png'.format(datestr=datestr),dpi=600,transparent=True)"
   ]
  }
 ],
 "metadata": {
  "kernelspec": {
   "display_name": "Python 2",
   "language": "python",
   "name": "python2"
  },
  "language_info": {
   "codemirror_mode": {
    "name": "ipython",
    "version": 2
   },
   "file_extension": ".py",
   "mimetype": "text/x-python",
   "name": "python",
   "nbconvert_exporter": "python",
   "pygments_lexer": "ipython2",
   "version": "2.7.6"
  },
  "toc": {
   "toc_cell": false,
   "toc_number_sections": true,
   "toc_threshold": 4,
   "toc_window_display": false
  }
 },
 "nbformat": 4,
 "nbformat_minor": 0
}
