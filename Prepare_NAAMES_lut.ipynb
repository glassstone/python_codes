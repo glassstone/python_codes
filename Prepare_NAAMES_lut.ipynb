{
 "cells": [
  {
   "cell_type": "markdown",
   "metadata": {},
   "source": [
    "Name:  \n",
    "\n",
    "    Prepare_NAAMES_lut\n",
    "\n",
    "Purpose:  \n",
    "\n",
    "    Create the input libradtran files for creating a lut of low clouds to be used in NAAMES operational cloud retrievals\n",
    "\n",
    "Calling Sequence:\n",
    "\n",
    "    python Prepare_NAAMES_lut\n",
    "  \n",
    "Input:\n",
    "\n",
    "    none\n",
    "\n",
    "Output:\n",
    "   \n",
    "    input files for libradtran 2.0 (uvspec) \n",
    "  \n",
    "Keywords:\n",
    "\n",
    "    none\n",
    "  \n",
    "Dependencies:\n",
    "\n",
    "    - numpy\n",
    "    - scipy : for saving and reading\n",
    "    - mplt_toolkits for basemap, map plotting\n",
    "    - pdb\n",
    "    - datetime\n",
    "\n",
    "  \n",
    "Needed Files:\n",
    "\n",
    "  - ...\n",
    "    \n",
    "History:\n",
    "\n",
    "    Written: Samuel LeBlanc, NASA Ames, 2015-10-06\n",
    "    "
   ]
  },
  {
   "cell_type": "markdown",
   "metadata": {},
   "source": [
    "# Prepare the python environment"
   ]
  },
  {
   "cell_type": "code",
   "execution_count": 1,
   "metadata": {
    "collapsed": true
   },
   "outputs": [],
   "source": [
    "%config InlineBackend.rc = {}\n",
    "import matplotlib \n",
    "matplotlib.rc_file('C:\\\\Users\\\\sleblan2\\\\Research\\\\python_codes\\\\file.rc')\n",
    "import matplotlib.pyplot as plt\n",
    "%matplotlib inline\n",
    "import numpy as np\n",
    "import scipy.io as sio\n",
    "import os\n",
    "from mpl_toolkits.basemap import Basemap"
   ]
  },
  {
   "cell_type": "code",
   "execution_count": 45,
   "metadata": {
    "collapsed": false
   },
   "outputs": [
    {
     "data": {
      "text/plain": [
       "<module 'Run_libradtran' from 'Run_libradtran.py'>"
      ]
     },
     "execution_count": 45,
     "metadata": {},
     "output_type": "execute_result"
    }
   ],
   "source": [
    "import Run_libradtran as RL\n",
    "reload(RL)"
   ]
  },
  {
   "cell_type": "code",
   "execution_count": 15,
   "metadata": {
    "collapsed": true
   },
   "outputs": [],
   "source": [
    "if os.sys.platform == 'win32':\n",
    "    fp = 'C:\\\\Users\\\\sleblan2\\\\Research\\\\NAAMES\\\\'\n",
    "elif os.sys.platform == 'linux2':\n",
    "    fp = '/u/sleblan2/NAAMES/'\n",
    "else:\n",
    "    raise Exception"
   ]
  },
  {
   "cell_type": "markdown",
   "metadata": {},
   "source": [
    "# Setup the variables used to create the lut"
   ]
  },
  {
   "cell_type": "code",
   "execution_count": 24,
   "metadata": {
    "collapsed": true
   },
   "outputs": [],
   "source": [
    "vv = 'v1'"
   ]
  },
  {
   "cell_type": "code",
   "execution_count": 16,
   "metadata": {
    "collapsed": true
   },
   "outputs": [],
   "source": [
    "sza = np.arange(40,90,2)"
   ]
  },
  {
   "cell_type": "code",
   "execution_count": 19,
   "metadata": {
    "collapsed": false
   },
   "outputs": [
    {
     "data": {
      "text/plain": [
       "array([40, 42, 44, 46, 48, 50, 52, 54, 56, 58, 60, 62, 64, 66, 68, 70, 72,\n",
       "       74, 76, 78, 80, 82, 84, 86, 88])"
      ]
     },
     "execution_count": 19,
     "metadata": {},
     "output_type": "execute_result"
    }
   ],
   "source": [
    "sza"
   ]
  },
  {
   "cell_type": "code",
   "execution_count": 42,
   "metadata": {
    "collapsed": true
   },
   "outputs": [],
   "source": [
    "tau = [1,2]\n",
    "ref = [2,3]"
   ]
  },
  {
   "cell_type": "code",
   "execution_count": 43,
   "metadata": {
    "collapsed": false
   },
   "outputs": [],
   "source": [
    "geo = {'lat':47.6212167,\n",
    "       'lon':52.74245,\n",
    "       'doy':322,\n",
    "       'zout':[0.2,3.0,100.0]}\n",
    "aero = {} # none\n",
    "cloud = {'ztop':1.5,\n",
    "         'zbot':0.5,\n",
    "         'write_moments_file':False}\n",
    "source = {'wvl_range':[350,1750],\n",
    "          'source':'solar',\n",
    "          'integrate_values':False,\n",
    "          'run_fuliou':False,\n",
    "          'dat_path':'/u/sleblan2/libradtran/libRadtran-2.0-beta/data/'}\n",
    "albedo = {'create_albedo_file':False,\n",
    "          'sea_surface_albedo':True,\n",
    "          'wind_speed':14.0}"
   ]
  },
  {
   "cell_type": "code",
   "execution_count": 46,
   "metadata": {
    "collapsed": false
   },
   "outputs": [],
   "source": [
    "RL.print_version_details(fp+'NAAMES_lut_%s.txt'%vv,vv,geo=geo,\n",
    "                         aero=aero,cloud=cloud,source=source,albedo=albedo,tau=tau,ref=ref,sza=sza)"
   ]
  },
  {
   "cell_type": "code",
   "execution_count": null,
   "metadata": {
    "collapsed": true
   },
   "outputs": [],
   "source": []
  }
 ],
 "metadata": {
  "kernelspec": {
   "display_name": "Python 2",
   "language": "python",
   "name": "python2"
  },
  "language_info": {
   "codemirror_mode": {
    "name": "ipython",
    "version": 2
   },
   "file_extension": ".py",
   "mimetype": "text/x-python",
   "name": "python",
   "nbconvert_exporter": "python",
   "pygments_lexer": "ipython2",
   "version": "2.7.6"
  }
 },
 "nbformat": 4,
 "nbformat_minor": 0
}
