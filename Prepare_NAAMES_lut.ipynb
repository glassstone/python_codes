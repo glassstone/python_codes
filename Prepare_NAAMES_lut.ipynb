{
 "cells": [
  {
   "cell_type": "markdown",
   "metadata": {},
   "source": [
    "Name:  \n",
    "\n",
    "    Prepare_NAAMES_lut\n",
    "\n",
    "Purpose:  \n",
    "\n",
    "    Create the input libradtran files for creating a lut of low clouds to be used in NAAMES operational cloud retrievals\n",
    "\n",
    "Calling Sequence:\n",
    "\n",
    "    python Prepare_NAAMES_lut\n",
    "  \n",
    "Input:\n",
    "\n",
    "    none\n",
    "\n",
    "Output:\n",
    "   \n",
    "    input files for libradtran 2.0 (uvspec) \n",
    "  \n",
    "Keywords:\n",
    "\n",
    "    none\n",
    "  \n",
    "Dependencies:\n",
    "\n",
    "    - numpy\n",
    "    - scipy : for saving and reading\n",
    "    - mplt_toolkits for basemap, map plotting\n",
    "    - pdb\n",
    "    - datetime\n",
    "\n",
    "  \n",
    "Needed Files:\n",
    "\n",
    "  - ...\n",
    "    \n",
    "History:\n",
    "\n",
    "    Written: Samuel LeBlanc, NASA Ames, 2015-10-06\n",
    "    "
   ]
  },
  {
   "cell_type": "markdown",
   "metadata": {},
   "source": [
    "# Prepare the python environment"
   ]
  },
  {
   "cell_type": "code",
   "execution_count": 66,
   "metadata": {
    "collapsed": true
   },
   "outputs": [],
   "source": [
    "import numpy as np\n",
    "import scipy.io as sio\n",
    "import os"
   ]
  },
  {
   "cell_type": "code",
   "execution_count": 67,
   "metadata": {
    "collapsed": false
   },
   "outputs": [
    {
     "data": {
      "text/plain": [
       "<module 'Run_libradtran' from 'Run_libradtran.py'>"
      ]
     },
     "execution_count": 67,
     "metadata": {},
     "output_type": "execute_result"
    }
   ],
   "source": [
    "import Run_libradtran as RL\n",
    "reload(RL)"
   ]
  },
  {
   "cell_type": "code",
   "execution_count": 68,
   "metadata": {
    "collapsed": true
   },
   "outputs": [],
   "source": [
    "if os.sys.platform == 'win32':\n",
    "    fp = 'C:\\\\Users\\\\sleblan2\\\\Research\\\\NAAMES\\\\'\n",
    "    fp_rtm = 'C:\\\\Users\\\\sleblan2\\\\Research\\\\NAAMES\\\\rtm\\\\'\n",
    "    fp_uvspec = 'C:\\\\Users\\\\sleblan2\\\\Research\\\\libradtran\\\\libRadtran-2.0-beta\\\\bin\\\\uvspec'\n",
    "elif os.sys.platform == 'linux2':\n",
    "    fp = '/u/sleblan2/NAAMES/'\n",
    "    fp_rtm = '/nobackup/sleblan2/rtm/'\n",
    "    fp_uvspec = '/u/sleblan2/libradtran/libRadtran-2.0-beta/bin/uvspec'\n",
    "else:\n",
    "    raise Exception"
   ]
  },
  {
   "cell_type": "markdown",
   "metadata": {},
   "source": [
    "# Setup the variables used to create the lut"
   ]
  },
  {
   "cell_type": "code",
   "execution_count": 69,
   "metadata": {
    "collapsed": true
   },
   "outputs": [],
   "source": [
    "vv = 'v1'"
   ]
  },
  {
   "cell_type": "code",
   "execution_count": 16,
   "metadata": {
    "collapsed": true
   },
   "outputs": [],
   "source": [
    "sza = np.arange(40,90,2)"
   ]
  },
  {
   "cell_type": "code",
   "execution_count": 19,
   "metadata": {
    "collapsed": false
   },
   "outputs": [
    {
     "data": {
      "text/plain": [
       "array([40, 42, 44, 46, 48, 50, 52, 54, 56, 58, 60, 62, 64, 66, 68, 70, 72,\n",
       "       74, 76, 78, 80, 82, 84, 86, 88])"
      ]
     },
     "execution_count": 19,
     "metadata": {},
     "output_type": "execute_result"
    }
   ],
   "source": [
    "print sza"
   ]
  },
  {
   "cell_type": "code",
   "execution_count": 55,
   "metadata": {
    "collapsed": false
   },
   "outputs": [],
   "source": [
    "tau = np.array([0.1,0.2,0.3,0.5,0.75,1.0,1.5,2.0,2.5,3.0,3.5,4.0,4.5,5.0,\n",
    "       6.0,7.0,8.0,9.0,10.0,12.5,15.0,17.5,20.0,25.0,30.0,35.0,40.0,45.0,50.0,\n",
    "       60.0,70.0,80.0,90.0,100.0])\n",
    "ref = np.append(np.arange(2,30),np.arange(30,61,2.5))"
   ]
  },
  {
   "cell_type": "code",
   "execution_count": 57,
   "metadata": {
    "collapsed": false
   },
   "outputs": [
    {
     "data": {
      "text/plain": [
       "(41L,)"
      ]
     },
     "execution_count": 57,
     "metadata": {},
     "output_type": "execute_result"
    }
   ],
   "source": [
    "print ref.shape"
   ]
  },
  {
   "cell_type": "code",
   "execution_count": 58,
   "metadata": {
    "collapsed": false
   },
   "outputs": [
    {
     "data": {
      "text/plain": [
       "(34L,)"
      ]
     },
     "execution_count": 58,
     "metadata": {},
     "output_type": "execute_result"
    }
   ],
   "source": [
    "print tau.shape"
   ]
  },
  {
   "cell_type": "code",
   "execution_count": 70,
   "metadata": {
    "collapsed": false
   },
   "outputs": [],
   "source": [
    "geo = {'lat':47.6212167,\n",
    "       'lon':52.74245,\n",
    "       'doy':322,\n",
    "       'zout':[0.2,3.0,100.0]}\n",
    "aero = {} # none\n",
    "cloud = {'ztop':1.5,\n",
    "         'zbot':0.5,\n",
    "         'write_moments_file':False}\n",
    "source = {'wvl_range':[350,1750],\n",
    "          'source':'solar',\n",
    "          'integrate_values':False,\n",
    "          'run_fuliou':False,\n",
    "          'dat_path':'/u/sleblan2/libradtran/libRadtran-2.0-beta/data/',\n",
    "          'atm_file':'/u/sleblan2/libradtran/libRadtran-2.0-beta/data/atmmod/afglmw.dat',\n",
    "          'zenith':True}\n",
    "albedo = {'create_albedo_file':False,\n",
    "          'sea_surface_albedo':True,\n",
    "          'wind_speed':14.0}"
   ]
  },
  {
   "cell_type": "code",
   "execution_count": 60,
   "metadata": {
    "collapsed": false
   },
   "outputs": [],
   "source": [
    "RL.print_version_details(fp+'NAAMES_lut_%s.txt'%vv,vv,geo=geo,\n",
    "                         aero=aero,cloud=cloud,source=source,albedo=albedo,tau=tau,ref=ref,sza=sza)"
   ]
  },
  {
   "cell_type": "code",
   "execution_count": 71,
   "metadata": {
    "collapsed": false
   },
   "outputs": [],
   "source": [
    "fp_in = os.path.join(fp_rtm,'input','%s_NAAMES'%vv)\n",
    "fp_out = os.path.join(fp_rtm,'output','%s_NAAMES'%vv)"
   ]
  },
  {
   "cell_type": "code",
   "execution_count": 82,
   "metadata": {
    "collapsed": true
   },
   "outputs": [],
   "source": [
    "f_slit_vis = os.path.join(fp_rtm,'4STAR_vis_slit_1nm.dat')\n",
    "f_slit_nir = os.path.join(fp_rtm,'4STAR_nir_slit_1nm.dat')"
   ]
  },
  {
   "cell_type": "code",
   "execution_count": 72,
   "metadata": {
    "collapsed": true
   },
   "outputs": [],
   "source": [
    "if not os.path.exists(fp_in):\n",
    "    os.makedirs(fp_in)\n",
    "if not os.path.exists(fp_out):\n",
    "    os.makedirs(fp_out)"
   ]
  },
  {
   "cell_type": "code",
   "execution_count": 79,
   "metadata": {
    "collapsed": false
   },
   "outputs": [],
   "source": [
    "f_list = open(os.path.join(fp,'run','NAAMES_list_%s.sh'%vv),'w')\n",
    "print f_list.name"
   ]
  },
  {
   "cell_type": "code",
   "execution_count": null,
   "metadata": {
    "collapsed": true
   },
   "outputs": [],
   "source": [
    "for s in sza:\n",
    "    for t in tau:\n",
    "        for r in ref:\n",
    "            fname = 'lut_sza%02i_ref%02.1f_tau%03.1f' % (s,t,r)\n",
    "            geo['sza'] = s\n",
    "            cloud['tau'] = t\n",
    "            cloud['ref'] = r\n",
    "            if r>=5.0:\n",
    "                cloud['phase'] = 'ic'\n",
    "                fname0 = fname+'_'+cloud['phase']+'_w0.dat'\n",
    "                source['wvl_range'] = [400.,981.]\n",
    "                source['slit_file'] = f_slit_vis\n",
    "                RL.write_input_aac(os.path.join(fp_in,fname0),geo=geo,aero=aero,cloud=cloud,source=source,albedo=albedo,\n",
    "                                   verbose=False,make_base=False,set_quiet=True)\n",
    "                f_list.write(fp_uvspec+' < '+os.path.join(fp_in,fname0)+' > '+os.path.join(fp_out,fname0)+'\\n')\n",
    "                fname1 = fname+'_'+cloud['phase']+'_w1.dat'\n",
    "                source['wvl_range'] = [981.,1700.]\n",
    "                source['slit_file'] = f_slit_nir\n",
    "                RL.write_input_aac(os.path.join(fp_in,fname1),geo=geo,aero=aero,cloud=cloud,source=source,albedo=albedo,\n",
    "                                   verbose=False,make_base=False,set_quiet=True)\n",
    "                f_list.write(fp_uvspec+' < '+os.path.join(fp_in,fname1)+' > '+os.path.join(fp_out,fname1)+'\\n')\n",
    "            if r<=30.0:\n",
    "                cloud['phase'] = 'wc'\n",
    "                fname0 = fname+'_'+cloud['phase']+'_w0.dat'\n",
    "                source['wvl_range'] = [400.,981.]\n",
    "                source['slit_file'] = f_slit_vis\n",
    "                RL.write_input_aac(os.path.join(fp_in,fname0),geo=geo,aero=aero,cloud=cloud,source=source,albedo=albedo,\n",
    "                                   verbose=False,make_base=False,set_quiet=True)\n",
    "                f_list.write(fp_uvspec+' < '+os.path.join(fp_in,fname0)+' > '+os.path.join(fp_out,fname0)+'\\n')\n",
    "                fname1 = fname+'_'+cloud['phase']+'_w1.dat'\n",
    "                source['wvl_range'] = [981.,1700.]\n",
    "                source['slit_file'] = f_slit_nir\n",
    "                RL.write_input_aac(os.path.join(fp_in,fname1),geo=geo,aero=aero,cloud=cloud,source=source,albedo=albedo,\n",
    "                                   verbose=False,make_base=False,set_quiet=True)\n",
    "                f_list.write(fp_uvspec+' < '+os.path.join(fp_in,fname1)+' > '+os.path.join(fp_out,fname1)+'\\n')                \n",
    "            print s,t,r"
   ]
  },
  {
   "cell_type": "code",
   "execution_count": null,
   "metadata": {
    "collapsed": true
   },
   "outputs": [],
   "source": [
    "f_list.close()"
   ]
  }
 ],
 "metadata": {
  "kernelspec": {
   "display_name": "Python 2",
   "language": "python",
   "name": "python2"
  },
  "language_info": {
   "codemirror_mode": {
    "name": "ipython",
    "version": 2
   },
   "file_extension": ".py",
   "mimetype": "text/x-python",
   "name": "python",
   "nbconvert_exporter": "python",
   "pygments_lexer": "ipython2",
   "version": "2.7.6"
  }
 },
 "nbformat": 4,
 "nbformat_minor": 0
}
