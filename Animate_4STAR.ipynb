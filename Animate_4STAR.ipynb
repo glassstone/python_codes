{
 "metadata": {
  "name": "",
  "signature": "sha256:fce167cc951528789acde7f864b5ac12b35917baf74cffbe60fbe97fc39866ed"
 },
 "nbformat": 3,
 "nbformat_minor": 0,
 "worksheets": [
  {
   "cells": [
    {
     "cell_type": "markdown",
     "metadata": {
      "variables": {}
     },
     "source": [
      "Name:  \n",
      "\n",
      "    Animate_4STAR\n",
      "\n",
      "Purpose:  \n",
      "\n",
      "    Python script that is used to view 4STAR full spectral AOD\n",
      "    Animates the AOD over time\n",
      "\n",
      "Calling Sequence:\n",
      "\n",
      "    python Animate_4STAR.py\n",
      "  \n",
      "Input:\n",
      "\n",
      "    none at command line\n",
      "  \n",
      "Output:\n",
      "\n",
      "    animated figures \n",
      "  \n",
      "Keywords:\n",
      "\n",
      "    none\n",
      "  \n",
      "Dependencies:\n",
      "\n",
      "    - matplotlib\n",
      "    - mpltools\n",
      "    - numpy\n",
      "    - scipy : for saving and reading\n",
      "    - load_modis: for mat2py_time and toutc functions\n",
      "    - Sp_parameters: for find_closest function\n",
      "    - mpl_toolkits\n",
      "  \n",
      "Needed Files:\n",
      "\n",
      "  - file.rc : for consistent creation of look of matplotlib figures\n",
      "  - 20130823starsunfinal.mat: or other 4STAR starsun file containing aod spectra"
     ]
    },
    {
     "cell_type": "code",
     "collapsed": false,
     "input": [
      "%config InlineBackend.rc = {}\n",
      "import matplotlib \n",
      "matplotlib.rc_file('C:\\\\Users\\\\sleblan2\\\\Research\\\\python_codes\\\\file.rc')\n",
      "import matplotlib.pyplot as plt\n",
      "import matplotlib.colors as colors\n",
      "from mpltools import color\n",
      "%matplotlib inline\n",
      "import numpy as np, h5py\n",
      "#import plotly.plotly as py\n",
      "import scipy.io as sio\n",
      "import math\n",
      "import os\n",
      "from load_modis import mat2py_time, toutc\n",
      "from Sp_parameters import find_closest"
     ],
     "language": "python",
     "metadata": {
      "run_control": {
       "breakpoint": false
      }
     },
     "outputs": [],
     "prompt_number": 21
    },
    {
     "cell_type": "code",
     "collapsed": false,
     "input": [
      "# set the basic directory path\n",
      "fp = 'C:\\\\Users\\\\sleblan2\\\\Research\\\\4STAR\\\\SEAC4RS\\\\'\n",
      "datestr = '20130823'\n",
      "filesep = '\\\\'"
     ],
     "language": "python",
     "metadata": {
      "run_control": {
       "breakpoint": false
      }
     },
     "outputs": [],
     "prompt_number": 6
    },
    {
     "cell_type": "code",
     "collapsed": false,
     "input": [
      "print filesep"
     ],
     "language": "python",
     "metadata": {
      "run_control": {
       "breakpoint": false
      }
     },
     "outputs": [
      {
       "output_type": "stream",
       "stream": "stdout",
       "text": [
        "\\\n"
       ]
      }
     ],
     "prompt_number": 7
    },
    {
     "cell_type": "heading",
     "level": 2,
     "metadata": {},
     "source": [
      "Load the 4STAR data and select time points"
     ]
    },
    {
     "cell_type": "code",
     "collapsed": false,
     "input": [
      "star = sio.loadmat(fp+datestr+filesep+datestr+'starsunfinal.mat')\n",
      "star.keys()"
     ],
     "language": "python",
     "metadata": {
      "run_control": {
       "breakpoint": false
      }
     },
     "outputs": [
      {
       "metadata": {},
       "output_type": "pyout",
       "prompt_number": 8,
       "text": [
        "['Str',\n",
        " 'tau_O3_err',\n",
        " 'sza',\n",
        " 'm_ray',\n",
        " 'pitch',\n",
        " 'Tst',\n",
        " 'cwv',\n",
        " 'fwhm',\n",
        " 'nirt',\n",
        " 'tau_aero_noscreening',\n",
        " 'rateaero',\n",
        " 'O3h',\n",
        " 'NO2col',\n",
        " 'Headng',\n",
        " 'RH',\n",
        " 'Pst',\n",
        " 'nirheader',\n",
        " 'saveadditionalvariables',\n",
        " 'sd_aero_crit',\n",
        " 'tau_aero_err',\n",
        " 'dark',\n",
        " 'nirVdettemp',\n",
        " 'Elstep',\n",
        " 'tau_ray',\n",
        " 'nircols',\n",
        " 'sunaz',\n",
        " 'O3col',\n",
        " 'nirfilen',\n",
        " 'm_err',\n",
        " 'f',\n",
        " 'tau_O4_err',\n",
        " 'flagallcolsitems',\n",
        " 't',\n",
        " 'c0mod',\n",
        " 'inspectresults',\n",
        " 'track_err',\n",
        " 'flagallcols',\n",
        " 'savefigure',\n",
        " 'rate',\n",
        " 'sat_time',\n",
        " 'm_O3',\n",
        " 'visheader',\n",
        " 'nirTint',\n",
        " 'applynonlinearcorr',\n",
        " 'filename',\n",
        " 'tau_r_err',\n",
        " 'applytempcorr',\n",
        " 'nirsat_pixel',\n",
        " 'Md',\n",
        " 'aeronetcols',\n",
        " 'visAVG',\n",
        " 'tau_NO2_err',\n",
        " 'Zn',\n",
        " 'AZstep',\n",
        " 'darkstd',\n",
        " 'QdVtot',\n",
        " 'tau_aero_err7',\n",
        " 'tau_aero_err6',\n",
        " 'tau_aero_err5',\n",
        " 'nirAVG',\n",
        " 'tau_aero_err3',\n",
        " 'tau_aero_err2',\n",
        " 'w',\n",
        " 'ELcorr',\n",
        " 'visVdettemp_C',\n",
        " 'tau_aero_err8',\n",
        " 'computeerror',\n",
        " 'El_deg',\n",
        " 'verbose',\n",
        " 'skyresp',\n",
        " 'Lon',\n",
        " 'tau_aero',\n",
        " 'AZ_deg',\n",
        " 'visrow_labels',\n",
        " 'm_H2O',\n",
        " 'c0err',\n",
        " 'viscols',\n",
        " 'tau_CO2_CH4_N2O_abserr',\n",
        " 'flagitems',\n",
        " 'aerosolcols',\n",
        " 'tau_O3',\n",
        " 'vissat_pixel',\n",
        " 'tau_O4',\n",
        " 'tau_NO2',\n",
        " 'tau_aero_polynomial',\n",
        " 'gas',\n",
        " 'flag',\n",
        " 'rawstd',\n",
        " 'tau_aero_err11',\n",
        " 'visfilen',\n",
        " 'c0',\n",
        " 'Tprecon_C',\n",
        " 'raw',\n",
        " '__header__',\n",
        " 'rawrelstd',\n",
        " 'rawcorr',\n",
        " 'sat_ij',\n",
        " 'sunel',\n",
        " 'visTint',\n",
        " 'Tbox_C',\n",
        " 'QdVtb',\n",
        " 'QdVlr',\n",
        " 'nirVdettemp_C',\n",
        " 'visVdettemp',\n",
        " 'tau_aero_err10',\n",
        " 'nirrow_labels',\n",
        " 'm_aero',\n",
        " 'responsivityFOV',\n",
        " 'm_NO2',\n",
        " 'Tbox',\n",
        " 'Tprecon',\n",
        " 'ng',\n",
        " 'note',\n",
        " 'RHprecon_percent',\n",
        " 'tau_aero_err4',\n",
        " 'Lat',\n",
        " '__version__',\n",
        " 'roll',\n",
        " 'tau_aero_err1',\n",
        " 'vist',\n",
        " 'AZcorr',\n",
        " 'tau_aero_fitsubtract',\n",
        " 'rawmean',\n",
        " 'RHprecon',\n",
        " 'tau_CO2_CH4_N2O',\n",
        " '__globals__',\n",
        " 'tau_aero_err9',\n",
        " 'skyresperr',\n",
        " 'Alt']"
       ]
      }
     ],
     "prompt_number": 8
    },
    {
     "cell_type": "code",
     "collapsed": false,
     "input": [
      "star['utc'] = toutc(mat2py_time(star['t']))"
     ],
     "language": "python",
     "metadata": {
      "run_control": {
       "breakpoint": false
      }
     },
     "outputs": [],
     "prompt_number": 9
    },
    {
     "cell_type": "code",
     "collapsed": false,
     "input": [
      "star['good'] = np.where((star['utc']>20.0667) & (star['utc']<20.4667) & (star['Str'].flatten()!=0) & (star['sat_time'].flatten()==0))[0]\n",
      "len(star['good'])"
     ],
     "language": "python",
     "metadata": {
      "run_control": {
       "breakpoint": false
      }
     },
     "outputs": [
      {
       "metadata": {},
       "output_type": "pyout",
       "prompt_number": 17,
       "text": [
        "996"
       ]
      }
     ],
     "prompt_number": 17
    },
    {
     "cell_type": "heading",
     "level": 2,
     "metadata": {},
     "source": [
      "Plot time traces at select wavelengths"
     ]
    },
    {
     "cell_type": "code",
     "collapsed": false,
     "input": [
      "print star['tau_aero'].shape\n",
      "print star['w'].shape\n",
      "iw = find_closest(star['w'][0],np.array([380,400,430,500,515,635,875,1000,1140,1200,1600])/1000.0)\n",
      "print star['w'][0].shape\n",
      "print iw"
     ],
     "language": "python",
     "metadata": {
      "run_control": {
       "breakpoint": false
      }
     },
     "outputs": [
      {
       "output_type": "stream",
       "stream": "stdout",
       "text": [
        "(27514L, 1556L)\n",
        "(1L, 1556L)\n",
        "(1556L,)\n",
        "[ 257  282  319  406  425  575  881 1072 1153 1189 1470]\n"
       ]
      }
     ],
     "prompt_number": 62
    },
    {
     "cell_type": "code",
     "collapsed": false,
     "input": [
      "plt.figure()\n",
      "color.cycle_cmap(len(iw)+1,cmap=plt.cm.gist_ncar)\n",
      "for i in iw:\n",
      "    plt.plot(star['utc'][star['good']],star['tau_aero'][star['good'],i], label=str('%.3f $\\mu$m' % star['w'][0,i]))\n",
      "plt.xlabel('UTC [h]')\n",
      "plt.ylabel('AOD')\n",
      "plt.legend(bbox_to_anchor=[1,0.1],loc=3)\n",
      "plt.savefig(fp+datestr+filesep+'AOD_time.png',dpi=600)"
     ],
     "language": "python",
     "metadata": {
      "run_control": {
       "breakpoint": false
      }
     },
     "outputs": [
      {
       "metadata": {},
       "output_type": "display_data",
       "png": "[encoded data removed]",
       "text": [
        "<matplotlib.figure.Figure at 0x18422ba8>"
       ]
      }
     ],
     "prompt_number": 63
    },
    {
     "cell_type": "heading",
     "level": 2,
     "metadata": {},
     "source": [
      "Start animation of full spectral aod"
     ]
    },
    {
     "cell_type": "code",
     "collapsed": false,
     "input": [
      "from IPython.display import HTML\n",
      "\n",
      "def display_animation(anim):\n",
      "    plt.close(anim._fig)\n",
      "    return HTML(anim_to_html(anim))"
     ],
     "language": "python",
     "metadata": {
      "run_control": {
       "breakpoint": false
      }
     },
     "outputs": [],
     "prompt_number": 69
    },
    {
     "cell_type": "code",
     "collapsed": false,
     "input": [
      "from tempfile import NamedTemporaryFile\n",
      "\n",
      "def anim_to_html(anim):\n",
      "    if not hasattr(anim, '_encoded_video'):\n",
      "        with NamedTemporaryFile(suffix='.mp4') as f:\n",
      "            anim.save(f.name, fps=20, extra_args=['-vcodec', 'libx264'])\n",
      "            video = open(f.name, \"rb\").read()\n",
      "        anim._encoded_video = video.encode(\"base64\")\n",
      "    \n",
      "    return VIDEO_TAG.format(anim._encoded_video)"
     ],
     "language": "python",
     "metadata": {
      "run_control": {
       "breakpoint": false
      }
     },
     "outputs": [],
     "prompt_number": 70
    },
    {
     "cell_type": "code",
     "collapsed": false,
     "input": [
      "from matplotlib import animation\n",
      "\n",
      "# First set up the figure, the axis, and the plot element we want to animate\n",
      "fig = plt.figure()\n",
      "ax = plt.axes(xlim=(0, 2), ylim=(0.35, 1.75))\n",
      "line, = ax.plot([], [], lw=2)\n",
      "\n",
      "# initialization function: plot the background of each frame\n",
      "def init():\n",
      "    line.set_data([], [])\n",
      "    return line,\n",
      "\n",
      "# animation function.  This is called sequentially\n",
      "def animate(i):\n",
      "    line.set_data(star['w'][0], star['tau_aero'][star['good']])\n",
      "    return line,\n",
      "\n",
      "# call the animator.  blit=True means only re-draw the parts that have changed.\n",
      "anim = animation.FuncAnimation(fig, animate, init_func=init,\n",
      "                               frames=len(star['good']), interval=10, blit=True)\n",
      "\n",
      "# call our new function to display the animation\n",
      "display_animation(anim)"
     ],
     "language": "python",
     "metadata": {
      "run_control": {
       "breakpoint": false
      }
     },
     "outputs": [
      {
       "ename": "AttributeError",
       "evalue": "'str' object has no attribute 'saving'",
       "output_type": "pyerr",
       "traceback": [
        "\u001b[1;31m---------------------------------------------------------------------------\u001b[0m\n\u001b[1;31mAttributeError\u001b[0m                            Traceback (most recent call last)",
        "\u001b[1;32m<ipython-input-71-0aa2904889b6>\u001b[0m in \u001b[0;36m<module>\u001b[1;34m()\u001b[0m\n\u001b[0;32m     21\u001b[0m \u001b[1;33m\u001b[0m\u001b[0m\n\u001b[0;32m     22\u001b[0m \u001b[1;31m# call our new function to display the animation\u001b[0m\u001b[1;33m\u001b[0m\u001b[1;33m\u001b[0m\u001b[0m\n\u001b[1;32m---> 23\u001b[1;33m \u001b[0mdisplay_animation\u001b[0m\u001b[1;33m(\u001b[0m\u001b[0manim\u001b[0m\u001b[1;33m)\u001b[0m\u001b[1;33m\u001b[0m\u001b[0m\n\u001b[0m",
        "\u001b[1;32m<ipython-input-69-63a8cd04f4be>\u001b[0m in \u001b[0;36mdisplay_animation\u001b[1;34m(anim)\u001b[0m\n\u001b[0;32m      3\u001b[0m \u001b[1;32mdef\u001b[0m \u001b[0mdisplay_animation\u001b[0m\u001b[1;33m(\u001b[0m\u001b[0manim\u001b[0m\u001b[1;33m)\u001b[0m\u001b[1;33m:\u001b[0m\u001b[1;33m\u001b[0m\u001b[0m\n\u001b[0;32m      4\u001b[0m     \u001b[0mplt\u001b[0m\u001b[1;33m.\u001b[0m\u001b[0mclose\u001b[0m\u001b[1;33m(\u001b[0m\u001b[0manim\u001b[0m\u001b[1;33m.\u001b[0m\u001b[0m_fig\u001b[0m\u001b[1;33m)\u001b[0m\u001b[1;33m\u001b[0m\u001b[0m\n\u001b[1;32m----> 5\u001b[1;33m     \u001b[1;32mreturn\u001b[0m \u001b[0mHTML\u001b[0m\u001b[1;33m(\u001b[0m\u001b[0manim_to_html\u001b[0m\u001b[1;33m(\u001b[0m\u001b[0manim\u001b[0m\u001b[1;33m)\u001b[0m\u001b[1;33m)\u001b[0m\u001b[1;33m\u001b[0m\u001b[0m\n\u001b[0m",
        "\u001b[1;32m<ipython-input-70-9c84113f8d8b>\u001b[0m in \u001b[0;36manim_to_html\u001b[1;34m(anim)\u001b[0m\n\u001b[0;32m      4\u001b[0m     \u001b[1;32mif\u001b[0m \u001b[1;32mnot\u001b[0m \u001b[0mhasattr\u001b[0m\u001b[1;33m(\u001b[0m\u001b[0manim\u001b[0m\u001b[1;33m,\u001b[0m \u001b[1;34m'_encoded_video'\u001b[0m\u001b[1;33m)\u001b[0m\u001b[1;33m:\u001b[0m\u001b[1;33m\u001b[0m\u001b[0m\n\u001b[0;32m      5\u001b[0m         \u001b[1;32mwith\u001b[0m \u001b[0mNamedTemporaryFile\u001b[0m\u001b[1;33m(\u001b[0m\u001b[0msuffix\u001b[0m\u001b[1;33m=\u001b[0m\u001b[1;34m'.mp4'\u001b[0m\u001b[1;33m)\u001b[0m \u001b[1;32mas\u001b[0m \u001b[0mf\u001b[0m\u001b[1;33m:\u001b[0m\u001b[1;33m\u001b[0m\u001b[0m\n\u001b[1;32m----> 6\u001b[1;33m             \u001b[0manim\u001b[0m\u001b[1;33m.\u001b[0m\u001b[0msave\u001b[0m\u001b[1;33m(\u001b[0m\u001b[0mf\u001b[0m\u001b[1;33m.\u001b[0m\u001b[0mname\u001b[0m\u001b[1;33m,\u001b[0m \u001b[0mfps\u001b[0m\u001b[1;33m=\u001b[0m\u001b[1;36m20\u001b[0m\u001b[1;33m,\u001b[0m \u001b[0mextra_args\u001b[0m\u001b[1;33m=\u001b[0m\u001b[1;33m[\u001b[0m\u001b[1;34m'-vcodec'\u001b[0m\u001b[1;33m,\u001b[0m \u001b[1;34m'libx264'\u001b[0m\u001b[1;33m]\u001b[0m\u001b[1;33m)\u001b[0m\u001b[1;33m\u001b[0m\u001b[0m\n\u001b[0m\u001b[0;32m      7\u001b[0m             \u001b[0mvideo\u001b[0m \u001b[1;33m=\u001b[0m \u001b[0mopen\u001b[0m\u001b[1;33m(\u001b[0m\u001b[0mf\u001b[0m\u001b[1;33m.\u001b[0m\u001b[0mname\u001b[0m\u001b[1;33m,\u001b[0m \u001b[1;34m\"rb\"\u001b[0m\u001b[1;33m)\u001b[0m\u001b[1;33m.\u001b[0m\u001b[0mread\u001b[0m\u001b[1;33m(\u001b[0m\u001b[1;33m)\u001b[0m\u001b[1;33m\u001b[0m\u001b[0m\n\u001b[0;32m      8\u001b[0m         \u001b[0manim\u001b[0m\u001b[1;33m.\u001b[0m\u001b[0m_encoded_video\u001b[0m \u001b[1;33m=\u001b[0m \u001b[0mvideo\u001b[0m\u001b[1;33m.\u001b[0m\u001b[0mencode\u001b[0m\u001b[1;33m(\u001b[0m\u001b[1;34m\"base64\"\u001b[0m\u001b[1;33m)\u001b[0m\u001b[1;33m\u001b[0m\u001b[0m\n",
        "\u001b[1;32mC:\\Python27_64\\WinPython-64bit-2.7.6.4\\python-2.7.6.amd64\\lib\\site-packages\\matplotlib\\animation.py\u001b[0m in \u001b[0;36msave\u001b[1;34m(self, filename, writer, fps, dpi, codec, bitrate, extra_args, metadata, extra_anim, savefig_kwargs)\u001b[0m\n\u001b[0;32m    710\u001b[0m         \u001b[1;31m# since GUI widgets are gone. Either need to remove extra code to\u001b[0m\u001b[1;33m\u001b[0m\u001b[1;33m\u001b[0m\u001b[0m\n\u001b[0;32m    711\u001b[0m         \u001b[1;31m# allow for this non-existant use case or find a way to make it work.\u001b[0m\u001b[1;33m\u001b[0m\u001b[1;33m\u001b[0m\u001b[0m\n\u001b[1;32m--> 712\u001b[1;33m         \u001b[1;32mwith\u001b[0m \u001b[0mwriter\u001b[0m\u001b[1;33m.\u001b[0m\u001b[0msaving\u001b[0m\u001b[1;33m(\u001b[0m\u001b[0mself\u001b[0m\u001b[1;33m.\u001b[0m\u001b[0m_fig\u001b[0m\u001b[1;33m,\u001b[0m \u001b[0mfilename\u001b[0m\u001b[1;33m,\u001b[0m \u001b[0mdpi\u001b[0m\u001b[1;33m)\u001b[0m\u001b[1;33m:\u001b[0m\u001b[1;33m\u001b[0m\u001b[0m\n\u001b[0m\u001b[0;32m    713\u001b[0m             for data in itertools.izip(*[a.new_saved_frame_seq()\n\u001b[0;32m    714\u001b[0m                                          for a in all_anim]):\n",
        "\u001b[1;31mAttributeError\u001b[0m: 'str' object has no attribute 'saving'"
       ]
      }
     ],
     "prompt_number": 71
    },
    {
     "cell_type": "code",
     "collapsed": false,
     "input": [],
     "language": "python",
     "metadata": {
      "run_control": {
       "breakpoint": false
      }
     },
     "outputs": []
    }
   ],
   "metadata": {}
  }
 ]
}