{
 "metadata": {
  "name": "",
  "signature": "sha256:e7c8252453c95299e53f8efd8efc4b4520eb7fe8833c32468efa9ba9df375a95"
 },
 "nbformat": 3,
 "nbformat_minor": 0,
 "worksheets": [
  {
   "cells": [
    {
     "cell_type": "code",
     "collapsed": false,
     "input": [
      "import matplotlib \n",
      "matplotlib.rc_file('C:\\\\Users\\\\sleblan2\\\\Research\\\\python_codes\\\\file.rc')\n",
      "import matplotlib.pyplot as plt\n",
      "%matplotlib tk\n",
      "import numpy as np\n",
      "import scipy.io as sio\n",
      "from mpl_toolkits.basemap import Basemap"
     ],
     "language": "python",
     "metadata": {
      "run_control": {
       "breakpoint": false,
       "read_only": false
      }
     },
     "outputs": [
      {
       "output_type": "stream",
       "stream": "stdout",
       "text": [
        "Warning: Cannot change to a different GUI toolkit: tk. Using qt instead.\n"
       ]
      }
     ],
     "prompt_number": 3
    },
    {
     "cell_type": "code",
     "collapsed": false,
     "input": [
      "def build_basemap(lower_left=[-20,-25],upper_right=[15,0],ax=plt.gca()):\n",
      "    \"\"\"\n",
      "    First try at a building of the basemap with a 'stere' projection\n",
      "    Must put in the values of the lower left corner and upper right corner (lon and lat)\n",
      "    \n",
      "    Defaults to draw 8 meridians and parallels\n",
      "    \"\"\"\n",
      "    m = Basemap(projection='stere',lon_0=(upper_right[0]+lower_left[0]),lat_0=(upper_right[1]+lower_left[1]),\n",
      "            llcrnrlon=lower_left[0], llcrnrlat=lower_left[1],\n",
      "            urcrnrlon=upper_right[0], urcrnrlat=upper_right[1],resolution='h',ax=ax)\n",
      "    m.drawcoastlines()\n",
      "    #m.fillcontinents(color='#AAAAAA')\n",
      "    m.drawstates()\n",
      "    m.drawcountries()\n",
      "    m.drawmeridians(np.linspace(lower_left[0],upper_right[0],8),labels=[0,0,0,1])\n",
      "    m.drawparallels(np.linspace(lower_left[1],upper_right[1],8),labels=[1,0,0,0])\n",
      "    return m"
     ],
     "language": "python",
     "metadata": {
      "run_control": {
       "breakpoint": false
      }
     },
     "outputs": [],
     "prompt_number": 4
    },
    {
     "cell_type": "code",
     "collapsed": false,
     "input": [
      "def format_coord(x, y):\n",
      "    return 'Lon=%.4f, Lat=%.4f'%(m(x, y, inverse = True))"
     ],
     "language": "python",
     "metadata": {
      "run_control": {
       "breakpoint": false
      }
     },
     "outputs": [],
     "prompt_number": 8
    },
    {
     "cell_type": "code",
     "collapsed": false,
     "input": [
      "m = build_basemap()\n",
      "ax = plt.gca()\n",
      "ax.format_coord = format_coord"
     ],
     "language": "python",
     "metadata": {
      "run_control": {
       "breakpoint": false
      }
     },
     "outputs": [],
     "prompt_number": 9
    },
    {
     "cell_type": "code",
     "collapsed": false,
     "input": [
      "plt.figure()\n",
      "plt.plot([0,1,2,3,4],[1,2,3,4,8])\n",
      "plt.show()"
     ],
     "language": "python",
     "metadata": {
      "run_control": {
       "breakpoint": false
      }
     },
     "outputs": [],
     "prompt_number": 2
    },
    {
     "cell_type": "code",
     "collapsed": false,
     "input": [
      "plt.show()"
     ],
     "language": "python",
     "metadata": {
      "run_control": {
       "breakpoint": false
      }
     },
     "outputs": [],
     "prompt_number": 12
    },
    {
     "cell_type": "code",
     "collapsed": false,
     "input": [
      "%matplotlib"
     ],
     "language": "python",
     "metadata": {
      "run_control": {
       "breakpoint": false
      }
     },
     "outputs": [
      {
       "output_type": "stream",
       "stream": "stdout",
       "text": [
        "Using matplotlib backend: Qt4Agg\n"
       ]
      }
     ],
     "prompt_number": 13
    },
    {
     "cell_type": "code",
     "collapsed": false,
     "input": [
      "%matplotlib qt"
     ],
     "language": "python",
     "metadata": {
      "run_control": {
       "breakpoint": false
      }
     },
     "outputs": [],
     "prompt_number": 16
    },
    {
     "cell_type": "code",
     "collapsed": false,
     "input": [],
     "language": "python",
     "metadata": {
      "run_control": {
       "breakpoint": false
      }
     },
     "outputs": []
    }
   ],
   "metadata": {}
  }
 ]
}