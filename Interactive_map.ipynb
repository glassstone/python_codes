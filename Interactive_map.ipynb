{
 "metadata": {
  "name": "",
  "signature": "sha256:67ff12305074f7e3baca84db7f35389b976f1183bd3f9c19ce59489421193e50"
 },
 "nbformat": 3,
 "nbformat_minor": 0,
 "worksheets": [
  {
   "cells": [
    {
     "cell_type": "code",
     "collapsed": false,
     "input": [
      "import matplotlib \n",
      "matplotlib.rc_file('C:\\\\Users\\\\sleblan2\\\\Research\\\\python_codes\\\\file.rc')\n",
      "import matplotlib.pyplot as plt\n",
      "%matplotlib tk\n",
      "import numpy as np\n",
      "import scipy.io as sio\n",
      "from mpl_toolkits.basemap import Basemap"
     ],
     "language": "python",
     "metadata": {
      "run_control": {
       "breakpoint": false,
       "read_only": false
      }
     },
     "outputs": [],
     "prompt_number": 1
    },
    {
     "cell_type": "code",
     "collapsed": false,
     "input": [
      "def build_basemap(lower_left=[-20,-30],upper_right=[20,10],ax=plt.gca()):\n",
      "    \"\"\"\n",
      "    First try at a building of the basemap with a 'stere' projection\n",
      "    Must put in the values of the lower left corner and upper right corner (lon and lat)\n",
      "    \n",
      "    Defaults to draw 8 meridians and parallels\n",
      "    \"\"\"\n",
      "    m = Basemap(projection='stere',lon_0=(upper_right[0]+lower_left[0]),lat_0=(upper_right[1]+lower_left[1]),\n",
      "            llcrnrlon=lower_left[0], llcrnrlat=lower_left[1],\n",
      "            urcrnrlon=upper_right[0], urcrnrlat=upper_right[1],resolution='h',ax=ax)\n",
      "    m.drawcoastlines()\n",
      "    #m.fillcontinents(color='#AAAAAA')\n",
      "    m.drawstates()\n",
      "    m.drawcountries()\n",
      "    m.drawmeridians(np.linspace(lower_left[0],upper_right[0],8).astype(int),labels=[0,0,0,1])\n",
      "    m.drawparallels(np.linspace(lower_left[1],upper_right[1],8).astype(int),labels=[1,0,0,0])\n",
      "    return m"
     ],
     "language": "python",
     "metadata": {
      "run_control": {
       "breakpoint": false,
       "read_only": false
      }
     },
     "outputs": [],
     "prompt_number": 5
    },
    {
     "cell_type": "code",
     "collapsed": false,
     "input": [
      "def format_coord(x, y):\n",
      "    return 'Lon=%.4f, Lat=%.4f'%(m(x, y, inverse = True))"
     ],
     "language": "python",
     "metadata": {
      "run_control": {
       "breakpoint": false,
       "read_only": false
      }
     },
     "outputs": [],
     "prompt_number": 6
    },
    {
     "cell_type": "code",
     "collapsed": false,
     "input": [
      "class LineDrawer(object):\n",
      "    lines = []\n",
      "    pos = []\n",
      "    def __init__(self,m):\n",
      "        self.m = m\n",
      "    def draw_line(self):\n",
      "        ax = plt.gca()\n",
      "        xy = plt.ginput(2)\n",
      "\n",
      "        x = [p[0] for p in xy]\n",
      "        y = [p[1] for p in xy]\n",
      "        line = plt.plot(x,y)\n",
      "        ax.figure.canvas.draw()\n",
      "        \n",
      "        self.lines.append(line)\n",
      "        self.pos.append(self.m(x,y,inverse=True))"
     ],
     "language": "python",
     "metadata": {
      "run_control": {
       "breakpoint": false,
       "read_only": false
      }
     },
     "outputs": [],
     "prompt_number": 9
    },
    {
     "cell_type": "code",
     "collapsed": false,
     "input": [
      "m = build_basemap()\n",
      "ax = plt.gca()\n",
      "ax.format_coord = format_coord"
     ],
     "language": "python",
     "metadata": {
      "run_control": {
       "breakpoint": false,
       "read_only": false
      }
     },
     "outputs": [],
     "prompt_number": 7
    },
    {
     "cell_type": "code",
     "collapsed": false,
     "input": [
      "type(m)"
     ],
     "language": "python",
     "metadata": {
      "run_control": {
       "breakpoint": false,
       "read_only": false
      }
     },
     "outputs": [
      {
       "metadata": {},
       "output_type": "pyout",
       "prompt_number": 60,
       "text": [
        "mpl_toolkits.basemap.Basemap"
       ]
      }
     ],
     "prompt_number": 60
    },
    {
     "cell_type": "code",
     "collapsed": false,
     "input": [
      "ld = LineDrawer(m)\n",
      "ld.draw_line()"
     ],
     "language": "python",
     "metadata": {
      "run_control": {
       "breakpoint": false,
       "read_only": false
      }
     },
     "outputs": [
      {
       "output_type": "stream",
       "stream": "stderr",
       "text": [
        "C:\\Python27_64\\WinPython-64bit-2.7.6.4\\python-2.7.6.amd64\\lib\\site-packages\\matplotlib\\backend_bases.py:2407: MatplotlibDeprecationWarning: Using default event loop until function specific to this GUI is implemented\n",
        "  warnings.warn(str, mplDeprecation)\n"
       ]
      }
     ],
     "prompt_number": 10
    },
    {
     "cell_type": "code",
     "collapsed": false,
     "input": [
      "ld.pos"
     ],
     "language": "python",
     "metadata": {
      "run_control": {
       "breakpoint": false,
       "read_only": false
      }
     },
     "outputs": [
      {
       "output_type": "stream",
       "stream": "stdout",
       "text": [
        "None\n"
       ]
      },
      {
       "metadata": {},
       "output_type": "pyout",
       "prompt_number": 71,
       "text": [
        "[([-13.344021817452116, 0.39799227238351675],\n",
        "  [-8.04680014702183, -15.038772928567896]),\n",
        " ([3.783573124374964, 5.015793308803762],\n",
        "  [-21.620826932897806, -12.684386716223106])]"
       ]
      }
     ],
     "prompt_number": 71
    },
    {
     "cell_type": "code",
     "collapsed": false,
     "input": [
      "ld.m()"
     ],
     "language": "python",
     "metadata": {
      "run_control": {
       "breakpoint": false,
       "read_only": false
      }
     },
     "outputs": []
    },
    {
     "cell_type": "code",
     "collapsed": false,
     "input": [
      "ld.draw_line()\n"
     ],
     "language": "python",
     "metadata": {
      "run_control": {
       "breakpoint": false,
       "read_only": false
      }
     },
     "outputs": [
      {
       "output_type": "stream",
       "stream": "stdout",
       "text": [
        "None\n"
       ]
      }
     ],
     "prompt_number": 70
    },
    {
     "cell_type": "code",
     "collapsed": false,
     "input": [
      "ld.lines"
     ],
     "language": "python",
     "metadata": {
      "run_control": {
       "breakpoint": false,
       "read_only": false
      }
     },
     "outputs": [
      {
       "output_type": "stream",
       "stream": "stdout",
       "text": [
        "None\n"
       ]
      },
      {
       "metadata": {},
       "output_type": "pyout",
       "prompt_number": 53,
       "text": [
        "[[<matplotlib.lines.Line2D at 0x15b43470>]]"
       ]
      }
     ],
     "prompt_number": 53
    },
    {
     "cell_type": "code",
     "collapsed": false,
     "input": [
      "fig = plt.gcf()"
     ],
     "language": "python",
     "metadata": {
      "run_control": {
       "breakpoint": false,
       "read_only": false
      }
     },
     "outputs": [],
     "prompt_number": 14
    },
    {
     "cell_type": "code",
     "collapsed": false,
     "input": [
      "def on_resize(event):\n",
      "    ax.set_title('Resize, button=%d, x=%d, y=%d, xdata=%f, ydata=%f'%(\n",
      "        event.button, event.x, event.y, event.xdata, event.ydata))"
     ],
     "language": "python",
     "metadata": {
      "run_control": {
       "breakpoint": false,
       "read_only": false
      }
     },
     "outputs": [],
     "prompt_number": 19
    },
    {
     "cell_type": "code",
     "collapsed": false,
     "input": [
      "fig.canvas.mpl_connect('resize_event',on_resize)"
     ],
     "language": "python",
     "metadata": {
      "run_control": {
       "breakpoint": false,
       "read_only": false
      }
     },
     "outputs": [
      {
       "metadata": {},
       "output_type": "pyout",
       "prompt_number": 20,
       "text": [
        "27"
       ]
      }
     ],
     "prompt_number": 20
    },
    {
     "cell_type": "code",
     "collapsed": false,
     "input": [
      "fig.canvas.mpl_connect('button_release_event',define_event)"
     ],
     "language": "python",
     "metadata": {
      "run_control": {
       "breakpoint": false,
       "read_only": false
      }
     },
     "outputs": [
      {
       "metadata": {},
       "output_type": "pyout",
       "prompt_number": 25,
       "text": [
        "38"
       ]
      }
     ],
     "prompt_number": 25
    },
    {
     "cell_type": "code",
     "collapsed": false,
     "input": [
      "fig.canvas.mpl_disconnect('resize_event')"
     ],
     "language": "python",
     "metadata": {
      "run_control": {
       "breakpoint": false,
       "read_only": false
      }
     },
     "outputs": [
      {
       "output_type": "stream",
       "stream": "stdout",
       "text": [
        "ZOOM\n"
       ]
      }
     ],
     "prompt_number": 26
    },
    {
     "cell_type": "code",
     "collapsed": false,
     "input": [
      "print 'yes'"
     ],
     "language": "python",
     "metadata": {
      "run_control": {
       "breakpoint": false,
       "read_only": false
      }
     },
     "outputs": [
      {
       "output_type": "stream",
       "stream": "stdout",
       "text": [
        "PAN\n",
        "yes"
       ]
      },
      {
       "output_type": "stream",
       "stream": "stdout",
       "text": [
        "\n"
       ]
      }
     ],
     "prompt_number": 31
    },
    {
     "cell_type": "code",
     "collapsed": false,
     "input": [
      "def define_event(event):\n",
      "    for ax in event.canvas.figure.axes:\n",
      "        print ax.get_navigate_mode()"
     ],
     "language": "python",
     "metadata": {
      "run_control": {
       "breakpoint": false,
       "read_only": false
      }
     },
     "outputs": [],
     "prompt_number": 24
    },
    {
     "cell_type": "code",
     "collapsed": false,
     "input": [
      "import sys\n",
      "from PyQt4 import QtGui, QtCore"
     ],
     "language": "python",
     "metadata": {
      "run_control": {
       "breakpoint": false,
       "read_only": false
      }
     },
     "outputs": [],
     "prompt_number": 37
    },
    {
     "cell_type": "code",
     "collapsed": false,
     "input": [
      "plt.figure()\n",
      "plt.plot([0,1,2,3,4],[1,2,3,4,8])\n",
      "plt.show()"
     ],
     "language": "python",
     "metadata": {
      "run_control": {
       "breakpoint": false,
       "read_only": false
      }
     },
     "outputs": [],
     "prompt_number": 2
    },
    {
     "cell_type": "code",
     "collapsed": false,
     "input": [
      "plt.show()"
     ],
     "language": "python",
     "metadata": {
      "run_control": {
       "breakpoint": false,
       "read_only": false
      }
     },
     "outputs": [],
     "prompt_number": 12
    },
    {
     "cell_type": "code",
     "collapsed": false,
     "input": [
      "%matplotlib"
     ],
     "language": "python",
     "metadata": {
      "run_control": {
       "breakpoint": false,
       "read_only": false
      }
     },
     "outputs": [
      {
       "output_type": "stream",
       "stream": "stdout",
       "text": [
        "Using matplotlib backend: Qt4Agg\n"
       ]
      }
     ],
     "prompt_number": 13
    },
    {
     "cell_type": "code",
     "collapsed": false,
     "input": [
      "%matplotlib qt"
     ],
     "language": "python",
     "metadata": {
      "run_control": {
       "breakpoint": false,
       "read_only": false
      }
     },
     "outputs": [],
     "prompt_number": 16
    },
    {
     "cell_type": "code",
     "collapsed": false,
     "input": [
      "def Create_excel():\n",
      "    \"\"\"\n",
      "    Purpose:\n",
      "    \n",
      "        Program that creates the link to an excel file\n",
      "        Starts and populates the first line and titles of the excel workbook\n",
      "        \n",
      "    Inputs:\n",
      "    \n",
      "        none\n",
      "        \n",
      "    Outputs:\n",
      "    \n",
      "        wb: workbook instance \n",
      "        \n",
      "    Dependencies:\n",
      "    \n",
      "        xlwings\n",
      "        Excel (win or mac)\n",
      "        \n",
      "    Required files:\n",
      "    \n",
      "        none\n",
      "        \n",
      "    Example:\n",
      "    \n",
      "        ...\n",
      " \n",
      "    Modification History:\n",
      "    \n",
      "        Written: Samuel LeBlanc, 2015-07-15, Santa Cruz, CA\n",
      "        \n",
      "    \"\"\"\n",
      "    from xlwings import Workbook, Sheet, Range, Chart\n",
      "    wb = Workbook()\n",
      "    Sheet(1).name = 'Flight Path'\n",
      "    Range('A1').value = ['WP','Lat\\n[+-90]','Lon\\n[+-180]',\n",
      "                         'Speed\\n[m/s]','delayT\\n[min]','Altitude\\n[m]',\n",
      "                         'CumLegT\\n[hh:mm]','UTC\\n[hh:mm]','LocalT\\n[hh:mm]',\n",
      "                         'LegT\\n[hh:mm]','Dist\\n[km]','CumDist\\n[km]',\n",
      "                         'Dist\\n[nm]','CumDist\\n[nm]','Speed\\n[kt]',\n",
      "                         'Altitude\\n[kft]','Comments']\n",
      "    top_line = Range('A1').horizontal\n",
      "    address = top_line.get_address(False,False)\n",
      "    import sys\n",
      "    if sys.platform.startswith('win'):\n",
      "        from win32com.client import Dispatch\n",
      "        xl = Dispatch(\"Excel.Application\")\n",
      "        xl.ActiveWorkbook.Windows(1).SplitColumn = 01\n",
      "        xl.ActiveWorkbook.Windows(1).SplitRow = 01\n",
      "        xl.Range(address).Font.Bold = True\n",
      "    top_line.autofit()\n",
      "    Range('A2').value = arange(50).reshape((50,1))\n",
      "    return wb"
     ],
     "language": "python",
     "metadata": {
      "run_control": {
       "breakpoint": false,
       "read_only": false
      }
     },
     "outputs": [],
     "prompt_number": 2
    },
    {
     "cell_type": "code",
     "collapsed": false,
     "input": [
      "from xlwings import Workbook"
     ],
     "language": "python",
     "metadata": {
      "run_control": {
       "breakpoint": false,
       "read_only": false
      }
     },
     "outputs": [],
     "prompt_number": 3
    },
    {
     "cell_type": "code",
     "collapsed": false,
     "input": [
      "wb.Close()"
     ],
     "language": "python",
     "metadata": {
      "run_control": {
       "breakpoint": false,
       "read_only": false
      }
     },
     "outputs": [
      {
       "ename": "NameError",
       "evalue": "name 'wb' is not defined",
       "output_type": "pyerr",
       "traceback": [
        "\u001b[1;31m---------------------------------------------------------------------------\u001b[0m\n\u001b[1;31mNameError\u001b[0m                                 Traceback (most recent call last)",
        "\u001b[1;32m<ipython-input-49-6cb0097440fe>\u001b[0m in \u001b[0;36m<module>\u001b[1;34m()\u001b[0m\n\u001b[1;32m----> 1\u001b[1;33m \u001b[0mwb\u001b[0m\u001b[1;33m.\u001b[0m\u001b[0mClose\u001b[0m\u001b[1;33m(\u001b[0m\u001b[1;33m)\u001b[0m\u001b[1;33m\u001b[0m\u001b[0m\n\u001b[0m",
        "\u001b[1;31mNameError\u001b[0m: name 'wb' is not defined"
       ]
      }
     ],
     "prompt_number": 49
    },
    {
     "cell_type": "code",
     "collapsed": false,
     "input": [
      "wb = Create_excel()"
     ],
     "language": "python",
     "metadata": {
      "run_control": {
       "breakpoint": false,
       "read_only": false
      }
     },
     "outputs": [],
     "prompt_number": 4
    },
    {
     "cell_type": "code",
     "collapsed": false,
     "input": [
      "import matplotlib.pyplot as plt\n",
      "import matplotlib.patches as patches\n",
      "class DraggablePoint:\n",
      "    lock = None #only one can be animated at a time\n",
      "    def __init__(self, point):\n",
      "        self.point = point\n",
      "        self.press = None\n",
      "        self.background = None\n",
      "\n",
      "    def connect(self):\n",
      "        'connect to all the events we need'\n",
      "        self.cidpress = self.point.figure.canvas.mpl_connect('button_press_event', self.on_press)\n",
      "        self.cidrelease = self.point.figure.canvas.mpl_connect('button_release_event', self.on_release)\n",
      "        self.cidmotion = self.point.figure.canvas.mpl_connect('motion_notify_event', self.on_motion)\n",
      "\n",
      "    def on_press(self, event):\n",
      "        if event.inaxes != self.point.axes: return\n",
      "        if DraggablePoint.lock is not None: return\n",
      "        contains, attrd = self.point.contains(event)\n",
      "        if not contains: return\n",
      "        self.press = (self.point.center), event.xdata, event.ydata\n",
      "        DraggablePoint.lock = self\n",
      "\n",
      "        # draw everything but the selected rectangle and store the pixel buffer\n",
      "        canvas = self.point.figure.canvas\n",
      "        axes = self.point.axes\n",
      "        self.point.set_animated(True)\n",
      "        canvas.draw()\n",
      "        self.background = canvas.copy_from_bbox(self.point.axes.bbox)\n",
      "\n",
      "        # now redraw just the rectangle\n",
      "        axes.draw_artist(self.point)\n",
      "\n",
      "        # and blit just the redrawn area\n",
      "        canvas.blit(axes.bbox)\n",
      "\n",
      "    def on_motion(self, event):\n",
      "        if DraggablePoint.lock is not self:\n",
      "            return\n",
      "        if event.inaxes != self.point.axes: return\n",
      "        self.point.center, xpress, ypress = self.press\n",
      "        dx = event.xdata - xpress\n",
      "        dy = event.ydata - ypress\n",
      "        self.point.center = (self.point.center[0]+dx, self.point.center[1]+dy)\n",
      "\n",
      "        canvas = self.point.figure.canvas\n",
      "        axes = self.point.axes\n",
      "        # restore the background region\n",
      "        canvas.restore_region(self.background)\n",
      "\n",
      "        # redraw just the current rectangle\n",
      "        axes.draw_artist(self.point)\n",
      "\n",
      "        # blit just the redrawn area\n",
      "        canvas.blit(axes.bbox)\n",
      "\n",
      "    def on_release(self, event):\n",
      "        'on release we reset the press data'\n",
      "        if DraggablePoint.lock is not self:\n",
      "            return\n",
      "\n",
      "        self.press = None\n",
      "        DraggablePoint.lock = None\n",
      "\n",
      "        # turn off the rect animation property and reset the background\n",
      "        self.point.set_animated(False)\n",
      "        self.background = None\n",
      "\n",
      "        # redraw the full figure\n",
      "        self.point.figure.canvas.draw()\n",
      "\n",
      "    def disconnect(self):\n",
      "        'disconnect all the stored connection ids'\n",
      "        self.point.figure.canvas.mpl_disconnect(self.cidpress)\n",
      "        self.point.figure.canvas.mpl_disconnect(self.cidrelease)\n",
      "        self.point.figure.canvas.mpl_disconnect(self.cidmotion)\n",
      "\n",
      "fig = plt.figure()\n",
      "ax = fig.add_subplot(111)\n",
      "drs = []\n",
      "circles = [patches.Circle((0.32, 0.3), 0.03, fc='r', alpha=0.5),\n",
      "               patches.Circle((0.3,0.3), 0.03, fc='g', alpha=0.5)]\n",
      "\n",
      "for circ in circles:\n",
      "    ax.add_patch(circ)\n",
      "    dr = DraggablePoint(circ)\n",
      "    dr.connect()\n",
      "    drs.append(dr)\n",
      "\n",
      "plt.show()"
     ],
     "language": "python",
     "metadata": {
      "run_control": {
       "breakpoint": false,
       "read_only": false
      }
     },
     "outputs": [],
     "prompt_number": 72
    },
    {
     "cell_type": "code",
     "collapsed": false,
     "input": [
      "\"\"\"\n",
      "This is an example to show how to build cross-GUI applications using\n",
      "matplotlib event handling to interact with objects on the canvas\n",
      "\n",
      "\"\"\"\n",
      "import numpy as np\n",
      "from matplotlib.lines import Line2D\n",
      "from matplotlib.artist import Artist\n",
      "from matplotlib.mlab import dist_point_to_segment\n",
      "\n",
      "\n",
      "class PolygonInteractor:\n",
      "    \"\"\"\n",
      "    An polygon editor.\n",
      "\n",
      "    Key-bindings\n",
      "\n",
      "      't' toggle vertex markers on and off.  When vertex markers are on,\n",
      "          you can move them, delete them\n",
      "\n",
      "      'd' delete the vertex under point\n",
      "\n",
      "      'i' insert a vertex at point.  You must be within epsilon of the\n",
      "          line connecting two existing vertices\n",
      "\n",
      "    \"\"\"\n",
      "\n",
      "    showverts = True\n",
      "    epsilon = 5  # max pixel distance to count as a vertex hit\n",
      "\n",
      "    def __init__(self, ax, poly):\n",
      "        if poly.figure is None:\n",
      "            raise RuntimeError('You must first add the polygon to a figure or canvas before defining the interactor')\n",
      "        self.ax = ax\n",
      "        canvas = poly.figure.canvas\n",
      "        self.poly = poly\n",
      "\n",
      "        x, y = zip(*self.poly.xy)\n",
      "        self.line = Line2D(x, y, marker='o', markerfacecolor='r', animated=True)\n",
      "        self.ax.add_line(self.line)\n",
      "        #self._update_line(poly)\n",
      "\n",
      "        cid = self.poly.add_callback(self.poly_changed)\n",
      "        self._ind = None # the active vert\n",
      "\n",
      "        canvas.mpl_connect('draw_event', self.draw_callback)\n",
      "        canvas.mpl_connect('button_press_event', self.button_press_callback)\n",
      "        canvas.mpl_connect('key_press_event', self.key_press_callback)\n",
      "        canvas.mpl_connect('button_release_event', self.button_release_callback)\n",
      "        canvas.mpl_connect('motion_notify_event', self.motion_notify_callback)\n",
      "        self.canvas = canvas\n",
      "\n",
      "\n",
      "    def draw_callback(self, event):\n",
      "        self.background = self.canvas.copy_from_bbox(self.ax.bbox)\n",
      "        self.ax.draw_artist(self.poly)\n",
      "        self.ax.draw_artist(self.line)\n",
      "        self.canvas.blit(self.ax.bbox)\n",
      "\n",
      "    def poly_changed(self, poly):\n",
      "        'this method is called whenever the polygon object is called'\n",
      "        # only copy the artist props to the line (except visibility)\n",
      "        vis = self.line.get_visible()\n",
      "        Artist.update_from(self.line, poly)\n",
      "        self.line.set_visible(vis)  # don't use the poly visibility state\n",
      "\n",
      "\n",
      "    def get_ind_under_point(self, event):\n",
      "        'get the index of the vertex under point if within epsilon tolerance'\n",
      "\n",
      "        # display coords\n",
      "        xy = np.asarray(self.poly.xy)\n",
      "        xyt = self.poly.get_transform().transform(xy)\n",
      "        xt, yt = xyt[:, 0], xyt[:, 1]\n",
      "        d = np.sqrt((xt-event.x)**2 + (yt-event.y)**2)\n",
      "        indseq = np.nonzero(np.equal(d, np.amin(d)))[0]\n",
      "        ind = indseq[0]\n",
      "\n",
      "        if d[ind]>=self.epsilon:\n",
      "            ind = None\n",
      "\n",
      "        return ind\n",
      "\n",
      "    def button_press_callback(self, event):\n",
      "        'whenever a mouse button is pressed'\n",
      "        if not self.showverts: return\n",
      "        if event.inaxes==None: return\n",
      "        if event.button != 1: return\n",
      "        self._ind = self.get_ind_under_point(event)\n",
      "\n",
      "    def button_release_callback(self, event):\n",
      "        'whenever a mouse button is released'\n",
      "        if not self.showverts: return\n",
      "        if event.button != 1: return\n",
      "        self._ind = None\n",
      "\n",
      "    def key_press_callback(self, event):\n",
      "        'whenever a key is pressed'\n",
      "        if not event.inaxes: return\n",
      "        if event.key=='t':\n",
      "            self.showverts = not self.showverts\n",
      "            self.line.set_visible(self.showverts)\n",
      "            if not self.showverts: self._ind = None\n",
      "        elif event.key=='d':\n",
      "            ind = self.get_ind_under_point(event)\n",
      "            if ind is not None:\n",
      "                self.poly.xy = [tup for i,tup in enumerate(self.poly.xy) if i!=ind]\n",
      "                self.line.set_data(zip(*self.poly.xy))\n",
      "        elif event.key=='i':\n",
      "            xys = self.poly.get_transform().transform(self.poly.xy)\n",
      "            p = event.x, event.y # display coords\n",
      "            for i in range(len(xys)-1):\n",
      "                s0 = xys[i]\n",
      "                s1 = xys[i+1]\n",
      "                d = dist_point_to_segment(p, s0, s1)\n",
      "                if d<=self.epsilon:\n",
      "                    self.poly.xy = np.array(\n",
      "                        list(self.poly.xy[:i]) +\n",
      "                        [(event.xdata, event.ydata)] +\n",
      "                        list(self.poly.xy[i:]))\n",
      "                    self.line.set_data(zip(*self.poly.xy))\n",
      "                    break\n",
      "\n",
      "\n",
      "        self.canvas.draw()\n",
      "\n",
      "    def motion_notify_callback(self, event):\n",
      "        'on mouse movement'\n",
      "        if not self.showverts: return\n",
      "        if self._ind is None: return\n",
      "        if event.inaxes is None: return\n",
      "        if event.button != 1: return\n",
      "        x,y = event.xdata, event.ydata\n",
      "\n",
      "        self.poly.xy[self._ind] = x,y\n",
      "        self.line.set_data(zip(*self.poly.xy))\n",
      "\n",
      "        self.canvas.restore_region(self.background)\n",
      "        self.ax.draw_artist(self.poly)\n",
      "        self.ax.draw_artist(self.line)\n",
      "        self.canvas.blit(self.ax.bbox)\n",
      "\n",
      "\n",
      "if __name__ == '__main__':\n",
      "    import matplotlib.pyplot as plt\n",
      "    from matplotlib.patches import Polygon\n",
      "\n",
      "    theta = np.arange(0, 2*np.pi, 0.1)\n",
      "    r = 1.5\n",
      "\n",
      "    xs = r*np.cos(theta)\n",
      "    ys = r*np.sin(theta)\n",
      "\n",
      "    poly = Polygon(list(zip(xs, ys)), animated=True)\n",
      "\n",
      "    fig, ax = plt.subplots()\n",
      "    ax.add_patch(poly)\n",
      "    p = PolygonInteractor(ax, poly)\n",
      "\n",
      "    #ax.add_line(p.line)\n",
      "    ax.set_title('Click and drag a point to move it')\n",
      "    ax.set_xlim((-2,2))\n",
      "    ax.set_ylim((-2,2))\n",
      "    plt.show()"
     ],
     "language": "python",
     "metadata": {
      "run_control": {
       "breakpoint": false,
       "read_only": false
      }
     },
     "outputs": [],
     "prompt_number": 73
    },
    {
     "cell_type": "code",
     "collapsed": false,
     "input": [
      "import numpy as np\n",
      "import matplotlib.path as mpath\n",
      "import matplotlib.patches as mpatches\n",
      "import matplotlib.pyplot as plt\n",
      "\n",
      "Path = mpath.Path\n",
      "\n",
      "fig, ax = plt.subplots()\n",
      "\n",
      "pathdata = [\n",
      "    (Path.MOVETO, (1.58, -2.57)),\n",
      "    (Path.CURVE4, (0.35, -1.1)),\n",
      "    (Path.CURVE4, (-1.75, 2.0)),\n",
      "    (Path.CURVE4, (0.375, 2.0)),\n",
      "    (Path.LINETO, (0.85, 1.15)),\n",
      "    (Path.CURVE4, (2.2, 3.2)),\n",
      "    (Path.CURVE4, (3, 0.05)),\n",
      "    (Path.CURVE4, (2.0, -0.5)),\n",
      "    (Path.CLOSEPOLY, (1.58, -2.57)),\n",
      "    ]\n",
      "\n",
      "codes, verts = zip(*pathdata)\n",
      "path = mpath.Path(verts, codes)\n",
      "patch = mpatches.PathPatch(path, facecolor='green', edgecolor='yellow', alpha=0.5)\n",
      "ax.add_patch(patch)\n",
      "\n",
      "\n",
      "class PathInteractor:\n",
      "    \"\"\"\n",
      "    An path editor.\n",
      "\n",
      "    Key-bindings\n",
      "\n",
      "      't' toggle vertex markers on and off.  When vertex markers are on,\n",
      "          you can move them, delete them\n",
      "\n",
      "\n",
      "    \"\"\"\n",
      "\n",
      "    showverts = True\n",
      "    epsilon = 5  # max pixel distance to count as a vertex hit\n",
      "\n",
      "    def __init__(self, pathpatch):\n",
      "\n",
      "        self.ax = pathpatch.axes\n",
      "        canvas = self.ax.figure.canvas\n",
      "        self.pathpatch = pathpatch\n",
      "        self.pathpatch.set_animated(True)\n",
      "\n",
      "        x, y = zip(*self.pathpatch.get_path().vertices)\n",
      "\n",
      "        self.line, = ax.plot(x,y,marker='o', markerfacecolor='r', animated=True)\n",
      "\n",
      "        self._ind = None # the active vert\n",
      "\n",
      "        canvas.mpl_connect('draw_event', self.draw_callback)\n",
      "        canvas.mpl_connect('button_press_event', self.button_press_callback)\n",
      "        canvas.mpl_connect('key_press_event', self.key_press_callback)\n",
      "        canvas.mpl_connect('button_release_event', self.button_release_callback)\n",
      "        canvas.mpl_connect('motion_notify_event', self.motion_notify_callback)\n",
      "        self.canvas = canvas\n",
      "\n",
      "\n",
      "    def draw_callback(self, event):\n",
      "        self.background = self.canvas.copy_from_bbox(self.ax.bbox)\n",
      "        self.ax.draw_artist(self.pathpatch)\n",
      "        self.ax.draw_artist(self.line)\n",
      "        self.canvas.blit(self.ax.bbox)\n",
      "\n",
      "    def pathpatch_changed(self, pathpatch):\n",
      "        'this method is called whenever the pathpatchgon object is called'\n",
      "        # only copy the artist props to the line (except visibility)\n",
      "        vis = self.line.get_visible()\n",
      "        plt.Artist.update_from(self.line, pathpatch)\n",
      "        self.line.set_visible(vis)  # don't use the pathpatch visibility state\n",
      "\n",
      "\n",
      "    def get_ind_under_point(self, event):\n",
      "        'get the index of the vertex under point if within epsilon tolerance'\n",
      "\n",
      "        # display coords\n",
      "        xy = np.asarray(self.pathpatch.get_path().vertices)\n",
      "        xyt = self.pathpatch.get_transform().transform(xy)\n",
      "        xt, yt = xyt[:, 0], xyt[:, 1]\n",
      "        d = np.sqrt((xt-event.x)**2 + (yt-event.y)**2)\n",
      "        ind = d.argmin()\n",
      "\n",
      "        if d[ind]>=self.epsilon:\n",
      "            ind = None\n",
      "\n",
      "        return ind\n",
      "\n",
      "    def button_press_callback(self, event):\n",
      "        'whenever a mouse button is pressed'\n",
      "        if not self.showverts: return\n",
      "        if event.inaxes==None: return\n",
      "        if event.button != 1: return\n",
      "        self._ind = self.get_ind_under_point(event)\n",
      "\n",
      "    def button_release_callback(self, event):\n",
      "        'whenever a mouse button is released'\n",
      "        if not self.showverts: return\n",
      "        if event.button != 1: return\n",
      "        self._ind = None\n",
      "\n",
      "    def key_press_callback(self, event):\n",
      "        'whenever a key is pressed'\n",
      "        if not event.inaxes: return\n",
      "        if event.key=='t':\n",
      "            self.showverts = not self.showverts\n",
      "            self.line.set_visible(self.showverts)\n",
      "            if not self.showverts: self._ind = None\n",
      "\n",
      "        self.canvas.draw()\n",
      "\n",
      "    def motion_notify_callback(self, event):\n",
      "        'on mouse movement'\n",
      "        if not self.showverts: return\n",
      "        if self._ind is None: return\n",
      "        if event.inaxes is None: return\n",
      "        if event.button != 1: return\n",
      "        x,y = event.xdata, event.ydata\n",
      "\n",
      "        vertices = self.pathpatch.get_path().vertices\n",
      "\n",
      "        vertices[self._ind] = x,y\n",
      "        self.line.set_data(zip(*vertices))\n",
      "\n",
      "        self.canvas.restore_region(self.background)\n",
      "        self.ax.draw_artist(self.pathpatch)\n",
      "        self.ax.draw_artist(self.line)\n",
      "        self.canvas.blit(self.ax.bbox)\n",
      "\n",
      "\n",
      "interactor = PathInteractor(patch)\n",
      "ax.set_title('drag vertices to update path')\n",
      "ax.set_xlim(-3,4)\n",
      "ax.set_ylim(-3,4)\n",
      "\n",
      "plt.show()"
     ],
     "language": "python",
     "metadata": {
      "run_control": {
       "breakpoint": false,
       "read_only": false
      }
     },
     "outputs": [],
     "prompt_number": 77
    },
    {
     "cell_type": "code",
     "collapsed": false,
     "input": [
      "import cartopy.crs as ccrs\n",
      "import matplotlib.pyplot as plt\n",
      "\n",
      "\n",
      "def main():\n",
      "    url = 'http://map1c.vis.earthdata.nasa.gov/wmts-geo/wmts.cgi'\n",
      "    layer = 'VIIRS_CityLights_2012'\n",
      "\n",
      "    ax = plt.axes(projection=ccrs.PlateCarree())\n",
      "    ax.add_wmts(url, layer)\n",
      "    ax.set_extent((-15, 25, 35, 60))\n",
      "\n",
      "    plt.title('Suomi NPP Earth at night April/October 2012')\n",
      "    plt.show()"
     ],
     "language": "python",
     "metadata": {
      "run_control": {
       "breakpoint": false,
       "read_only": false
      }
     },
     "outputs": [
      {
       "ename": "ImportError",
       "evalue": "No module named cartopy.crs",
       "output_type": "pyerr",
       "traceback": [
        "\u001b[1;31m---------------------------------------------------------------------------\u001b[0m\n\u001b[1;31mImportError\u001b[0m                               Traceback (most recent call last)",
        "\u001b[1;32m<ipython-input-78-268767abeddb>\u001b[0m in \u001b[0;36m<module>\u001b[1;34m()\u001b[0m\n\u001b[1;32m----> 1\u001b[1;33m \u001b[1;32mimport\u001b[0m \u001b[0mcartopy\u001b[0m\u001b[1;33m.\u001b[0m\u001b[0mcrs\u001b[0m \u001b[1;32mas\u001b[0m \u001b[0mccrs\u001b[0m\u001b[1;33m\u001b[0m\u001b[0m\n\u001b[0m\u001b[0;32m      2\u001b[0m \u001b[1;32mimport\u001b[0m \u001b[0mmatplotlib\u001b[0m\u001b[1;33m.\u001b[0m\u001b[0mpyplot\u001b[0m \u001b[1;32mas\u001b[0m \u001b[0mplt\u001b[0m\u001b[1;33m\u001b[0m\u001b[0m\n\u001b[0;32m      3\u001b[0m \u001b[1;33m\u001b[0m\u001b[0m\n\u001b[0;32m      4\u001b[0m \u001b[1;33m\u001b[0m\u001b[0m\n\u001b[0;32m      5\u001b[0m \u001b[1;32mdef\u001b[0m \u001b[0mmain\u001b[0m\u001b[1;33m(\u001b[0m\u001b[1;33m)\u001b[0m\u001b[1;33m:\u001b[0m\u001b[1;33m\u001b[0m\u001b[0m\n",
        "\u001b[1;31mImportError\u001b[0m: No module named cartopy.crs"
       ]
      }
     ],
     "prompt_number": 78
    }
   ],
   "metadata": {}
  }
 ]
}