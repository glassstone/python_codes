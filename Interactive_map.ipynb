{
 "metadata": {
  "name": "",
  "signature": "sha256:7f548bcae88df24bc3aa25575f8504174dbf1c3e278c2de6ef40ca5a05b06222"
 },
 "nbformat": 3,
 "nbformat_minor": 0,
 "worksheets": [
  {
   "cells": [
    {
     "cell_type": "code",
     "collapsed": false,
     "input": [
      "import matplotlib \n",
      "matplotlib.rc_file('C:\\\\Users\\\\sleblan2\\\\Research\\\\python_codes\\\\file.rc')\n",
      "import matplotlib.pyplot as plt\n",
      "%matplotlib tk\n",
      "import numpy as np\n",
      "import scipy.io as sio\n",
      "from mpl_toolkits.basemap import Basemap"
     ],
     "language": "python",
     "metadata": {
      "run_control": {
       "breakpoint": false,
       "read_only": false
      }
     },
     "outputs": [
      {
       "output_type": "stream",
       "stream": "stdout",
       "text": [
        "Warning: Cannot change to a different GUI toolkit: tk. Using qt instead.\n"
       ]
      }
     ],
     "prompt_number": 10
    },
    {
     "cell_type": "code",
     "collapsed": false,
     "input": [
      "def build_basemap(lower_left=[-20,-30],upper_right=[20,10],ax=plt.gca()):\n",
      "    \"\"\"\n",
      "    First try at a building of the basemap with a 'stere' projection\n",
      "    Must put in the values of the lower left corner and upper right corner (lon and lat)\n",
      "    \n",
      "    Defaults to draw 8 meridians and parallels\n",
      "    \"\"\"\n",
      "    m = Basemap(projection='stere',lon_0=(upper_right[0]+lower_left[0]),lat_0=(upper_right[1]+lower_left[1]),\n",
      "            llcrnrlon=lower_left[0], llcrnrlat=lower_left[1],\n",
      "            urcrnrlon=upper_right[0], urcrnrlat=upper_right[1],resolution='h',ax=ax)\n",
      "    m.drawcoastlines()\n",
      "    #m.fillcontinents(color='#AAAAAA')\n",
      "    m.drawstates()\n",
      "    m.drawcountries()\n",
      "    m.drawmeridians(np.linspace(lower_left[0],upper_right[0],8).astype(int),labels=[0,0,0,1])\n",
      "    m.drawparallels(np.linspace(lower_left[1],upper_right[1],8).astype(int),labels=[1,0,0,0])\n",
      "    return m"
     ],
     "language": "python",
     "metadata": {
      "run_control": {
       "breakpoint": false
      }
     },
     "outputs": [],
     "prompt_number": 21
    },
    {
     "cell_type": "code",
     "collapsed": false,
     "input": [
      "def format_coord(x, y):\n",
      "    return 'Lon=%.4f, Lat=%.4f'%(m(x, y, inverse = True))"
     ],
     "language": "python",
     "metadata": {
      "run_control": {
       "breakpoint": false
      }
     },
     "outputs": [],
     "prompt_number": 12
    },
    {
     "cell_type": "code",
     "collapsed": false,
     "input": [
      "class LineDrawer(object):\n",
      "    lines = []\n",
      "    pos = []\n",
      "    def __init__(self,m):\n",
      "        self.m = m\n",
      "    def draw_line(self):\n",
      "        ax = plt.gca()\n",
      "        xy = plt.ginput(2)\n",
      "\n",
      "        x = [p[0] for p in xy]\n",
      "        y = [p[1] for p in xy]\n",
      "        line = plt.plot(x,y)\n",
      "        ax.figure.canvas.draw()\n",
      "        \n",
      "        self.lines.append(line)\n",
      "        self.pos.append(self.m(x,y,inverse=True))"
     ],
     "language": "python",
     "metadata": {
      "run_control": {
       "breakpoint": false
      }
     },
     "outputs": [],
     "prompt_number": 67
    },
    {
     "cell_type": "code",
     "collapsed": false,
     "input": [
      "m = build_basemap()\n",
      "ax = plt.gca()\n",
      "ax.format_coord = format_coord"
     ],
     "language": "python",
     "metadata": {
      "run_control": {
       "breakpoint": false
      }
     },
     "outputs": [],
     "prompt_number": 22
    },
    {
     "cell_type": "code",
     "collapsed": false,
     "input": [
      "type(m)"
     ],
     "language": "python",
     "metadata": {
      "run_control": {
       "breakpoint": false
      }
     },
     "outputs": [
      {
       "metadata": {},
       "output_type": "pyout",
       "prompt_number": 60,
       "text": [
        "mpl_toolkits.basemap.Basemap"
       ]
      }
     ],
     "prompt_number": 60
    },
    {
     "cell_type": "code",
     "collapsed": false,
     "input": [
      "ld = LineDrawer(m)\n",
      "ld.draw_line()"
     ],
     "language": "python",
     "metadata": {
      "run_control": {
       "breakpoint": false
      }
     },
     "outputs": [
      {
       "output_type": "stream",
       "stream": "stdout",
       "text": [
        "None\n",
        "None"
       ]
      },
      {
       "output_type": "stream",
       "stream": "stdout",
       "text": [
        "\n"
       ]
      }
     ],
     "prompt_number": 68
    },
    {
     "cell_type": "code",
     "collapsed": false,
     "input": [
      "ld.pos"
     ],
     "language": "python",
     "metadata": {
      "run_control": {
       "breakpoint": false
      }
     },
     "outputs": [
      {
       "output_type": "stream",
       "stream": "stdout",
       "text": [
        "None\n"
       ]
      },
      {
       "metadata": {},
       "output_type": "pyout",
       "prompt_number": 71,
       "text": [
        "[([-13.344021817452116, 0.39799227238351675],\n",
        "  [-8.04680014702183, -15.038772928567896]),\n",
        " ([3.783573124374964, 5.015793308803762],\n",
        "  [-21.620826932897806, -12.684386716223106])]"
       ]
      }
     ],
     "prompt_number": 71
    },
    {
     "cell_type": "code",
     "collapsed": false,
     "input": [
      "ld.m()"
     ],
     "language": "python",
     "metadata": {
      "run_control": {
       "breakpoint": false
      }
     },
     "outputs": []
    },
    {
     "cell_type": "code",
     "collapsed": false,
     "input": [
      "ld.draw_line()\n"
     ],
     "language": "python",
     "metadata": {
      "run_control": {
       "breakpoint": false
      }
     },
     "outputs": [
      {
       "output_type": "stream",
       "stream": "stdout",
       "text": [
        "None\n"
       ]
      }
     ],
     "prompt_number": 70
    },
    {
     "cell_type": "code",
     "collapsed": false,
     "input": [
      "ld.lines"
     ],
     "language": "python",
     "metadata": {
      "run_control": {
       "breakpoint": false
      }
     },
     "outputs": [
      {
       "output_type": "stream",
       "stream": "stdout",
       "text": [
        "None\n"
       ]
      },
      {
       "metadata": {},
       "output_type": "pyout",
       "prompt_number": 53,
       "text": [
        "[[<matplotlib.lines.Line2D at 0x15b43470>]]"
       ]
      }
     ],
     "prompt_number": 53
    },
    {
     "cell_type": "code",
     "collapsed": false,
     "input": [
      "fig = plt.gcf()"
     ],
     "language": "python",
     "metadata": {
      "run_control": {
       "breakpoint": false
      }
     },
     "outputs": [],
     "prompt_number": 14
    },
    {
     "cell_type": "code",
     "collapsed": false,
     "input": [
      "def on_resize(event):\n",
      "    ax.set_title('Resize, button=%d, x=%d, y=%d, xdata=%f, ydata=%f'%(\n",
      "        event.button, event.x, event.y, event.xdata, event.ydata))"
     ],
     "language": "python",
     "metadata": {
      "run_control": {
       "breakpoint": false
      }
     },
     "outputs": [],
     "prompt_number": 19
    },
    {
     "cell_type": "code",
     "collapsed": false,
     "input": [
      "fig.canvas.mpl_connect('resize_event',on_resize)"
     ],
     "language": "python",
     "metadata": {
      "run_control": {
       "breakpoint": false
      }
     },
     "outputs": [
      {
       "metadata": {},
       "output_type": "pyout",
       "prompt_number": 20,
       "text": [
        "27"
       ]
      }
     ],
     "prompt_number": 20
    },
    {
     "cell_type": "code",
     "collapsed": false,
     "input": [
      "fig.canvas.mpl_connect('button_release_event',define_event)"
     ],
     "language": "python",
     "metadata": {
      "run_control": {
       "breakpoint": false
      }
     },
     "outputs": [
      {
       "metadata": {},
       "output_type": "pyout",
       "prompt_number": 25,
       "text": [
        "38"
       ]
      }
     ],
     "prompt_number": 25
    },
    {
     "cell_type": "code",
     "collapsed": false,
     "input": [
      "fig.canvas.mpl_disconnect('resize_event')"
     ],
     "language": "python",
     "metadata": {
      "run_control": {
       "breakpoint": false
      }
     },
     "outputs": [
      {
       "output_type": "stream",
       "stream": "stdout",
       "text": [
        "ZOOM\n"
       ]
      }
     ],
     "prompt_number": 26
    },
    {
     "cell_type": "code",
     "collapsed": false,
     "input": [
      "print 'yes'"
     ],
     "language": "python",
     "metadata": {
      "run_control": {
       "breakpoint": false
      }
     },
     "outputs": [
      {
       "output_type": "stream",
       "stream": "stdout",
       "text": [
        "PAN\n",
        "yes"
       ]
      },
      {
       "output_type": "stream",
       "stream": "stdout",
       "text": [
        "\n"
       ]
      }
     ],
     "prompt_number": 31
    },
    {
     "cell_type": "code",
     "collapsed": false,
     "input": [
      "def define_event(event):\n",
      "    for ax in event.canvas.figure.axes:\n",
      "        print ax.get_navigate_mode()"
     ],
     "language": "python",
     "metadata": {
      "run_control": {
       "breakpoint": false
      }
     },
     "outputs": [],
     "prompt_number": 24
    },
    {
     "cell_type": "code",
     "collapsed": false,
     "input": [
      "import sys\n",
      "from PyQt4 import QtGui, QtCore"
     ],
     "language": "python",
     "metadata": {
      "run_control": {
       "breakpoint": false
      }
     },
     "outputs": [],
     "prompt_number": 37
    },
    {
     "cell_type": "code",
     "collapsed": false,
     "input": [
      "plt.figure()\n",
      "plt.plot([0,1,2,3,4],[1,2,3,4,8])\n",
      "plt.show()"
     ],
     "language": "python",
     "metadata": {
      "run_control": {
       "breakpoint": false
      }
     },
     "outputs": [],
     "prompt_number": 2
    },
    {
     "cell_type": "code",
     "collapsed": false,
     "input": [
      "plt.show()"
     ],
     "language": "python",
     "metadata": {
      "run_control": {
       "breakpoint": false
      }
     },
     "outputs": [],
     "prompt_number": 12
    },
    {
     "cell_type": "code",
     "collapsed": false,
     "input": [
      "%matplotlib"
     ],
     "language": "python",
     "metadata": {
      "run_control": {
       "breakpoint": false
      }
     },
     "outputs": [
      {
       "output_type": "stream",
       "stream": "stdout",
       "text": [
        "Using matplotlib backend: Qt4Agg\n"
       ]
      }
     ],
     "prompt_number": 13
    },
    {
     "cell_type": "code",
     "collapsed": false,
     "input": [
      "%matplotlib qt"
     ],
     "language": "python",
     "metadata": {
      "run_control": {
       "breakpoint": false
      }
     },
     "outputs": [],
     "prompt_number": 16
    },
    {
     "cell_type": "code",
     "collapsed": false,
     "input": [
      "def Create_excel():\n",
      "    \"\"\"\n",
      "    Purpose:\n",
      "    \n",
      "        Program that creates the link to an excel file\n",
      "        Starts and populates the first line and titles of the excel workbook\n",
      "        \n",
      "    Inputs:\n",
      "    \n",
      "        none\n",
      "        \n",
      "    Outputs:\n",
      "    \n",
      "        wb: workbook instance \n",
      "        \n",
      "    Dependencies:\n",
      "    \n",
      "        xlwings\n",
      "        Excel (win or mac)\n",
      "        \n",
      "    Required files:\n",
      "    \n",
      "        none\n",
      "        \n",
      "    Example:\n",
      "    \n",
      "        ...\n",
      " \n",
      "    Modification History:\n",
      "    \n",
      "        Written: Samuel LeBlanc, 2015-07-15, Santa Cruz, CA\n",
      "        \n",
      "    \"\"\"\n",
      "    from xlwings import Workbook, Sheet, Range, Chart\n",
      "    wb = Workbook()\n",
      "    Sheet(1).name = 'Flight Path'\n",
      "    Range('A1').value = ['WP','Lat\\n[+-90]','Lon\\n[+-180]',\n",
      "                         'Speed\\n[m/s]','delayT\\n[min]','Altitude\\n[m]',\n",
      "                         'CumLegT\\n[hh:mm]','UTC\\n[hh:mm]','LocalT\\n[hh:mm]',\n",
      "                         'LegT\\n[hh:mm]','Dist\\n[km]','CumDist\\n[km]',\n",
      "                         'Dist\\n[nm]','CumDist\\n[nm]','Speed\\n[kt]',\n",
      "                         'Altitude\\n[kft]','Comments']\n",
      "    top_line = Range('A1').horizontal\n",
      "    address = top_line.get_address(False,False)\n",
      "    import sys\n",
      "    if sys.platform.startswith('win'):\n",
      "        from win32com.client import Dispatch\n",
      "        xl = Dispatch(\"Excel.Application\")\n",
      "        xl.ActiveWorkbook.Windows(1).SplitColumn = 01\n",
      "        xl.ActiveWorkbook.Windows(1).SplitRow = 01\n",
      "        xl.Range(address).Font.Bold = True\n",
      "    top_line.autofit()\n",
      "    Range('A2').value = arange(50).reshape((50,1))\n",
      "    return wb"
     ],
     "language": "python",
     "metadata": {
      "run_control": {
       "breakpoint": false
      }
     },
     "outputs": [],
     "prompt_number": 42
    },
    {
     "cell_type": "code",
     "collapsed": false,
     "input": [
      "from xlwings import Workbook"
     ],
     "language": "python",
     "metadata": {
      "run_control": {
       "breakpoint": false
      }
     },
     "outputs": [],
     "prompt_number": 47
    },
    {
     "cell_type": "code",
     "collapsed": false,
     "input": [
      "wb.Close()"
     ],
     "language": "python",
     "metadata": {
      "run_control": {
       "breakpoint": false
      }
     },
     "outputs": [
      {
       "ename": "NameError",
       "evalue": "name 'wb' is not defined",
       "output_type": "pyerr",
       "traceback": [
        "\u001b[1;31m---------------------------------------------------------------------------\u001b[0m\n\u001b[1;31mNameError\u001b[0m                                 Traceback (most recent call last)",
        "\u001b[1;32m<ipython-input-49-6cb0097440fe>\u001b[0m in \u001b[0;36m<module>\u001b[1;34m()\u001b[0m\n\u001b[1;32m----> 1\u001b[1;33m \u001b[0mwb\u001b[0m\u001b[1;33m.\u001b[0m\u001b[0mClose\u001b[0m\u001b[1;33m(\u001b[0m\u001b[1;33m)\u001b[0m\u001b[1;33m\u001b[0m\u001b[0m\n\u001b[0m",
        "\u001b[1;31mNameError\u001b[0m: name 'wb' is not defined"
       ]
      }
     ],
     "prompt_number": 49
    },
    {
     "cell_type": "code",
     "collapsed": false,
     "input": [
      "wb = Create_excel()"
     ],
     "language": "python",
     "metadata": {
      "run_control": {
       "breakpoint": false
      }
     },
     "outputs": [
      {
       "ename": "AttributeError",
       "evalue": "'NoneType' object has no attribute 'Name'",
       "output_type": "pyerr",
       "traceback": [
        "\u001b[1;31m---------------------------------------------------------------------------\u001b[0m\n\u001b[1;31mAttributeError\u001b[0m                            Traceback (most recent call last)",
        "\u001b[1;32m<ipython-input-44-9f5ff7dd4c61>\u001b[0m in \u001b[0;36m<module>\u001b[1;34m()\u001b[0m\n\u001b[1;32m----> 1\u001b[1;33m \u001b[0mwb\u001b[0m \u001b[1;33m=\u001b[0m \u001b[0mCreate_excel\u001b[0m\u001b[1;33m(\u001b[0m\u001b[1;33m)\u001b[0m\u001b[1;33m\u001b[0m\u001b[0m\n\u001b[0m",
        "\u001b[1;32m<ipython-input-42-0a06a23d3943>\u001b[0m in \u001b[0;36mCreate_excel\u001b[1;34m()\u001b[0m\n\u001b[0;32m     33\u001b[0m     \"\"\"\n\u001b[0;32m     34\u001b[0m     \u001b[1;32mfrom\u001b[0m \u001b[0mxlwings\u001b[0m \u001b[1;32mimport\u001b[0m \u001b[0mWorkbook\u001b[0m\u001b[1;33m,\u001b[0m \u001b[0mSheet\u001b[0m\u001b[1;33m,\u001b[0m \u001b[0mRange\u001b[0m\u001b[1;33m,\u001b[0m \u001b[0mChart\u001b[0m\u001b[1;33m\u001b[0m\u001b[0m\n\u001b[1;32m---> 35\u001b[1;33m     \u001b[0mwb\u001b[0m \u001b[1;33m=\u001b[0m \u001b[0mWorkbook\u001b[0m\u001b[1;33m(\u001b[0m\u001b[1;33m)\u001b[0m\u001b[1;33m\u001b[0m\u001b[0m\n\u001b[0m\u001b[0;32m     36\u001b[0m     \u001b[0mSheet\u001b[0m\u001b[1;33m(\u001b[0m\u001b[1;36m1\u001b[0m\u001b[1;33m)\u001b[0m\u001b[1;33m.\u001b[0m\u001b[0mname\u001b[0m \u001b[1;33m=\u001b[0m \u001b[1;34m'Flight Path'\u001b[0m\u001b[1;33m\u001b[0m\u001b[0m\n\u001b[0;32m     37\u001b[0m     Range('A1').value = ['WP','Lat\\n[+-90]','Lon\\n[+-180]',\n",
        "\u001b[1;32mC:\\Python27_64\\WinPython-64bit-2.7.6.4\\python-2.7.6.amd64\\lib\\site-packages\\xlwings\\main.pyc\u001b[0m in \u001b[0;36m__init__\u001b[1;34m(self, fullname, xl_workbook, app_visible, app_target)\u001b[0m\n\u001b[0;32m    155\u001b[0m             \u001b[0mself\u001b[0m\u001b[1;33m.\u001b[0m\u001b[0mxl_app\u001b[0m\u001b[1;33m,\u001b[0m \u001b[0mself\u001b[0m\u001b[1;33m.\u001b[0m\u001b[0mxl_workbook\u001b[0m \u001b[1;33m=\u001b[0m \u001b[0mxlplatform\u001b[0m\u001b[1;33m.\u001b[0m\u001b[0mnew_workbook\u001b[0m\u001b[1;33m(\u001b[0m\u001b[0mapp_target\u001b[0m\u001b[1;33m)\u001b[0m\u001b[1;33m\u001b[0m\u001b[0m\n\u001b[0;32m    156\u001b[0m \u001b[1;33m\u001b[0m\u001b[0m\n\u001b[1;32m--> 157\u001b[1;33m         \u001b[0mself\u001b[0m\u001b[1;33m.\u001b[0m\u001b[0mname\u001b[0m \u001b[1;33m=\u001b[0m \u001b[0mxlplatform\u001b[0m\u001b[1;33m.\u001b[0m\u001b[0mget_workbook_name\u001b[0m\u001b[1;33m(\u001b[0m\u001b[0mself\u001b[0m\u001b[1;33m.\u001b[0m\u001b[0mxl_workbook\u001b[0m\u001b[1;33m)\u001b[0m\u001b[1;33m\u001b[0m\u001b[0m\n\u001b[0m\u001b[0;32m    158\u001b[0m         \u001b[0mself\u001b[0m\u001b[1;33m.\u001b[0m\u001b[0mactive_sheet\u001b[0m \u001b[1;33m=\u001b[0m \u001b[0mSheet\u001b[0m\u001b[1;33m.\u001b[0m\u001b[0mactive\u001b[0m\u001b[1;33m(\u001b[0m\u001b[0mwkb\u001b[0m\u001b[1;33m=\u001b[0m\u001b[0mself\u001b[0m\u001b[1;33m)\u001b[0m\u001b[1;33m\u001b[0m\u001b[0m\n\u001b[0;32m    159\u001b[0m \u001b[1;33m\u001b[0m\u001b[0m\n",
        "\u001b[1;32mC:\\Python27_64\\WinPython-64bit-2.7.6.4\\python-2.7.6.amd64\\lib\\site-packages\\xlwings\\_xlwindows.pyc\u001b[0m in \u001b[0;36mget_workbook_name\u001b[1;34m(xl_workbook)\u001b[0m\n\u001b[0;32m     61\u001b[0m \u001b[1;33m\u001b[0m\u001b[0m\n\u001b[0;32m     62\u001b[0m \u001b[1;32mdef\u001b[0m \u001b[0mget_workbook_name\u001b[0m\u001b[1;33m(\u001b[0m\u001b[0mxl_workbook\u001b[0m\u001b[1;33m)\u001b[0m\u001b[1;33m:\u001b[0m\u001b[1;33m\u001b[0m\u001b[0m\n\u001b[1;32m---> 63\u001b[1;33m     \u001b[1;32mreturn\u001b[0m \u001b[0mxl_workbook\u001b[0m\u001b[1;33m.\u001b[0m\u001b[0mName\u001b[0m\u001b[1;33m\u001b[0m\u001b[0m\n\u001b[0m\u001b[0;32m     64\u001b[0m \u001b[1;33m\u001b[0m\u001b[0m\n\u001b[0;32m     65\u001b[0m \u001b[1;33m\u001b[0m\u001b[0m\n",
        "\u001b[1;31mAttributeError\u001b[0m: 'NoneType' object has no attribute 'Name'"
       ]
      }
     ],
     "prompt_number": 44
    },
    {
     "cell_type": "code",
     "collapsed": false,
     "input": [],
     "language": "python",
     "metadata": {
      "run_control": {
       "breakpoint": false
      }
     },
     "outputs": []
    }
   ],
   "metadata": {}
  }
 ]
}